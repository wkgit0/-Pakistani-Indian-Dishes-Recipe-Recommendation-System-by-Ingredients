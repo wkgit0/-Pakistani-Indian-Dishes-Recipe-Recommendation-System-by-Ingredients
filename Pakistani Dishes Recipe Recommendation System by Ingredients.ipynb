{
  "nbformat": 4,
  "nbformat_minor": 0,
  "metadata": {
    "colab": {
      "provenance": [],
      "authorship_tag": "ABX9TyN/EsH810G66AmiQCbhweo9",
      "include_colab_link": true
    },
    "kernelspec": {
      "name": "python3",
      "display_name": "Python 3"
    },
    "language_info": {
      "name": "python"
    }
  },
  "cells": [
    {
      "cell_type": "markdown",
      "metadata": {
        "id": "view-in-github",
        "colab_type": "text"
      },
      "source": [
        "<a href=\"https://colab.research.google.com/github/wkgit0/-Pakistani-Indian-Dishes-Recipe-Recommendation-System-by-Ingredients/blob/main/Pakistani/Indian%20Dishes%20Recipe%20Recommendation%20System%20by%20Ingredients.ipynb\" target=\"_parent\"><img src=\"https://colab.research.google.com/assets/colab-badge.svg\" alt=\"Open In Colab\"/></a>"
      ]
    },
    {
      "cell_type": "code",
      "source": [
        "import pandas as pd\n",
        "import numpy as np\n",
        "import re\n",
        "import spacy"
      ],
      "metadata": {
        "id": "FZsqgww6nFt9"
      },
      "execution_count": 6,
      "outputs": []
    },
    {
      "cell_type": "code",
      "source": [
        "import pandas as pd\n",
        "\n",
        "# Use pd.read_excel instead of pd.read_csv for Excel files\n",
        "df = pd.read_excel('Pakistani_Dishes_Enhanced.xlsx')  # Update with your dataset filename\n",
        "\n",
        "# Rest of your code remains the same\n",
        "df.head()\n",
        "df.info()"
      ],
      "metadata": {
        "colab": {
          "base_uri": "https://localhost:8080/"
        },
        "id": "udb6ln27np63",
        "outputId": "97befad8-a60b-428d-8b01-a5fca110c46a"
      },
      "execution_count": 9,
      "outputs": [
        {
          "output_type": "stream",
          "name": "stdout",
          "text": [
            "<class 'pandas.core.frame.DataFrame'>\n",
            "RangeIndex: 500 entries, 0 to 499\n",
            "Data columns (total 8 columns):\n",
            " #   Column             Non-Null Count  Dtype  \n",
            "---  ------             --------------  -----  \n",
            " 0   ID                 500 non-null    int64  \n",
            " 1   Title              500 non-null    object \n",
            " 2   Ingredients        500 non-null    object \n",
            " 3   Spices             500 non-null    object \n",
            " 4   Recipe             500 non-null    object \n",
            " 5   Cooking Time       500 non-null    object \n",
            " 6   Calories per 50g   500 non-null    float64\n",
            " 7   Calories per 100g  500 non-null    float64\n",
            "dtypes: float64(2), int64(1), object(5)\n",
            "memory usage: 31.4+ KB\n"
          ]
        }
      ]
    },
    {
      "cell_type": "code",
      "source": [
        "df = df.T.reset_index().drop(columns=['index'])\n",
        "df.head(1)\n"
      ],
      "metadata": {
        "colab": {
          "base_uri": "https://localhost:8080/",
          "height": 130
        },
        "id": "UVdVTvcjnsBn",
        "outputId": "6baf1972-2c4e-4aa5-a4f2-e6b8d127cc88"
      },
      "execution_count": 10,
      "outputs": [
        {
          "output_type": "execute_result",
          "data": {
            "text/plain": [
              "  0   1   2   3   4   5   6   7   8   9    ...  490  491  492  493  494  495  \\\n",
              "0   1   2   3   4   5   6   7   8   9  10  ...  491  492  493  494  495  496   \n",
              "\n",
              "   496  497  498  499  \n",
              "0  497  498  499  500  \n",
              "\n",
              "[1 rows x 500 columns]"
            ],
            "text/html": [
              "\n",
              "  <div id=\"df-f544800c-e796-4f94-89fb-69317ccc942b\" class=\"colab-df-container\">\n",
              "    <div>\n",
              "<style scoped>\n",
              "    .dataframe tbody tr th:only-of-type {\n",
              "        vertical-align: middle;\n",
              "    }\n",
              "\n",
              "    .dataframe tbody tr th {\n",
              "        vertical-align: top;\n",
              "    }\n",
              "\n",
              "    .dataframe thead th {\n",
              "        text-align: right;\n",
              "    }\n",
              "</style>\n",
              "<table border=\"1\" class=\"dataframe\">\n",
              "  <thead>\n",
              "    <tr style=\"text-align: right;\">\n",
              "      <th></th>\n",
              "      <th>0</th>\n",
              "      <th>1</th>\n",
              "      <th>2</th>\n",
              "      <th>3</th>\n",
              "      <th>4</th>\n",
              "      <th>5</th>\n",
              "      <th>6</th>\n",
              "      <th>7</th>\n",
              "      <th>8</th>\n",
              "      <th>9</th>\n",
              "      <th>...</th>\n",
              "      <th>490</th>\n",
              "      <th>491</th>\n",
              "      <th>492</th>\n",
              "      <th>493</th>\n",
              "      <th>494</th>\n",
              "      <th>495</th>\n",
              "      <th>496</th>\n",
              "      <th>497</th>\n",
              "      <th>498</th>\n",
              "      <th>499</th>\n",
              "    </tr>\n",
              "  </thead>\n",
              "  <tbody>\n",
              "    <tr>\n",
              "      <th>0</th>\n",
              "      <td>1</td>\n",
              "      <td>2</td>\n",
              "      <td>3</td>\n",
              "      <td>4</td>\n",
              "      <td>5</td>\n",
              "      <td>6</td>\n",
              "      <td>7</td>\n",
              "      <td>8</td>\n",
              "      <td>9</td>\n",
              "      <td>10</td>\n",
              "      <td>...</td>\n",
              "      <td>491</td>\n",
              "      <td>492</td>\n",
              "      <td>493</td>\n",
              "      <td>494</td>\n",
              "      <td>495</td>\n",
              "      <td>496</td>\n",
              "      <td>497</td>\n",
              "      <td>498</td>\n",
              "      <td>499</td>\n",
              "      <td>500</td>\n",
              "    </tr>\n",
              "  </tbody>\n",
              "</table>\n",
              "<p>1 rows × 500 columns</p>\n",
              "</div>\n",
              "    <div class=\"colab-df-buttons\">\n",
              "\n",
              "  <div class=\"colab-df-container\">\n",
              "    <button class=\"colab-df-convert\" onclick=\"convertToInteractive('df-f544800c-e796-4f94-89fb-69317ccc942b')\"\n",
              "            title=\"Convert this dataframe to an interactive table.\"\n",
              "            style=\"display:none;\">\n",
              "\n",
              "  <svg xmlns=\"http://www.w3.org/2000/svg\" height=\"24px\" viewBox=\"0 -960 960 960\">\n",
              "    <path d=\"M120-120v-720h720v720H120Zm60-500h600v-160H180v160Zm220 220h160v-160H400v160Zm0 220h160v-160H400v160ZM180-400h160v-160H180v160Zm440 0h160v-160H620v160ZM180-180h160v-160H180v160Zm440 0h160v-160H620v160Z\"/>\n",
              "  </svg>\n",
              "    </button>\n",
              "\n",
              "  <style>\n",
              "    .colab-df-container {\n",
              "      display:flex;\n",
              "      gap: 12px;\n",
              "    }\n",
              "\n",
              "    .colab-df-convert {\n",
              "      background-color: #E8F0FE;\n",
              "      border: none;\n",
              "      border-radius: 50%;\n",
              "      cursor: pointer;\n",
              "      display: none;\n",
              "      fill: #1967D2;\n",
              "      height: 32px;\n",
              "      padding: 0 0 0 0;\n",
              "      width: 32px;\n",
              "    }\n",
              "\n",
              "    .colab-df-convert:hover {\n",
              "      background-color: #E2EBFA;\n",
              "      box-shadow: 0px 1px 2px rgba(60, 64, 67, 0.3), 0px 1px 3px 1px rgba(60, 64, 67, 0.15);\n",
              "      fill: #174EA6;\n",
              "    }\n",
              "\n",
              "    .colab-df-buttons div {\n",
              "      margin-bottom: 4px;\n",
              "    }\n",
              "\n",
              "    [theme=dark] .colab-df-convert {\n",
              "      background-color: #3B4455;\n",
              "      fill: #D2E3FC;\n",
              "    }\n",
              "\n",
              "    [theme=dark] .colab-df-convert:hover {\n",
              "      background-color: #434B5C;\n",
              "      box-shadow: 0px 1px 3px 1px rgba(0, 0, 0, 0.15);\n",
              "      filter: drop-shadow(0px 1px 2px rgba(0, 0, 0, 0.3));\n",
              "      fill: #FFFFFF;\n",
              "    }\n",
              "  </style>\n",
              "\n",
              "    <script>\n",
              "      const buttonEl =\n",
              "        document.querySelector('#df-f544800c-e796-4f94-89fb-69317ccc942b button.colab-df-convert');\n",
              "      buttonEl.style.display =\n",
              "        google.colab.kernel.accessAllowed ? 'block' : 'none';\n",
              "\n",
              "      async function convertToInteractive(key) {\n",
              "        const element = document.querySelector('#df-f544800c-e796-4f94-89fb-69317ccc942b');\n",
              "        const dataTable =\n",
              "          await google.colab.kernel.invokeFunction('convertToInteractive',\n",
              "                                                    [key], {});\n",
              "        if (!dataTable) return;\n",
              "\n",
              "        const docLinkHtml = 'Like what you see? Visit the ' +\n",
              "          '<a target=\"_blank\" href=https://colab.research.google.com/notebooks/data_table.ipynb>data table notebook</a>'\n",
              "          + ' to learn more about interactive tables.';\n",
              "        element.innerHTML = '';\n",
              "        dataTable['output_type'] = 'display_data';\n",
              "        await google.colab.output.renderOutput(dataTable, element);\n",
              "        const docLink = document.createElement('div');\n",
              "        docLink.innerHTML = docLinkHtml;\n",
              "        element.appendChild(docLink);\n",
              "      }\n",
              "    </script>\n",
              "  </div>\n",
              "\n",
              "\n",
              "    </div>\n",
              "  </div>\n"
            ],
            "application/vnd.google.colaboratory.intrinsic+json": {
              "type": "dataframe",
              "variable_name": "df"
            }
          },
          "metadata": {},
          "execution_count": 10
        }
      ]
    },
    {
      "cell_type": "code",
      "source": [
        "recipes = pd.concat([df]).reset_index(drop=True)\n",
        "recipes.shape"
      ],
      "metadata": {
        "colab": {
          "base_uri": "https://localhost:8080/"
        },
        "id": "MNBp2ik1oD0C",
        "outputId": "d46533f7-53cb-42fa-a1ed-478f6981eb69"
      },
      "execution_count": 11,
      "outputs": [
        {
          "output_type": "execute_result",
          "data": {
            "text/plain": [
              "(8, 500)"
            ]
          },
          "metadata": {},
          "execution_count": 11
        }
      ]
    },
    {
      "cell_type": "code",
      "source": [
        "# Count of missing values by category\n",
        "# As a DataFrame for clearer display\n",
        "missing_df = df.isnull().sum().reset_index()\n",
        "missing_df.columns = ['Column', 'Missing Values']\n",
        "print(missing_df)\n"
      ],
      "metadata": {
        "colab": {
          "base_uri": "https://localhost:8080/"
        },
        "id": "x65yrjV8ooNK",
        "outputId": "93794260-56ff-41e4-aa6b-bdf40d89ae61"
      },
      "execution_count": 12,
      "outputs": [
        {
          "output_type": "stream",
          "name": "stdout",
          "text": [
            "     Column  Missing Values\n",
            "0         0               0\n",
            "1         1               0\n",
            "2         2               0\n",
            "3         3               0\n",
            "4         4               0\n",
            "..      ...             ...\n",
            "495     495               0\n",
            "496     496               0\n",
            "497     497               0\n",
            "498     498               0\n",
            "499     499               0\n",
            "\n",
            "[500 rows x 2 columns]\n"
          ]
        }
      ]
    },
    {
      "cell_type": "code",
      "source": [
        "# Exclude 'picture' column\n",
        "columns_to_check = df.columns.difference(['picture'])  # Define columns_to_check here\n",
        "\n",
        "# Boolean mask for recipes with missing values\n",
        "\n",
        "missing_rows = df[columns_to_check].isnull().any(axis=1).sum()\n",
        "\n",
        "print(f\"Number of recipes with missing values): {missing_rows}\")"
      ],
      "metadata": {
        "colab": {
          "base_uri": "https://localhost:8080/"
        },
        "id": "SSZZuN3YotgI",
        "outputId": "763fe8ba-f162-4d03-a5e0-b407dc5456fc"
      },
      "execution_count": 14,
      "outputs": [
        {
          "output_type": "stream",
          "name": "stdout",
          "text": [
            "Number of recipes with missing values): 0\n"
          ]
        }
      ]
    },
    {
      "cell_type": "code",
      "source": [
        "# Exclude 'picture' column\n",
        "columns_to_check = recipes.columns.difference(['picture'])\n",
        "\n",
        "# Boolean mask for recipes with missing values\n",
        "null_recs = recipes[columns_to_check].isnull().any(axis=1)\n",
        "recipes[null_recs].head()\n"
      ],
      "metadata": {
        "colab": {
          "base_uri": "https://localhost:8080/",
          "height": 99
        },
        "id": "tlrRatojpBki",
        "outputId": "36294ed0-2d37-43e5-e0ad-d8cb82fe99fc"
      },
      "execution_count": 15,
      "outputs": [
        {
          "output_type": "execute_result",
          "data": {
            "text/plain": [
              "Empty DataFrame\n",
              "Columns: [0, 1, 2, 3, 4, 5, 6, 7, 8, 9, 10, 11, 12, 13, 14, 15, 16, 17, 18, 19, 20, 21, 22, 23, 24, 25, 26, 27, 28, 29, 30, 31, 32, 33, 34, 35, 36, 37, 38, 39, 40, 41, 42, 43, 44, 45, 46, 47, 48, 49, 50, 51, 52, 53, 54, 55, 56, 57, 58, 59, 60, 61, 62, 63, 64, 65, 66, 67, 68, 69, 70, 71, 72, 73, 74, 75, 76, 77, 78, 79, 80, 81, 82, 83, 84, 85, 86, 87, 88, 89, 90, 91, 92, 93, 94, 95, 96, 97, 98, 99, ...]\n",
              "Index: []\n",
              "\n",
              "[0 rows x 500 columns]"
            ],
            "text/html": [
              "\n",
              "  <div id=\"df-a93144d5-8a7f-443b-bdc7-86f827437764\" class=\"colab-df-container\">\n",
              "    <div>\n",
              "<style scoped>\n",
              "    .dataframe tbody tr th:only-of-type {\n",
              "        vertical-align: middle;\n",
              "    }\n",
              "\n",
              "    .dataframe tbody tr th {\n",
              "        vertical-align: top;\n",
              "    }\n",
              "\n",
              "    .dataframe thead th {\n",
              "        text-align: right;\n",
              "    }\n",
              "</style>\n",
              "<table border=\"1\" class=\"dataframe\">\n",
              "  <thead>\n",
              "    <tr style=\"text-align: right;\">\n",
              "      <th></th>\n",
              "      <th>0</th>\n",
              "      <th>1</th>\n",
              "      <th>2</th>\n",
              "      <th>3</th>\n",
              "      <th>4</th>\n",
              "      <th>5</th>\n",
              "      <th>6</th>\n",
              "      <th>7</th>\n",
              "      <th>8</th>\n",
              "      <th>9</th>\n",
              "      <th>...</th>\n",
              "      <th>490</th>\n",
              "      <th>491</th>\n",
              "      <th>492</th>\n",
              "      <th>493</th>\n",
              "      <th>494</th>\n",
              "      <th>495</th>\n",
              "      <th>496</th>\n",
              "      <th>497</th>\n",
              "      <th>498</th>\n",
              "      <th>499</th>\n",
              "    </tr>\n",
              "  </thead>\n",
              "  <tbody>\n",
              "  </tbody>\n",
              "</table>\n",
              "<p>0 rows × 500 columns</p>\n",
              "</div>\n",
              "    <div class=\"colab-df-buttons\">\n",
              "\n",
              "  <div class=\"colab-df-container\">\n",
              "    <button class=\"colab-df-convert\" onclick=\"convertToInteractive('df-a93144d5-8a7f-443b-bdc7-86f827437764')\"\n",
              "            title=\"Convert this dataframe to an interactive table.\"\n",
              "            style=\"display:none;\">\n",
              "\n",
              "  <svg xmlns=\"http://www.w3.org/2000/svg\" height=\"24px\" viewBox=\"0 -960 960 960\">\n",
              "    <path d=\"M120-120v-720h720v720H120Zm60-500h600v-160H180v160Zm220 220h160v-160H400v160Zm0 220h160v-160H400v160ZM180-400h160v-160H180v160Zm440 0h160v-160H620v160ZM180-180h160v-160H180v160Zm440 0h160v-160H620v160Z\"/>\n",
              "  </svg>\n",
              "    </button>\n",
              "\n",
              "  <style>\n",
              "    .colab-df-container {\n",
              "      display:flex;\n",
              "      gap: 12px;\n",
              "    }\n",
              "\n",
              "    .colab-df-convert {\n",
              "      background-color: #E8F0FE;\n",
              "      border: none;\n",
              "      border-radius: 50%;\n",
              "      cursor: pointer;\n",
              "      display: none;\n",
              "      fill: #1967D2;\n",
              "      height: 32px;\n",
              "      padding: 0 0 0 0;\n",
              "      width: 32px;\n",
              "    }\n",
              "\n",
              "    .colab-df-convert:hover {\n",
              "      background-color: #E2EBFA;\n",
              "      box-shadow: 0px 1px 2px rgba(60, 64, 67, 0.3), 0px 1px 3px 1px rgba(60, 64, 67, 0.15);\n",
              "      fill: #174EA6;\n",
              "    }\n",
              "\n",
              "    .colab-df-buttons div {\n",
              "      margin-bottom: 4px;\n",
              "    }\n",
              "\n",
              "    [theme=dark] .colab-df-convert {\n",
              "      background-color: #3B4455;\n",
              "      fill: #D2E3FC;\n",
              "    }\n",
              "\n",
              "    [theme=dark] .colab-df-convert:hover {\n",
              "      background-color: #434B5C;\n",
              "      box-shadow: 0px 1px 3px 1px rgba(0, 0, 0, 0.15);\n",
              "      filter: drop-shadow(0px 1px 2px rgba(0, 0, 0, 0.3));\n",
              "      fill: #FFFFFF;\n",
              "    }\n",
              "  </style>\n",
              "\n",
              "    <script>\n",
              "      const buttonEl =\n",
              "        document.querySelector('#df-a93144d5-8a7f-443b-bdc7-86f827437764 button.colab-df-convert');\n",
              "      buttonEl.style.display =\n",
              "        google.colab.kernel.accessAllowed ? 'block' : 'none';\n",
              "\n",
              "      async function convertToInteractive(key) {\n",
              "        const element = document.querySelector('#df-a93144d5-8a7f-443b-bdc7-86f827437764');\n",
              "        const dataTable =\n",
              "          await google.colab.kernel.invokeFunction('convertToInteractive',\n",
              "                                                    [key], {});\n",
              "        if (!dataTable) return;\n",
              "\n",
              "        const docLinkHtml = 'Like what you see? Visit the ' +\n",
              "          '<a target=\"_blank\" href=https://colab.research.google.com/notebooks/data_table.ipynb>data table notebook</a>'\n",
              "          + ' to learn more about interactive tables.';\n",
              "        element.innerHTML = '';\n",
              "        dataTable['output_type'] = 'display_data';\n",
              "        await google.colab.output.renderOutput(dataTable, element);\n",
              "        const docLink = document.createElement('div');\n",
              "        docLink.innerHTML = docLinkHtml;\n",
              "        element.appendChild(docLink);\n",
              "      }\n",
              "    </script>\n",
              "  </div>\n",
              "\n",
              "\n",
              "    </div>\n",
              "  </div>\n"
            ],
            "application/vnd.google.colaboratory.intrinsic+json": {
              "type": "dataframe"
            }
          },
          "metadata": {},
          "execution_count": 15
        }
      ]
    },
    {
      "cell_type": "code",
      "source": [
        "rows_to_drop = recipes[null_recs].index\n",
        "recipes = recipes.drop(index = rows_to_drop).reset_index(drop = True)\n",
        "recipes.shape"
      ],
      "metadata": {
        "colab": {
          "base_uri": "https://localhost:8080/"
        },
        "id": "z_O2aLU2pRJW",
        "outputId": "9c01e2e7-e18e-4b0a-f37c-5f30ce26786c"
      },
      "execution_count": 16,
      "outputs": [
        {
          "output_type": "execute_result",
          "data": {
            "text/plain": [
              "(8, 500)"
            ]
          },
          "metadata": {},
          "execution_count": 16
        }
      ]
    },
    {
      "cell_type": "code",
      "source": [
        "recipes.dtypes"
      ],
      "metadata": {
        "colab": {
          "base_uri": "https://localhost:8080/",
          "height": 458
        },
        "id": "SKxISHrtpoLD",
        "outputId": "0e95cd08-a27d-431f-bcc2-8a244d448fb2"
      },
      "execution_count": 17,
      "outputs": [
        {
          "output_type": "execute_result",
          "data": {
            "text/plain": [
              "0      object\n",
              "1      object\n",
              "2      object\n",
              "3      object\n",
              "4      object\n",
              "        ...  \n",
              "495    object\n",
              "496    object\n",
              "497    object\n",
              "498    object\n",
              "499    object\n",
              "Length: 500, dtype: object"
            ],
            "text/html": [
              "<div>\n",
              "<style scoped>\n",
              "    .dataframe tbody tr th:only-of-type {\n",
              "        vertical-align: middle;\n",
              "    }\n",
              "\n",
              "    .dataframe tbody tr th {\n",
              "        vertical-align: top;\n",
              "    }\n",
              "\n",
              "    .dataframe thead th {\n",
              "        text-align: right;\n",
              "    }\n",
              "</style>\n",
              "<table border=\"1\" class=\"dataframe\">\n",
              "  <thead>\n",
              "    <tr style=\"text-align: right;\">\n",
              "      <th></th>\n",
              "      <th>0</th>\n",
              "    </tr>\n",
              "  </thead>\n",
              "  <tbody>\n",
              "    <tr>\n",
              "      <th>0</th>\n",
              "      <td>object</td>\n",
              "    </tr>\n",
              "    <tr>\n",
              "      <th>1</th>\n",
              "      <td>object</td>\n",
              "    </tr>\n",
              "    <tr>\n",
              "      <th>2</th>\n",
              "      <td>object</td>\n",
              "    </tr>\n",
              "    <tr>\n",
              "      <th>3</th>\n",
              "      <td>object</td>\n",
              "    </tr>\n",
              "    <tr>\n",
              "      <th>4</th>\n",
              "      <td>object</td>\n",
              "    </tr>\n",
              "    <tr>\n",
              "      <th>...</th>\n",
              "      <td>...</td>\n",
              "    </tr>\n",
              "    <tr>\n",
              "      <th>495</th>\n",
              "      <td>object</td>\n",
              "    </tr>\n",
              "    <tr>\n",
              "      <th>496</th>\n",
              "      <td>object</td>\n",
              "    </tr>\n",
              "    <tr>\n",
              "      <th>497</th>\n",
              "      <td>object</td>\n",
              "    </tr>\n",
              "    <tr>\n",
              "      <th>498</th>\n",
              "      <td>object</td>\n",
              "    </tr>\n",
              "    <tr>\n",
              "      <th>499</th>\n",
              "      <td>object</td>\n",
              "    </tr>\n",
              "  </tbody>\n",
              "</table>\n",
              "<p>500 rows × 1 columns</p>\n",
              "</div><br><label><b>dtype:</b> object</label>"
            ]
          },
          "metadata": {},
          "execution_count": 17
        }
      ]
    },
    {
      "cell_type": "code",
      "source": [
        "\n",
        "# Function to check if a value is only punctuation or numbers\n",
        "def is_num_or_punct_only(val):\n",
        "    if isinstance(val, str):\n",
        "        return bool(re.fullmatch(r'[\\d\\W]+', val))\n",
        "    return False\n",
        "\n",
        "# Apply the function to the entire DataFrame\n",
        "mask = recipes.applymap(is_num_or_punct_only)\n",
        "\n",
        "# Count how many such rows per column\n",
        "counts = mask.sum()\n",
        "\n",
        "# Show the counts\n",
        "print(\"Rows with only numbers/punctuation per column:\")\n",
        "print(counts)\n"
      ],
      "metadata": {
        "colab": {
          "base_uri": "https://localhost:8080/"
        },
        "id": "X5v1T3zqpqoZ",
        "outputId": "c24c0e13-6f37-4807-da3b-af00ed15d8f3"
      },
      "execution_count": 18,
      "outputs": [
        {
          "output_type": "stream",
          "name": "stdout",
          "text": [
            "Rows with only numbers/punctuation per column:\n",
            "0      0\n",
            "1      0\n",
            "2      0\n",
            "3      0\n",
            "4      0\n",
            "      ..\n",
            "495    0\n",
            "496    0\n",
            "497    0\n",
            "498    0\n",
            "499    0\n",
            "Length: 500, dtype: int64\n"
          ]
        },
        {
          "output_type": "stream",
          "name": "stderr",
          "text": [
            "<ipython-input-18-4d32e5017ff0>:8: FutureWarning: DataFrame.applymap has been deprecated. Use DataFrame.map instead.\n",
            "  mask = recipes.applymap(is_num_or_punct_only)\n"
          ]
        }
      ]
    },
    {
      "cell_type": "code",
      "source": [
        "# Example of defining the index_list (you should modify this according to your case)\n",
        "index_list = [0, 3, 5, 7]  # Assuming you want to drop rows with indices 0, 3, 5, and 7\n",
        "\n",
        "# Step 1: Make sure index_list contains unique values\n",
        "index_list = list(set(index_list))\n",
        "\n",
        "# Step 2: Drop rows from recipes based on index_list\n",
        "recipes_cleaned = recipes.drop(index=index_list)\n",
        "\n",
        "# Step 3: Reset index (optional but recommended)\n",
        "recipes_cleaned = recipes_cleaned.reset_index(drop=True)\n",
        "\n",
        "# Optional: Check how many rows were dropped\n",
        "print(f\"Removed {len(index_list)} unusable recipes.\")\n",
        "print(f\"Remaining recipes: {recipes_cleaned.shape[0]}\")\n"
      ],
      "metadata": {
        "colab": {
          "base_uri": "https://localhost:8080/"
        },
        "id": "ERK99D6ZpwR2",
        "outputId": "ff878521-2b6f-45c6-d8d4-2b48a478a182"
      },
      "execution_count": 19,
      "outputs": [
        {
          "output_type": "stream",
          "name": "stdout",
          "text": [
            "Removed 4 unusable recipes.\n",
            "Remaining recipes: 4\n"
          ]
        }
      ]
    },
    {
      "cell_type": "code",
      "source": [
        "# Convert column names to strings before stripping\n",
        "recipes.columns = recipes.columns.astype(str).str.strip()\n",
        "\n",
        "# Now print the columns again to check for any changes\n",
        "print(recipes.columns)\n"
      ],
      "metadata": {
        "colab": {
          "base_uri": "https://localhost:8080/"
        },
        "id": "lBOvhnAXqAlg",
        "outputId": "c8c7b1f7-0cfb-4ad6-d1ca-5f96eec7fad6"
      },
      "execution_count": 20,
      "outputs": [
        {
          "output_type": "stream",
          "name": "stdout",
          "text": [
            "Index(['0', '1', '2', '3', '4', '5', '6', '7', '8', '9',\n",
            "       ...\n",
            "       '490', '491', '492', '493', '494', '495', '496', '497', '498', '499'],\n",
            "      dtype='object', length=500)\n"
          ]
        }
      ]
    },
    {
      "cell_type": "code",
      "source": [
        "# Print the first few rows to inspect the data\n",
        "print(recipes.head())\n"
      ],
      "metadata": {
        "colab": {
          "base_uri": "https://localhost:8080/"
        },
        "id": "VKeu6-zHqRdp",
        "outputId": "3fcc5d1d-0d9f-4078-a98e-7095fe1db7a0"
      },
      "execution_count": 21,
      "outputs": [
        {
          "output_type": "stream",
          "name": "stdout",
          "text": [
            "                                                   0  \\\n",
            "0                                                  1   \n",
            "1                                              Kofta   \n",
            "2  oil, butter, ghee, cream, lemon, mint, cilantr...   \n",
            "3      green chili, coriander, cumin, ginger, garlic   \n",
            "4  Kofta preparation: Prepare ingredients and cho...   \n",
            "\n",
            "                                                   1  \\\n",
            "0                                                  2   \n",
            "1                                               Saag   \n",
            "2  chicken, beef, mutton, lentils, spinach, potat...   \n",
            "3      green chili, coriander, cumin, ginger, garlic   \n",
            "4  Saag preparation: Prepare ingredients and chop...   \n",
            "\n",
            "                                                   2  \\\n",
            "0                                                  3   \n",
            "1                                            Khichdi   \n",
            "2  onion, tomato, green chili, garlic, ginger, cu...   \n",
            "3  turmeric, red chili, green chili, coriander, c...   \n",
            "4  Khichdi preparation: Prepare ingredients and c...   \n",
            "\n",
            "                                                   3  \\\n",
            "0                                                  4   \n",
            "1                                     Chicken Karahi   \n",
            "2  yogurt, garam masala, red chili powder, turmer...   \n",
            "3  turmeric, red chili, green chili, coriander, c...   \n",
            "4  Chicken preparation: Prepare ingredients and c...   \n",
            "\n",
            "                                                   4  \\\n",
            "0                                                  5   \n",
            "1                                               Paya   \n",
            "2  yogurt, garam masala, red chili powder, turmer...   \n",
            "3  turmeric, red chili, green chili, coriander, c...   \n",
            "4  Paya preparation: Prepare ingredients and chop...   \n",
            "\n",
            "                                                   5  \\\n",
            "0                                                  6   \n",
            "1                                      Chicken Korma   \n",
            "2  yogurt, garam masala, red chili powder, turmer...   \n",
            "3  turmeric, red chili, green chili, coriander, c...   \n",
            "4  Chicken preparation: Prepare ingredients and c...   \n",
            "\n",
            "                                                   6  \\\n",
            "0                                                  7   \n",
            "1                                        Seekh Kebab   \n",
            "2  onion, tomato, green chili, garlic, ginger, cu...   \n",
            "3      green chili, coriander, cumin, ginger, garlic   \n",
            "4  Seekh preparation: Prepare ingredients and cho...   \n",
            "\n",
            "                                                   7  \\\n",
            "0                                                  8   \n",
            "1                                         Beef Curry   \n",
            "2  yogurt, garam masala, red chili powder, turmer...   \n",
            "3  turmeric, red chili, green chili, coriander, c...   \n",
            "4  Beef preparation: Prepare ingredients and chop...   \n",
            "\n",
            "                                                   8  \\\n",
            "0                                                  9   \n",
            "1                                             Karela   \n",
            "2  chicken, beef, mutton, lentils, spinach, potat...   \n",
            "3  turmeric, red chili, green chili, coriander, c...   \n",
            "4  Karela preparation: Prepare ingredients and ch...   \n",
            "\n",
            "                                                   9  ...  \\\n",
            "0                                                 10  ...   \n",
            "1                                              Kofta  ...   \n",
            "2  onion, tomato, green chili, garlic, ginger, cu...  ...   \n",
            "3      green chili, coriander, cumin, ginger, garlic  ...   \n",
            "4  Kofta preparation: Prepare ingredients and cho...  ...   \n",
            "\n",
            "                                                 490  \\\n",
            "0                                                491   \n",
            "1                                         Aloo Gosht   \n",
            "2  chicken, beef, mutton, lentils, spinach, potat...   \n",
            "3  turmeric, red chili, green chili, coriander, c...   \n",
            "4  Aloo preparation: Prepare ingredients and chop...   \n",
            "\n",
            "                                                 491  \\\n",
            "0                                                492   \n",
            "1                                               Paya   \n",
            "2  oil, butter, ghee, cream, lemon, mint, cilantr...   \n",
            "3      green chili, coriander, cumin, ginger, garlic   \n",
            "4  Paya preparation: Prepare ingredients and chop...   \n",
            "\n",
            "                                                 492  \\\n",
            "0                                                493   \n",
            "1                                         Aloo Keema   \n",
            "2  oil, butter, ghee, cream, lemon, mint, cilantr...   \n",
            "3  turmeric, red chili, green chili, coriander, c...   \n",
            "4  Aloo preparation: Prepare ingredients and chop...   \n",
            "\n",
            "                                                 493  \\\n",
            "0                                                494   \n",
            "1                                            Biryani   \n",
            "2  oil, butter, ghee, cream, lemon, mint, cilantr...   \n",
            "3                  turmeric, red chili, garam masala   \n",
            "4  Biryani preparation: Prepare ingredients and c...   \n",
            "\n",
            "                                                 494  \\\n",
            "0                                                495   \n",
            "1                                               Paya   \n",
            "2  onion, tomato, green chili, garlic, ginger, cu...   \n",
            "3  turmeric, red chili, green chili, coriander, c...   \n",
            "4  Paya preparation: Prepare ingredients and chop...   \n",
            "\n",
            "                                                 495  \\\n",
            "0                                                496   \n",
            "1                                             Nihari   \n",
            "2  yogurt, garam masala, red chili powder, turmer...   \n",
            "3                  turmeric, red chili, garam masala   \n",
            "4  Nihari preparation: Prepare ingredients and ch...   \n",
            "\n",
            "                                                 496  \\\n",
            "0                                                497   \n",
            "1                                             Karela   \n",
            "2  yogurt, garam masala, red chili powder, turmer...   \n",
            "3                  turmeric, red chili, garam masala   \n",
            "4  Karela preparation: Prepare ingredients and ch...   \n",
            "\n",
            "                                                 497  \\\n",
            "0                                                498   \n",
            "1                                         Beef Curry   \n",
            "2  oil, butter, ghee, cream, lemon, mint, cilantr...   \n",
            "3                  turmeric, red chili, garam masala   \n",
            "4  Beef preparation: Prepare ingredients and chop...   \n",
            "\n",
            "                                                 498  \\\n",
            "0                                                499   \n",
            "1                                       Anda Paratha   \n",
            "2  oil, butter, ghee, cream, lemon, mint, cilantr...   \n",
            "3                  turmeric, red chili, garam masala   \n",
            "4  Anda preparation: Prepare ingredients and chop...   \n",
            "\n",
            "                                                 499  \n",
            "0                                                500  \n",
            "1                                         Aloo Gosht  \n",
            "2  onion, tomato, green chili, garlic, ginger, cu...  \n",
            "3  turmeric, red chili, green chili, coriander, c...  \n",
            "4  Aloo preparation: Prepare ingredients and chop...  \n",
            "\n",
            "[5 rows x 500 columns]\n"
          ]
        }
      ]
    },
    {
      "cell_type": "code",
      "source": [
        "recipes.shape\n"
      ],
      "metadata": {
        "colab": {
          "base_uri": "https://localhost:8080/"
        },
        "id": "UMcW3CM5qcmH",
        "outputId": "dd4602c2-5a37-4ede-f058-16b2a7d63650"
      },
      "execution_count": 22,
      "outputs": [
        {
          "output_type": "execute_result",
          "data": {
            "text/plain": [
              "(8, 500)"
            ]
          },
          "metadata": {},
          "execution_count": 22
        }
      ]
    },
    {
      "cell_type": "code",
      "source": [
        "recipes.isna().sum()\n"
      ],
      "metadata": {
        "colab": {
          "base_uri": "https://localhost:8080/",
          "height": 458
        },
        "id": "tezp5FLpqk59",
        "outputId": "cb946ba0-f83a-450f-948a-1ad803e67860"
      },
      "execution_count": 23,
      "outputs": [
        {
          "output_type": "execute_result",
          "data": {
            "text/plain": [
              "0      0\n",
              "1      0\n",
              "2      0\n",
              "3      0\n",
              "4      0\n",
              "      ..\n",
              "495    0\n",
              "496    0\n",
              "497    0\n",
              "498    0\n",
              "499    0\n",
              "Length: 500, dtype: int64"
            ],
            "text/html": [
              "<div>\n",
              "<style scoped>\n",
              "    .dataframe tbody tr th:only-of-type {\n",
              "        vertical-align: middle;\n",
              "    }\n",
              "\n",
              "    .dataframe tbody tr th {\n",
              "        vertical-align: top;\n",
              "    }\n",
              "\n",
              "    .dataframe thead th {\n",
              "        text-align: right;\n",
              "    }\n",
              "</style>\n",
              "<table border=\"1\" class=\"dataframe\">\n",
              "  <thead>\n",
              "    <tr style=\"text-align: right;\">\n",
              "      <th></th>\n",
              "      <th>0</th>\n",
              "    </tr>\n",
              "  </thead>\n",
              "  <tbody>\n",
              "    <tr>\n",
              "      <th>0</th>\n",
              "      <td>0</td>\n",
              "    </tr>\n",
              "    <tr>\n",
              "      <th>1</th>\n",
              "      <td>0</td>\n",
              "    </tr>\n",
              "    <tr>\n",
              "      <th>2</th>\n",
              "      <td>0</td>\n",
              "    </tr>\n",
              "    <tr>\n",
              "      <th>3</th>\n",
              "      <td>0</td>\n",
              "    </tr>\n",
              "    <tr>\n",
              "      <th>4</th>\n",
              "      <td>0</td>\n",
              "    </tr>\n",
              "    <tr>\n",
              "      <th>...</th>\n",
              "      <td>...</td>\n",
              "    </tr>\n",
              "    <tr>\n",
              "      <th>495</th>\n",
              "      <td>0</td>\n",
              "    </tr>\n",
              "    <tr>\n",
              "      <th>496</th>\n",
              "      <td>0</td>\n",
              "    </tr>\n",
              "    <tr>\n",
              "      <th>497</th>\n",
              "      <td>0</td>\n",
              "    </tr>\n",
              "    <tr>\n",
              "      <th>498</th>\n",
              "      <td>0</td>\n",
              "    </tr>\n",
              "    <tr>\n",
              "      <th>499</th>\n",
              "      <td>0</td>\n",
              "    </tr>\n",
              "  </tbody>\n",
              "</table>\n",
              "<p>500 rows × 1 columns</p>\n",
              "</div><br><label><b>dtype:</b> int64</label>"
            ]
          },
          "metadata": {},
          "execution_count": 23
        }
      ]
    },
    {
      "cell_type": "code",
      "source": [
        "# Directly use the raw DataFrame\n",
        "recipes = df.copy()  # Now 'recipes' is a DataFrame with proper column names\n",
        "\n",
        "# Check if 'ingredients' column exists, if not, print available columns\n",
        "if 'Ingredients' not in recipes.columns:\n",
        "    print(f\"Available columns: {recipes.columns}\")\n",
        "\n",
        "# Assuming 'ingredients' column contains strings, check for empty strings instead of NaN\n",
        "low_ingr_index = [index for i, index in zip(recipes['Ingredients'], recipes.index) if i == '']\n",
        "len(low_ingr_index)\n",
        "recipes.loc[low_ingr_index, 'Ingredients']"
      ],
      "metadata": {
        "colab": {
          "base_uri": "https://localhost:8080/",
          "height": 84
        },
        "id": "lxXxfpJKrPwh",
        "outputId": "afd72964-2b80-4938-f922-ef55ab0e553d"
      },
      "execution_count": 58,
      "outputs": [
        {
          "output_type": "execute_result",
          "data": {
            "text/plain": [
              "Series([], Name: Ingredients, dtype: object)"
            ],
            "text/html": [
              "<div>\n",
              "<style scoped>\n",
              "    .dataframe tbody tr th:only-of-type {\n",
              "        vertical-align: middle;\n",
              "    }\n",
              "\n",
              "    .dataframe tbody tr th {\n",
              "        vertical-align: top;\n",
              "    }\n",
              "\n",
              "    .dataframe thead th {\n",
              "        text-align: right;\n",
              "    }\n",
              "</style>\n",
              "<table border=\"1\" class=\"dataframe\">\n",
              "  <thead>\n",
              "    <tr style=\"text-align: right;\">\n",
              "      <th></th>\n",
              "      <th>Ingredients</th>\n",
              "    </tr>\n",
              "  </thead>\n",
              "  <tbody>\n",
              "  </tbody>\n",
              "</table>\n",
              "</div><br><label><b>dtype:</b> object</label>"
            ]
          },
          "metadata": {},
          "execution_count": 58
        }
      ]
    },
    {
      "cell_type": "code",
      "source": [
        "import pandas as pd\n",
        "\n",
        "# Load the Excel file\n",
        "df = pd.read_excel('Pakistani_Dishes_Enhanced.xlsx')\n",
        "\n",
        "# Fix: Convert all column names to strings and strip whitespace\n",
        "df.columns = df.columns.map(str).str.strip()\n",
        "\n",
        "# Create a working copy\n",
        "recipes = df.copy()\n",
        "\n",
        "# Confirm 'ingredients' column is present\n",
        "print(\"Available columns:\", recipes.columns.tolist())\n"
      ],
      "metadata": {
        "colab": {
          "base_uri": "https://localhost:8080/"
        },
        "id": "5SZNwJ4irToK",
        "outputId": "69626cfd-62cb-4e6d-cac0-e2daba0de925"
      },
      "execution_count": 37,
      "outputs": [
        {
          "output_type": "stream",
          "name": "stdout",
          "text": [
            "Available columns: ['ID', 'Title', 'Ingredients', 'Spices', 'Recipe', 'Cooking Time', 'Calories per 50g', 'Calories per 100g']\n"
          ]
        }
      ]
    },
    {
      "cell_type": "markdown",
      "source": [],
      "metadata": {
        "id": "H5e7nDZzI2Wv"
      }
    },
    {
      "cell_type": "code",
      "source": [
        "all_text = recipes['Title'] + \" \" + recipes['Ingredients'] + ' ' + recipes['Spices']+ ' ' + recipes['Recipe'] + ' '\n",
        "all_text[0]"
      ],
      "metadata": {
        "colab": {
          "base_uri": "https://localhost:8080/",
          "height": 105
        },
        "id": "9gT4c25RsPrC",
        "outputId": "52cff208-f1dd-4dee-c289-07cdf00b34bf"
      },
      "execution_count": 46,
      "outputs": [
        {
          "output_type": "execute_result",
          "data": {
            "text/plain": [
              "'Kofta oil, butter, ghee, cream, lemon, mint, cilantro, onion, tomato, green chili, garlic, ginger, cumin, coriander, chicken, beef, mutton, lentils, spinach, potatoes green chili, coriander, cumin, ginger, garlic Kofta preparation: Prepare ingredients and chop vegetables. Heat oil/ghee and add whole spices. Add main ingredients and cook until tender. Add ground spices and simmer until well mixed. Garnish and serve hot. '"
            ],
            "application/vnd.google.colaboratory.intrinsic+json": {
              "type": "string"
            }
          },
          "metadata": {},
          "execution_count": 46
        }
      ]
    },
    {
      "cell_type": "code",
      "source": [
        "recipes['Ingredient_count'] = [len(ingredients) for ingredients in recipes['Ingredients']]\n"
      ],
      "metadata": {
        "id": "OQ0y7Qs0sfEp"
      },
      "execution_count": 52,
      "outputs": []
    },
    {
      "cell_type": "code",
      "source": [
        "recipes.head(1)"
      ],
      "metadata": {
        "colab": {
          "base_uri": "https://localhost:8080/",
          "height": 205
        },
        "id": "GsujWHSstsxD",
        "outputId": "391c3faa-4917-4047-bd99-92d4adc44bf3"
      },
      "execution_count": 53,
      "outputs": [
        {
          "output_type": "execute_result",
          "data": {
            "text/plain": [
              "   ID  Title                                        Ingredients  \\\n",
              "0   1  Kofta  oil, butter, ghee, cream, lemon, mint, cilantr...   \n",
              "\n",
              "                                          Spices  \\\n",
              "0  green chili, coriander, cumin, ginger, garlic   \n",
              "\n",
              "                                              Recipe Cooking Time  \\\n",
              "0  Kofta preparation: Prepare ingredients and cho...   82 minutes   \n",
              "\n",
              "   Calories per 50g  Calories per 100g  Ingredient_count  \n",
              "0            105.05              210.1               160  "
            ],
            "text/html": [
              "\n",
              "  <div id=\"df-2adf2da9-0d3c-4e91-9e08-5c8a384df895\" class=\"colab-df-container\">\n",
              "    <div>\n",
              "<style scoped>\n",
              "    .dataframe tbody tr th:only-of-type {\n",
              "        vertical-align: middle;\n",
              "    }\n",
              "\n",
              "    .dataframe tbody tr th {\n",
              "        vertical-align: top;\n",
              "    }\n",
              "\n",
              "    .dataframe thead th {\n",
              "        text-align: right;\n",
              "    }\n",
              "</style>\n",
              "<table border=\"1\" class=\"dataframe\">\n",
              "  <thead>\n",
              "    <tr style=\"text-align: right;\">\n",
              "      <th></th>\n",
              "      <th>ID</th>\n",
              "      <th>Title</th>\n",
              "      <th>Ingredients</th>\n",
              "      <th>Spices</th>\n",
              "      <th>Recipe</th>\n",
              "      <th>Cooking Time</th>\n",
              "      <th>Calories per 50g</th>\n",
              "      <th>Calories per 100g</th>\n",
              "      <th>Ingredient_count</th>\n",
              "    </tr>\n",
              "  </thead>\n",
              "  <tbody>\n",
              "    <tr>\n",
              "      <th>0</th>\n",
              "      <td>1</td>\n",
              "      <td>Kofta</td>\n",
              "      <td>oil, butter, ghee, cream, lemon, mint, cilantr...</td>\n",
              "      <td>green chili, coriander, cumin, ginger, garlic</td>\n",
              "      <td>Kofta preparation: Prepare ingredients and cho...</td>\n",
              "      <td>82 minutes</td>\n",
              "      <td>105.05</td>\n",
              "      <td>210.1</td>\n",
              "      <td>160</td>\n",
              "    </tr>\n",
              "  </tbody>\n",
              "</table>\n",
              "</div>\n",
              "    <div class=\"colab-df-buttons\">\n",
              "\n",
              "  <div class=\"colab-df-container\">\n",
              "    <button class=\"colab-df-convert\" onclick=\"convertToInteractive('df-2adf2da9-0d3c-4e91-9e08-5c8a384df895')\"\n",
              "            title=\"Convert this dataframe to an interactive table.\"\n",
              "            style=\"display:none;\">\n",
              "\n",
              "  <svg xmlns=\"http://www.w3.org/2000/svg\" height=\"24px\" viewBox=\"0 -960 960 960\">\n",
              "    <path d=\"M120-120v-720h720v720H120Zm60-500h600v-160H180v160Zm220 220h160v-160H400v160Zm0 220h160v-160H400v160ZM180-400h160v-160H180v160Zm440 0h160v-160H620v160ZM180-180h160v-160H180v160Zm440 0h160v-160H620v160Z\"/>\n",
              "  </svg>\n",
              "    </button>\n",
              "\n",
              "  <style>\n",
              "    .colab-df-container {\n",
              "      display:flex;\n",
              "      gap: 12px;\n",
              "    }\n",
              "\n",
              "    .colab-df-convert {\n",
              "      background-color: #E8F0FE;\n",
              "      border: none;\n",
              "      border-radius: 50%;\n",
              "      cursor: pointer;\n",
              "      display: none;\n",
              "      fill: #1967D2;\n",
              "      height: 32px;\n",
              "      padding: 0 0 0 0;\n",
              "      width: 32px;\n",
              "    }\n",
              "\n",
              "    .colab-df-convert:hover {\n",
              "      background-color: #E2EBFA;\n",
              "      box-shadow: 0px 1px 2px rgba(60, 64, 67, 0.3), 0px 1px 3px 1px rgba(60, 64, 67, 0.15);\n",
              "      fill: #174EA6;\n",
              "    }\n",
              "\n",
              "    .colab-df-buttons div {\n",
              "      margin-bottom: 4px;\n",
              "    }\n",
              "\n",
              "    [theme=dark] .colab-df-convert {\n",
              "      background-color: #3B4455;\n",
              "      fill: #D2E3FC;\n",
              "    }\n",
              "\n",
              "    [theme=dark] .colab-df-convert:hover {\n",
              "      background-color: #434B5C;\n",
              "      box-shadow: 0px 1px 3px 1px rgba(0, 0, 0, 0.15);\n",
              "      filter: drop-shadow(0px 1px 2px rgba(0, 0, 0, 0.3));\n",
              "      fill: #FFFFFF;\n",
              "    }\n",
              "  </style>\n",
              "\n",
              "    <script>\n",
              "      const buttonEl =\n",
              "        document.querySelector('#df-2adf2da9-0d3c-4e91-9e08-5c8a384df895 button.colab-df-convert');\n",
              "      buttonEl.style.display =\n",
              "        google.colab.kernel.accessAllowed ? 'block' : 'none';\n",
              "\n",
              "      async function convertToInteractive(key) {\n",
              "        const element = document.querySelector('#df-2adf2da9-0d3c-4e91-9e08-5c8a384df895');\n",
              "        const dataTable =\n",
              "          await google.colab.kernel.invokeFunction('convertToInteractive',\n",
              "                                                    [key], {});\n",
              "        if (!dataTable) return;\n",
              "\n",
              "        const docLinkHtml = 'Like what you see? Visit the ' +\n",
              "          '<a target=\"_blank\" href=https://colab.research.google.com/notebooks/data_table.ipynb>data table notebook</a>'\n",
              "          + ' to learn more about interactive tables.';\n",
              "        element.innerHTML = '';\n",
              "        dataTable['output_type'] = 'display_data';\n",
              "        await google.colab.output.renderOutput(dataTable, element);\n",
              "        const docLink = document.createElement('div');\n",
              "        docLink.innerHTML = docLinkHtml;\n",
              "        element.appendChild(docLink);\n",
              "      }\n",
              "    </script>\n",
              "  </div>\n",
              "\n",
              "\n",
              "    </div>\n",
              "  </div>\n"
            ],
            "application/vnd.google.colaboratory.intrinsic+json": {
              "type": "dataframe",
              "variable_name": "recipes",
              "summary": "{\n  \"name\": \"recipes\",\n  \"rows\": 500,\n  \"fields\": [\n    {\n      \"column\": \"ID\",\n      \"properties\": {\n        \"dtype\": \"number\",\n        \"std\": 144,\n        \"min\": 1,\n        \"max\": 500,\n        \"num_unique_values\": 500,\n        \"samples\": [\n          362,\n          74,\n          375\n        ],\n        \"semantic_type\": \"\",\n        \"description\": \"\"\n      }\n    },\n    {\n      \"column\": \"Title\",\n      \"properties\": {\n        \"dtype\": \"category\",\n        \"num_unique_values\": 30,\n        \"samples\": [\n          \"Samosa\",\n          \"Anda Paratha\",\n          \"Roghni Naan\"\n        ],\n        \"semantic_type\": \"\",\n        \"description\": \"\"\n      }\n    },\n    {\n      \"column\": \"Ingredients\",\n      \"properties\": {\n        \"dtype\": \"category\",\n        \"num_unique_values\": 24,\n        \"samples\": [\n          \"onion, tomato, green chili, garlic, ginger, cumin, coriander, chicken, beef, mutton, lentils, spinach, potatoes, yogurt, garam masala, red chili powder, turmeric, salt\",\n          \"onion, tomato, green chili, garlic, ginger, cumin, coriander, yogurt, garam masala, red chili powder, turmeric, salt, chicken, beef, mutton, lentils, spinach, potatoes\",\n          \"oil, butter, ghee, cream, lemon, mint, cilantro, onion, tomato, green chili, garlic, ginger, cumin, coriander, chicken, beef, mutton, lentils, spinach, potatoes\"\n        ],\n        \"semantic_type\": \"\",\n        \"description\": \"\"\n      }\n    },\n    {\n      \"column\": \"Spices\",\n      \"properties\": {\n        \"dtype\": \"category\",\n        \"num_unique_values\": 3,\n        \"samples\": [\n          \"green chili, coriander, cumin, ginger, garlic\",\n          \"turmeric, red chili, green chili, coriander, cumin, garam masala, ginger, garlic\",\n          \"turmeric, red chili, garam masala\"\n        ],\n        \"semantic_type\": \"\",\n        \"description\": \"\"\n      }\n    },\n    {\n      \"column\": \"Recipe\",\n      \"properties\": {\n        \"dtype\": \"category\",\n        \"num_unique_values\": 26,\n        \"samples\": [\n          \"Pakora preparation: Prepare ingredients and chop vegetables. Heat oil/ghee and add whole spices. Add main ingredients and cook until tender. Add ground spices and simmer until well mixed. Garnish and serve hot.\",\n          \"Mutton preparation: Prepare ingredients and chop vegetables. Heat oil/ghee and add whole spices. Add main ingredients and cook until tender. Add ground spices and simmer until well mixed. Garnish and serve hot.\",\n          \"Kofta preparation: Prepare ingredients and chop vegetables. Heat oil/ghee and add whole spices. Add main ingredients and cook until tender. Add ground spices and simmer until well mixed. Garnish and serve hot.\"\n        ],\n        \"semantic_type\": \"\",\n        \"description\": \"\"\n      }\n    },\n    {\n      \"column\": \"Cooking Time\",\n      \"properties\": {\n        \"dtype\": \"category\",\n        \"num_unique_values\": 91,\n        \"samples\": [\n          \"108 minutes\",\n          \"84 minutes\",\n          \"99 minutes\"\n        ],\n        \"semantic_type\": \"\",\n        \"description\": \"\"\n      }\n    },\n    {\n      \"column\": \"Calories per 50g\",\n      \"properties\": {\n        \"dtype\": \"number\",\n        \"std\": 36.276395079974485,\n        \"min\": 50.16,\n        \"max\": 174.88,\n        \"num_unique_values\": 487,\n        \"samples\": [\n          173.58,\n          134.96,\n          51.14\n        ],\n        \"semantic_type\": \"\",\n        \"description\": \"\"\n      }\n    },\n    {\n      \"column\": \"Calories per 100g\",\n      \"properties\": {\n        \"dtype\": \"number\",\n        \"std\": 72.55269023201141,\n        \"min\": 100.33,\n        \"max\": 349.76,\n        \"num_unique_values\": 494,\n        \"samples\": [\n          261.69,\n          106.88,\n          305.92\n        ],\n        \"semantic_type\": \"\",\n        \"description\": \"\"\n      }\n    },\n    {\n      \"column\": \"Ingredient_count\",\n      \"properties\": {\n        \"dtype\": \"number\",\n        \"std\": 4,\n        \"min\": 154,\n        \"max\": 167,\n        \"num_unique_values\": 4,\n        \"samples\": [\n          165,\n          154,\n          160\n        ],\n        \"semantic_type\": \"\",\n        \"description\": \"\"\n      }\n    }\n  ]\n}"
            }
          },
          "metadata": {},
          "execution_count": 53
        }
      ]
    },
    {
      "cell_type": "code",
      "source": [
        "import string\n",
        "import re\n",
        "\n",
        "def clean_text(documents):\n",
        "    cleaned_text = []\n",
        "    for doc in documents:\n",
        "        doc = doc.translate(str.maketrans('', '', string.punctuation)) # Remove Punctuation\n",
        "        doc = re.sub(r'\\d+', '', doc) # Remove Digits\n",
        "        doc = doc.replace('\\n',' ') # Remove New Lines\n",
        "        doc = doc.strip() # Remove Leading White Space\n",
        "        doc = re.sub(' +', ' ', doc) # Remove multiple white spaces\n",
        "        cleaned_text.append(doc)\n",
        "    return cleaned_text\n",
        "\n",
        "# Cleaning Text\n",
        "cleaned_text = clean_text(all_text)\n"
      ],
      "metadata": {
        "id": "JS_kcl0WtvJh"
      },
      "execution_count": 84,
      "outputs": []
    },
    {
      "cell_type": "code",
      "source": [
        "cleaned_text[2]"
      ],
      "metadata": {
        "colab": {
          "base_uri": "https://localhost:8080/",
          "height": 122
        },
        "id": "F-BNO5bJKhQS",
        "outputId": "317594de-b106-42ea-b676-a4345ae22e4e"
      },
      "execution_count": 85,
      "outputs": [
        {
          "output_type": "execute_result",
          "data": {
            "text/plain": [
              "'Khichdi onion tomato green chili garlic ginger cumin coriander oil butter ghee cream lemon mint cilantro yogurt garam masala red chili powder turmeric salt turmeric red chili green chili coriander cumin garam masala ginger garlic Khichdi preparation Prepare ingredients and chop vegetables Heat oilghee and add whole spices Add main ingredients and cook until tender Add ground spices and simmer until well mixed Garnish and serve hot'"
            ],
            "application/vnd.google.colaboratory.intrinsic+json": {
              "type": "string"
            }
          },
          "metadata": {},
          "execution_count": 85
        }
      ]
    },
    {
      "cell_type": "markdown",
      "source": [
        "Tokenizing Using Spacy"
      ],
      "metadata": {
        "id": "p30JJaEYLBFa"
      }
    },
    {
      "cell_type": "code",
      "source": [
        "# Testing Strategies and Code\n",
        "import spacy\n",
        "\n",
        "# Load the small English model using its full name\n",
        "nlp = spacy.load(\"en_core_web_sm\")\n",
        "\n",
        "' '.join([token.lemma_ for token in nlp(cleaned_text[2]) if not token.is_stop])"
      ],
      "metadata": {
        "colab": {
          "base_uri": "https://localhost:8080/",
          "height": 105
        },
        "id": "qDXqPqrgK5nc",
        "outputId": "9c5d452a-e1a4-4f59-be12-c6b7ad710f16"
      },
      "execution_count": 86,
      "outputs": [
        {
          "output_type": "execute_result",
          "data": {
            "text/plain": [
              "'khichdi onion tomato green chili garlic ginger cumin coriander oil butter ghee cream lemon mint cilantro yogurt garam masala red chili powder turmeric salt turmeric red chili green chili coriander cumin garam masala ginger garlic Khichdi preparation prepare ingredient chop vegetable heat oilghee add spice add main ingredient cook tender Add ground spice simmer mixed garnish serve hot'"
            ],
            "application/vnd.google.colaboratory.intrinsic+json": {
              "type": "string"
            }
          },
          "metadata": {},
          "execution_count": 86
        }
      ]
    },
    {
      "cell_type": "code",
      "source": [
        "import spacy\n",
        "\n",
        "# Load the spaCy English model (ensure it's installed: `!pip install spacy && !python -m spacy download en_core_web_sm`)\n",
        "nlp = spacy.load(\"en_core_web_sm\")\n",
        "\n",
        "def text_tokenizer(documents):\n",
        "\n",
        "    tokenized_documents = []\n",
        "    for doc in documents:\n",
        "        tok_doc = ' '.join([token.lemma_ for token in nlp(doc) if not token.is_stop and not token.is_punct])\n",
        "        tokenized_documents.append(tok_doc)\n"
      ],
      "metadata": {
        "id": "xIBsNzD9NRdK"
      },
      "execution_count": 104,
      "outputs": []
    },
    {
      "cell_type": "code",
      "source": [
        "# Tokenizing Function to run in parallel\n",
        "def text_tokenizer_mp(doc):\n",
        "    tok_doc = ' '.join([token.lemma_ for token in nlp(doc) if not token.is_stop])\n",
        "    return tok_doc"
      ],
      "metadata": {
        "id": "7tR1wuXNOAbH"
      },
      "execution_count": 106,
      "outputs": []
    },
    {
      "cell_type": "code",
      "source": [
        "\n",
        "import multiprocessing as mp\n",
        "print(\"Number of processors: \", mp.cpu_count())"
      ],
      "metadata": {
        "colab": {
          "base_uri": "https://localhost:8080/"
        },
        "id": "WZMCpMBKOIdK",
        "outputId": "49eeb66e-8c6a-4cd2-caf9-520a1a1c1eda"
      },
      "execution_count": 107,
      "outputs": [
        {
          "output_type": "stream",
          "name": "stdout",
          "text": [
            "Number of processors:  2\n"
          ]
        }
      ]
    },
    {
      "cell_type": "code",
      "source": [
        "# Parallelzing tokenizing process\n",
        "import multiprocessing as mp\n",
        "pool = mp.Pool(mp.cpu_count())\n",
        "tokenized_text = pool.map(text_tokenizer_mp, [doc for doc in cleaned_text])\n",
        "tokenized_text = pool.map(text_tokenizer_mp, [doc for doc in cleaned_text])"
      ],
      "metadata": {
        "id": "y6oZ-InfOKmu"
      },
      "execution_count": 109,
      "outputs": []
    },
    {
      "cell_type": "code",
      "source": [
        "# Save the tokenized_text variable as a csv in order to return to it;\n",
        "# Do not attempt to run the parser above, it will simply take too long\n",
        "# Reload the csv from file insted\n",
        "pd.Series(tokenized_text).to_csv('tokenized_text.csv')"
      ],
      "metadata": {
        "id": "eGhE1iqROM86"
      },
      "execution_count": 110,
      "outputs": []
    },
    {
      "cell_type": "code",
      "source": [
        "tokenized_text[0]\n"
      ],
      "metadata": {
        "colab": {
          "base_uri": "https://localhost:8080/",
          "height": 105
        },
        "id": "Or7oypjzOUlZ",
        "outputId": "3784e028-699d-44c5-b596-a966c29a9c35"
      },
      "execution_count": 111,
      "outputs": [
        {
          "output_type": "execute_result",
          "data": {
            "text/plain": [
              "'Kofta oil butter ghee cream lemon mint cilantro onion tomato green chili garlic ginger cumin coriander chicken beef mutton lentil spinach potato green chili coriander cumin ginger garlic Kofta preparation prepare ingredient chop vegetable heat oilghee add spice add main ingredient cook tender Add ground spice simmer mixed garnish serve hot'"
            ],
            "application/vnd.google.colaboratory.intrinsic+json": {
              "type": "string"
            }
          },
          "metadata": {},
          "execution_count": 111
        }
      ]
    },
    {
      "cell_type": "markdown",
      "source": [
        "Creating Word Embeddings"
      ],
      "metadata": {
        "id": "ZalAme56Ob2M"
      }
    },
    {
      "cell_type": "code",
      "source": [
        "from sklearn.feature_extraction.text import TfidfVectorizer\n",
        "\n",
        "vectorizer = TfidfVectorizer(lowercase = True,\n",
        "                            ngram_range = (1,1))\n",
        "\n",
        "text_tfidf = vectorizer.fit_transform(tokenized_text)\n",
        "# Use get_feature_names_out() instead of get_feature_names()\n",
        "tfidf_words = vectorizer.get_feature_names_out()\n",
        "print(text_tfidf.shape)\n",
        "print(len(tfidf_words))"
      ],
      "metadata": {
        "colab": {
          "base_uri": "https://localhost:8080/"
        },
        "id": "5LCEXYpdOZD-",
        "outputId": "a07dd313-ee1f-40c1-b216-c6708af8be88"
      },
      "execution_count": 113,
      "outputs": [
        {
          "output_type": "stream",
          "name": "stdout",
          "text": [
            "(500, 86)\n",
            "86\n"
          ]
        }
      ]
    },
    {
      "cell_type": "markdown",
      "source": [
        "Topic Modeling"
      ],
      "metadata": {
        "id": "i7PIh-gyOpWz"
      }
    },
    {
      "cell_type": "code",
      "source": [
        "text_tfidf.shape"
      ],
      "metadata": {
        "colab": {
          "base_uri": "https://localhost:8080/"
        },
        "id": "3X2YZxmlOfMF",
        "outputId": "642cc6b3-9bd7-4d51-dc79-b728f8b932d2"
      },
      "execution_count": 114,
      "outputs": [
        {
          "output_type": "execute_result",
          "data": {
            "text/plain": [
              "(500, 86)"
            ]
          },
          "metadata": {},
          "execution_count": 114
        }
      ]
    },
    {
      "cell_type": "code",
      "source": [
        "from sklearn.decomposition import LatentDirichletAllocation as LDA\n",
        "\n",
        "lda = LDA(n_components = 50,\n",
        "          n_jobs = -1,\n",
        "          max_iter = 100)\n",
        "text_lda = lda.fit_transform(text_tfidf)\n",
        "text_lda.shape"
      ],
      "metadata": {
        "colab": {
          "base_uri": "https://localhost:8080/"
        },
        "id": "_eVVSHBqOscc",
        "outputId": "cd07b6d4-dae4-4fee-d05a-90a33228d47a"
      },
      "execution_count": 115,
      "outputs": [
        {
          "output_type": "execute_result",
          "data": {
            "text/plain": [
              "(500, 50)"
            ]
          },
          "metadata": {},
          "execution_count": 115
        }
      ]
    },
    {
      "cell_type": "code",
      "source": [
        "from sklearn.decomposition import NMF\n",
        "\n",
        "# Remove 'alpha' and 'l1_ratio' parameters\n",
        "nmf = NMF(init='nndsvdar',\n",
        "         max_iter=100,\n",
        "         n_components=50,\n",
        "         solver='cd')\n",
        "\n",
        "text_nmf = nmf.fit_transform(text_tfidf)\n",
        "text_nmf.shape"
      ],
      "metadata": {
        "colab": {
          "base_uri": "https://localhost:8080/"
        },
        "id": "ucrw3kUQOufQ",
        "outputId": "88abdac1-8f90-4f77-f5c6-4b01fa83d274"
      },
      "execution_count": 117,
      "outputs": [
        {
          "output_type": "stream",
          "name": "stderr",
          "text": [
            "/usr/local/lib/python3.11/dist-packages/sklearn/decomposition/_nmf.py:1742: ConvergenceWarning: Maximum number of iterations 100 reached. Increase it to improve convergence.\n",
            "  warnings.warn(\n"
          ]
        },
        {
          "output_type": "execute_result",
          "data": {
            "text/plain": [
              "(500, 50)"
            ]
          },
          "metadata": {},
          "execution_count": 117
        }
      ]
    },
    {
      "cell_type": "code",
      "source": [
        "# variable dependencies:\n",
        "text_series = pd.Series(all_text)\n",
        "\n",
        "def docs_by_tops(top_mat, topic_range = (0,0), doc_range = (0,2)):\n",
        "    for i in range(topic_range[0], topic_range[1]):\n",
        "        topic_scores = pd.Series(top_mat[:,i])\n",
        "        doc_index = topic_scores.sort_values(ascending = False)[doc_range[0]:doc_range[1]].index\n",
        "        for j, index in enumerate(doc_index, doc_range[0]):\n",
        "            print('Topic #{}'.format(i),\n",
        "                  '\\nDocument #{}'.format(j),\n",
        "                  '\\nTopic Score: {}\\n\\n'.format(topic_scores[index]),\n",
        "                  text_series[index], '\\n\\n')"
      ],
      "metadata": {
        "id": "V5RWVDhJOxpb"
      },
      "execution_count": 118,
      "outputs": []
    },
    {
      "cell_type": "markdown",
      "source": [
        "Exploring Topics by Document"
      ],
      "metadata": {
        "id": "VEn_S78APxNV"
      }
    },
    {
      "cell_type": "code",
      "source": [
        "docs_by_tops(text_lda,(0,3),(0,1))\n"
      ],
      "metadata": {
        "colab": {
          "base_uri": "https://localhost:8080/"
        },
        "id": "Sv_dkK3IO7sq",
        "outputId": "0373c047-e3c4-4310-d45f-29091ca7f51d"
      },
      "execution_count": 121,
      "outputs": [
        {
          "output_type": "stream",
          "name": "stdout",
          "text": [
            "Topic #0 \n",
            "Document #0 \n",
            "Topic Score: 0.843443164904768\n",
            "\n",
            " Roghni Naan oil, butter, ghee, cream, lemon, mint, cilantro, onion, tomato, green chili, garlic, ginger, cumin, coriander, yogurt, garam masala, red chili powder, turmeric, salt Roghni preparation: Prepare ingredients and chop vegetables. Heat oil/ghee and add whole spices. Add main ingredients and cook until tender. Add ground spices and simmer until well mixed. Garnish and serve hot. \n",
            "\n",
            "\n",
            "Topic #1 \n",
            "Document #0 \n",
            "Topic Score: 0.0034714395209946873\n",
            "\n",
            " Samosa oil, butter, ghee, cream, lemon, mint, cilantro, yogurt, garam masala, red chili powder, turmeric, salt, chicken, beef, mutton, lentils, spinach, potatoes Samosa preparation: Prepare ingredients and chop vegetables. Heat oil/ghee and add whole spices. Add main ingredients and cook until tender. Add ground spices and simmer until well mixed. Garnish and serve hot. \n",
            "\n",
            "\n",
            "Topic #2 \n",
            "Document #0 \n",
            "Topic Score: 0.15296006468216145\n",
            "\n",
            " Chapli Kebab yogurt, garam masala, red chili powder, turmeric, salt, oil, butter, ghee, cream, lemon, mint, cilantro, chicken, beef, mutton, lentils, spinach, potatoes Chapli preparation: Prepare ingredients and chop vegetables. Heat oil/ghee and add whole spices. Add main ingredients and cook until tender. Add ground spices and simmer until well mixed. Garnish and serve hot. \n",
            "\n",
            "\n"
          ]
        }
      ]
    },
    {
      "cell_type": "code",
      "source": [
        "docs_by_tops(text_nmf,(0,1),(0,1))"
      ],
      "metadata": {
        "colab": {
          "base_uri": "https://localhost:8080/"
        },
        "id": "LcTmHoN1O98k",
        "outputId": "5bad25f8-ddb8-42c7-b9d6-520d3b871672"
      },
      "execution_count": 129,
      "outputs": [
        {
          "output_type": "stream",
          "name": "stdout",
          "text": [
            "Topic #0 \n",
            "Document #0 \n",
            "Topic Score: 0.18156321056424338\n",
            "\n",
            " Chicken Karahi yogurt, garam masala, red chili powder, turmeric, salt, chicken, beef, mutton, lentils, spinach, potatoes, onion, tomato, green chili, garlic, ginger, cumin, coriander Chicken preparation: Prepare ingredients and chop vegetables. Heat oil/ghee and add whole spices. Add main ingredients and cook until tender. Add ground spices and simmer until well mixed. Garnish and serve hot. \n",
            "\n",
            "\n"
          ]
        }
      ]
    },
    {
      "cell_type": "code",
      "source": [
        "docs_by_tops(text_nmf,(1,2),(400,401))"
      ],
      "metadata": {
        "colab": {
          "base_uri": "https://localhost:8080/"
        },
        "id": "oWvuVYB-PSvY",
        "outputId": "20669642-0278-468f-d1e1-a3d6e1c0f061"
      },
      "execution_count": 132,
      "outputs": [
        {
          "output_type": "stream",
          "name": "stdout",
          "text": [
            "Topic #1 \n",
            "Document #400 \n",
            "Topic Score: 0.0\n",
            "\n",
            " Karela oil, butter, ghee, cream, lemon, mint, cilantro, chicken, beef, mutton, lentils, spinach, potatoes, onion, tomato, green chili, garlic, ginger, cumin, coriander Karela preparation: Prepare ingredients and chop vegetables. Heat oil/ghee and add whole spices. Add main ingredients and cook until tender. Add ground spices and simmer until well mixed. Garnish and serve hot. \n",
            "\n",
            "\n"
          ]
        }
      ]
    },
    {
      "cell_type": "markdown",
      "source": [
        "Exploring Topics by words"
      ],
      "metadata": {
        "id": "_ajZRu-KP2J5"
      }
    },
    {
      "cell_type": "code",
      "source": [
        "text_nmf.shape"
      ],
      "metadata": {
        "colab": {
          "base_uri": "https://localhost:8080/"
        },
        "id": "Q34O7RpkPoBi",
        "outputId": "34a01c44-c856-4228-abdd-02684b96f2a9"
      },
      "execution_count": 134,
      "outputs": [
        {
          "output_type": "execute_result",
          "data": {
            "text/plain": [
              "(500, 50)"
            ]
          },
          "metadata": {},
          "execution_count": 134
        }
      ]
    },
    {
      "cell_type": "code",
      "source": [
        "text_tfidf.T.shape"
      ],
      "metadata": {
        "colab": {
          "base_uri": "https://localhost:8080/"
        },
        "id": "NLB22A43PwAA",
        "outputId": "591951b0-b6be-408c-d177-85074ec3b8c4"
      },
      "execution_count": 135,
      "outputs": [
        {
          "output_type": "execute_result",
          "data": {
            "text/plain": [
              "(86, 500)"
            ]
          },
          "metadata": {},
          "execution_count": 135
        }
      ]
    },
    {
      "cell_type": "code",
      "source": [
        "# Function for best topic words using cosine similarity\n",
        "# Variable Dependency:\n",
        "word_series = pd.Series(tfidf_words)\n",
        "\n",
        "def words_by_tops(tfidf_mat, top_mat, topic_range=(0,0), n_words=10):\n",
        "    topic_word_scores = tfidf_mat.T * top_mat\n",
        "    for i in range(topic_range[0],topic_range[1]):\n",
        "        word_scores = pd.Series(topic_word_scores[:,i])\n",
        "        word_index = word_scores.sort_values(ascending = False)[:n_words].index\n",
        "        print('\\nTopic #{}'.format(i))\n",
        "        for index in word_index:\n",
        "            print(word_series[index],'\\t\\t', word_scores[index])"
      ],
      "metadata": {
        "id": "M8p3ERpvP7I5"
      },
      "execution_count": 136,
      "outputs": []
    },
    {
      "cell_type": "code",
      "source": [
        "# Keywords using LDA\n",
        "words_by_tops(text_tfidf, text_lda, (0,3), 10)"
      ],
      "metadata": {
        "colab": {
          "base_uri": "https://localhost:8080/"
        },
        "id": "6HbCHVv5P9oO",
        "outputId": "0c51b9ab-76d7-46e6-fd77-cc67d7863ece"
      },
      "execution_count": 137,
      "outputs": [
        {
          "output_type": "stream",
          "name": "stdout",
          "text": [
            "\n",
            "Topic #0\n",
            "roghni \t\t 9.715840575174205\n",
            "naan \t\t 4.857920287587103\n",
            "add \t\t 3.8236845806173996\n",
            "chili \t\t 3.361043771696729\n",
            "ingredient \t\t 2.5491230537449305\n",
            "spice \t\t 2.5491230537449305\n",
            "cumin \t\t 2.1967730290770637\n",
            "green \t\t 2.1967730290770637\n",
            "garlic \t\t 2.1967730290770637\n",
            "ginger \t\t 2.1967730290770637\n",
            "\n",
            "Topic #1\n",
            "add \t\t 0.36205783437576283\n",
            "chili \t\t 0.3540801876192419\n",
            "spice \t\t 0.24137188958384184\n",
            "ingredient \t\t 0.24137188958384184\n",
            "masala \t\t 0.2323471063495268\n",
            "cumin \t\t 0.2301111280111992\n",
            "green \t\t 0.2301111280111992\n",
            "coriander \t\t 0.2301111280111992\n",
            "garlic \t\t 0.2301111280111992\n",
            "ginger \t\t 0.2301111280111992\n",
            "\n",
            "Topic #2\n",
            "chapli \t\t 1.3790133206363455\n",
            "add \t\t 0.8169979951312922\n",
            "chili \t\t 0.7848567108302665\n",
            "ingredient \t\t 0.5446653300875279\n",
            "spice \t\t 0.5446653300875279\n",
            "masala \t\t 0.5441040019547282\n",
            "garam \t\t 0.541182226108122\n",
            "red \t\t 0.541182226108122\n",
            "turmeric \t\t 0.541182226108122\n",
            "kebab \t\t 0.5297678080564658\n"
          ]
        }
      ]
    },
    {
      "cell_type": "code",
      "source": [
        "# Words using NMF\n",
        "words_by_tops(text_tfidf, text_nmf, (0,3), 10)"
      ],
      "metadata": {
        "colab": {
          "base_uri": "https://localhost:8080/"
        },
        "id": "nDndm8lyQAWG",
        "outputId": "695fa18b-7db7-485c-abe4-031e96906ccc"
      },
      "execution_count": 138,
      "outputs": [
        {
          "output_type": "stream",
          "name": "stdout",
          "text": [
            "\n",
            "Topic #0\n",
            "chili \t\t 12.99774054514613\n",
            "add \t\t 11.285325123695841\n",
            "cumin \t\t 9.465923275716934\n",
            "coriander \t\t 9.465923275716934\n",
            "ginger \t\t 9.465923275716934\n",
            "garlic \t\t 9.465923275716934\n",
            "green \t\t 9.465923275716934\n",
            "ingredient \t\t 7.523550082463903\n",
            "spice \t\t 7.523550082463903\n",
            "masala \t\t 7.393335534039232\n",
            "\n",
            "Topic #1\n",
            "chili \t\t 10.483548196075223\n",
            "add \t\t 9.938260981492014\n",
            "masala \t\t 8.916505486514566\n",
            "red \t\t 8.778544697325069\n",
            "garam \t\t 8.778544697325069\n",
            "turmeric \t\t 8.778544697325069\n",
            "spice \t\t 6.625507320994681\n",
            "ingredient \t\t 6.625507320994681\n",
            "green \t\t 4.854115300542895\n",
            "ginger \t\t 4.854115300542895\n",
            "\n",
            "Topic #2\n",
            "add \t\t 6.902716078788206\n",
            "chili \t\t 4.601827268006942\n",
            "spice \t\t 4.601810719192135\n",
            "ingredient \t\t 4.601810719192135\n",
            "chicken \t\t 3.8817739655422097\n",
            "masala \t\t 3.5356426887801375\n",
            "garam \t\t 3.44433194839061\n",
            "red \t\t 3.44433194839061\n",
            "turmeric \t\t 3.44433194839061\n",
            "mutton \t\t 3.157016785934991\n"
          ]
        }
      ]
    },
    {
      "cell_type": "code",
      "source": [
        "# Pulling the top one-hundred documents ranked in similarity among Topic #1\n",
        "text_index = pd.Series(text_nmf[:,1]).sort_values(ascending = False)[:100].index\n",
        "text_4summary = pd.Series(cleaned_text)[text_index]\n",
        "\n",
        "# Manually Creating a list of recipe stop\n",
        "recipe_stopwords = ['cup','cups','ingredient','ingredients','teaspoon','tablespoon','oven']"
      ],
      "metadata": {
        "id": "QWYjTT__QFSl"
      },
      "execution_count": 139,
      "outputs": []
    },
    {
      "cell_type": "code",
      "source": [
        "# generating topic filter\n",
        "import time\n",
        "start_time = time.time()\n",
        "\n",
        "parsed_texts = nlp(' '.join(text_4summary))\n",
        "kw_filts = set([str(word) for word in parsed_texts\n",
        "                if (word.pos_== ('NOUN' or 'ADJ' or 'VERB'))\n",
        "                and str(word) not in recipe_stopwords])\n",
        "\n",
        "print('Execution Time: {} seconds', time.time() - start_time)"
      ],
      "metadata": {
        "colab": {
          "base_uri": "https://localhost:8080/"
        },
        "id": "HRC_xWpBQJcp",
        "outputId": "7f55005e-87c3-41fc-af2e-483293ab43cd"
      },
      "execution_count": 140,
      "outputs": [
        {
          "output_type": "stream",
          "name": "stdout",
          "text": [
            "Execution Time: {} seconds 1.856504201889038\n"
          ]
        }
      ]
    },
    {
      "cell_type": "code",
      "source": [
        "# Creating adjecency Table for recipes.\n",
        "adjacency = pd.DataFrame(columns=list(kw_filts), index=list(kw_filts), data = 0) # Convert kw_filts to list\n",
        "for i, word in enumerate(parsed_texts):\n",
        "    if any ([str(word) == item for item in kw_filts]):\n",
        "        end = min(len(parsed_texts), i+5) # Window of four words\n",
        "        nextwords = parsed_texts[i+1:end]\n",
        "        inset = [str(x) in kw_filts for x in nextwords]\n",
        "        # Convert neighbors to a set to ensure uniqueness before incrementing adjacency\n",
        "        neighbors = list(set([str(nextwords[i]) for i in range(len(nextwords)) if inset[i]]))\n",
        "        if neighbors:\n",
        "            adjacency.loc[str(word), neighbors] += 1"
      ],
      "metadata": {
        "id": "VbTRroTxQMTk"
      },
      "execution_count": 143,
      "outputs": []
    },
    {
      "cell_type": "code",
      "source": [
        "import networkx as nx\n",
        "\n",
        "# Running TextRank\n",
        "nx_words = nx.from_pandas_adjacency(adjacency)\n",
        "ranks = nx.pagerank(nx_words, alpha=0.85, tol=0.00000001)\n",
        "\n",
        "# Identifying the most highly ranked keywords\n",
        "# Iterate directly over the items in the 'kw_filts' set\n",
        "ranked = sorted(((ranks[s], s) for s in kw_filts), reverse=True)  # Changed to ranks[s] instead of ranks[i]"
      ],
      "metadata": {
        "id": "Ggpww1J5QuwA"
      },
      "execution_count": 147,
      "outputs": []
    },
    {
      "cell_type": "code",
      "source": [
        "ranked[:25]"
      ],
      "metadata": {
        "colab": {
          "base_uri": "https://localhost:8080/"
        },
        "id": "tuF2ekF0QW83",
        "outputId": "7c560383-b0d8-4c32-c840-baad644e1ce1"
      },
      "execution_count": 148,
      "outputs": [
        {
          "output_type": "execute_result",
          "data": {
            "text/plain": [
              "[(0.06786237924823336, 'chili'),\n",
              " (0.06785255237194114, 'turmeric'),\n",
              " (0.06652682753436752, 'spices'),\n",
              " (0.0534005546124354, 'oilghee'),\n",
              " (0.05106515511665895, 'ground'),\n",
              " (0.050878350711792156, 'salt'),\n",
              " (0.05062382869564051, 'lentils'),\n",
              " (0.050518053918380476, 'masala'),\n",
              " (0.04995512741243495, 'powder'),\n",
              " (0.04795389771559531, 'mutton'),\n",
              " (0.04794000777522274, 'potatoes'),\n",
              " (0.04632443293681597, 'beef'),\n",
              " (0.04113958729467733, 'chicken'),\n",
              " (0.04078687135832347, 'oil'),\n",
              " (0.03817106163462205, 'vegetables'),\n",
              " (0.03817106163462205, 'Heat'),\n",
              " (0.03605757021023037, 'butter'),\n",
              " (0.035423578824556164, 'tender'),\n",
              " (0.035423578824556164, 'simmer'),\n",
              " (0.031249500830138305, 'ghee'),\n",
              " (0.030074711937306604, 'yogurt'),\n",
              " (0.02260130940144908, 'preparation')]"
            ]
          },
          "metadata": {},
          "execution_count": 148
        }
      ]
    },
    {
      "cell_type": "code",
      "source": [
        "adjacency.shape"
      ],
      "metadata": {
        "colab": {
          "base_uri": "https://localhost:8080/"
        },
        "id": "kdYYT93eQoLf",
        "outputId": "1b8c5dd9-4b5e-430a-8990-22f8690d4440"
      },
      "execution_count": 149,
      "outputs": [
        {
          "output_type": "execute_result",
          "data": {
            "text/plain": [
              "(22, 22)"
            ]
          },
          "metadata": {},
          "execution_count": 149
        }
      ]
    },
    {
      "cell_type": "code",
      "source": [
        "# checking to see there are actual values loaded in the adjacency df\n",
        "import scipy\n",
        "scipy.sparse.csr_matrix(adjacency.copy().values)"
      ],
      "metadata": {
        "colab": {
          "base_uri": "https://localhost:8080/"
        },
        "id": "acO5mbysRCc2",
        "outputId": "49074679-b06e-4c77-ef1e-909a2f53b741"
      },
      "execution_count": 150,
      "outputs": [
        {
          "output_type": "execute_result",
          "data": {
            "text/plain": [
              "<Compressed Sparse Row sparse matrix of dtype 'int64'\n",
              "\twith 73 stored elements and shape (22, 22)>"
            ]
          },
          "metadata": {},
          "execution_count": 150
        }
      ]
    },
    {
      "cell_type": "code",
      "source": [
        "len(kw_filts)"
      ],
      "metadata": {
        "colab": {
          "base_uri": "https://localhost:8080/"
        },
        "id": "zilN3oxGRF2H",
        "outputId": "f7e97a61-4d21-4ffc-a2ae-e07845096c07"
      },
      "execution_count": 151,
      "outputs": [
        {
          "output_type": "execute_result",
          "data": {
            "text/plain": [
              "22"
            ]
          },
          "metadata": {},
          "execution_count": 151
        }
      ]
    },
    {
      "cell_type": "code",
      "source": [
        "pd.Series(list(kw_filts)).nunique()"
      ],
      "metadata": {
        "colab": {
          "base_uri": "https://localhost:8080/"
        },
        "id": "KcbSnlnVRLoa",
        "outputId": "a92394e5-5d86-40d1-f9cb-fb6eec439300"
      },
      "execution_count": 152,
      "outputs": [
        {
          "output_type": "execute_result",
          "data": {
            "text/plain": [
              "22"
            ]
          },
          "metadata": {},
          "execution_count": 152
        }
      ]
    },
    {
      "cell_type": "code",
      "source": [
        "text_4summary[400]"
      ],
      "metadata": {
        "colab": {
          "base_uri": "https://localhost:8080/",
          "height": 105
        },
        "id": "lt7Ud2qORpO4",
        "outputId": "6671911e-cdda-4011-e34c-79afc309d2f7"
      },
      "execution_count": 154,
      "outputs": [
        {
          "output_type": "execute_result",
          "data": {
            "text/plain": [
              "'Chicken Boti chicken beef mutton lentils spinach potatoes yogurt garam masala red chili powder turmeric salt oil butter ghee cream lemon mint cilantro turmeric red chili garam masala Chicken preparation Prepare ingredients and chop vegetables Heat oilghee and add whole spices Add main ingredients and cook until tender Add ground spices and simmer until well mixed Garnish and serve hot'"
            ],
            "application/vnd.google.colaboratory.intrinsic+json": {
              "type": "string"
            }
          },
          "metadata": {},
          "execution_count": 154
        }
      ]
    },
    {
      "cell_type": "code",
      "source": [
        "Analyzing Score distribution of document and word ranks within Topics"
      ],
      "metadata": {
        "id": "QbP5UPuESHP1"
      },
      "execution_count": null,
      "outputs": []
    },
    {
      "cell_type": "code",
      "source": [
        "import matplotlib.pyplot as plt\n",
        "# text_lda\n",
        "# text_nmf\n",
        "# ranked"
      ],
      "metadata": {
        "id": "SVv7Mzt-Rw6W"
      },
      "execution_count": 155,
      "outputs": []
    },
    {
      "cell_type": "code",
      "source": [
        "import matplotlib.pyplot as plt\n",
        "# text_lda\n",
        "# text_nmf\n",
        "# ranked"
      ],
      "metadata": {
        "id": "qy7taZnqSJmx"
      },
      "execution_count": 156,
      "outputs": []
    },
    {
      "cell_type": "code",
      "source": [
        "# LDA Topic documents for topics 0-2\n",
        "plt.figure(figsize=(15,4))\n",
        "for i in range(3):\n",
        "    series = pd.Series(text_lda[:,i])\n",
        "    plt.subplot(1,3,i+1)\n",
        "    plt.hist(series[series > 0.05])\n",
        "    plt.title('LDA Topic #{} Doc Score Dist (>0.05)'.format(i+1))\n",
        "plt.show()"
      ],
      "metadata": {
        "colab": {
          "base_uri": "https://localhost:8080/",
          "height": 222
        },
        "id": "ikxwZc0pSMI4",
        "outputId": "5cc9d793-da55-4edb-c097-a56314db6bb1"
      },
      "execution_count": 174,
      "outputs": [
        {
          "output_type": "display_data",
          "data": {
            "text/plain": [
              "<Figure size 1500x400 with 3 Axes>"
            ],
            "image/png": "[encoded data removed]"
          },
          "metadata": {}
        }
      ]
    },
    {
      "cell_type": "code",
      "source": [
        "# NNMF Topic documents for topics 0-2\n",
        "plt.figure(figsize=(15,4))\n",
        "for i in range(3):\n",
        "    series = pd.Series(text_nmf[:,i])\n",
        "    plt.subplot(1,3,i+1)\n",
        "    plt.hist(series[series > 0.004])\n",
        "    plt.title('NNMF Topic #{} Document Score Dist (>0.004)'.format(i+1))\n",
        "    plt.xlabel('Document Topic Score')\n",
        "#plt.savefig('DocsByTop_Score_Distributions.png', transparent = True)\n",
        "plt.show()"
      ],
      "metadata": {
        "colab": {
          "base_uri": "https://localhost:8080/",
          "height": 231
        },
        "id": "iNUoTIUeSOTn",
        "outputId": "79a46bb8-6d87-4f35-b9ec-d659a1c7ecca"
      },
      "execution_count": 175,
      "outputs": [
        {
          "output_type": "display_data",
          "data": {
            "text/plain": [
              "<Figure size 1500x400 with 3 Axes>"
            ],
            "image/png": "[encoded data removed]"
          },
          "metadata": {}
        }
      ]
    },
    {
      "cell_type": "code",
      "source": [
        "# LDA Topic document scores for topics 0-2\n",
        "plt.figure(figsize=(15,4))\n",
        "for i in range(3):\n",
        "    series = pd.Series(text_lda[:,i]).copy().sort_values(ascending = False).reset_index(drop = True)\n",
        "    plt.subplot(1,3,i+1)\n",
        "    plt.plot(series[:1000])\n",
        "    plt.title('LDA Topic #{} Ordered Score Plot'.format(i+1))\n",
        "plt.show()"
      ],
      "metadata": {
        "colab": {
          "base_uri": "https://localhost:8080/",
          "height": 223
        },
        "id": "zH6pCu72TvnE",
        "outputId": "2395df62-0468-4d1f-9407-e6002ec0591c"
      },
      "execution_count": 176,
      "outputs": [
        {
          "output_type": "display_data",
          "data": {
            "text/plain": [
              "<Figure size 1500x400 with 3 Axes>"
            ],
            "image/png": "[encoded data removed]"
          },
          "metadata": {}
        }
      ]
    },
    {
      "cell_type": "code",
      "source": [
        "# NMF Topic document scores for topics 0-2\n",
        "plt.figure(figsize=(15,4))\n",
        "for i in range(3):\n",
        "    series = pd.Series(text_nmf[:,i]).copy().sort_values(ascending = False).reset_index(drop = True)\n",
        "    plt.subplot(1,3,i+1)\n",
        "    plt.plot(series[:1000])\n",
        "    plt.title('NMF Topic #{} Ordered Score Plot'.format(i+1))\n",
        "    plt.xlabel('Document Rank')\n",
        "    plt.ylabel('Document Topic Score')\n",
        "#plt.savefig('DocsByTop_Score_Elbows.png', transparent = True)\n",
        "plt.show()"
      ],
      "metadata": {
        "colab": {
          "base_uri": "https://localhost:8080/",
          "height": 227
        },
        "id": "OGHaSNTcT6b3",
        "outputId": "743f2d65-ab0a-4711-a128-bc1737fd8a61"
      },
      "execution_count": 177,
      "outputs": [
        {
          "output_type": "display_data",
          "data": {
            "text/plain": [
              "<Figure size 1500x400 with 3 Axes>"
            ],
            "image/png": "[encoded data removed]"
          },
          "metadata": {}
        }
      ]
    },
    {
      "cell_type": "code",
      "source": [
        "# Set All Recommendation Model Parameters\n",
        "N_topics = 50             # Number of Topics to Extract from corpora\n",
        "N_top_docs = 200          # Number of top documents within each topic to extract keywords\n",
        "N_top_words = 25          # Number of keywords to extract from each topic\n",
        "N_docs_categorized = 2000 # Number of top documents within each topic to tag\n",
        "N_neighbor_window = 4     # Length of word-radius that defines the neighborhood for\n",
        "                          # each word in the TextRank adjacency table\n",
        "\n",
        "# Query Similarity Weights\n",
        "w_title = 0.2\n",
        "w_text = 0.3\n",
        "w_categories = 0.5\n",
        "w_array = np.array([w_title, w_text, w_categories])\n",
        "\n",
        "# Recipe Stopwords: for any high volume food recipe terminology that doesn't contribute\n",
        "# to the searchability of a recipe. This list must be manually created.\n",
        "recipe_stopwords = ['cup','cups','ingredient','ingredients','teaspoon','teaspoons','tablespoon',\n",
        "                   'tablespoons','C','F']"
      ],
      "metadata": {
        "id": "09jefHlGT9ju"
      },
      "execution_count": 178,
      "outputs": []
    },
    {
      "cell_type": "code",
      "source": [
        "# Renaming Data Dependencies\n",
        "topic_transformed_matrix = text_nmf\n",
        "root_text_data = cleaned_text"
      ],
      "metadata": {
        "id": "lr_1OgcbUIKb"
      },
      "execution_count": 179,
      "outputs": []
    },
    {
      "cell_type": "markdown",
      "source": [
        "Generating tags (keywords/categories) and assigning to corresponding documents"
      ],
      "metadata": {
        "id": "xyASIp-8UPuv"
      }
    },
    {
      "cell_type": "code",
      "source": [
        "from itertools import repeat\n",
        "\n",
        "#recipes['tag_list'] = [[] for i in repeat(None, recipes.shape[0])]\n",
        "\n",
        "def topic_docs_4kwsummary(topic_document_scores, root_text_data):\n",
        "    '''Gathers and formats the top recipes in each topic'''\n",
        "    text_index = pd.Series(topic_document_scores).sort_values(ascending = False)[:N_top_docs].index\n",
        "    text_4kwsummary = pd.Series(root_text_data)[text_index]\n",
        "    return text_4kwsummary\n",
        "\n",
        "def generate_filter_kws(text_list):\n",
        "    '''Filters out specific parts of speech and stop words from the list of potential keywords'''\n",
        "    parsed_texts = nlp(' '.join(text_list))\n",
        "    kw_filts = set([str(word) for word in parsed_texts\n",
        "                if (word.pos_== ('NOUN' or 'ADJ' or 'VERB'))\n",
        "                and word.lemma_ not in recipe_stopwords])\n",
        "    return list(kw_filts), parsed_texts\n",
        "\n",
        "def generate_adjacency(kw_filts, parsed_texts):\n",
        "    '''Tabulates counts of neighbors in the neighborhood window for each unique word'''\n",
        "    adjacency = pd.DataFrame(columns=kw_filts, index=kw_filts, data = 0)\n",
        "    for i, word in enumerate(parsed_texts):\n",
        "      if any ([str(word) == item for item in kw_filts]):\n",
        "            end = min(len(parsed_texts), i+N_neighbor_window+1) # Neighborhood Window Utilized Here\n",
        "            nextwords = parsed_texts[i+1:end]\n",
        "            inset = [str(x) in kw_filts for x in nextwords]\n",
        "            neighbors = [str(nextwords[i]) for i in range(len(nextwords)) if inset[i]]\n",
        "            if neighbors:\n",
        "                adjacency.loc[str(word), neighbors] += 1\n",
        "    return adjacency\n",
        "\n",
        "def generate_wordranks(adjacency):\n",
        "    '''Runs TextRank on adjacency table'''\n",
        "    nx_words = nx.from_numpy_matrix(adjacency.values)\n",
        "    ranks=nx.pagerank(nx_words, alpha=.85, tol=.00000001)\n",
        "    return ranks\n",
        "\n",
        "def generate_tag_list(ranks):\n",
        "    '''Uses TextRank ranks to return actual key words for each topic in rank order'''\n",
        "    rank_values = [i for i in ranks.values()]\n",
        "    ranked = pd.DataFrame(zip(rank_values, list(kw_filts))).sort_values(by=0,axis=0,ascending=False)\n",
        "    kw_list = ranked.iloc[:N_top_words,1].to_list()\n",
        "    return kw_list\n",
        "\n",
        "# Master Function utilizing all above functions\n",
        "def generate_tags(topic_document_scores, root_text_data):\n",
        "    text_4kwsummary = topic_docs_4kwsummary(topic_document_scores, root_text_data)\n",
        "    kw_filts, parsed_texts = generate_filter_kws(text_4kwsummary)\n",
        "    adjacency = generate_adjacency(kw_filts, parsed_texts)\n",
        "    ranks = generate_wordranks(adjacency)\n",
        "    kw_list = generate_tag_list(ranks)\n",
        "    return kw_list\n",
        "\n",
        "def generate_kw_index(topic_document_scores):\n",
        "    kw_index = pd.Series(topic_document_scores).sort_values(ascending = False)[:N_docs_categorized].index\n",
        "    return kw_index\n"
      ],
      "metadata": {
        "id": "Wj4mvLRuUOk9"
      },
      "execution_count": 180,
      "outputs": []
    },
    {
      "cell_type": "code",
      "source": [
        "from itertools import repeat\n",
        "\n",
        "#recipes['tag_list'] = [[] for i in repeat(None, recipes.shape[0])]\n",
        "\n",
        "def topic_docs_4kwsummary(topic_document_scores, root_text_data):\n",
        "    '''Gathers and formats the top recipes in each topic'''\n",
        "    text_index = pd.Series(topic_document_scores).sort_values(ascending = False)[:N_top_docs].index\n",
        "    text_4kwsummary = pd.Series(root_text_data)[text_index]\n",
        "    return text_4kwsummary\n",
        "\n",
        "def generate_filter_kws(text_list):\n",
        "    '''Filters out specific parts of speech and stop words from the list of potential keywords'''\n",
        "    parsed_texts = nlp(' '.join(text_list))\n",
        "    # Use a list comprehension to ensure uniqueness while preserving order\n",
        "    kw_filts = list({str(word) for word in parsed_texts\n",
        "                if (word.pos_ in ('NOUN', 'ADJ', 'VERB'))\n",
        "                and word.lemma_ not in recipe_stopwords})\n",
        "    return kw_filts, parsed_texts\n",
        "\n",
        "def generate_adjacency(kw_filts, parsed_texts):\n",
        "    '''Tabulates counts of neighbors in the neighborhood window for each unique word'''\n",
        "    adjacency = pd.DataFrame(columns=kw_filts, index=kw_filts, data = 0)\n",
        "    for i, word in enumerate(parsed_texts):\n",
        "      if any ([str(word) == item for item in kw_filts]):\n",
        "            end = min(len(parsed_texts), i+N_neighbor_window+1) # Neighborhood Window Utilized Here\n",
        "            nextwords = parsed_texts[i+1:end]\n",
        "            inset = [str(x) in kw_filts for x in nextwords]\n",
        "            neighbors = [str(nextwords[i]) for i in range(len(nextwords)) if inset[i]]\n",
        "            if neighbors:\n",
        "                # Use .loc with a loop to handle potential duplicate column names\n",
        "                for neighbor in neighbors:\n",
        "                    if neighbor in adjacency.columns:  # Check if column exists\n",
        "                        adjacency.loc[str(word), neighbor] += 1\n",
        "    return adjacency\n",
        "\n",
        "def generate_wordranks(adjacency):\n",
        "    '''Runs TextRank on adjacency table'''\n",
        "    nx_words = nx.from_numpy_matrix(adjacency.values)\n",
        "    ranks=nx.pagerank(nx_words, alpha=.85, tol=.00000001)\n",
        "    return ranks\n",
        "\n",
        "def generate_tag_list(ranks):\n",
        "    '''Uses TextRank ranks to return actual key words for each topic in rank order'''\n",
        "    rank_values = [i for i in ranks.values()]\n",
        "    ranked = pd.DataFrame(zip(rank_values, list(kw_filts))).sort_values(by=0,axis=0,ascending=False)\n",
        "    kw_list = ranked.iloc[:N_top_words,1].to_list()\n",
        "    return kw_list\n",
        "\n",
        "# Master Function utilizing all above functions\n",
        "def generate_tags(topic_document_scores, root_text_data):\n",
        "    text_4kwsummary = topic_docs_4kwsummary(topic_document_scores, root_text_data)\n",
        "    kw_filts, parsed_texts = generate_filter_kws(text_4kwsummary)\n",
        "    adjacency = generate_adjacency(kw_filts, parsed_texts)\n",
        "    ranks = generate_wordranks(adjacency)\n",
        "    kw_list = generate_tag_list(ranks)\n",
        "    return kw_list\n",
        "\n",
        "def generate_kw_index(topic_document_scores):\n",
        "    kw_index = pd.Series(topic_document_scores).sort_values(ascending = False)[:N_docs_categorized].index\n",
        "    return kw_index"
      ],
      "metadata": {
        "id": "T-viCX6QUKlN"
      },
      "execution_count": 183,
      "outputs": []
    },
    {
      "cell_type": "code",
      "source": [
        "# Assuming 'recipes' DataFrame exists\n",
        "\n",
        "for i in range(topic_transformed_matrix.shape[1]):\n",
        "    scores = topic_transformed_matrix[:, i]\n",
        "    topic_kws = generate_tags(scores, root_text_data)  # Using the modified generate_tags function\n",
        "    kw_index_4df = generate_kw_index(scores)\n",
        "\n",
        "    # Iterate through documents and add tags\n",
        "    for index in kw_index_4df:\n",
        "        # Check if 'Title' column exists and initialize as a list if necessary for the entire column\n",
        "        if 'Title' not in recipes.columns:\n",
        "            recipes['Title'] = [[] for _ in range(recipes.shape[0])]  # Initialize the entire column with empty lists\n",
        "        # If 'Title' already exists and the current cell isn't a list, convert it to a list\n",
        "        elif not isinstance(recipes.loc[index, 'Title'], list):\n",
        "            recipes.loc[index, 'Title'] = [recipes.loc[index, 'Title']]  # Convert existing value to a list\n",
        "\n",
        "        # Now you can safely extend the list with topic keywords\n",
        "        recipes.loc[index, 'Title'].extend(topic_kws)\n",
        "\n",
        "    # Print checkpoint for each topic\n",
        "    print('Topic #{} Checkpoint'.format(i))\n",
        "\n",
        "print('done!')"
      ],
      "metadata": {
        "colab": {
          "base_uri": "https://localhost:8080/"
        },
        "id": "1ipDbCihUaWL",
        "outputId": "f7c59f22-c314-4898-fa8c-085bd42c0600"
      },
      "execution_count": 247,
      "outputs": [
        {
          "output_type": "stream",
          "name": "stdout",
          "text": [
            "Topic #0 Checkpoint\n",
            "Topic #1 Checkpoint\n",
            "Topic #2 Checkpoint\n",
            "Topic #3 Checkpoint\n",
            "Topic #4 Checkpoint\n",
            "Topic #5 Checkpoint\n",
            "Topic #6 Checkpoint\n",
            "Topic #7 Checkpoint\n",
            "Topic #8 Checkpoint\n",
            "Topic #9 Checkpoint\n",
            "Topic #10 Checkpoint\n",
            "Topic #11 Checkpoint\n",
            "Topic #12 Checkpoint\n",
            "Topic #13 Checkpoint\n",
            "Topic #14 Checkpoint\n",
            "Topic #15 Checkpoint\n",
            "Topic #16 Checkpoint\n",
            "Topic #17 Checkpoint\n",
            "Topic #18 Checkpoint\n",
            "Topic #19 Checkpoint\n",
            "Topic #20 Checkpoint\n",
            "Topic #21 Checkpoint\n",
            "Topic #22 Checkpoint\n",
            "Topic #23 Checkpoint\n",
            "Topic #24 Checkpoint\n",
            "Topic #25 Checkpoint\n",
            "Topic #26 Checkpoint\n",
            "Topic #27 Checkpoint\n",
            "Topic #28 Checkpoint\n",
            "Topic #29 Checkpoint\n",
            "Topic #30 Checkpoint\n",
            "Topic #31 Checkpoint\n",
            "Topic #32 Checkpoint\n",
            "Topic #33 Checkpoint\n",
            "Topic #34 Checkpoint\n",
            "Topic #35 Checkpoint\n",
            "Topic #36 Checkpoint\n",
            "Topic #37 Checkpoint\n",
            "Topic #38 Checkpoint\n",
            "Topic #39 Checkpoint\n",
            "Topic #40 Checkpoint\n",
            "Topic #41 Checkpoint\n",
            "Topic #42 Checkpoint\n",
            "Topic #43 Checkpoint\n",
            "Topic #44 Checkpoint\n",
            "Topic #45 Checkpoint\n",
            "Topic #46 Checkpoint\n",
            "Topic #47 Checkpoint\n",
            "Topic #48 Checkpoint\n",
            "Topic #49 Checkpoint\n",
            "done!\n"
          ]
        }
      ]
    },
    {
      "cell_type": "code",
      "source": [
        "# Saving the precious dataframe so that I never have to calculate that again.\n",
        "recipes.to_csv('tagged_recipes_df.csv')"
      ],
      "metadata": {
        "id": "xQxLWEQgUwTe"
      },
      "execution_count": 248,
      "outputs": []
    },
    {
      "cell_type": "code",
      "source": [
        "scores = topic_transformed_matrix[:,1]\n",
        "topic_kws = generate_tags(scores, root_text_data)\n",
        "kw_index_4df = generate_kw_index(scores)\n",
        "\n",
        "# Iterate through documents and add tags\n",
        "for index in kw_index_4df:\n",
        "    # Check if 'Title' column contains lists, and convert if necessary\n",
        "    if not isinstance(recipes.loc[index, 'Title'], list):\n",
        "        recipes.loc[index, 'Title'] = [recipes.loc[index, 'Title']]\n",
        "\n",
        "    # Extend the 'Title' column with the list of keywords\n",
        "    recipes.loc[index, 'Title'].extend(topic_kws)"
      ],
      "metadata": {
        "id": "Hyh4Uj_gXHuP"
      },
      "execution_count": 249,
      "outputs": []
    },
    {
      "cell_type": "code",
      "source": [
        "recipes.loc[:5,'Title']"
      ],
      "metadata": {
        "colab": {
          "base_uri": "https://localhost:8080/",
          "height": 272
        },
        "id": "FIZNWOSRXKY-",
        "outputId": "38d85234-2e66-4e27-b99c-55cfa1b6033c"
      },
      "execution_count": 250,
      "outputs": [
        {
          "output_type": "execute_result",
          "data": {
            "text/plain": [
              "0    [kofta potatoes ground oil yogurt tender mutto...\n",
              "1    [saag potatoes ground oil yogurt tender mutton...\n",
              "2    [khichdi potatoes ground oil yogurt tender mut...\n",
              "3    [chicken karahi potatoes ground oil yogurt ten...\n",
              "4    [paya potatoes ground oil yogurt tender mutton...\n",
              "5    [chicken korma potatoes ground oil yogurt tend...\n",
              "Name: Title, dtype: object"
            ],
            "text/html": [
              "<div>\n",
              "<style scoped>\n",
              "    .dataframe tbody tr th:only-of-type {\n",
              "        vertical-align: middle;\n",
              "    }\n",
              "\n",
              "    .dataframe tbody tr th {\n",
              "        vertical-align: top;\n",
              "    }\n",
              "\n",
              "    .dataframe thead th {\n",
              "        text-align: right;\n",
              "    }\n",
              "</style>\n",
              "<table border=\"1\" class=\"dataframe\">\n",
              "  <thead>\n",
              "    <tr style=\"text-align: right;\">\n",
              "      <th></th>\n",
              "      <th>Title</th>\n",
              "    </tr>\n",
              "  </thead>\n",
              "  <tbody>\n",
              "    <tr>\n",
              "      <th>0</th>\n",
              "      <td>[kofta potatoes ground oil yogurt tender mutto...</td>\n",
              "    </tr>\n",
              "    <tr>\n",
              "      <th>1</th>\n",
              "      <td>[saag potatoes ground oil yogurt tender mutton...</td>\n",
              "    </tr>\n",
              "    <tr>\n",
              "      <th>2</th>\n",
              "      <td>[khichdi potatoes ground oil yogurt tender mut...</td>\n",
              "    </tr>\n",
              "    <tr>\n",
              "      <th>3</th>\n",
              "      <td>[chicken karahi potatoes ground oil yogurt ten...</td>\n",
              "    </tr>\n",
              "    <tr>\n",
              "      <th>4</th>\n",
              "      <td>[paya potatoes ground oil yogurt tender mutton...</td>\n",
              "    </tr>\n",
              "    <tr>\n",
              "      <th>5</th>\n",
              "      <td>[chicken korma potatoes ground oil yogurt tend...</td>\n",
              "    </tr>\n",
              "  </tbody>\n",
              "</table>\n",
              "</div><br><label><b>dtype:</b> object</label>"
            ]
          },
          "metadata": {},
          "execution_count": 250
        }
      ]
    },
    {
      "cell_type": "code",
      "source": [
        "# Concatenating lists of tags into a string a collective of tags for each documents\n",
        "recipes['tags'] = [' '.join(tags) for tags in recipes['Title']]"
      ],
      "metadata": {
        "id": "FhfV1eyrXbjp"
      },
      "execution_count": 257,
      "outputs": []
    },
    {
      "cell_type": "code",
      "source": [
        "recipes.loc[:5,'tags']\n"
      ],
      "metadata": {
        "colab": {
          "base_uri": "https://localhost:8080/",
          "height": 272
        },
        "id": "NrzWseKSXiVA",
        "outputId": "1b5abb67-443c-41c2-a470-70c63b21e37b"
      },
      "execution_count": 258,
      "outputs": [
        {
          "output_type": "execute_result",
          "data": {
            "text/plain": [
              "0    kofta potatoes ground oil yogurt tender mutton...\n",
              "1    saag potatoes ground oil yogurt tender mutton ...\n",
              "2    khichdi potatoes ground oil yogurt tender mutt...\n",
              "3    chicken karahi potatoes ground oil yogurt tend...\n",
              "4    paya potatoes ground oil yogurt tender mutton ...\n",
              "5    chicken korma potatoes ground oil yogurt tende...\n",
              "Name: tags, dtype: object"
            ],
            "text/html": [
              "<div>\n",
              "<style scoped>\n",
              "    .dataframe tbody tr th:only-of-type {\n",
              "        vertical-align: middle;\n",
              "    }\n",
              "\n",
              "    .dataframe tbody tr th {\n",
              "        vertical-align: top;\n",
              "    }\n",
              "\n",
              "    .dataframe thead th {\n",
              "        text-align: right;\n",
              "    }\n",
              "</style>\n",
              "<table border=\"1\" class=\"dataframe\">\n",
              "  <thead>\n",
              "    <tr style=\"text-align: right;\">\n",
              "      <th></th>\n",
              "      <th>tags</th>\n",
              "    </tr>\n",
              "  </thead>\n",
              "  <tbody>\n",
              "    <tr>\n",
              "      <th>0</th>\n",
              "      <td>kofta potatoes ground oil yogurt tender mutton...</td>\n",
              "    </tr>\n",
              "    <tr>\n",
              "      <th>1</th>\n",
              "      <td>saag potatoes ground oil yogurt tender mutton ...</td>\n",
              "    </tr>\n",
              "    <tr>\n",
              "      <th>2</th>\n",
              "      <td>khichdi potatoes ground oil yogurt tender mutt...</td>\n",
              "    </tr>\n",
              "    <tr>\n",
              "      <th>3</th>\n",
              "      <td>chicken karahi potatoes ground oil yogurt tend...</td>\n",
              "    </tr>\n",
              "    <tr>\n",
              "      <th>4</th>\n",
              "      <td>paya potatoes ground oil yogurt tender mutton ...</td>\n",
              "    </tr>\n",
              "    <tr>\n",
              "      <th>5</th>\n",
              "      <td>chicken korma potatoes ground oil yogurt tende...</td>\n",
              "    </tr>\n",
              "  </tbody>\n",
              "</table>\n",
              "</div><br><label><b>dtype:</b> object</label>"
            ]
          },
          "metadata": {},
          "execution_count": 258
        }
      ]
    },
    {
      "cell_type": "code",
      "source": [
        "recipes.columns"
      ],
      "metadata": {
        "colab": {
          "base_uri": "https://localhost:8080/"
        },
        "id": "TFjmrEtEXk7w",
        "outputId": "7fd27454-b920-42e5-88e9-ae72a9a9c29a"
      },
      "execution_count": 253,
      "outputs": [
        {
          "output_type": "execute_result",
          "data": {
            "text/plain": [
              "Index(['ID', 'Title', 'Ingredients', 'Spices', 'Recipe', 'Cooking Time',\n",
              "       'Calories per 50g', 'Calories per 100g', 'Ingredients_string',\n",
              "       'Ingredient_count', 'tag_list', 'tags'],\n",
              "      dtype='object')"
            ]
          },
          "metadata": {},
          "execution_count": 253
        }
      ]
    },
    {
      "cell_type": "code",
      "source": [
        "# Creating TF-IDF Matrices and recalling text dependencies\n",
        "\n",
        "'''import text_tokenized.csv here'''\n",
        "\n",
        "# TF-IDF vectorizer instance\n",
        "'''vectorizer = TfidfVectorizer(lowercase = True,\n",
        "                            ngram_range = (1,1))'''\n",
        "\n",
        "'''text_tfidf = vectorizer.fit_transform(tokenized_text)'''\n",
        "# title_tfidf = vectorizer.transform(recipes['title'])\n",
        "# text_tfidf    <== Variable with recipe ingredients and instructions\n",
        "# tags_tfidf = vectorizer.transform(recipes['tags'])\n",
        "# recipes   <== DataFrame; For indexing and printing recipes\n",
        "\n",
        "# Query Similarity Weights\n",
        "w_title = .2\n",
        "w_text = .3\n",
        "w_categories = .5"
      ],
      "metadata": {
        "id": "zBGxn18WXo9w"
      },
      "execution_count": 254,
      "outputs": []
    },
    {
      "cell_type": "code",
      "source": [
        "def qweight_array(query_length, qw_array = [1]):\n",
        "    '''Returns descending weights for ranked query ingredients'''\n",
        "    if query_length > 1:\n",
        "        to_split = qw_array.pop()\n",
        "        split = to_split/2\n",
        "        qw_array.extend([split, split])\n",
        "        return qweight_array(query_length - 1, qw_array)\n",
        "    else:\n",
        "        return np.array(qw_array)\n",
        "\n",
        "def ranked_query(query):\n",
        "    '''Called if query ingredients are ranked in order of importance.\n",
        "    Weights and adds each ranked query ingredient vector.'''\n",
        "    query = [[q] for q in query]      # place words in seperate documents\n",
        "    q_vecs = [vectorizer.transform(q) for q in query]\n",
        "    qw_array = qweight_array(len(query),[1])\n",
        "    q_weighted_vecs = q_vecs * qw_array\n",
        "    q_final_vector = reduce(np.add,q_weighted_vecs)\n",
        "    return q_final_vector\n",
        "def overall_scores(query_vector):\n",
        "    '''Calculates Query Similarity Scores against recipe Title, instructions, and keywords.\n",
        "    Then returns weighted averages of similarities for each recipe.'''\n",
        "    final_scores = title_tfidf*query_vector.T*w_title\n",
        "    final_scores += text_tfidf*query_vector.T*w_text\n",
        "    final_scores += tags_tfidf*query_vector.T*w_categories\n",
        "    return final_scores\n",
        "\n",
        "def print_recipes(index, query, recipe_range):\n",
        "    '''Prints recipes according to query similary ranks'''\n",
        "    print('Search Query: {}\\n'.format(query))\n",
        "    for i, index in enumerate(index, recipe_range[0]):\n",
        "        print('Recipe Rank: {}\\t'.format(i+1),recipes.loc[index, 'Title'],'\\n')\n",
        "        print('Ingredients:\\n{}\\n '.format(recipes.loc[index, 'Ingredients']))\n",
        "        print('Instructions:\\n{}\\n'.format(recipes.loc[index, 'Recipe']))\n",
        "\n",
        "def Search_Recipes(query, query_ranked=False, recipe_range=(0,3)):\n",
        "    '''Master Recipe Search Function'''\n",
        "    if query_ranked == True:\n",
        "        q_vector = ranked_query(query)\n",
        "    else:\n",
        "        q_vector = vectorizer.transform([' '.join(query)])\n",
        "    recipe_scores = overall_scores(q_vector)\n",
        "    sorted_index = pd.Series(recipe_scores.toarray().T[0]).sort_values(ascending = False)[recipe_range[0]:recipe_range[1]].index\n",
        "    return print_recipes(sorted_index, query, recipe_range)\n",
        ""
      ],
      "metadata": {
        "id": "4otbMbZJXtvv"
      },
      "execution_count": 255,
      "outputs": []
    },
    {
      "cell_type": "code",
      "source": [
        "import pandas as pd\n",
        "from sklearn.feature_extraction.text import TfidfVectorizer\n",
        "from functools import reduce\n",
        "import numpy as np\n",
        "\n",
        "# Load the Excel file\n",
        "df = pd.read_excel('Pakistani_Dishes_Enhanced.xlsx')\n",
        "\n",
        "# Standardize all column names\n",
        "df.columns = df.columns.str.lower().str.strip()\n",
        "\n",
        "# Check available columns\n",
        "print(\"Available columns:\", df.columns.tolist())\n",
        "\n",
        "#If the tags column does not exist, create it, else skip this part.\n",
        "if 'tags' not in df.columns:\n",
        "    df['tags'] = '' # Initialize 'tags' column with empty strings if it doesn't exist\n",
        "\n",
        "\n",
        "# TF-IDF vectorizer instance\n",
        "vectorizer = TfidfVectorizer(lowercase=True, ngram_range=(1, 1))\n",
        "\n",
        "# Fit and transform on the 'ingredients' column  (Adjust column name as needed)\n",
        "text_tfidf = vectorizer.fit_transform(df['ingredients'].fillna(''))\n",
        "\n",
        "# Transform other columns using the fitted vectorizer\n",
        "title_tfidf = vectorizer.transform(df['title'].fillna(''))\n",
        "tags_tfidf = vectorizer.transform(df['tags'].fillna(''))  # Now it should work\n",
        "\n",
        "# ... (Rest of your code)\n",
        "\n",
        "# Query Similarity Weights\n",
        "w_title = 0.2\n",
        "w_text = 0.3\n",
        "w_categories = 0.5\n",
        "\n",
        "\n",
        "def qweight_array(query_length, qw_array=[1]):\n",
        "    \"\"\"Returns descending weights for ranked query ingredients\"\"\"\n",
        "    if query_length > 1:\n",
        "        to_split = qw_array.pop()\n",
        "        split = to_split / 2\n",
        "        qw_array.extend([split, split])\n",
        "        return qweight_array(query_length - 1, qw_array)\n",
        "    else:\n",
        "        return np.array(qw_array)\n",
        "\n",
        "\n",
        "def ranked_query(query):\n",
        "    \"\"\"Called if query ingredients are ranked in order of importance.\n",
        "    Weights and adds each ranked query ingredient vector.\"\"\"\n",
        "    query = [[q] for q in query]  # place words in separate documents\n",
        "    q_vecs = [vectorizer.transform(q) for q in query]\n",
        "    qw_array = qweight_array(len(query), [1])\n",
        "    q_weighted_vecs = [q_vec * weight for q_vec, weight in zip(q_vecs, qw_array)]\n",
        "    q_final_vector = reduce(lambda x, y: x + y if x is not None else y, q_weighted_vecs)\n",
        "    return q_final_vector\n",
        "\n",
        "\n",
        "def overall_scores(query_vector):\n",
        "    \"\"\"Calculates Query Similarity Scores against recipe title, instructions, and keywords.\n",
        "    Then returns weighted averages of similarities for each recipe.\"\"\"\n",
        "    final_scores = title_tfidf * query_vector.T * w_title\n",
        "    final_scores += text_tfidf * query_vector.T * w_text\n",
        "    final_scores += tags_tfidf * query_vector.T * w_categories\n",
        "    return final_scores\n",
        "\n",
        "\n",
        "def print_recipes(index, query, recipe_range):\n",
        "    \"\"\"Prints recipes according to query similarity ranks\"\"\"\n",
        "    print(\"Search Query:\", query, \"\\n\")\n",
        "    for i, index in enumerate(index, recipe_range[0]):\n",
        "        print(\"Recipe Rank:\", i + 1, \"\\t\", recipes.loc[index, \"Title\"], \"\\n\")\n",
        "        print(\"Ingredients:\\n\", recipes.loc[index, \"Ingredients\"], \"\\n\")\n",
        "        print(\"Instructions:\\n\", recipes.loc[index, \"Recipe\"], \"\\n\")\n",
        "\n",
        "\n",
        "def Search_Recipes(query, query_ranked=False, recipe_range=(0, 3)):\n",
        "    \"\"\"Master Recipe Search Function\"\"\"\n",
        "    if query_ranked:\n",
        "        q_vector = ranked_query(query)\n",
        "    else:\n",
        "        q_vector = vectorizer.transform([\" \".join(query)])\n",
        "    recipe_scores = overall_scores(q_vector)\n",
        "    sorted_index = (\n",
        "        pd.Series(recipe_scores.toarray().T[0])\n",
        "        .sort_values(ascending=False)[recipe_range[0] : recipe_range[1]]\n",
        "        .index\n",
        "    )\n",
        "    return print_recipes(sorted_index, query, recipe_range)\n",
        "\n",
        "\n",
        "# Now call your function safely\n",
        "query = [\"butter\", \"oil\", \"chicken\"]\n",
        "Search_Recipes(query, query_ranked=True, recipe_range=(0, 3))"
      ],
      "metadata": {
        "colab": {
          "base_uri": "https://localhost:8080/"
        },
        "id": "CXvZVMNBX1g0",
        "outputId": "175aaa8d-4bd8-49cb-be84-764c0bb346b0"
      },
      "execution_count": 267,
      "outputs": [
        {
          "output_type": "stream",
          "name": "stdout",
          "text": [
            "Available columns: ['id', 'title', 'ingredients', 'spices', 'recipe', 'cooking time', 'calories per 50g', 'calories per 100g']\n",
            "Search Query: ['butter', 'oil', 'chicken'] \n",
            "\n",
            "Recipe Rank: 1 \t ['chicken handi potatoes ground oil yogurt tender mutton vegetables salt chili masala ghee powder preparation spices chicken simmer turmeric butter beef oilghee lentils heat ground yogurt beef simmer turmeric oilghee mutton lentils preparation ghee potatoes powder masala oil salt spices chicken vegetables butter tender chili heat oil heat oilghee potatoes simmer mutton masala preparation chicken ground lentils salt ghee tender yogurt chili vegetables spices turmeric butter powder beef masala oil heat simmer butter oilghee potatoes lentils ground salt chicken mutton turmeric preparation ghee yogurt chili powder vegetables tender spices beef masala oil simmer mutton heat ground lentils turmeric salt chicken preparation oilghee ghee potatoes yogurt chili powder butter vegetables tender spices beef masala oil heat simmer mutton oilghee ground lentils potatoes turmeric salt chicken preparation butter ghee yogurt chili powder vegetables tender spices beef masala oil simmer butter heat ground lentils turmeric oilghee salt chicken potatoes preparation ghee mutton yogurt chili powder vegetables tender spices beef masala oil simmer butter heat ground lentils turmeric salt chicken preparation oilghee potatoes ghee yogurt chili mutton powder vegetables tender spices beef masala oil simmer butter heat ground lentils salt chicken turmeric oilghee preparation potatoes ghee yogurt chili mutton powder vegetables tender spices beef masala turmeric simmer heat mutton lentils ground oilghee salt chicken preparation potatoes ghee oil yogurt powder butter chili vegetables tender spices beef turmeric masala tender mutton heat vegetables ground preparation salt chicken ghee oil oilghee yogurt potatoes powder butter chili simmer lentils spices beef masala turmeric simmer mutton heat ground lentils oilghee salt chicken oil potatoes preparation ghee yogurt butter powder chili vegetables tender spices beef turmeric masala simmer mutton lentils ground heat salt oil chicken preparation ghee yogurt oilghee powder potatoes butter chili vegetables tender spices beef turmeric masala tender heat mutton ground vegetables salt chicken potatoes oil oilghee preparation ghee butter yogurt powder chili simmer lentils spices beef masala turmeric mutton simmer ground heat salt chicken oil lentils preparation oilghee ghee potatoes yogurt powder chili butter tender vegetables spices beef masala oil simmer butter heat ground lentils turmeric salt chicken preparation oilghee potatoes ghee yogurt chili mutton powder vegetables tender spices beef masala oil mutton simmer heat ground salt chicken turmeric lentils oilghee potatoes preparation ghee yogurt butter chili powder vegetables tender spices beef masala oil simmer mutton heat ground lentils turmeric salt chicken oilghee potatoes preparation ghee yogurt butter chili powder vegetables tender spices beef oil masala simmer heat potatoes lentils oilghee ground salt preparation mutton chicken butter ghee yogurt chili turmeric powder vegetables tender spices beef masala turmeric mutton simmer oil heat ground lentils salt chicken chili oilghee preparation potatoes ghee yogurt powder butter vegetables tender spices beef turmeric masala simmer lentils ground preparation ghee salt yogurt powder chicken heat mutton potatoes oil oilghee butter vegetables chili tender spices beef masala oil simmer butter heat ground lentils salt chicken turmeric preparation oilghee potatoes ghee yogurt chili mutton powder vegetables tender spices beef masala oil simmer mutton heat ground lentils turmeric salt chicken oilghee preparation potatoes ghee yogurt chili powder butter vegetables tender spices beef masala oil mutton simmer heat ground turmeric lentils salt chicken oilghee preparation potatoes ghee yogurt chili butter powder vegetables tender spices beef turmeric masala oil tender heat potatoes butter oilghee vegetables ground preparation ghee yogurt powder salt chicken mutton simmer chili lentils spices beef turmeric masala simmer lentils ground preparation ghee salt yogurt powder heat chicken potatoes mutton oilghee oil butter vegetables chili tender spices beef masala oil simmer mutton heat ground lentils turmeric salt chicken preparation oilghee potatoes ghee yogurt chili butter powder vegetables tender spices beef oil masala heat simmer oilghee potatoes ground butter lentils chicken salt preparation mutton ghee yogurt chili turmeric powder vegetables tender spices beef oil masala heat oilghee potatoes simmer mutton ground lentils butter chicken salt preparation ghee yogurt chili turmeric powder vegetables tender spices beef oil heat masala oilghee potatoes simmer mutton lentils preparation ground ghee chicken salt yogurt chili butter tender vegetables turmeric powder spices beef oil masala heat oilghee potatoes simmer mutton lentils butter ground preparation salt chicken ghee yogurt chili turmeric powder vegetables tender spices beef oil masala heat oilghee potatoes simmer butter lentils mutton ground chicken salt preparation ghee yogurt chili turmeric powder vegetables tender spices beef yogurt turmeric simmer mutton ground lentils salt potatoes chicken heat preparation ghee oilghee masala chili butter powder vegetables tender spices oil beef oil masala heat oilghee potatoes simmer butter lentils ground preparation salt chicken mutton ghee yogurt chili turmeric powder vegetables tender spices beef turmeric masala tender heat potatoes oilghee mutton vegetables ground preparation salt butter ghee chicken yogurt powder oil chili simmer lentils spices beef oil masala heat oilghee potatoes simmer butter lentils mutton ground preparation salt chicken ghee yogurt chili turmeric powder vegetables tender spices beef masala oil simmer heat butter ground oilghee lentils potatoes salt chicken turmeric preparation ghee mutton yogurt chili powder vegetables tender spices beef turmeric masala simmer oil lentils ground preparation ghee yogurt tender salt powder chicken vegetables spices heat mutton potatoes oilghee butter chili beef oil heat oilghee potatoes simmer mutton masala ground preparation chicken lentils salt ghee tender yogurt chili vegetables spices turmeric butter powder beef oil masala simmer heat oilghee potatoes lentils ground preparation mutton ghee salt chicken yogurt chili butter turmeric vegetables powder tender spices beef masala oil simmer butter ground lentils turmeric salt heat chicken preparation ghee yogurt oilghee chili potatoes powder mutton vegetables tender spices beef masala turmeric butter oil simmer chicken lentils chili salt ground heat preparation ghee tender yogurt powder oilghee potatoes mutton vegetables spices beef turmeric masala simmer mutton lentils oil ground preparation salt chicken ghee yogurt powder heat chili oilghee potatoes vegetables butter tender spices beef masala turmeric mutton oil simmer lentils ground salt chicken chili preparation ghee yogurt tender powder vegetables heat spices oilghee potatoes butter beef masala turmeric mutton heat oil oilghee potatoes simmer butter chili lentils ground salt chicken preparation ghee yogurt powder vegetables tender spices beef masala turmeric simmer mutton ground lentils heat chicken salt preparation ghee yogurt oilghee oil powder tender potatoes butter chili vegetables spices beef masala turmeric mutton oil simmer lentils chicken ground salt chili preparation ghee tender yogurt powder heat oilghee potatoes vegetables butter spices beef oil heat masala potatoes oilghee simmer mutton ground lentils preparation salt chicken ghee yogurt chili butter turmeric vegetables powder tender spices beef turmeric masala simmer heat lentils butter ground oilghee potatoes preparation salt oil ghee chicken yogurt powder mutton chili vegetables tender spices beef oil masala simmer lentils ground preparation heat salt ghee chicken yogurt butter chili oilghee potatoes turmeric mutton vegetables tender powder spices beef ground yogurt beef simmer turmeric oilghee mutton lentils preparation ghee potatoes powder masala oil salt spices chicken vegetables butter tender chili heat', 'potatoes', 'ground', 'oil', 'yogurt', 'tender', 'mutton', 'vegetables', 'salt', 'chili', 'masala', 'ghee', 'powder', 'preparation', 'spices', 'chicken', 'simmer', 'turmeric', 'butter', 'beef', 'oilghee', 'lentils', 'Heat', 'ground', 'yogurt', 'beef', 'simmer', 'turmeric', 'oilghee', 'mutton', 'lentils', 'preparation', 'ghee', 'potatoes', 'powder', 'masala', 'oil', 'salt', 'spices', 'chicken', 'vegetables', 'butter', 'tender', 'chili', 'Heat', 'oil', 'Heat', 'oilghee', 'potatoes', 'simmer', 'mutton', 'masala', 'preparation', 'chicken', 'ground', 'lentils', 'salt', 'ghee', 'tender', 'yogurt', 'chili', 'vegetables', 'spices', 'turmeric', 'butter', 'powder', 'beef', 'masala', 'oil', 'Heat', 'simmer', 'butter', 'oilghee', 'potatoes', 'lentils', 'ground', 'salt', 'chicken', 'mutton', 'turmeric', 'preparation', 'ghee', 'yogurt', 'chili', 'powder', 'vegetables', 'tender', 'spices', 'beef', 'masala', 'oil', 'simmer', 'mutton', 'Heat', 'ground', 'lentils', 'turmeric', 'salt', 'chicken', 'preparation', 'oilghee', 'ghee', 'potatoes', 'yogurt', 'chili', 'powder', 'butter', 'vegetables', 'tender', 'spices', 'beef', 'masala', 'oil', 'Heat', 'simmer', 'mutton', 'oilghee', 'ground', 'lentils', 'potatoes', 'turmeric', 'salt', 'chicken', 'preparation', 'butter', 'ghee', 'yogurt', 'chili', 'powder', 'vegetables', 'tender', 'spices', 'beef', 'masala', 'oil', 'simmer', 'butter', 'Heat', 'ground', 'lentils', 'turmeric', 'oilghee', 'salt', 'chicken', 'potatoes', 'preparation', 'ghee', 'mutton', 'yogurt', 'chili', 'powder', 'vegetables', 'tender', 'spices', 'beef', 'masala', 'oil', 'simmer', 'butter', 'Heat', 'ground', 'lentils', 'turmeric', 'salt', 'chicken', 'preparation', 'oilghee', 'potatoes', 'ghee', 'yogurt', 'chili', 'mutton', 'powder', 'vegetables', 'tender', 'spices', 'beef', 'masala', 'oil', 'simmer', 'butter', 'Heat', 'ground', 'lentils', 'salt', 'chicken', 'turmeric', 'oilghee', 'preparation', 'potatoes', 'ghee', 'yogurt', 'chili', 'mutton', 'powder', 'vegetables', 'tender', 'spices', 'beef', 'masala', 'turmeric', 'simmer', 'Heat', 'mutton', 'lentils', 'ground', 'oilghee', 'salt', 'chicken', 'preparation', 'potatoes', 'ghee', 'oil', 'yogurt', 'powder', 'butter', 'chili', 'vegetables', 'tender', 'spices', 'beef', 'turmeric', 'masala', 'tender', 'mutton', 'Heat', 'vegetables', 'ground', 'preparation', 'salt', 'chicken', 'ghee', 'oil', 'oilghee', 'yogurt', 'potatoes', 'powder', 'butter', 'chili', 'simmer', 'lentils', 'spices', 'beef', 'masala', 'turmeric', 'simmer', 'mutton', 'Heat', 'ground', 'lentils', 'oilghee', 'salt', 'chicken', 'oil', 'potatoes', 'preparation', 'ghee', 'yogurt', 'butter', 'powder', 'chili', 'vegetables', 'tender', 'spices', 'beef', 'turmeric', 'masala', 'simmer', 'mutton', 'lentils', 'ground', 'Heat', 'salt', 'oil', 'chicken', 'preparation', 'ghee', 'yogurt', 'oilghee', 'powder', 'potatoes', 'butter', 'chili', 'vegetables', 'tender', 'spices', 'beef', 'turmeric', 'masala', 'tender', 'Heat', 'mutton', 'ground', 'vegetables', 'salt', 'chicken', 'potatoes', 'oil', 'oilghee', 'preparation', 'ghee', 'butter', 'yogurt', 'powder', 'chili', 'simmer', 'lentils', 'spices', 'beef', 'masala', 'turmeric', 'mutton', 'simmer', 'ground', 'Heat', 'salt', 'chicken', 'oil', 'lentils', 'preparation', 'oilghee', 'ghee', 'potatoes', 'yogurt', 'powder', 'chili', 'butter', 'tender', 'vegetables', 'spices', 'beef', 'masala', 'oil', 'simmer', 'butter', 'Heat', 'ground', 'lentils', 'turmeric', 'salt', 'chicken', 'preparation', 'oilghee', 'potatoes', 'ghee', 'yogurt', 'chili', 'mutton', 'powder', 'vegetables', 'tender', 'spices', 'beef', 'masala', 'oil', 'mutton', 'simmer', 'Heat', 'ground', 'salt', 'chicken', 'turmeric', 'lentils', 'oilghee', 'potatoes', 'preparation', 'ghee', 'yogurt', 'butter', 'chili', 'powder', 'vegetables', 'tender', 'spices', 'beef', 'masala', 'oil', 'simmer', 'mutton', 'Heat', 'ground', 'lentils', 'turmeric', 'salt', 'chicken', 'oilghee', 'potatoes', 'preparation', 'ghee', 'yogurt', 'butter', 'chili', 'powder', 'vegetables', 'tender', 'spices', 'beef', 'oil', 'masala', 'simmer', 'Heat', 'potatoes', 'lentils', 'oilghee', 'ground', 'salt', 'preparation', 'mutton', 'chicken', 'butter', 'ghee', 'yogurt', 'chili', 'turmeric', 'powder', 'vegetables', 'tender', 'spices', 'beef', 'masala', 'turmeric', 'mutton', 'simmer', 'oil', 'Heat', 'ground', 'lentils', 'salt', 'chicken', 'chili', 'oilghee', 'preparation', 'potatoes', 'ghee', 'yogurt', 'powder', 'butter', 'vegetables', 'tender', 'spices', 'beef', 'turmeric', 'masala', 'simmer', 'lentils', 'ground', 'preparation', 'ghee', 'salt', 'yogurt', 'powder', 'chicken', 'Heat', 'mutton', 'potatoes', 'oil', 'oilghee', 'butter', 'vegetables', 'chili', 'tender', 'spices', 'beef', 'masala', 'oil', 'simmer', 'butter', 'Heat', 'ground', 'lentils', 'salt', 'chicken', 'turmeric', 'preparation', 'oilghee', 'potatoes', 'ghee', 'yogurt', 'chili', 'mutton', 'powder', 'vegetables', 'tender', 'spices', 'beef', 'masala', 'oil', 'simmer', 'mutton', 'Heat', 'ground', 'lentils', 'turmeric', 'salt', 'chicken', 'oilghee', 'preparation', 'potatoes', 'ghee', 'yogurt', 'chili', 'powder', 'butter', 'vegetables', 'tender', 'spices', 'beef', 'masala', 'oil', 'mutton', 'simmer', 'Heat', 'ground', 'turmeric', 'lentils', 'salt', 'chicken', 'oilghee', 'preparation', 'potatoes', 'ghee', 'yogurt', 'chili', 'butter', 'powder', 'vegetables', 'tender', 'spices', 'beef', 'turmeric', 'masala', 'oil', 'tender', 'Heat', 'potatoes', 'butter', 'oilghee', 'vegetables', 'ground', 'preparation', 'ghee', 'yogurt', 'powder', 'salt', 'chicken', 'mutton', 'simmer', 'chili', 'lentils', 'spices', 'beef', 'turmeric', 'masala', 'simmer', 'lentils', 'ground', 'preparation', 'ghee', 'salt', 'yogurt', 'powder', 'Heat', 'chicken', 'potatoes', 'mutton', 'oilghee', 'oil', 'butter', 'vegetables', 'chili', 'tender', 'spices', 'beef', 'masala', 'oil', 'simmer', 'mutton', 'Heat', 'ground', 'lentils', 'turmeric', 'salt', 'chicken', 'preparation', 'oilghee', 'potatoes', 'ghee', 'yogurt', 'chili', 'butter', 'powder', 'vegetables', 'tender', 'spices', 'beef', 'oil', 'masala', 'Heat', 'simmer', 'oilghee', 'potatoes', 'ground', 'butter', 'lentils', 'chicken', 'salt', 'preparation', 'mutton', 'ghee', 'yogurt', 'chili', 'turmeric', 'powder', 'vegetables', 'tender', 'spices', 'beef', 'oil', 'masala', 'Heat', 'oilghee', 'potatoes', 'simmer', 'mutton', 'ground', 'lentils', 'butter', 'chicken', 'salt', 'preparation', 'ghee', 'yogurt', 'chili', 'turmeric', 'powder', 'vegetables', 'tender', 'spices', 'beef', 'oil', 'Heat', 'masala', 'oilghee', 'potatoes', 'simmer', 'mutton', 'lentils', 'preparation', 'ground', 'ghee', 'chicken', 'salt', 'yogurt', 'chili', 'butter', 'tender', 'vegetables', 'turmeric', 'powder', 'spices', 'beef', 'oil', 'masala', 'Heat', 'oilghee', 'potatoes', 'simmer', 'mutton', 'lentils', 'butter', 'ground', 'preparation', 'salt', 'chicken', 'ghee', 'yogurt', 'chili', 'turmeric', 'powder', 'vegetables', 'tender', 'spices', 'beef', 'oil', 'masala', 'Heat', 'oilghee', 'potatoes', 'simmer', 'butter', 'lentils', 'mutton', 'ground', 'chicken', 'salt', 'preparation', 'ghee', 'yogurt', 'chili', 'turmeric', 'powder', 'vegetables', 'tender', 'spices', 'beef', 'yogurt', 'turmeric', 'simmer', 'mutton', 'ground', 'lentils', 'salt', 'potatoes', 'chicken', 'Heat', 'preparation', 'ghee', 'oilghee', 'masala', 'chili', 'butter', 'powder', 'vegetables', 'tender', 'spices', 'oil', 'beef', 'oil', 'masala', 'Heat', 'oilghee', 'potatoes', 'simmer', 'butter', 'lentils', 'ground', 'preparation', 'salt', 'chicken', 'mutton', 'ghee', 'yogurt', 'chili', 'turmeric', 'powder', 'vegetables', 'tender', 'spices', 'beef', 'turmeric', 'masala', 'tender', 'Heat', 'potatoes', 'oilghee', 'mutton', 'vegetables', 'ground', 'preparation', 'salt', 'butter', 'ghee', 'chicken', 'yogurt', 'powder', 'oil', 'chili', 'simmer', 'lentils', 'spices', 'beef', 'oil', 'masala', 'Heat', 'oilghee', 'potatoes', 'simmer', 'butter', 'lentils', 'mutton', 'ground', 'preparation', 'salt', 'chicken', 'ghee', 'yogurt', 'chili', 'turmeric', 'powder', 'vegetables', 'tender', 'spices', 'beef', 'masala', 'oil', 'simmer', 'Heat', 'butter', 'ground', 'oilghee', 'lentils', 'potatoes', 'salt', 'chicken', 'turmeric', 'preparation', 'ghee', 'mutton', 'yogurt', 'chili', 'powder', 'vegetables', 'tender', 'spices', 'beef', 'turmeric', 'masala', 'simmer', 'oil', 'lentils', 'ground', 'preparation', 'ghee', 'yogurt', 'tender', 'salt', 'powder', 'chicken', 'vegetables', 'spices', 'Heat', 'mutton', 'potatoes', 'oilghee', 'butter', 'chili', 'beef', 'oil', 'Heat', 'oilghee', 'potatoes', 'simmer', 'mutton', 'masala', 'ground', 'preparation', 'chicken', 'lentils', 'salt', 'ghee', 'tender', 'yogurt', 'chili', 'vegetables', 'spices', 'turmeric', 'butter', 'powder', 'beef', 'oil', 'masala', 'simmer', 'Heat', 'oilghee', 'potatoes', 'lentils', 'ground', 'preparation', 'mutton', 'ghee', 'salt', 'chicken', 'yogurt', 'chili', 'butter', 'turmeric', 'vegetables', 'powder', 'tender', 'spices', 'beef', 'masala', 'oil', 'simmer', 'butter', 'ground', 'lentils', 'turmeric', 'salt', 'Heat', 'chicken', 'preparation', 'ghee', 'yogurt', 'oilghee', 'chili', 'potatoes', 'powder', 'mutton', 'vegetables', 'tender', 'spices', 'beef', 'masala', 'turmeric', 'butter', 'oil', 'simmer', 'chicken', 'lentils', 'chili', 'salt', 'ground', 'Heat', 'preparation', 'ghee', 'tender', 'yogurt', 'powder', 'oilghee', 'potatoes', 'mutton', 'vegetables', 'spices', 'beef', 'turmeric', 'masala', 'simmer', 'mutton', 'lentils', 'oil', 'ground', 'preparation', 'salt', 'chicken', 'ghee', 'yogurt', 'powder', 'Heat', 'chili', 'oilghee', 'potatoes', 'vegetables', 'butter', 'tender', 'spices', 'beef', 'masala', 'turmeric', 'mutton', 'oil', 'simmer', 'lentils', 'ground', 'salt', 'chicken', 'chili', 'preparation', 'ghee', 'yogurt', 'tender', 'powder', 'vegetables', 'Heat', 'spices', 'oilghee', 'potatoes', 'butter', 'beef', 'masala', 'turmeric', 'mutton', 'Heat', 'oil', 'oilghee', 'potatoes', 'simmer', 'butter', 'chili', 'lentils', 'ground', 'salt', 'chicken', 'preparation', 'ghee', 'yogurt', 'powder', 'vegetables', 'tender', 'spices', 'beef', 'masala', 'turmeric', 'simmer', 'mutton', 'ground', 'lentils', 'Heat', 'chicken', 'salt', 'preparation', 'ghee', 'yogurt', 'oilghee', 'oil', 'powder', 'tender', 'potatoes', 'butter', 'chili', 'vegetables', 'spices', 'beef', 'masala', 'turmeric', 'mutton', 'oil', 'simmer', 'lentils', 'chicken', 'ground', 'salt', 'chili', 'preparation', 'ghee', 'tender', 'yogurt', 'powder', 'Heat', 'oilghee', 'potatoes', 'vegetables', 'butter', 'spices', 'beef', 'oil', 'Heat', 'masala', 'potatoes', 'oilghee', 'simmer', 'mutton', 'ground', 'lentils', 'preparation', 'salt', 'chicken', 'ghee', 'yogurt', 'chili', 'butter', 'turmeric', 'vegetables', 'powder', 'tender', 'spices', 'beef', 'turmeric', 'masala', 'simmer', 'Heat', 'lentils', 'butter', 'ground', 'oilghee', 'potatoes', 'preparation', 'salt', 'oil', 'ghee', 'chicken', 'yogurt', 'powder', 'mutton', 'chili', 'vegetables', 'tender', 'spices', 'beef', 'oil', 'masala', 'simmer', 'lentils', 'ground', 'preparation', 'Heat', 'salt', 'ghee', 'chicken', 'yogurt', 'butter', 'chili', 'oilghee', 'potatoes', 'turmeric', 'mutton', 'vegetables', 'tender', 'powder', 'spices', 'beef', 'ground', 'yogurt', 'beef', 'simmer', 'turmeric', 'oilghee', 'mutton', 'lentils', 'preparation', 'ghee', 'potatoes', 'powder', 'masala', 'oil', 'salt', 'spices', 'chicken', 'vegetables', 'butter', 'tender', 'chili', 'Heat'] \n",
            "\n",
            "Ingredients:\n",
            " onion, tomato, green chili, garlic, ginger, cumin, coriander, oil, butter, ghee, cream, lemon, mint, cilantro, chicken, beef, mutton, lentils, spinach, potatoes \n",
            "\n",
            "Instructions:\n",
            " chicken preparation: prepare ingredients and chop vegetables. heat oil/ghee and add whole spices. add main ingredients and cook until tender. add ground spices and simmer until well mixed. garnish and serve hot. \n",
            "\n",
            "Recipe Rank: 2 \t ['tandoori chicken potatoes ground oil yogurt tender mutton vegetables salt chili masala ghee powder preparation spices chicken simmer turmeric butter beef oilghee lentils heat ground yogurt beef simmer turmeric oilghee mutton lentils preparation ghee potatoes powder masala oil salt spices chicken vegetables butter tender chili heat oil heat oilghee potatoes simmer mutton masala preparation chicken ground lentils salt ghee tender yogurt chili vegetables spices turmeric butter powder beef masala oil heat simmer butter oilghee potatoes lentils ground salt chicken mutton turmeric preparation ghee yogurt chili powder vegetables tender spices beef masala oil simmer mutton heat ground lentils turmeric salt chicken preparation oilghee ghee potatoes yogurt chili powder butter vegetables tender spices beef masala oil heat simmer mutton oilghee ground lentils potatoes turmeric salt chicken preparation butter ghee yogurt chili powder vegetables tender spices beef masala oil simmer butter heat ground lentils turmeric oilghee salt chicken potatoes preparation ghee mutton yogurt chili powder vegetables tender spices beef masala oil simmer butter heat ground lentils turmeric salt chicken preparation oilghee potatoes ghee yogurt chili mutton powder vegetables tender spices beef masala oil simmer butter heat ground lentils salt chicken turmeric oilghee preparation potatoes ghee yogurt chili mutton powder vegetables tender spices beef masala turmeric simmer heat mutton lentils ground oilghee salt chicken preparation potatoes ghee oil yogurt powder butter chili vegetables tender spices beef turmeric masala tender mutton heat vegetables ground preparation salt chicken ghee oil oilghee yogurt potatoes powder butter chili simmer lentils spices beef masala turmeric simmer mutton heat ground lentils oilghee salt chicken oil potatoes preparation ghee yogurt butter powder chili vegetables tender spices beef turmeric masala simmer mutton lentils ground heat salt oil chicken preparation ghee yogurt oilghee powder potatoes butter chili vegetables tender spices beef turmeric masala tender heat mutton ground vegetables salt chicken potatoes oil oilghee preparation ghee butter yogurt powder chili simmer lentils spices beef masala turmeric mutton simmer ground heat salt chicken oil lentils preparation oilghee ghee potatoes yogurt powder chili butter tender vegetables spices beef masala oil simmer butter heat ground lentils turmeric salt chicken preparation oilghee potatoes ghee yogurt chili mutton powder vegetables tender spices beef masala oil mutton simmer heat ground salt chicken turmeric lentils oilghee potatoes preparation ghee yogurt butter chili powder vegetables tender spices beef masala oil simmer mutton heat ground lentils turmeric salt chicken oilghee potatoes preparation ghee yogurt butter chili powder vegetables tender spices beef oil masala simmer heat potatoes lentils oilghee ground salt preparation mutton chicken butter ghee yogurt chili turmeric powder vegetables tender spices beef masala turmeric mutton simmer oil heat ground lentils salt chicken chili oilghee preparation potatoes ghee yogurt powder butter vegetables tender spices beef turmeric masala simmer lentils ground preparation ghee salt yogurt powder chicken heat mutton potatoes oil oilghee butter vegetables chili tender spices beef masala oil simmer butter heat ground lentils salt chicken turmeric preparation oilghee potatoes ghee yogurt chili mutton powder vegetables tender spices beef masala oil simmer mutton heat ground lentils turmeric salt chicken oilghee preparation potatoes ghee yogurt chili powder butter vegetables tender spices beef masala oil mutton simmer heat ground turmeric lentils salt chicken oilghee preparation potatoes ghee yogurt chili butter powder vegetables tender spices beef turmeric masala oil tender heat potatoes butter oilghee vegetables ground preparation ghee yogurt powder salt chicken mutton simmer chili lentils spices beef turmeric masala simmer lentils ground preparation ghee salt yogurt powder heat chicken potatoes mutton oilghee oil butter vegetables chili tender spices beef masala oil simmer mutton heat ground lentils turmeric salt chicken preparation oilghee potatoes ghee yogurt chili butter powder vegetables tender spices beef oil masala heat simmer oilghee potatoes ground butter lentils chicken salt preparation mutton ghee yogurt chili turmeric powder vegetables tender spices beef oil masala heat oilghee potatoes simmer mutton ground lentils butter chicken salt preparation ghee yogurt chili turmeric powder vegetables tender spices beef oil heat masala oilghee potatoes simmer mutton lentils preparation ground ghee chicken salt yogurt chili butter tender vegetables turmeric powder spices beef oil masala heat oilghee potatoes simmer mutton lentils butter ground preparation salt chicken ghee yogurt chili turmeric powder vegetables tender spices beef oil masala heat oilghee potatoes simmer butter lentils mutton ground chicken salt preparation ghee yogurt chili turmeric powder vegetables tender spices beef yogurt turmeric simmer mutton ground lentils salt potatoes chicken heat preparation ghee oilghee masala chili butter powder vegetables tender spices oil beef oil masala heat oilghee potatoes simmer butter lentils ground preparation salt chicken mutton ghee yogurt chili turmeric powder vegetables tender spices beef turmeric masala tender heat potatoes oilghee mutton vegetables ground preparation salt butter ghee chicken yogurt powder oil chili simmer lentils spices beef oil masala heat oilghee potatoes simmer butter lentils mutton ground preparation salt chicken ghee yogurt chili turmeric powder vegetables tender spices beef masala oil simmer heat butter ground oilghee lentils potatoes salt chicken turmeric preparation ghee mutton yogurt chili powder vegetables tender spices beef turmeric masala simmer oil lentils ground preparation ghee yogurt tender salt powder chicken vegetables spices heat mutton potatoes oilghee butter chili beef oil heat oilghee potatoes simmer mutton masala ground preparation chicken lentils salt ghee tender yogurt chili vegetables spices turmeric butter powder beef oil masala simmer heat oilghee potatoes lentils ground preparation mutton ghee salt chicken yogurt chili butter turmeric vegetables powder tender spices beef masala oil simmer butter ground lentils turmeric salt heat chicken preparation ghee yogurt oilghee chili potatoes powder mutton vegetables tender spices beef masala turmeric butter oil simmer chicken lentils chili salt ground heat preparation ghee tender yogurt powder oilghee potatoes mutton vegetables spices beef turmeric masala simmer mutton lentils oil ground preparation salt chicken ghee yogurt powder heat chili oilghee potatoes vegetables butter tender spices beef masala turmeric mutton oil simmer lentils ground salt chicken chili preparation ghee yogurt tender powder vegetables heat spices oilghee potatoes butter beef masala turmeric mutton heat oil oilghee potatoes simmer butter chili lentils ground salt chicken preparation ghee yogurt powder vegetables tender spices beef masala turmeric simmer mutton ground lentils heat chicken salt preparation ghee yogurt oilghee oil powder tender potatoes butter chili vegetables spices beef masala turmeric mutton oil simmer lentils chicken ground salt chili preparation ghee tender yogurt powder heat oilghee potatoes vegetables butter spices beef oil heat masala potatoes oilghee simmer mutton ground lentils preparation salt chicken ghee yogurt chili butter turmeric vegetables powder tender spices beef turmeric masala simmer heat lentils butter ground oilghee potatoes preparation salt oil ghee chicken yogurt powder mutton chili vegetables tender spices beef oil masala simmer lentils ground preparation heat salt ghee chicken yogurt butter chili oilghee potatoes turmeric mutton vegetables tender powder spices beef ground yogurt beef simmer turmeric oilghee mutton lentils preparation ghee potatoes powder masala oil salt spices chicken vegetables butter tender chili heat', 'potatoes', 'ground', 'oil', 'yogurt', 'tender', 'mutton', 'vegetables', 'salt', 'chili', 'masala', 'ghee', 'powder', 'preparation', 'spices', 'chicken', 'simmer', 'turmeric', 'butter', 'beef', 'oilghee', 'lentils', 'Heat', 'ground', 'yogurt', 'beef', 'simmer', 'turmeric', 'oilghee', 'mutton', 'lentils', 'preparation', 'ghee', 'potatoes', 'powder', 'masala', 'oil', 'salt', 'spices', 'chicken', 'vegetables', 'butter', 'tender', 'chili', 'Heat', 'oil', 'Heat', 'oilghee', 'potatoes', 'simmer', 'mutton', 'masala', 'preparation', 'chicken', 'ground', 'lentils', 'salt', 'ghee', 'tender', 'yogurt', 'chili', 'vegetables', 'spices', 'turmeric', 'butter', 'powder', 'beef', 'masala', 'oil', 'Heat', 'simmer', 'butter', 'oilghee', 'potatoes', 'lentils', 'ground', 'salt', 'chicken', 'mutton', 'turmeric', 'preparation', 'ghee', 'yogurt', 'chili', 'powder', 'vegetables', 'tender', 'spices', 'beef', 'masala', 'oil', 'simmer', 'mutton', 'Heat', 'ground', 'lentils', 'turmeric', 'salt', 'chicken', 'preparation', 'oilghee', 'ghee', 'potatoes', 'yogurt', 'chili', 'powder', 'butter', 'vegetables', 'tender', 'spices', 'beef', 'masala', 'oil', 'Heat', 'simmer', 'mutton', 'oilghee', 'ground', 'lentils', 'potatoes', 'turmeric', 'salt', 'chicken', 'preparation', 'butter', 'ghee', 'yogurt', 'chili', 'powder', 'vegetables', 'tender', 'spices', 'beef', 'masala', 'oil', 'simmer', 'butter', 'Heat', 'ground', 'lentils', 'turmeric', 'oilghee', 'salt', 'chicken', 'potatoes', 'preparation', 'ghee', 'mutton', 'yogurt', 'chili', 'powder', 'vegetables', 'tender', 'spices', 'beef', 'masala', 'oil', 'simmer', 'butter', 'Heat', 'ground', 'lentils', 'turmeric', 'salt', 'chicken', 'preparation', 'oilghee', 'potatoes', 'ghee', 'yogurt', 'chili', 'mutton', 'powder', 'vegetables', 'tender', 'spices', 'beef', 'masala', 'oil', 'simmer', 'butter', 'Heat', 'ground', 'lentils', 'salt', 'chicken', 'turmeric', 'oilghee', 'preparation', 'potatoes', 'ghee', 'yogurt', 'chili', 'mutton', 'powder', 'vegetables', 'tender', 'spices', 'beef', 'masala', 'turmeric', 'simmer', 'Heat', 'mutton', 'lentils', 'ground', 'oilghee', 'salt', 'chicken', 'preparation', 'potatoes', 'ghee', 'oil', 'yogurt', 'powder', 'butter', 'chili', 'vegetables', 'tender', 'spices', 'beef', 'turmeric', 'masala', 'tender', 'mutton', 'Heat', 'vegetables', 'ground', 'preparation', 'salt', 'chicken', 'ghee', 'oil', 'oilghee', 'yogurt', 'potatoes', 'powder', 'butter', 'chili', 'simmer', 'lentils', 'spices', 'beef', 'masala', 'turmeric', 'simmer', 'mutton', 'Heat', 'ground', 'lentils', 'oilghee', 'salt', 'chicken', 'oil', 'potatoes', 'preparation', 'ghee', 'yogurt', 'butter', 'powder', 'chili', 'vegetables', 'tender', 'spices', 'beef', 'turmeric', 'masala', 'simmer', 'mutton', 'lentils', 'ground', 'Heat', 'salt', 'oil', 'chicken', 'preparation', 'ghee', 'yogurt', 'oilghee', 'powder', 'potatoes', 'butter', 'chili', 'vegetables', 'tender', 'spices', 'beef', 'turmeric', 'masala', 'tender', 'Heat', 'mutton', 'ground', 'vegetables', 'salt', 'chicken', 'potatoes', 'oil', 'oilghee', 'preparation', 'ghee', 'butter', 'yogurt', 'powder', 'chili', 'simmer', 'lentils', 'spices', 'beef', 'masala', 'turmeric', 'mutton', 'simmer', 'ground', 'Heat', 'salt', 'chicken', 'oil', 'lentils', 'preparation', 'oilghee', 'ghee', 'potatoes', 'yogurt', 'powder', 'chili', 'butter', 'tender', 'vegetables', 'spices', 'beef', 'masala', 'oil', 'simmer', 'butter', 'Heat', 'ground', 'lentils', 'turmeric', 'salt', 'chicken', 'preparation', 'oilghee', 'potatoes', 'ghee', 'yogurt', 'chili', 'mutton', 'powder', 'vegetables', 'tender', 'spices', 'beef', 'masala', 'oil', 'mutton', 'simmer', 'Heat', 'ground', 'salt', 'chicken', 'turmeric', 'lentils', 'oilghee', 'potatoes', 'preparation', 'ghee', 'yogurt', 'butter', 'chili', 'powder', 'vegetables', 'tender', 'spices', 'beef', 'masala', 'oil', 'simmer', 'mutton', 'Heat', 'ground', 'lentils', 'turmeric', 'salt', 'chicken', 'oilghee', 'potatoes', 'preparation', 'ghee', 'yogurt', 'butter', 'chili', 'powder', 'vegetables', 'tender', 'spices', 'beef', 'oil', 'masala', 'simmer', 'Heat', 'potatoes', 'lentils', 'oilghee', 'ground', 'salt', 'preparation', 'mutton', 'chicken', 'butter', 'ghee', 'yogurt', 'chili', 'turmeric', 'powder', 'vegetables', 'tender', 'spices', 'beef', 'masala', 'turmeric', 'mutton', 'simmer', 'oil', 'Heat', 'ground', 'lentils', 'salt', 'chicken', 'chili', 'oilghee', 'preparation', 'potatoes', 'ghee', 'yogurt', 'powder', 'butter', 'vegetables', 'tender', 'spices', 'beef', 'turmeric', 'masala', 'simmer', 'lentils', 'ground', 'preparation', 'ghee', 'salt', 'yogurt', 'powder', 'chicken', 'Heat', 'mutton', 'potatoes', 'oil', 'oilghee', 'butter', 'vegetables', 'chili', 'tender', 'spices', 'beef', 'masala', 'oil', 'simmer', 'butter', 'Heat', 'ground', 'lentils', 'salt', 'chicken', 'turmeric', 'preparation', 'oilghee', 'potatoes', 'ghee', 'yogurt', 'chili', 'mutton', 'powder', 'vegetables', 'tender', 'spices', 'beef', 'masala', 'oil', 'simmer', 'mutton', 'Heat', 'ground', 'lentils', 'turmeric', 'salt', 'chicken', 'oilghee', 'preparation', 'potatoes', 'ghee', 'yogurt', 'chili', 'powder', 'butter', 'vegetables', 'tender', 'spices', 'beef', 'masala', 'oil', 'mutton', 'simmer', 'Heat', 'ground', 'turmeric', 'lentils', 'salt', 'chicken', 'oilghee', 'preparation', 'potatoes', 'ghee', 'yogurt', 'chili', 'butter', 'powder', 'vegetables', 'tender', 'spices', 'beef', 'turmeric', 'masala', 'oil', 'tender', 'Heat', 'potatoes', 'butter', 'oilghee', 'vegetables', 'ground', 'preparation', 'ghee', 'yogurt', 'powder', 'salt', 'chicken', 'mutton', 'simmer', 'chili', 'lentils', 'spices', 'beef', 'turmeric', 'masala', 'simmer', 'lentils', 'ground', 'preparation', 'ghee', 'salt', 'yogurt', 'powder', 'Heat', 'chicken', 'potatoes', 'mutton', 'oilghee', 'oil', 'butter', 'vegetables', 'chili', 'tender', 'spices', 'beef', 'masala', 'oil', 'simmer', 'mutton', 'Heat', 'ground', 'lentils', 'turmeric', 'salt', 'chicken', 'preparation', 'oilghee', 'potatoes', 'ghee', 'yogurt', 'chili', 'butter', 'powder', 'vegetables', 'tender', 'spices', 'beef', 'oil', 'masala', 'Heat', 'simmer', 'oilghee', 'potatoes', 'ground', 'butter', 'lentils', 'chicken', 'salt', 'preparation', 'mutton', 'ghee', 'yogurt', 'chili', 'turmeric', 'powder', 'vegetables', 'tender', 'spices', 'beef', 'oil', 'masala', 'Heat', 'oilghee', 'potatoes', 'simmer', 'mutton', 'ground', 'lentils', 'butter', 'chicken', 'salt', 'preparation', 'ghee', 'yogurt', 'chili', 'turmeric', 'powder', 'vegetables', 'tender', 'spices', 'beef', 'oil', 'Heat', 'masala', 'oilghee', 'potatoes', 'simmer', 'mutton', 'lentils', 'preparation', 'ground', 'ghee', 'chicken', 'salt', 'yogurt', 'chili', 'butter', 'tender', 'vegetables', 'turmeric', 'powder', 'spices', 'beef', 'oil', 'masala', 'Heat', 'oilghee', 'potatoes', 'simmer', 'mutton', 'lentils', 'butter', 'ground', 'preparation', 'salt', 'chicken', 'ghee', 'yogurt', 'chili', 'turmeric', 'powder', 'vegetables', 'tender', 'spices', 'beef', 'oil', 'masala', 'Heat', 'oilghee', 'potatoes', 'simmer', 'butter', 'lentils', 'mutton', 'ground', 'chicken', 'salt', 'preparation', 'ghee', 'yogurt', 'chili', 'turmeric', 'powder', 'vegetables', 'tender', 'spices', 'beef', 'yogurt', 'turmeric', 'simmer', 'mutton', 'ground', 'lentils', 'salt', 'potatoes', 'chicken', 'Heat', 'preparation', 'ghee', 'oilghee', 'masala', 'chili', 'butter', 'powder', 'vegetables', 'tender', 'spices', 'oil', 'beef', 'oil', 'masala', 'Heat', 'oilghee', 'potatoes', 'simmer', 'butter', 'lentils', 'ground', 'preparation', 'salt', 'chicken', 'mutton', 'ghee', 'yogurt', 'chili', 'turmeric', 'powder', 'vegetables', 'tender', 'spices', 'beef', 'turmeric', 'masala', 'tender', 'Heat', 'potatoes', 'oilghee', 'mutton', 'vegetables', 'ground', 'preparation', 'salt', 'butter', 'ghee', 'chicken', 'yogurt', 'powder', 'oil', 'chili', 'simmer', 'lentils', 'spices', 'beef', 'oil', 'masala', 'Heat', 'oilghee', 'potatoes', 'simmer', 'butter', 'lentils', 'mutton', 'ground', 'preparation', 'salt', 'chicken', 'ghee', 'yogurt', 'chili', 'turmeric', 'powder', 'vegetables', 'tender', 'spices', 'beef', 'masala', 'oil', 'simmer', 'Heat', 'butter', 'ground', 'oilghee', 'lentils', 'potatoes', 'salt', 'chicken', 'turmeric', 'preparation', 'ghee', 'mutton', 'yogurt', 'chili', 'powder', 'vegetables', 'tender', 'spices', 'beef', 'turmeric', 'masala', 'simmer', 'oil', 'lentils', 'ground', 'preparation', 'ghee', 'yogurt', 'tender', 'salt', 'powder', 'chicken', 'vegetables', 'spices', 'Heat', 'mutton', 'potatoes', 'oilghee', 'butter', 'chili', 'beef', 'oil', 'Heat', 'oilghee', 'potatoes', 'simmer', 'mutton', 'masala', 'ground', 'preparation', 'chicken', 'lentils', 'salt', 'ghee', 'tender', 'yogurt', 'chili', 'vegetables', 'spices', 'turmeric', 'butter', 'powder', 'beef', 'oil', 'masala', 'simmer', 'Heat', 'oilghee', 'potatoes', 'lentils', 'ground', 'preparation', 'mutton', 'ghee', 'salt', 'chicken', 'yogurt', 'chili', 'butter', 'turmeric', 'vegetables', 'powder', 'tender', 'spices', 'beef', 'masala', 'oil', 'simmer', 'butter', 'ground', 'lentils', 'turmeric', 'salt', 'Heat', 'chicken', 'preparation', 'ghee', 'yogurt', 'oilghee', 'chili', 'potatoes', 'powder', 'mutton', 'vegetables', 'tender', 'spices', 'beef', 'masala', 'turmeric', 'butter', 'oil', 'simmer', 'chicken', 'lentils', 'chili', 'salt', 'ground', 'Heat', 'preparation', 'ghee', 'tender', 'yogurt', 'powder', 'oilghee', 'potatoes', 'mutton', 'vegetables', 'spices', 'beef', 'turmeric', 'masala', 'simmer', 'mutton', 'lentils', 'oil', 'ground', 'preparation', 'salt', 'chicken', 'ghee', 'yogurt', 'powder', 'Heat', 'chili', 'oilghee', 'potatoes', 'vegetables', 'butter', 'tender', 'spices', 'beef', 'masala', 'turmeric', 'mutton', 'oil', 'simmer', 'lentils', 'ground', 'salt', 'chicken', 'chili', 'preparation', 'ghee', 'yogurt', 'tender', 'powder', 'vegetables', 'Heat', 'spices', 'oilghee', 'potatoes', 'butter', 'beef', 'masala', 'turmeric', 'mutton', 'Heat', 'oil', 'oilghee', 'potatoes', 'simmer', 'butter', 'chili', 'lentils', 'ground', 'salt', 'chicken', 'preparation', 'ghee', 'yogurt', 'powder', 'vegetables', 'tender', 'spices', 'beef', 'masala', 'turmeric', 'simmer', 'mutton', 'ground', 'lentils', 'Heat', 'chicken', 'salt', 'preparation', 'ghee', 'yogurt', 'oilghee', 'oil', 'powder', 'tender', 'potatoes', 'butter', 'chili', 'vegetables', 'spices', 'beef', 'masala', 'turmeric', 'mutton', 'oil', 'simmer', 'lentils', 'chicken', 'ground', 'salt', 'chili', 'preparation', 'ghee', 'tender', 'yogurt', 'powder', 'Heat', 'oilghee', 'potatoes', 'vegetables', 'butter', 'spices', 'beef', 'oil', 'Heat', 'masala', 'potatoes', 'oilghee', 'simmer', 'mutton', 'ground', 'lentils', 'preparation', 'salt', 'chicken', 'ghee', 'yogurt', 'chili', 'butter', 'turmeric', 'vegetables', 'powder', 'tender', 'spices', 'beef', 'turmeric', 'masala', 'simmer', 'Heat', 'lentils', 'butter', 'ground', 'oilghee', 'potatoes', 'preparation', 'salt', 'oil', 'ghee', 'chicken', 'yogurt', 'powder', 'mutton', 'chili', 'vegetables', 'tender', 'spices', 'beef', 'oil', 'masala', 'simmer', 'lentils', 'ground', 'preparation', 'Heat', 'salt', 'ghee', 'chicken', 'yogurt', 'butter', 'chili', 'oilghee', 'potatoes', 'turmeric', 'mutton', 'vegetables', 'tender', 'powder', 'spices', 'beef', 'ground', 'yogurt', 'beef', 'simmer', 'turmeric', 'oilghee', 'mutton', 'lentils', 'preparation', 'ghee', 'potatoes', 'powder', 'masala', 'oil', 'salt', 'spices', 'chicken', 'vegetables', 'butter', 'tender', 'chili', 'Heat'] \n",
            "\n",
            "Ingredients:\n",
            " chicken, beef, mutton, lentils, spinach, potatoes, onion, tomato, green chili, garlic, ginger, cumin, coriander, oil, butter, ghee, cream, lemon, mint, cilantro \n",
            "\n",
            "Instructions:\n",
            " tandoori preparation: prepare ingredients and chop vegetables. heat oil/ghee and add whole spices. add main ingredients and cook until tender. add ground spices and simmer until well mixed. garnish and serve hot. \n",
            "\n",
            "Recipe Rank: 3 \t ['chicken karahi potatoes ground oil yogurt tender mutton vegetables salt chili masala ghee powder preparation spices chicken simmer turmeric butter beef oilghee lentils heat ground yogurt beef simmer turmeric oilghee mutton lentils preparation ghee potatoes powder masala oil salt spices chicken vegetables butter tender chili heat oil heat oilghee potatoes simmer mutton masala preparation chicken ground lentils salt ghee tender yogurt chili vegetables spices turmeric butter powder beef masala oil heat simmer butter oilghee potatoes lentils ground salt chicken mutton turmeric preparation ghee yogurt chili powder vegetables tender spices beef masala oil simmer mutton heat ground lentils turmeric salt chicken preparation oilghee ghee potatoes yogurt chili powder butter vegetables tender spices beef masala oil heat simmer mutton oilghee ground lentils potatoes turmeric salt chicken preparation butter ghee yogurt chili powder vegetables tender spices beef masala oil simmer butter heat ground lentils turmeric oilghee salt chicken potatoes preparation ghee mutton yogurt chili powder vegetables tender spices beef masala oil simmer butter heat ground lentils turmeric salt chicken preparation oilghee potatoes ghee yogurt chili mutton powder vegetables tender spices beef masala oil simmer butter heat ground lentils salt chicken turmeric oilghee preparation potatoes ghee yogurt chili mutton powder vegetables tender spices beef masala turmeric simmer heat mutton lentils ground oilghee salt chicken preparation potatoes ghee oil yogurt powder butter chili vegetables tender spices beef turmeric masala tender mutton heat vegetables ground preparation salt chicken ghee oil oilghee yogurt potatoes powder butter chili simmer lentils spices beef masala turmeric simmer mutton heat ground lentils oilghee salt chicken oil potatoes preparation ghee yogurt butter powder chili vegetables tender spices beef turmeric masala simmer mutton lentils ground heat salt oil chicken preparation ghee yogurt oilghee powder potatoes butter chili vegetables tender spices beef turmeric masala tender heat mutton ground vegetables salt chicken potatoes oil oilghee preparation ghee butter yogurt powder chili simmer lentils spices beef masala turmeric mutton simmer ground heat salt chicken oil lentils preparation oilghee ghee potatoes yogurt powder chili butter tender vegetables spices beef masala oil simmer butter heat ground lentils turmeric salt chicken preparation oilghee potatoes ghee yogurt chili mutton powder vegetables tender spices beef masala oil mutton simmer heat ground salt chicken turmeric lentils oilghee potatoes preparation ghee yogurt butter chili powder vegetables tender spices beef masala oil simmer mutton heat ground lentils turmeric salt chicken oilghee potatoes preparation ghee yogurt butter chili powder vegetables tender spices beef oil masala simmer heat potatoes lentils oilghee ground salt preparation mutton chicken butter ghee yogurt chili turmeric powder vegetables tender spices beef masala turmeric mutton simmer oil heat ground lentils salt chicken chili oilghee preparation potatoes ghee yogurt powder butter vegetables tender spices beef turmeric masala simmer lentils ground preparation ghee salt yogurt powder chicken heat mutton potatoes oil oilghee butter vegetables chili tender spices beef masala oil simmer butter heat ground lentils salt chicken turmeric preparation oilghee potatoes ghee yogurt chili mutton powder vegetables tender spices beef masala oil simmer mutton heat ground lentils turmeric salt chicken oilghee preparation potatoes ghee yogurt chili powder butter vegetables tender spices beef masala oil mutton simmer heat ground turmeric lentils salt chicken oilghee preparation potatoes ghee yogurt chili butter powder vegetables tender spices beef turmeric masala oil tender heat potatoes butter oilghee vegetables ground preparation ghee yogurt powder salt chicken mutton simmer chili lentils spices beef turmeric masala simmer lentils ground preparation ghee salt yogurt powder heat chicken potatoes mutton oilghee oil butter vegetables chili tender spices beef masala oil simmer mutton heat ground lentils turmeric salt chicken preparation oilghee potatoes ghee yogurt chili butter powder vegetables tender spices beef oil masala heat simmer oilghee potatoes ground butter lentils chicken salt preparation mutton ghee yogurt chili turmeric powder vegetables tender spices beef oil masala heat oilghee potatoes simmer mutton ground lentils butter chicken salt preparation ghee yogurt chili turmeric powder vegetables tender spices beef oil heat masala oilghee potatoes simmer mutton lentils preparation ground ghee chicken salt yogurt chili butter tender vegetables turmeric powder spices beef oil masala heat oilghee potatoes simmer mutton lentils butter ground preparation salt chicken ghee yogurt chili turmeric powder vegetables tender spices beef oil masala heat oilghee potatoes simmer butter lentils mutton ground chicken salt preparation ghee yogurt chili turmeric powder vegetables tender spices beef yogurt turmeric simmer mutton ground lentils salt potatoes chicken heat preparation ghee oilghee masala chili butter powder vegetables tender spices oil beef oil masala heat oilghee potatoes simmer butter lentils ground preparation salt chicken mutton ghee yogurt chili turmeric powder vegetables tender spices beef turmeric masala tender heat potatoes oilghee mutton vegetables ground preparation salt butter ghee chicken yogurt powder oil chili simmer lentils spices beef oil masala heat oilghee potatoes simmer butter lentils mutton ground preparation salt chicken ghee yogurt chili turmeric powder vegetables tender spices beef masala oil simmer heat butter ground oilghee lentils potatoes salt chicken turmeric preparation ghee mutton yogurt chili powder vegetables tender spices beef turmeric masala simmer oil lentils ground preparation ghee yogurt tender salt powder chicken vegetables spices heat mutton potatoes oilghee butter chili beef oil heat oilghee potatoes simmer mutton masala ground preparation chicken lentils salt ghee tender yogurt chili vegetables spices turmeric butter powder beef oil masala simmer heat oilghee potatoes lentils ground preparation mutton ghee salt chicken yogurt chili butter turmeric vegetables powder tender spices beef masala oil simmer butter ground lentils turmeric salt heat chicken preparation ghee yogurt oilghee chili potatoes powder mutton vegetables tender spices beef masala turmeric butter oil simmer chicken lentils chili salt ground heat preparation ghee tender yogurt powder oilghee potatoes mutton vegetables spices beef turmeric masala simmer mutton lentils oil ground preparation salt chicken ghee yogurt powder heat chili oilghee potatoes vegetables butter tender spices beef masala turmeric mutton oil simmer lentils ground salt chicken chili preparation ghee yogurt tender powder vegetables heat spices oilghee potatoes butter beef masala turmeric mutton heat oil oilghee potatoes simmer butter chili lentils ground salt chicken preparation ghee yogurt powder vegetables tender spices beef masala turmeric simmer mutton ground lentils heat chicken salt preparation ghee yogurt oilghee oil powder tender potatoes butter chili vegetables spices beef masala turmeric mutton oil simmer lentils chicken ground salt chili preparation ghee tender yogurt powder heat oilghee potatoes vegetables butter spices beef oil heat masala potatoes oilghee simmer mutton ground lentils preparation salt chicken ghee yogurt chili butter turmeric vegetables powder tender spices beef turmeric masala simmer heat lentils butter ground oilghee potatoes preparation salt oil ghee chicken yogurt powder mutton chili vegetables tender spices beef oil masala simmer lentils ground preparation heat salt ghee chicken yogurt butter chili oilghee potatoes turmeric mutton vegetables tender powder spices beef ground yogurt beef simmer turmeric oilghee mutton lentils preparation ghee potatoes powder masala oil salt spices chicken vegetables butter tender chili heat', 'potatoes', 'ground', 'oil', 'yogurt', 'tender', 'mutton', 'vegetables', 'salt', 'chili', 'masala', 'ghee', 'powder', 'preparation', 'spices', 'chicken', 'simmer', 'turmeric', 'butter', 'beef', 'oilghee', 'lentils', 'Heat', 'ground', 'yogurt', 'beef', 'simmer', 'turmeric', 'oilghee', 'mutton', 'lentils', 'preparation', 'ghee', 'potatoes', 'powder', 'masala', 'oil', 'salt', 'spices', 'chicken', 'vegetables', 'butter', 'tender', 'chili', 'Heat', 'oil', 'Heat', 'oilghee', 'potatoes', 'simmer', 'mutton', 'masala', 'preparation', 'chicken', 'ground', 'lentils', 'salt', 'ghee', 'tender', 'yogurt', 'chili', 'vegetables', 'spices', 'turmeric', 'butter', 'powder', 'beef', 'masala', 'oil', 'Heat', 'simmer', 'butter', 'oilghee', 'potatoes', 'lentils', 'ground', 'salt', 'chicken', 'mutton', 'turmeric', 'preparation', 'ghee', 'yogurt', 'chili', 'powder', 'vegetables', 'tender', 'spices', 'beef', 'masala', 'oil', 'simmer', 'mutton', 'Heat', 'ground', 'lentils', 'turmeric', 'salt', 'chicken', 'preparation', 'oilghee', 'ghee', 'potatoes', 'yogurt', 'chili', 'powder', 'butter', 'vegetables', 'tender', 'spices', 'beef', 'masala', 'oil', 'Heat', 'simmer', 'mutton', 'oilghee', 'ground', 'lentils', 'potatoes', 'turmeric', 'salt', 'chicken', 'preparation', 'butter', 'ghee', 'yogurt', 'chili', 'powder', 'vegetables', 'tender', 'spices', 'beef', 'masala', 'oil', 'simmer', 'butter', 'Heat', 'ground', 'lentils', 'turmeric', 'oilghee', 'salt', 'chicken', 'potatoes', 'preparation', 'ghee', 'mutton', 'yogurt', 'chili', 'powder', 'vegetables', 'tender', 'spices', 'beef', 'masala', 'oil', 'simmer', 'butter', 'Heat', 'ground', 'lentils', 'turmeric', 'salt', 'chicken', 'preparation', 'oilghee', 'potatoes', 'ghee', 'yogurt', 'chili', 'mutton', 'powder', 'vegetables', 'tender', 'spices', 'beef', 'masala', 'oil', 'simmer', 'butter', 'Heat', 'ground', 'lentils', 'salt', 'chicken', 'turmeric', 'oilghee', 'preparation', 'potatoes', 'ghee', 'yogurt', 'chili', 'mutton', 'powder', 'vegetables', 'tender', 'spices', 'beef', 'masala', 'turmeric', 'simmer', 'Heat', 'mutton', 'lentils', 'ground', 'oilghee', 'salt', 'chicken', 'preparation', 'potatoes', 'ghee', 'oil', 'yogurt', 'powder', 'butter', 'chili', 'vegetables', 'tender', 'spices', 'beef', 'turmeric', 'masala', 'tender', 'mutton', 'Heat', 'vegetables', 'ground', 'preparation', 'salt', 'chicken', 'ghee', 'oil', 'oilghee', 'yogurt', 'potatoes', 'powder', 'butter', 'chili', 'simmer', 'lentils', 'spices', 'beef', 'masala', 'turmeric', 'simmer', 'mutton', 'Heat', 'ground', 'lentils', 'oilghee', 'salt', 'chicken', 'oil', 'potatoes', 'preparation', 'ghee', 'yogurt', 'butter', 'powder', 'chili', 'vegetables', 'tender', 'spices', 'beef', 'turmeric', 'masala', 'simmer', 'mutton', 'lentils', 'ground', 'Heat', 'salt', 'oil', 'chicken', 'preparation', 'ghee', 'yogurt', 'oilghee', 'powder', 'potatoes', 'butter', 'chili', 'vegetables', 'tender', 'spices', 'beef', 'turmeric', 'masala', 'tender', 'Heat', 'mutton', 'ground', 'vegetables', 'salt', 'chicken', 'potatoes', 'oil', 'oilghee', 'preparation', 'ghee', 'butter', 'yogurt', 'powder', 'chili', 'simmer', 'lentils', 'spices', 'beef', 'masala', 'turmeric', 'mutton', 'simmer', 'ground', 'Heat', 'salt', 'chicken', 'oil', 'lentils', 'preparation', 'oilghee', 'ghee', 'potatoes', 'yogurt', 'powder', 'chili', 'butter', 'tender', 'vegetables', 'spices', 'beef', 'masala', 'oil', 'simmer', 'butter', 'Heat', 'ground', 'lentils', 'turmeric', 'salt', 'chicken', 'preparation', 'oilghee', 'potatoes', 'ghee', 'yogurt', 'chili', 'mutton', 'powder', 'vegetables', 'tender', 'spices', 'beef', 'masala', 'oil', 'mutton', 'simmer', 'Heat', 'ground', 'salt', 'chicken', 'turmeric', 'lentils', 'oilghee', 'potatoes', 'preparation', 'ghee', 'yogurt', 'butter', 'chili', 'powder', 'vegetables', 'tender', 'spices', 'beef', 'masala', 'oil', 'simmer', 'mutton', 'Heat', 'ground', 'lentils', 'turmeric', 'salt', 'chicken', 'oilghee', 'potatoes', 'preparation', 'ghee', 'yogurt', 'butter', 'chili', 'powder', 'vegetables', 'tender', 'spices', 'beef', 'oil', 'masala', 'simmer', 'Heat', 'potatoes', 'lentils', 'oilghee', 'ground', 'salt', 'preparation', 'mutton', 'chicken', 'butter', 'ghee', 'yogurt', 'chili', 'turmeric', 'powder', 'vegetables', 'tender', 'spices', 'beef', 'masala', 'turmeric', 'mutton', 'simmer', 'oil', 'Heat', 'ground', 'lentils', 'salt', 'chicken', 'chili', 'oilghee', 'preparation', 'potatoes', 'ghee', 'yogurt', 'powder', 'butter', 'vegetables', 'tender', 'spices', 'beef', 'turmeric', 'masala', 'simmer', 'lentils', 'ground', 'preparation', 'ghee', 'salt', 'yogurt', 'powder', 'chicken', 'Heat', 'mutton', 'potatoes', 'oil', 'oilghee', 'butter', 'vegetables', 'chili', 'tender', 'spices', 'beef', 'masala', 'oil', 'simmer', 'butter', 'Heat', 'ground', 'lentils', 'salt', 'chicken', 'turmeric', 'preparation', 'oilghee', 'potatoes', 'ghee', 'yogurt', 'chili', 'mutton', 'powder', 'vegetables', 'tender', 'spices', 'beef', 'masala', 'oil', 'simmer', 'mutton', 'Heat', 'ground', 'lentils', 'turmeric', 'salt', 'chicken', 'oilghee', 'preparation', 'potatoes', 'ghee', 'yogurt', 'chili', 'powder', 'butter', 'vegetables', 'tender', 'spices', 'beef', 'masala', 'oil', 'mutton', 'simmer', 'Heat', 'ground', 'turmeric', 'lentils', 'salt', 'chicken', 'oilghee', 'preparation', 'potatoes', 'ghee', 'yogurt', 'chili', 'butter', 'powder', 'vegetables', 'tender', 'spices', 'beef', 'turmeric', 'masala', 'oil', 'tender', 'Heat', 'potatoes', 'butter', 'oilghee', 'vegetables', 'ground', 'preparation', 'ghee', 'yogurt', 'powder', 'salt', 'chicken', 'mutton', 'simmer', 'chili', 'lentils', 'spices', 'beef', 'turmeric', 'masala', 'simmer', 'lentils', 'ground', 'preparation', 'ghee', 'salt', 'yogurt', 'powder', 'Heat', 'chicken', 'potatoes', 'mutton', 'oilghee', 'oil', 'butter', 'vegetables', 'chili', 'tender', 'spices', 'beef', 'masala', 'oil', 'simmer', 'mutton', 'Heat', 'ground', 'lentils', 'turmeric', 'salt', 'chicken', 'preparation', 'oilghee', 'potatoes', 'ghee', 'yogurt', 'chili', 'butter', 'powder', 'vegetables', 'tender', 'spices', 'beef', 'oil', 'masala', 'Heat', 'simmer', 'oilghee', 'potatoes', 'ground', 'butter', 'lentils', 'chicken', 'salt', 'preparation', 'mutton', 'ghee', 'yogurt', 'chili', 'turmeric', 'powder', 'vegetables', 'tender', 'spices', 'beef', 'oil', 'masala', 'Heat', 'oilghee', 'potatoes', 'simmer', 'mutton', 'ground', 'lentils', 'butter', 'chicken', 'salt', 'preparation', 'ghee', 'yogurt', 'chili', 'turmeric', 'powder', 'vegetables', 'tender', 'spices', 'beef', 'oil', 'Heat', 'masala', 'oilghee', 'potatoes', 'simmer', 'mutton', 'lentils', 'preparation', 'ground', 'ghee', 'chicken', 'salt', 'yogurt', 'chili', 'butter', 'tender', 'vegetables', 'turmeric', 'powder', 'spices', 'beef', 'oil', 'masala', 'Heat', 'oilghee', 'potatoes', 'simmer', 'mutton', 'lentils', 'butter', 'ground', 'preparation', 'salt', 'chicken', 'ghee', 'yogurt', 'chili', 'turmeric', 'powder', 'vegetables', 'tender', 'spices', 'beef', 'oil', 'masala', 'Heat', 'oilghee', 'potatoes', 'simmer', 'butter', 'lentils', 'mutton', 'ground', 'chicken', 'salt', 'preparation', 'ghee', 'yogurt', 'chili', 'turmeric', 'powder', 'vegetables', 'tender', 'spices', 'beef', 'yogurt', 'turmeric', 'simmer', 'mutton', 'ground', 'lentils', 'salt', 'potatoes', 'chicken', 'Heat', 'preparation', 'ghee', 'oilghee', 'masala', 'chili', 'butter', 'powder', 'vegetables', 'tender', 'spices', 'oil', 'beef', 'oil', 'masala', 'Heat', 'oilghee', 'potatoes', 'simmer', 'butter', 'lentils', 'ground', 'preparation', 'salt', 'chicken', 'mutton', 'ghee', 'yogurt', 'chili', 'turmeric', 'powder', 'vegetables', 'tender', 'spices', 'beef', 'turmeric', 'masala', 'tender', 'Heat', 'potatoes', 'oilghee', 'mutton', 'vegetables', 'ground', 'preparation', 'salt', 'butter', 'ghee', 'chicken', 'yogurt', 'powder', 'oil', 'chili', 'simmer', 'lentils', 'spices', 'beef', 'oil', 'masala', 'Heat', 'oilghee', 'potatoes', 'simmer', 'butter', 'lentils', 'mutton', 'ground', 'preparation', 'salt', 'chicken', 'ghee', 'yogurt', 'chili', 'turmeric', 'powder', 'vegetables', 'tender', 'spices', 'beef', 'masala', 'oil', 'simmer', 'Heat', 'butter', 'ground', 'oilghee', 'lentils', 'potatoes', 'salt', 'chicken', 'turmeric', 'preparation', 'ghee', 'mutton', 'yogurt', 'chili', 'powder', 'vegetables', 'tender', 'spices', 'beef', 'turmeric', 'masala', 'simmer', 'oil', 'lentils', 'ground', 'preparation', 'ghee', 'yogurt', 'tender', 'salt', 'powder', 'chicken', 'vegetables', 'spices', 'Heat', 'mutton', 'potatoes', 'oilghee', 'butter', 'chili', 'beef', 'oil', 'Heat', 'oilghee', 'potatoes', 'simmer', 'mutton', 'masala', 'ground', 'preparation', 'chicken', 'lentils', 'salt', 'ghee', 'tender', 'yogurt', 'chili', 'vegetables', 'spices', 'turmeric', 'butter', 'powder', 'beef', 'oil', 'masala', 'simmer', 'Heat', 'oilghee', 'potatoes', 'lentils', 'ground', 'preparation', 'mutton', 'ghee', 'salt', 'chicken', 'yogurt', 'chili', 'butter', 'turmeric', 'vegetables', 'powder', 'tender', 'spices', 'beef', 'masala', 'oil', 'simmer', 'butter', 'ground', 'lentils', 'turmeric', 'salt', 'Heat', 'chicken', 'preparation', 'ghee', 'yogurt', 'oilghee', 'chili', 'potatoes', 'powder', 'mutton', 'vegetables', 'tender', 'spices', 'beef', 'masala', 'turmeric', 'butter', 'oil', 'simmer', 'chicken', 'lentils', 'chili', 'salt', 'ground', 'Heat', 'preparation', 'ghee', 'tender', 'yogurt', 'powder', 'oilghee', 'potatoes', 'mutton', 'vegetables', 'spices', 'beef', 'turmeric', 'masala', 'simmer', 'mutton', 'lentils', 'oil', 'ground', 'preparation', 'salt', 'chicken', 'ghee', 'yogurt', 'powder', 'Heat', 'chili', 'oilghee', 'potatoes', 'vegetables', 'butter', 'tender', 'spices', 'beef', 'masala', 'turmeric', 'mutton', 'oil', 'simmer', 'lentils', 'ground', 'salt', 'chicken', 'chili', 'preparation', 'ghee', 'yogurt', 'tender', 'powder', 'vegetables', 'Heat', 'spices', 'oilghee', 'potatoes', 'butter', 'beef', 'masala', 'turmeric', 'mutton', 'Heat', 'oil', 'oilghee', 'potatoes', 'simmer', 'butter', 'chili', 'lentils', 'ground', 'salt', 'chicken', 'preparation', 'ghee', 'yogurt', 'powder', 'vegetables', 'tender', 'spices', 'beef', 'masala', 'turmeric', 'simmer', 'mutton', 'ground', 'lentils', 'Heat', 'chicken', 'salt', 'preparation', 'ghee', 'yogurt', 'oilghee', 'oil', 'powder', 'tender', 'potatoes', 'butter', 'chili', 'vegetables', 'spices', 'beef', 'masala', 'turmeric', 'mutton', 'oil', 'simmer', 'lentils', 'chicken', 'ground', 'salt', 'chili', 'preparation', 'ghee', 'tender', 'yogurt', 'powder', 'Heat', 'oilghee', 'potatoes', 'vegetables', 'butter', 'spices', 'beef', 'oil', 'Heat', 'masala', 'potatoes', 'oilghee', 'simmer', 'mutton', 'ground', 'lentils', 'preparation', 'salt', 'chicken', 'ghee', 'yogurt', 'chili', 'butter', 'turmeric', 'vegetables', 'powder', 'tender', 'spices', 'beef', 'turmeric', 'masala', 'simmer', 'Heat', 'lentils', 'butter', 'ground', 'oilghee', 'potatoes', 'preparation', 'salt', 'oil', 'ghee', 'chicken', 'yogurt', 'powder', 'mutton', 'chili', 'vegetables', 'tender', 'spices', 'beef', 'oil', 'masala', 'simmer', 'lentils', 'ground', 'preparation', 'Heat', 'salt', 'ghee', 'chicken', 'yogurt', 'butter', 'chili', 'oilghee', 'potatoes', 'turmeric', 'mutton', 'vegetables', 'tender', 'powder', 'spices', 'beef', 'ground', 'yogurt', 'beef', 'simmer', 'turmeric', 'oilghee', 'mutton', 'lentils', 'preparation', 'ghee', 'potatoes', 'powder', 'masala', 'oil', 'salt', 'spices', 'chicken', 'vegetables', 'butter', 'tender', 'chili', 'Heat'] \n",
            "\n",
            "Ingredients:\n",
            " oil, butter, ghee, cream, lemon, mint, cilantro, chicken, beef, mutton, lentils, spinach, potatoes, onion, tomato, green chili, garlic, ginger, cumin, coriander \n",
            "\n",
            "Instructions:\n",
            " chicken preparation: prepare ingredients and chop vegetables. heat oil/ghee and add whole spices. add main ingredients and cook until tender. add ground spices and simmer until well mixed. garnish and serve hot. \n",
            "\n"
          ]
        }
      ]
    },
    {
      "cell_type": "code",
      "source": [
        "# Test Rank\n",
        "query = ['tumeric', 'cilantro','butter']\n",
        "Search_Recipes(query, query_ranked=False, recipe_range=(0,3))"
      ],
      "metadata": {
        "colab": {
          "base_uri": "https://localhost:8080/"
        },
        "id": "SDMHzmWqcMca",
        "outputId": "e7beb3ee-83c7-4947-bf07-e90c6a7953eb"
      },
      "execution_count": 269,
      "outputs": [
        {
          "output_type": "stream",
          "name": "stdout",
          "text": [
            "Search Query: ['tumeric', 'cilantro', 'butter'] \n",
            "\n",
            "Recipe Rank: 1 \t ['kofta potatoes ground oil yogurt tender mutton vegetables salt chili masala ghee powder preparation spices chicken simmer turmeric butter beef oilghee lentils heat ground yogurt beef simmer turmeric oilghee mutton lentils preparation ghee potatoes powder masala oil salt spices chicken vegetables butter tender chili heat oil heat oilghee potatoes simmer mutton masala preparation chicken ground lentils salt ghee tender yogurt chili vegetables spices turmeric butter powder beef masala oil heat simmer butter oilghee potatoes lentils ground salt chicken mutton turmeric preparation ghee yogurt chili powder vegetables tender spices beef masala oil simmer mutton heat ground lentils turmeric salt chicken preparation oilghee ghee potatoes yogurt chili powder butter vegetables tender spices beef masala oil heat simmer mutton oilghee ground lentils potatoes turmeric salt chicken preparation butter ghee yogurt chili powder vegetables tender spices beef masala oil simmer butter heat ground lentils turmeric oilghee salt chicken potatoes preparation ghee mutton yogurt chili powder vegetables tender spices beef masala oil simmer butter heat ground lentils turmeric salt chicken preparation oilghee potatoes ghee yogurt chili mutton powder vegetables tender spices beef masala oil simmer butter heat ground lentils salt chicken turmeric oilghee preparation potatoes ghee yogurt chili mutton powder vegetables tender spices beef masala turmeric simmer heat mutton lentils ground oilghee salt chicken preparation potatoes ghee oil yogurt powder butter chili vegetables tender spices beef turmeric masala tender mutton heat vegetables ground preparation salt chicken ghee oil oilghee yogurt potatoes powder butter chili simmer lentils spices beef masala turmeric simmer mutton heat ground lentils oilghee salt chicken oil potatoes preparation ghee yogurt butter powder chili vegetables tender spices beef turmeric masala simmer mutton lentils ground heat salt oil chicken preparation ghee yogurt oilghee powder potatoes butter chili vegetables tender spices beef turmeric masala tender heat mutton ground vegetables salt chicken potatoes oil oilghee preparation ghee butter yogurt powder chili simmer lentils spices beef masala turmeric mutton simmer ground heat salt chicken oil lentils preparation oilghee ghee potatoes yogurt powder chili butter tender vegetables spices beef masala oil simmer butter heat ground lentils turmeric salt chicken preparation oilghee potatoes ghee yogurt chili mutton powder vegetables tender spices beef masala oil mutton simmer heat ground salt chicken turmeric lentils oilghee potatoes preparation ghee yogurt butter chili powder vegetables tender spices beef masala oil simmer mutton heat ground lentils turmeric salt chicken oilghee potatoes preparation ghee yogurt butter chili powder vegetables tender spices beef oil masala simmer heat potatoes lentils oilghee ground salt preparation mutton chicken butter ghee yogurt chili turmeric powder vegetables tender spices beef masala turmeric mutton simmer oil heat ground lentils salt chicken chili oilghee preparation potatoes ghee yogurt powder butter vegetables tender spices beef turmeric masala simmer lentils ground preparation ghee salt yogurt powder chicken heat mutton potatoes oil oilghee butter vegetables chili tender spices beef masala oil simmer butter heat ground lentils salt chicken turmeric preparation oilghee potatoes ghee yogurt chili mutton powder vegetables tender spices beef masala oil simmer mutton heat ground lentils turmeric salt chicken oilghee preparation potatoes ghee yogurt chili powder butter vegetables tender spices beef masala oil mutton simmer heat ground turmeric lentils salt chicken oilghee preparation potatoes ghee yogurt chili butter powder vegetables tender spices beef turmeric masala oil tender heat potatoes butter oilghee vegetables ground preparation ghee yogurt powder salt chicken mutton simmer chili lentils spices beef turmeric masala simmer lentils ground preparation ghee salt yogurt powder heat chicken potatoes mutton oilghee oil butter vegetables chili tender spices beef masala oil simmer mutton heat ground lentils turmeric salt chicken preparation oilghee potatoes ghee yogurt chili butter powder vegetables tender spices beef oil masala heat simmer oilghee potatoes ground butter lentils chicken salt preparation mutton ghee yogurt chili turmeric powder vegetables tender spices beef oil masala heat oilghee potatoes simmer mutton ground lentils butter chicken salt preparation ghee yogurt chili turmeric powder vegetables tender spices beef oil heat masala oilghee potatoes simmer mutton lentils preparation ground ghee chicken salt yogurt chili butter tender vegetables turmeric powder spices beef oil masala heat oilghee potatoes simmer mutton lentils butter ground preparation salt chicken ghee yogurt chili turmeric powder vegetables tender spices beef oil masala heat oilghee potatoes simmer butter lentils mutton ground chicken salt preparation ghee yogurt chili turmeric powder vegetables tender spices beef yogurt turmeric simmer mutton ground lentils salt potatoes chicken heat preparation ghee oilghee masala chili butter powder vegetables tender spices oil beef oil masala heat oilghee potatoes simmer butter lentils ground preparation salt chicken mutton ghee yogurt chili turmeric powder vegetables tender spices beef turmeric masala tender heat potatoes oilghee mutton vegetables ground preparation salt butter ghee chicken yogurt powder oil chili simmer lentils spices beef oil masala heat oilghee potatoes simmer butter lentils mutton ground preparation salt chicken ghee yogurt chili turmeric powder vegetables tender spices beef masala oil simmer heat butter ground oilghee lentils potatoes salt chicken turmeric preparation ghee mutton yogurt chili powder vegetables tender spices beef turmeric masala simmer oil lentils ground preparation ghee yogurt tender salt powder chicken vegetables spices heat mutton potatoes oilghee butter chili beef oil heat oilghee potatoes simmer mutton masala ground preparation chicken lentils salt ghee tender yogurt chili vegetables spices turmeric butter powder beef oil masala simmer heat oilghee potatoes lentils ground preparation mutton ghee salt chicken yogurt chili butter turmeric vegetables powder tender spices beef masala oil simmer butter ground lentils turmeric salt heat chicken preparation ghee yogurt oilghee chili potatoes powder mutton vegetables tender spices beef masala turmeric butter oil simmer chicken lentils chili salt ground heat preparation ghee tender yogurt powder oilghee potatoes mutton vegetables spices beef turmeric masala simmer mutton lentils oil ground preparation salt chicken ghee yogurt powder heat chili oilghee potatoes vegetables butter tender spices beef masala turmeric mutton oil simmer lentils ground salt chicken chili preparation ghee yogurt tender powder vegetables heat spices oilghee potatoes butter beef masala turmeric mutton heat oil oilghee potatoes simmer butter chili lentils ground salt chicken preparation ghee yogurt powder vegetables tender spices beef masala turmeric simmer mutton ground lentils heat chicken salt preparation ghee yogurt oilghee oil powder tender potatoes butter chili vegetables spices beef masala turmeric mutton oil simmer lentils chicken ground salt chili preparation ghee tender yogurt powder heat oilghee potatoes vegetables butter spices beef oil heat masala potatoes oilghee simmer mutton ground lentils preparation salt chicken ghee yogurt chili butter turmeric vegetables powder tender spices beef turmeric masala simmer heat lentils butter ground oilghee potatoes preparation salt oil ghee chicken yogurt powder mutton chili vegetables tender spices beef oil masala simmer lentils ground preparation heat salt ghee chicken yogurt butter chili oilghee potatoes turmeric mutton vegetables tender powder spices beef ground yogurt beef simmer turmeric oilghee mutton lentils preparation ghee potatoes powder masala oil salt spices chicken vegetables butter tender chili heat', 'potatoes', 'ground', 'oil', 'yogurt', 'tender', 'mutton', 'vegetables', 'salt', 'chili', 'masala', 'ghee', 'powder', 'preparation', 'spices', 'chicken', 'simmer', 'turmeric', 'butter', 'beef', 'oilghee', 'lentils', 'Heat', 'ground', 'yogurt', 'beef', 'simmer', 'turmeric', 'oilghee', 'mutton', 'lentils', 'preparation', 'ghee', 'potatoes', 'powder', 'masala', 'oil', 'salt', 'spices', 'chicken', 'vegetables', 'butter', 'tender', 'chili', 'Heat', 'oil', 'Heat', 'oilghee', 'potatoes', 'simmer', 'mutton', 'masala', 'preparation', 'chicken', 'ground', 'lentils', 'salt', 'ghee', 'tender', 'yogurt', 'chili', 'vegetables', 'spices', 'turmeric', 'butter', 'powder', 'beef', 'masala', 'oil', 'Heat', 'simmer', 'butter', 'oilghee', 'potatoes', 'lentils', 'ground', 'salt', 'chicken', 'mutton', 'turmeric', 'preparation', 'ghee', 'yogurt', 'chili', 'powder', 'vegetables', 'tender', 'spices', 'beef', 'masala', 'oil', 'simmer', 'mutton', 'Heat', 'ground', 'lentils', 'turmeric', 'salt', 'chicken', 'preparation', 'oilghee', 'ghee', 'potatoes', 'yogurt', 'chili', 'powder', 'butter', 'vegetables', 'tender', 'spices', 'beef', 'masala', 'oil', 'Heat', 'simmer', 'mutton', 'oilghee', 'ground', 'lentils', 'potatoes', 'turmeric', 'salt', 'chicken', 'preparation', 'butter', 'ghee', 'yogurt', 'chili', 'powder', 'vegetables', 'tender', 'spices', 'beef', 'masala', 'oil', 'simmer', 'butter', 'Heat', 'ground', 'lentils', 'turmeric', 'oilghee', 'salt', 'chicken', 'potatoes', 'preparation', 'ghee', 'mutton', 'yogurt', 'chili', 'powder', 'vegetables', 'tender', 'spices', 'beef', 'masala', 'oil', 'simmer', 'butter', 'Heat', 'ground', 'lentils', 'turmeric', 'salt', 'chicken', 'preparation', 'oilghee', 'potatoes', 'ghee', 'yogurt', 'chili', 'mutton', 'powder', 'vegetables', 'tender', 'spices', 'beef', 'masala', 'oil', 'simmer', 'butter', 'Heat', 'ground', 'lentils', 'salt', 'chicken', 'turmeric', 'oilghee', 'preparation', 'potatoes', 'ghee', 'yogurt', 'chili', 'mutton', 'powder', 'vegetables', 'tender', 'spices', 'beef', 'masala', 'turmeric', 'simmer', 'Heat', 'mutton', 'lentils', 'ground', 'oilghee', 'salt', 'chicken', 'preparation', 'potatoes', 'ghee', 'oil', 'yogurt', 'powder', 'butter', 'chili', 'vegetables', 'tender', 'spices', 'beef', 'turmeric', 'masala', 'tender', 'mutton', 'Heat', 'vegetables', 'ground', 'preparation', 'salt', 'chicken', 'ghee', 'oil', 'oilghee', 'yogurt', 'potatoes', 'powder', 'butter', 'chili', 'simmer', 'lentils', 'spices', 'beef', 'masala', 'turmeric', 'simmer', 'mutton', 'Heat', 'ground', 'lentils', 'oilghee', 'salt', 'chicken', 'oil', 'potatoes', 'preparation', 'ghee', 'yogurt', 'butter', 'powder', 'chili', 'vegetables', 'tender', 'spices', 'beef', 'turmeric', 'masala', 'simmer', 'mutton', 'lentils', 'ground', 'Heat', 'salt', 'oil', 'chicken', 'preparation', 'ghee', 'yogurt', 'oilghee', 'powder', 'potatoes', 'butter', 'chili', 'vegetables', 'tender', 'spices', 'beef', 'turmeric', 'masala', 'tender', 'Heat', 'mutton', 'ground', 'vegetables', 'salt', 'chicken', 'potatoes', 'oil', 'oilghee', 'preparation', 'ghee', 'butter', 'yogurt', 'powder', 'chili', 'simmer', 'lentils', 'spices', 'beef', 'masala', 'turmeric', 'mutton', 'simmer', 'ground', 'Heat', 'salt', 'chicken', 'oil', 'lentils', 'preparation', 'oilghee', 'ghee', 'potatoes', 'yogurt', 'powder', 'chili', 'butter', 'tender', 'vegetables', 'spices', 'beef', 'masala', 'oil', 'simmer', 'butter', 'Heat', 'ground', 'lentils', 'turmeric', 'salt', 'chicken', 'preparation', 'oilghee', 'potatoes', 'ghee', 'yogurt', 'chili', 'mutton', 'powder', 'vegetables', 'tender', 'spices', 'beef', 'masala', 'oil', 'mutton', 'simmer', 'Heat', 'ground', 'salt', 'chicken', 'turmeric', 'lentils', 'oilghee', 'potatoes', 'preparation', 'ghee', 'yogurt', 'butter', 'chili', 'powder', 'vegetables', 'tender', 'spices', 'beef', 'masala', 'oil', 'simmer', 'mutton', 'Heat', 'ground', 'lentils', 'turmeric', 'salt', 'chicken', 'oilghee', 'potatoes', 'preparation', 'ghee', 'yogurt', 'butter', 'chili', 'powder', 'vegetables', 'tender', 'spices', 'beef', 'oil', 'masala', 'simmer', 'Heat', 'potatoes', 'lentils', 'oilghee', 'ground', 'salt', 'preparation', 'mutton', 'chicken', 'butter', 'ghee', 'yogurt', 'chili', 'turmeric', 'powder', 'vegetables', 'tender', 'spices', 'beef', 'masala', 'turmeric', 'mutton', 'simmer', 'oil', 'Heat', 'ground', 'lentils', 'salt', 'chicken', 'chili', 'oilghee', 'preparation', 'potatoes', 'ghee', 'yogurt', 'powder', 'butter', 'vegetables', 'tender', 'spices', 'beef', 'turmeric', 'masala', 'simmer', 'lentils', 'ground', 'preparation', 'ghee', 'salt', 'yogurt', 'powder', 'chicken', 'Heat', 'mutton', 'potatoes', 'oil', 'oilghee', 'butter', 'vegetables', 'chili', 'tender', 'spices', 'beef', 'masala', 'oil', 'simmer', 'butter', 'Heat', 'ground', 'lentils', 'salt', 'chicken', 'turmeric', 'preparation', 'oilghee', 'potatoes', 'ghee', 'yogurt', 'chili', 'mutton', 'powder', 'vegetables', 'tender', 'spices', 'beef', 'masala', 'oil', 'simmer', 'mutton', 'Heat', 'ground', 'lentils', 'turmeric', 'salt', 'chicken', 'oilghee', 'preparation', 'potatoes', 'ghee', 'yogurt', 'chili', 'powder', 'butter', 'vegetables', 'tender', 'spices', 'beef', 'masala', 'oil', 'mutton', 'simmer', 'Heat', 'ground', 'turmeric', 'lentils', 'salt', 'chicken', 'oilghee', 'preparation', 'potatoes', 'ghee', 'yogurt', 'chili', 'butter', 'powder', 'vegetables', 'tender', 'spices', 'beef', 'turmeric', 'masala', 'oil', 'tender', 'Heat', 'potatoes', 'butter', 'oilghee', 'vegetables', 'ground', 'preparation', 'ghee', 'yogurt', 'powder', 'salt', 'chicken', 'mutton', 'simmer', 'chili', 'lentils', 'spices', 'beef', 'turmeric', 'masala', 'simmer', 'lentils', 'ground', 'preparation', 'ghee', 'salt', 'yogurt', 'powder', 'Heat', 'chicken', 'potatoes', 'mutton', 'oilghee', 'oil', 'butter', 'vegetables', 'chili', 'tender', 'spices', 'beef', 'masala', 'oil', 'simmer', 'mutton', 'Heat', 'ground', 'lentils', 'turmeric', 'salt', 'chicken', 'preparation', 'oilghee', 'potatoes', 'ghee', 'yogurt', 'chili', 'butter', 'powder', 'vegetables', 'tender', 'spices', 'beef', 'oil', 'masala', 'Heat', 'simmer', 'oilghee', 'potatoes', 'ground', 'butter', 'lentils', 'chicken', 'salt', 'preparation', 'mutton', 'ghee', 'yogurt', 'chili', 'turmeric', 'powder', 'vegetables', 'tender', 'spices', 'beef', 'oil', 'masala', 'Heat', 'oilghee', 'potatoes', 'simmer', 'mutton', 'ground', 'lentils', 'butter', 'chicken', 'salt', 'preparation', 'ghee', 'yogurt', 'chili', 'turmeric', 'powder', 'vegetables', 'tender', 'spices', 'beef', 'oil', 'Heat', 'masala', 'oilghee', 'potatoes', 'simmer', 'mutton', 'lentils', 'preparation', 'ground', 'ghee', 'chicken', 'salt', 'yogurt', 'chili', 'butter', 'tender', 'vegetables', 'turmeric', 'powder', 'spices', 'beef', 'oil', 'masala', 'Heat', 'oilghee', 'potatoes', 'simmer', 'mutton', 'lentils', 'butter', 'ground', 'preparation', 'salt', 'chicken', 'ghee', 'yogurt', 'chili', 'turmeric', 'powder', 'vegetables', 'tender', 'spices', 'beef', 'oil', 'masala', 'Heat', 'oilghee', 'potatoes', 'simmer', 'butter', 'lentils', 'mutton', 'ground', 'chicken', 'salt', 'preparation', 'ghee', 'yogurt', 'chili', 'turmeric', 'powder', 'vegetables', 'tender', 'spices', 'beef', 'yogurt', 'turmeric', 'simmer', 'mutton', 'ground', 'lentils', 'salt', 'potatoes', 'chicken', 'Heat', 'preparation', 'ghee', 'oilghee', 'masala', 'chili', 'butter', 'powder', 'vegetables', 'tender', 'spices', 'oil', 'beef', 'oil', 'masala', 'Heat', 'oilghee', 'potatoes', 'simmer', 'butter', 'lentils', 'ground', 'preparation', 'salt', 'chicken', 'mutton', 'ghee', 'yogurt', 'chili', 'turmeric', 'powder', 'vegetables', 'tender', 'spices', 'beef', 'turmeric', 'masala', 'tender', 'Heat', 'potatoes', 'oilghee', 'mutton', 'vegetables', 'ground', 'preparation', 'salt', 'butter', 'ghee', 'chicken', 'yogurt', 'powder', 'oil', 'chili', 'simmer', 'lentils', 'spices', 'beef', 'oil', 'masala', 'Heat', 'oilghee', 'potatoes', 'simmer', 'butter', 'lentils', 'mutton', 'ground', 'preparation', 'salt', 'chicken', 'ghee', 'yogurt', 'chili', 'turmeric', 'powder', 'vegetables', 'tender', 'spices', 'beef', 'masala', 'oil', 'simmer', 'Heat', 'butter', 'ground', 'oilghee', 'lentils', 'potatoes', 'salt', 'chicken', 'turmeric', 'preparation', 'ghee', 'mutton', 'yogurt', 'chili', 'powder', 'vegetables', 'tender', 'spices', 'beef', 'turmeric', 'masala', 'simmer', 'oil', 'lentils', 'ground', 'preparation', 'ghee', 'yogurt', 'tender', 'salt', 'powder', 'chicken', 'vegetables', 'spices', 'Heat', 'mutton', 'potatoes', 'oilghee', 'butter', 'chili', 'beef', 'oil', 'Heat', 'oilghee', 'potatoes', 'simmer', 'mutton', 'masala', 'ground', 'preparation', 'chicken', 'lentils', 'salt', 'ghee', 'tender', 'yogurt', 'chili', 'vegetables', 'spices', 'turmeric', 'butter', 'powder', 'beef', 'oil', 'masala', 'simmer', 'Heat', 'oilghee', 'potatoes', 'lentils', 'ground', 'preparation', 'mutton', 'ghee', 'salt', 'chicken', 'yogurt', 'chili', 'butter', 'turmeric', 'vegetables', 'powder', 'tender', 'spices', 'beef', 'masala', 'oil', 'simmer', 'butter', 'ground', 'lentils', 'turmeric', 'salt', 'Heat', 'chicken', 'preparation', 'ghee', 'yogurt', 'oilghee', 'chili', 'potatoes', 'powder', 'mutton', 'vegetables', 'tender', 'spices', 'beef', 'masala', 'turmeric', 'butter', 'oil', 'simmer', 'chicken', 'lentils', 'chili', 'salt', 'ground', 'Heat', 'preparation', 'ghee', 'tender', 'yogurt', 'powder', 'oilghee', 'potatoes', 'mutton', 'vegetables', 'spices', 'beef', 'turmeric', 'masala', 'simmer', 'mutton', 'lentils', 'oil', 'ground', 'preparation', 'salt', 'chicken', 'ghee', 'yogurt', 'powder', 'Heat', 'chili', 'oilghee', 'potatoes', 'vegetables', 'butter', 'tender', 'spices', 'beef', 'masala', 'turmeric', 'mutton', 'oil', 'simmer', 'lentils', 'ground', 'salt', 'chicken', 'chili', 'preparation', 'ghee', 'yogurt', 'tender', 'powder', 'vegetables', 'Heat', 'spices', 'oilghee', 'potatoes', 'butter', 'beef', 'masala', 'turmeric', 'mutton', 'Heat', 'oil', 'oilghee', 'potatoes', 'simmer', 'butter', 'chili', 'lentils', 'ground', 'salt', 'chicken', 'preparation', 'ghee', 'yogurt', 'powder', 'vegetables', 'tender', 'spices', 'beef', 'masala', 'turmeric', 'simmer', 'mutton', 'ground', 'lentils', 'Heat', 'chicken', 'salt', 'preparation', 'ghee', 'yogurt', 'oilghee', 'oil', 'powder', 'tender', 'potatoes', 'butter', 'chili', 'vegetables', 'spices', 'beef', 'masala', 'turmeric', 'mutton', 'oil', 'simmer', 'lentils', 'chicken', 'ground', 'salt', 'chili', 'preparation', 'ghee', 'tender', 'yogurt', 'powder', 'Heat', 'oilghee', 'potatoes', 'vegetables', 'butter', 'spices', 'beef', 'oil', 'Heat', 'masala', 'potatoes', 'oilghee', 'simmer', 'mutton', 'ground', 'lentils', 'preparation', 'salt', 'chicken', 'ghee', 'yogurt', 'chili', 'butter', 'turmeric', 'vegetables', 'powder', 'tender', 'spices', 'beef', 'turmeric', 'masala', 'simmer', 'Heat', 'lentils', 'butter', 'ground', 'oilghee', 'potatoes', 'preparation', 'salt', 'oil', 'ghee', 'chicken', 'yogurt', 'powder', 'mutton', 'chili', 'vegetables', 'tender', 'spices', 'beef', 'oil', 'masala', 'simmer', 'lentils', 'ground', 'preparation', 'Heat', 'salt', 'ghee', 'chicken', 'yogurt', 'butter', 'chili', 'oilghee', 'potatoes', 'turmeric', 'mutton', 'vegetables', 'tender', 'powder', 'spices', 'beef', 'ground', 'yogurt', 'beef', 'simmer', 'turmeric', 'oilghee', 'mutton', 'lentils', 'preparation', 'ghee', 'potatoes', 'powder', 'masala', 'oil', 'salt', 'spices', 'chicken', 'vegetables', 'butter', 'tender', 'chili', 'Heat'] \n",
            "\n",
            "Ingredients:\n",
            " oil, butter, ghee, cream, lemon, mint, cilantro, onion, tomato, green chili, garlic, ginger, cumin, coriander, chicken, beef, mutton, lentils, spinach, potatoes \n",
            "\n",
            "Instructions:\n",
            " kofta preparation: prepare ingredients and chop vegetables. heat oil/ghee and add whole spices. add main ingredients and cook until tender. add ground spices and simmer until well mixed. garnish and serve hot. \n",
            "\n",
            "Recipe Rank: 2 \t ['saag potatoes ground oil yogurt tender mutton vegetables salt chili masala ghee powder preparation spices chicken simmer turmeric butter beef oilghee lentils heat ground yogurt beef simmer turmeric oilghee mutton lentils preparation ghee potatoes powder masala oil salt spices chicken vegetables butter tender chili heat oil heat oilghee potatoes simmer mutton masala preparation chicken ground lentils salt ghee tender yogurt chili vegetables spices turmeric butter powder beef masala oil heat simmer butter oilghee potatoes lentils ground salt chicken mutton turmeric preparation ghee yogurt chili powder vegetables tender spices beef masala oil simmer mutton heat ground lentils turmeric salt chicken preparation oilghee ghee potatoes yogurt chili powder butter vegetables tender spices beef masala oil heat simmer mutton oilghee ground lentils potatoes turmeric salt chicken preparation butter ghee yogurt chili powder vegetables tender spices beef masala oil simmer butter heat ground lentils turmeric oilghee salt chicken potatoes preparation ghee mutton yogurt chili powder vegetables tender spices beef masala oil simmer butter heat ground lentils turmeric salt chicken preparation oilghee potatoes ghee yogurt chili mutton powder vegetables tender spices beef masala oil simmer butter heat ground lentils salt chicken turmeric oilghee preparation potatoes ghee yogurt chili mutton powder vegetables tender spices beef masala turmeric simmer heat mutton lentils ground oilghee salt chicken preparation potatoes ghee oil yogurt powder butter chili vegetables tender spices beef turmeric masala tender mutton heat vegetables ground preparation salt chicken ghee oil oilghee yogurt potatoes powder butter chili simmer lentils spices beef masala turmeric simmer mutton heat ground lentils oilghee salt chicken oil potatoes preparation ghee yogurt butter powder chili vegetables tender spices beef turmeric masala simmer mutton lentils ground heat salt oil chicken preparation ghee yogurt oilghee powder potatoes butter chili vegetables tender spices beef turmeric masala tender heat mutton ground vegetables salt chicken potatoes oil oilghee preparation ghee butter yogurt powder chili simmer lentils spices beef masala turmeric mutton simmer ground heat salt chicken oil lentils preparation oilghee ghee potatoes yogurt powder chili butter tender vegetables spices beef masala oil simmer butter heat ground lentils turmeric salt chicken preparation oilghee potatoes ghee yogurt chili mutton powder vegetables tender spices beef masala oil mutton simmer heat ground salt chicken turmeric lentils oilghee potatoes preparation ghee yogurt butter chili powder vegetables tender spices beef masala oil simmer mutton heat ground lentils turmeric salt chicken oilghee potatoes preparation ghee yogurt butter chili powder vegetables tender spices beef oil masala simmer heat potatoes lentils oilghee ground salt preparation mutton chicken butter ghee yogurt chili turmeric powder vegetables tender spices beef masala turmeric mutton simmer oil heat ground lentils salt chicken chili oilghee preparation potatoes ghee yogurt powder butter vegetables tender spices beef turmeric masala simmer lentils ground preparation ghee salt yogurt powder chicken heat mutton potatoes oil oilghee butter vegetables chili tender spices beef masala oil simmer butter heat ground lentils salt chicken turmeric preparation oilghee potatoes ghee yogurt chili mutton powder vegetables tender spices beef masala oil simmer mutton heat ground lentils turmeric salt chicken oilghee preparation potatoes ghee yogurt chili powder butter vegetables tender spices beef masala oil mutton simmer heat ground turmeric lentils salt chicken oilghee preparation potatoes ghee yogurt chili butter powder vegetables tender spices beef turmeric masala oil tender heat potatoes butter oilghee vegetables ground preparation ghee yogurt powder salt chicken mutton simmer chili lentils spices beef turmeric masala simmer lentils ground preparation ghee salt yogurt powder heat chicken potatoes mutton oilghee oil butter vegetables chili tender spices beef masala oil simmer mutton heat ground lentils turmeric salt chicken preparation oilghee potatoes ghee yogurt chili butter powder vegetables tender spices beef oil masala heat simmer oilghee potatoes ground butter lentils chicken salt preparation mutton ghee yogurt chili turmeric powder vegetables tender spices beef oil masala heat oilghee potatoes simmer mutton ground lentils butter chicken salt preparation ghee yogurt chili turmeric powder vegetables tender spices beef oil heat masala oilghee potatoes simmer mutton lentils preparation ground ghee chicken salt yogurt chili butter tender vegetables turmeric powder spices beef oil masala heat oilghee potatoes simmer mutton lentils butter ground preparation salt chicken ghee yogurt chili turmeric powder vegetables tender spices beef oil masala heat oilghee potatoes simmer butter lentils mutton ground chicken salt preparation ghee yogurt chili turmeric powder vegetables tender spices beef yogurt turmeric simmer mutton ground lentils salt potatoes chicken heat preparation ghee oilghee masala chili butter powder vegetables tender spices oil beef oil masala heat oilghee potatoes simmer butter lentils ground preparation salt chicken mutton ghee yogurt chili turmeric powder vegetables tender spices beef turmeric masala tender heat potatoes oilghee mutton vegetables ground preparation salt butter ghee chicken yogurt powder oil chili simmer lentils spices beef oil masala heat oilghee potatoes simmer butter lentils mutton ground preparation salt chicken ghee yogurt chili turmeric powder vegetables tender spices beef masala oil simmer heat butter ground oilghee lentils potatoes salt chicken turmeric preparation ghee mutton yogurt chili powder vegetables tender spices beef turmeric masala simmer oil lentils ground preparation ghee yogurt tender salt powder chicken vegetables spices heat mutton potatoes oilghee butter chili beef oil heat oilghee potatoes simmer mutton masala ground preparation chicken lentils salt ghee tender yogurt chili vegetables spices turmeric butter powder beef oil masala simmer heat oilghee potatoes lentils ground preparation mutton ghee salt chicken yogurt chili butter turmeric vegetables powder tender spices beef masala oil simmer butter ground lentils turmeric salt heat chicken preparation ghee yogurt oilghee chili potatoes powder mutton vegetables tender spices beef masala turmeric butter oil simmer chicken lentils chili salt ground heat preparation ghee tender yogurt powder oilghee potatoes mutton vegetables spices beef turmeric masala simmer mutton lentils oil ground preparation salt chicken ghee yogurt powder heat chili oilghee potatoes vegetables butter tender spices beef masala turmeric mutton oil simmer lentils ground salt chicken chili preparation ghee yogurt tender powder vegetables heat spices oilghee potatoes butter beef masala turmeric mutton heat oil oilghee potatoes simmer butter chili lentils ground salt chicken preparation ghee yogurt powder vegetables tender spices beef masala turmeric simmer mutton ground lentils heat chicken salt preparation ghee yogurt oilghee oil powder tender potatoes butter chili vegetables spices beef masala turmeric mutton oil simmer lentils chicken ground salt chili preparation ghee tender yogurt powder heat oilghee potatoes vegetables butter spices beef oil heat masala potatoes oilghee simmer mutton ground lentils preparation salt chicken ghee yogurt chili butter turmeric vegetables powder tender spices beef turmeric masala simmer heat lentils butter ground oilghee potatoes preparation salt oil ghee chicken yogurt powder mutton chili vegetables tender spices beef oil masala simmer lentils ground preparation heat salt ghee chicken yogurt butter chili oilghee potatoes turmeric mutton vegetables tender powder spices beef ground yogurt beef simmer turmeric oilghee mutton lentils preparation ghee potatoes powder masala oil salt spices chicken vegetables butter tender chili heat', 'potatoes', 'ground', 'oil', 'yogurt', 'tender', 'mutton', 'vegetables', 'salt', 'chili', 'masala', 'ghee', 'powder', 'preparation', 'spices', 'chicken', 'simmer', 'turmeric', 'butter', 'beef', 'oilghee', 'lentils', 'Heat', 'ground', 'yogurt', 'beef', 'simmer', 'turmeric', 'oilghee', 'mutton', 'lentils', 'preparation', 'ghee', 'potatoes', 'powder', 'masala', 'oil', 'salt', 'spices', 'chicken', 'vegetables', 'butter', 'tender', 'chili', 'Heat', 'oil', 'Heat', 'oilghee', 'potatoes', 'simmer', 'mutton', 'masala', 'preparation', 'chicken', 'ground', 'lentils', 'salt', 'ghee', 'tender', 'yogurt', 'chili', 'vegetables', 'spices', 'turmeric', 'butter', 'powder', 'beef', 'masala', 'oil', 'Heat', 'simmer', 'butter', 'oilghee', 'potatoes', 'lentils', 'ground', 'salt', 'chicken', 'mutton', 'turmeric', 'preparation', 'ghee', 'yogurt', 'chili', 'powder', 'vegetables', 'tender', 'spices', 'beef', 'masala', 'oil', 'simmer', 'mutton', 'Heat', 'ground', 'lentils', 'turmeric', 'salt', 'chicken', 'preparation', 'oilghee', 'ghee', 'potatoes', 'yogurt', 'chili', 'powder', 'butter', 'vegetables', 'tender', 'spices', 'beef', 'masala', 'oil', 'Heat', 'simmer', 'mutton', 'oilghee', 'ground', 'lentils', 'potatoes', 'turmeric', 'salt', 'chicken', 'preparation', 'butter', 'ghee', 'yogurt', 'chili', 'powder', 'vegetables', 'tender', 'spices', 'beef', 'masala', 'oil', 'simmer', 'butter', 'Heat', 'ground', 'lentils', 'turmeric', 'oilghee', 'salt', 'chicken', 'potatoes', 'preparation', 'ghee', 'mutton', 'yogurt', 'chili', 'powder', 'vegetables', 'tender', 'spices', 'beef', 'masala', 'oil', 'simmer', 'butter', 'Heat', 'ground', 'lentils', 'turmeric', 'salt', 'chicken', 'preparation', 'oilghee', 'potatoes', 'ghee', 'yogurt', 'chili', 'mutton', 'powder', 'vegetables', 'tender', 'spices', 'beef', 'masala', 'oil', 'simmer', 'butter', 'Heat', 'ground', 'lentils', 'salt', 'chicken', 'turmeric', 'oilghee', 'preparation', 'potatoes', 'ghee', 'yogurt', 'chili', 'mutton', 'powder', 'vegetables', 'tender', 'spices', 'beef', 'masala', 'turmeric', 'simmer', 'Heat', 'mutton', 'lentils', 'ground', 'oilghee', 'salt', 'chicken', 'preparation', 'potatoes', 'ghee', 'oil', 'yogurt', 'powder', 'butter', 'chili', 'vegetables', 'tender', 'spices', 'beef', 'turmeric', 'masala', 'tender', 'mutton', 'Heat', 'vegetables', 'ground', 'preparation', 'salt', 'chicken', 'ghee', 'oil', 'oilghee', 'yogurt', 'potatoes', 'powder', 'butter', 'chili', 'simmer', 'lentils', 'spices', 'beef', 'masala', 'turmeric', 'simmer', 'mutton', 'Heat', 'ground', 'lentils', 'oilghee', 'salt', 'chicken', 'oil', 'potatoes', 'preparation', 'ghee', 'yogurt', 'butter', 'powder', 'chili', 'vegetables', 'tender', 'spices', 'beef', 'turmeric', 'masala', 'simmer', 'mutton', 'lentils', 'ground', 'Heat', 'salt', 'oil', 'chicken', 'preparation', 'ghee', 'yogurt', 'oilghee', 'powder', 'potatoes', 'butter', 'chili', 'vegetables', 'tender', 'spices', 'beef', 'turmeric', 'masala', 'tender', 'Heat', 'mutton', 'ground', 'vegetables', 'salt', 'chicken', 'potatoes', 'oil', 'oilghee', 'preparation', 'ghee', 'butter', 'yogurt', 'powder', 'chili', 'simmer', 'lentils', 'spices', 'beef', 'masala', 'turmeric', 'mutton', 'simmer', 'ground', 'Heat', 'salt', 'chicken', 'oil', 'lentils', 'preparation', 'oilghee', 'ghee', 'potatoes', 'yogurt', 'powder', 'chili', 'butter', 'tender', 'vegetables', 'spices', 'beef', 'masala', 'oil', 'simmer', 'butter', 'Heat', 'ground', 'lentils', 'turmeric', 'salt', 'chicken', 'preparation', 'oilghee', 'potatoes', 'ghee', 'yogurt', 'chili', 'mutton', 'powder', 'vegetables', 'tender', 'spices', 'beef', 'masala', 'oil', 'mutton', 'simmer', 'Heat', 'ground', 'salt', 'chicken', 'turmeric', 'lentils', 'oilghee', 'potatoes', 'preparation', 'ghee', 'yogurt', 'butter', 'chili', 'powder', 'vegetables', 'tender', 'spices', 'beef', 'masala', 'oil', 'simmer', 'mutton', 'Heat', 'ground', 'lentils', 'turmeric', 'salt', 'chicken', 'oilghee', 'potatoes', 'preparation', 'ghee', 'yogurt', 'butter', 'chili', 'powder', 'vegetables', 'tender', 'spices', 'beef', 'oil', 'masala', 'simmer', 'Heat', 'potatoes', 'lentils', 'oilghee', 'ground', 'salt', 'preparation', 'mutton', 'chicken', 'butter', 'ghee', 'yogurt', 'chili', 'turmeric', 'powder', 'vegetables', 'tender', 'spices', 'beef', 'masala', 'turmeric', 'mutton', 'simmer', 'oil', 'Heat', 'ground', 'lentils', 'salt', 'chicken', 'chili', 'oilghee', 'preparation', 'potatoes', 'ghee', 'yogurt', 'powder', 'butter', 'vegetables', 'tender', 'spices', 'beef', 'turmeric', 'masala', 'simmer', 'lentils', 'ground', 'preparation', 'ghee', 'salt', 'yogurt', 'powder', 'chicken', 'Heat', 'mutton', 'potatoes', 'oil', 'oilghee', 'butter', 'vegetables', 'chili', 'tender', 'spices', 'beef', 'masala', 'oil', 'simmer', 'butter', 'Heat', 'ground', 'lentils', 'salt', 'chicken', 'turmeric', 'preparation', 'oilghee', 'potatoes', 'ghee', 'yogurt', 'chili', 'mutton', 'powder', 'vegetables', 'tender', 'spices', 'beef', 'masala', 'oil', 'simmer', 'mutton', 'Heat', 'ground', 'lentils', 'turmeric', 'salt', 'chicken', 'oilghee', 'preparation', 'potatoes', 'ghee', 'yogurt', 'chili', 'powder', 'butter', 'vegetables', 'tender', 'spices', 'beef', 'masala', 'oil', 'mutton', 'simmer', 'Heat', 'ground', 'turmeric', 'lentils', 'salt', 'chicken', 'oilghee', 'preparation', 'potatoes', 'ghee', 'yogurt', 'chili', 'butter', 'powder', 'vegetables', 'tender', 'spices', 'beef', 'turmeric', 'masala', 'oil', 'tender', 'Heat', 'potatoes', 'butter', 'oilghee', 'vegetables', 'ground', 'preparation', 'ghee', 'yogurt', 'powder', 'salt', 'chicken', 'mutton', 'simmer', 'chili', 'lentils', 'spices', 'beef', 'turmeric', 'masala', 'simmer', 'lentils', 'ground', 'preparation', 'ghee', 'salt', 'yogurt', 'powder', 'Heat', 'chicken', 'potatoes', 'mutton', 'oilghee', 'oil', 'butter', 'vegetables', 'chili', 'tender', 'spices', 'beef', 'masala', 'oil', 'simmer', 'mutton', 'Heat', 'ground', 'lentils', 'turmeric', 'salt', 'chicken', 'preparation', 'oilghee', 'potatoes', 'ghee', 'yogurt', 'chili', 'butter', 'powder', 'vegetables', 'tender', 'spices', 'beef', 'oil', 'masala', 'Heat', 'simmer', 'oilghee', 'potatoes', 'ground', 'butter', 'lentils', 'chicken', 'salt', 'preparation', 'mutton', 'ghee', 'yogurt', 'chili', 'turmeric', 'powder', 'vegetables', 'tender', 'spices', 'beef', 'oil', 'masala', 'Heat', 'oilghee', 'potatoes', 'simmer', 'mutton', 'ground', 'lentils', 'butter', 'chicken', 'salt', 'preparation', 'ghee', 'yogurt', 'chili', 'turmeric', 'powder', 'vegetables', 'tender', 'spices', 'beef', 'oil', 'Heat', 'masala', 'oilghee', 'potatoes', 'simmer', 'mutton', 'lentils', 'preparation', 'ground', 'ghee', 'chicken', 'salt', 'yogurt', 'chili', 'butter', 'tender', 'vegetables', 'turmeric', 'powder', 'spices', 'beef', 'oil', 'masala', 'Heat', 'oilghee', 'potatoes', 'simmer', 'mutton', 'lentils', 'butter', 'ground', 'preparation', 'salt', 'chicken', 'ghee', 'yogurt', 'chili', 'turmeric', 'powder', 'vegetables', 'tender', 'spices', 'beef', 'oil', 'masala', 'Heat', 'oilghee', 'potatoes', 'simmer', 'butter', 'lentils', 'mutton', 'ground', 'chicken', 'salt', 'preparation', 'ghee', 'yogurt', 'chili', 'turmeric', 'powder', 'vegetables', 'tender', 'spices', 'beef', 'yogurt', 'turmeric', 'simmer', 'mutton', 'ground', 'lentils', 'salt', 'potatoes', 'chicken', 'Heat', 'preparation', 'ghee', 'oilghee', 'masala', 'chili', 'butter', 'powder', 'vegetables', 'tender', 'spices', 'oil', 'beef', 'oil', 'masala', 'Heat', 'oilghee', 'potatoes', 'simmer', 'butter', 'lentils', 'ground', 'preparation', 'salt', 'chicken', 'mutton', 'ghee', 'yogurt', 'chili', 'turmeric', 'powder', 'vegetables', 'tender', 'spices', 'beef', 'turmeric', 'masala', 'tender', 'Heat', 'potatoes', 'oilghee', 'mutton', 'vegetables', 'ground', 'preparation', 'salt', 'butter', 'ghee', 'chicken', 'yogurt', 'powder', 'oil', 'chili', 'simmer', 'lentils', 'spices', 'beef', 'oil', 'masala', 'Heat', 'oilghee', 'potatoes', 'simmer', 'butter', 'lentils', 'mutton', 'ground', 'preparation', 'salt', 'chicken', 'ghee', 'yogurt', 'chili', 'turmeric', 'powder', 'vegetables', 'tender', 'spices', 'beef', 'masala', 'oil', 'simmer', 'Heat', 'butter', 'ground', 'oilghee', 'lentils', 'potatoes', 'salt', 'chicken', 'turmeric', 'preparation', 'ghee', 'mutton', 'yogurt', 'chili', 'powder', 'vegetables', 'tender', 'spices', 'beef', 'turmeric', 'masala', 'simmer', 'oil', 'lentils', 'ground', 'preparation', 'ghee', 'yogurt', 'tender', 'salt', 'powder', 'chicken', 'vegetables', 'spices', 'Heat', 'mutton', 'potatoes', 'oilghee', 'butter', 'chili', 'beef', 'oil', 'Heat', 'oilghee', 'potatoes', 'simmer', 'mutton', 'masala', 'ground', 'preparation', 'chicken', 'lentils', 'salt', 'ghee', 'tender', 'yogurt', 'chili', 'vegetables', 'spices', 'turmeric', 'butter', 'powder', 'beef', 'oil', 'masala', 'simmer', 'Heat', 'oilghee', 'potatoes', 'lentils', 'ground', 'preparation', 'mutton', 'ghee', 'salt', 'chicken', 'yogurt', 'chili', 'butter', 'turmeric', 'vegetables', 'powder', 'tender', 'spices', 'beef', 'masala', 'oil', 'simmer', 'butter', 'ground', 'lentils', 'turmeric', 'salt', 'Heat', 'chicken', 'preparation', 'ghee', 'yogurt', 'oilghee', 'chili', 'potatoes', 'powder', 'mutton', 'vegetables', 'tender', 'spices', 'beef', 'masala', 'turmeric', 'butter', 'oil', 'simmer', 'chicken', 'lentils', 'chili', 'salt', 'ground', 'Heat', 'preparation', 'ghee', 'tender', 'yogurt', 'powder', 'oilghee', 'potatoes', 'mutton', 'vegetables', 'spices', 'beef', 'turmeric', 'masala', 'simmer', 'mutton', 'lentils', 'oil', 'ground', 'preparation', 'salt', 'chicken', 'ghee', 'yogurt', 'powder', 'Heat', 'chili', 'oilghee', 'potatoes', 'vegetables', 'butter', 'tender', 'spices', 'beef', 'masala', 'turmeric', 'mutton', 'oil', 'simmer', 'lentils', 'ground', 'salt', 'chicken', 'chili', 'preparation', 'ghee', 'yogurt', 'tender', 'powder', 'vegetables', 'Heat', 'spices', 'oilghee', 'potatoes', 'butter', 'beef', 'masala', 'turmeric', 'mutton', 'Heat', 'oil', 'oilghee', 'potatoes', 'simmer', 'butter', 'chili', 'lentils', 'ground', 'salt', 'chicken', 'preparation', 'ghee', 'yogurt', 'powder', 'vegetables', 'tender', 'spices', 'beef', 'masala', 'turmeric', 'simmer', 'mutton', 'ground', 'lentils', 'Heat', 'chicken', 'salt', 'preparation', 'ghee', 'yogurt', 'oilghee', 'oil', 'powder', 'tender', 'potatoes', 'butter', 'chili', 'vegetables', 'spices', 'beef', 'masala', 'turmeric', 'mutton', 'oil', 'simmer', 'lentils', 'chicken', 'ground', 'salt', 'chili', 'preparation', 'ghee', 'tender', 'yogurt', 'powder', 'Heat', 'oilghee', 'potatoes', 'vegetables', 'butter', 'spices', 'beef', 'oil', 'Heat', 'masala', 'potatoes', 'oilghee', 'simmer', 'mutton', 'ground', 'lentils', 'preparation', 'salt', 'chicken', 'ghee', 'yogurt', 'chili', 'butter', 'turmeric', 'vegetables', 'powder', 'tender', 'spices', 'beef', 'turmeric', 'masala', 'simmer', 'Heat', 'lentils', 'butter', 'ground', 'oilghee', 'potatoes', 'preparation', 'salt', 'oil', 'ghee', 'chicken', 'yogurt', 'powder', 'mutton', 'chili', 'vegetables', 'tender', 'spices', 'beef', 'oil', 'masala', 'simmer', 'lentils', 'ground', 'preparation', 'Heat', 'salt', 'ghee', 'chicken', 'yogurt', 'butter', 'chili', 'oilghee', 'potatoes', 'turmeric', 'mutton', 'vegetables', 'tender', 'powder', 'spices', 'beef', 'ground', 'yogurt', 'beef', 'simmer', 'turmeric', 'oilghee', 'mutton', 'lentils', 'preparation', 'ghee', 'potatoes', 'powder', 'masala', 'oil', 'salt', 'spices', 'chicken', 'vegetables', 'butter', 'tender', 'chili', 'Heat'] \n",
            "\n",
            "Ingredients:\n",
            " chicken, beef, mutton, lentils, spinach, potatoes, onion, tomato, green chili, garlic, ginger, cumin, coriander, oil, butter, ghee, cream, lemon, mint, cilantro \n",
            "\n",
            "Instructions:\n",
            " saag preparation: prepare ingredients and chop vegetables. heat oil/ghee and add whole spices. add main ingredients and cook until tender. add ground spices and simmer until well mixed. garnish and serve hot. \n",
            "\n",
            "Recipe Rank: 3 \t ['chicken karahi potatoes ground oil yogurt tender mutton vegetables salt chili masala ghee powder preparation spices chicken simmer turmeric butter beef oilghee lentils heat ground yogurt beef simmer turmeric oilghee mutton lentils preparation ghee potatoes powder masala oil salt spices chicken vegetables butter tender chili heat oil heat oilghee potatoes simmer mutton masala preparation chicken ground lentils salt ghee tender yogurt chili vegetables spices turmeric butter powder beef masala oil heat simmer butter oilghee potatoes lentils ground salt chicken mutton turmeric preparation ghee yogurt chili powder vegetables tender spices beef masala oil simmer mutton heat ground lentils turmeric salt chicken preparation oilghee ghee potatoes yogurt chili powder butter vegetables tender spices beef masala oil heat simmer mutton oilghee ground lentils potatoes turmeric salt chicken preparation butter ghee yogurt chili powder vegetables tender spices beef masala oil simmer butter heat ground lentils turmeric oilghee salt chicken potatoes preparation ghee mutton yogurt chili powder vegetables tender spices beef masala oil simmer butter heat ground lentils turmeric salt chicken preparation oilghee potatoes ghee yogurt chili mutton powder vegetables tender spices beef masala oil simmer butter heat ground lentils salt chicken turmeric oilghee preparation potatoes ghee yogurt chili mutton powder vegetables tender spices beef masala turmeric simmer heat mutton lentils ground oilghee salt chicken preparation potatoes ghee oil yogurt powder butter chili vegetables tender spices beef turmeric masala tender mutton heat vegetables ground preparation salt chicken ghee oil oilghee yogurt potatoes powder butter chili simmer lentils spices beef masala turmeric simmer mutton heat ground lentils oilghee salt chicken oil potatoes preparation ghee yogurt butter powder chili vegetables tender spices beef turmeric masala simmer mutton lentils ground heat salt oil chicken preparation ghee yogurt oilghee powder potatoes butter chili vegetables tender spices beef turmeric masala tender heat mutton ground vegetables salt chicken potatoes oil oilghee preparation ghee butter yogurt powder chili simmer lentils spices beef masala turmeric mutton simmer ground heat salt chicken oil lentils preparation oilghee ghee potatoes yogurt powder chili butter tender vegetables spices beef masala oil simmer butter heat ground lentils turmeric salt chicken preparation oilghee potatoes ghee yogurt chili mutton powder vegetables tender spices beef masala oil mutton simmer heat ground salt chicken turmeric lentils oilghee potatoes preparation ghee yogurt butter chili powder vegetables tender spices beef masala oil simmer mutton heat ground lentils turmeric salt chicken oilghee potatoes preparation ghee yogurt butter chili powder vegetables tender spices beef oil masala simmer heat potatoes lentils oilghee ground salt preparation mutton chicken butter ghee yogurt chili turmeric powder vegetables tender spices beef masala turmeric mutton simmer oil heat ground lentils salt chicken chili oilghee preparation potatoes ghee yogurt powder butter vegetables tender spices beef turmeric masala simmer lentils ground preparation ghee salt yogurt powder chicken heat mutton potatoes oil oilghee butter vegetables chili tender spices beef masala oil simmer butter heat ground lentils salt chicken turmeric preparation oilghee potatoes ghee yogurt chili mutton powder vegetables tender spices beef masala oil simmer mutton heat ground lentils turmeric salt chicken oilghee preparation potatoes ghee yogurt chili powder butter vegetables tender spices beef masala oil mutton simmer heat ground turmeric lentils salt chicken oilghee preparation potatoes ghee yogurt chili butter powder vegetables tender spices beef turmeric masala oil tender heat potatoes butter oilghee vegetables ground preparation ghee yogurt powder salt chicken mutton simmer chili lentils spices beef turmeric masala simmer lentils ground preparation ghee salt yogurt powder heat chicken potatoes mutton oilghee oil butter vegetables chili tender spices beef masala oil simmer mutton heat ground lentils turmeric salt chicken preparation oilghee potatoes ghee yogurt chili butter powder vegetables tender spices beef oil masala heat simmer oilghee potatoes ground butter lentils chicken salt preparation mutton ghee yogurt chili turmeric powder vegetables tender spices beef oil masala heat oilghee potatoes simmer mutton ground lentils butter chicken salt preparation ghee yogurt chili turmeric powder vegetables tender spices beef oil heat masala oilghee potatoes simmer mutton lentils preparation ground ghee chicken salt yogurt chili butter tender vegetables turmeric powder spices beef oil masala heat oilghee potatoes simmer mutton lentils butter ground preparation salt chicken ghee yogurt chili turmeric powder vegetables tender spices beef oil masala heat oilghee potatoes simmer butter lentils mutton ground chicken salt preparation ghee yogurt chili turmeric powder vegetables tender spices beef yogurt turmeric simmer mutton ground lentils salt potatoes chicken heat preparation ghee oilghee masala chili butter powder vegetables tender spices oil beef oil masala heat oilghee potatoes simmer butter lentils ground preparation salt chicken mutton ghee yogurt chili turmeric powder vegetables tender spices beef turmeric masala tender heat potatoes oilghee mutton vegetables ground preparation salt butter ghee chicken yogurt powder oil chili simmer lentils spices beef oil masala heat oilghee potatoes simmer butter lentils mutton ground preparation salt chicken ghee yogurt chili turmeric powder vegetables tender spices beef masala oil simmer heat butter ground oilghee lentils potatoes salt chicken turmeric preparation ghee mutton yogurt chili powder vegetables tender spices beef turmeric masala simmer oil lentils ground preparation ghee yogurt tender salt powder chicken vegetables spices heat mutton potatoes oilghee butter chili beef oil heat oilghee potatoes simmer mutton masala ground preparation chicken lentils salt ghee tender yogurt chili vegetables spices turmeric butter powder beef oil masala simmer heat oilghee potatoes lentils ground preparation mutton ghee salt chicken yogurt chili butter turmeric vegetables powder tender spices beef masala oil simmer butter ground lentils turmeric salt heat chicken preparation ghee yogurt oilghee chili potatoes powder mutton vegetables tender spices beef masala turmeric butter oil simmer chicken lentils chili salt ground heat preparation ghee tender yogurt powder oilghee potatoes mutton vegetables spices beef turmeric masala simmer mutton lentils oil ground preparation salt chicken ghee yogurt powder heat chili oilghee potatoes vegetables butter tender spices beef masala turmeric mutton oil simmer lentils ground salt chicken chili preparation ghee yogurt tender powder vegetables heat spices oilghee potatoes butter beef masala turmeric mutton heat oil oilghee potatoes simmer butter chili lentils ground salt chicken preparation ghee yogurt powder vegetables tender spices beef masala turmeric simmer mutton ground lentils heat chicken salt preparation ghee yogurt oilghee oil powder tender potatoes butter chili vegetables spices beef masala turmeric mutton oil simmer lentils chicken ground salt chili preparation ghee tender yogurt powder heat oilghee potatoes vegetables butter spices beef oil heat masala potatoes oilghee simmer mutton ground lentils preparation salt chicken ghee yogurt chili butter turmeric vegetables powder tender spices beef turmeric masala simmer heat lentils butter ground oilghee potatoes preparation salt oil ghee chicken yogurt powder mutton chili vegetables tender spices beef oil masala simmer lentils ground preparation heat salt ghee chicken yogurt butter chili oilghee potatoes turmeric mutton vegetables tender powder spices beef ground yogurt beef simmer turmeric oilghee mutton lentils preparation ghee potatoes powder masala oil salt spices chicken vegetables butter tender chili heat', 'potatoes', 'ground', 'oil', 'yogurt', 'tender', 'mutton', 'vegetables', 'salt', 'chili', 'masala', 'ghee', 'powder', 'preparation', 'spices', 'chicken', 'simmer', 'turmeric', 'butter', 'beef', 'oilghee', 'lentils', 'Heat', 'ground', 'yogurt', 'beef', 'simmer', 'turmeric', 'oilghee', 'mutton', 'lentils', 'preparation', 'ghee', 'potatoes', 'powder', 'masala', 'oil', 'salt', 'spices', 'chicken', 'vegetables', 'butter', 'tender', 'chili', 'Heat', 'oil', 'Heat', 'oilghee', 'potatoes', 'simmer', 'mutton', 'masala', 'preparation', 'chicken', 'ground', 'lentils', 'salt', 'ghee', 'tender', 'yogurt', 'chili', 'vegetables', 'spices', 'turmeric', 'butter', 'powder', 'beef', 'masala', 'oil', 'Heat', 'simmer', 'butter', 'oilghee', 'potatoes', 'lentils', 'ground', 'salt', 'chicken', 'mutton', 'turmeric', 'preparation', 'ghee', 'yogurt', 'chili', 'powder', 'vegetables', 'tender', 'spices', 'beef', 'masala', 'oil', 'simmer', 'mutton', 'Heat', 'ground', 'lentils', 'turmeric', 'salt', 'chicken', 'preparation', 'oilghee', 'ghee', 'potatoes', 'yogurt', 'chili', 'powder', 'butter', 'vegetables', 'tender', 'spices', 'beef', 'masala', 'oil', 'Heat', 'simmer', 'mutton', 'oilghee', 'ground', 'lentils', 'potatoes', 'turmeric', 'salt', 'chicken', 'preparation', 'butter', 'ghee', 'yogurt', 'chili', 'powder', 'vegetables', 'tender', 'spices', 'beef', 'masala', 'oil', 'simmer', 'butter', 'Heat', 'ground', 'lentils', 'turmeric', 'oilghee', 'salt', 'chicken', 'potatoes', 'preparation', 'ghee', 'mutton', 'yogurt', 'chili', 'powder', 'vegetables', 'tender', 'spices', 'beef', 'masala', 'oil', 'simmer', 'butter', 'Heat', 'ground', 'lentils', 'turmeric', 'salt', 'chicken', 'preparation', 'oilghee', 'potatoes', 'ghee', 'yogurt', 'chili', 'mutton', 'powder', 'vegetables', 'tender', 'spices', 'beef', 'masala', 'oil', 'simmer', 'butter', 'Heat', 'ground', 'lentils', 'salt', 'chicken', 'turmeric', 'oilghee', 'preparation', 'potatoes', 'ghee', 'yogurt', 'chili', 'mutton', 'powder', 'vegetables', 'tender', 'spices', 'beef', 'masala', 'turmeric', 'simmer', 'Heat', 'mutton', 'lentils', 'ground', 'oilghee', 'salt', 'chicken', 'preparation', 'potatoes', 'ghee', 'oil', 'yogurt', 'powder', 'butter', 'chili', 'vegetables', 'tender', 'spices', 'beef', 'turmeric', 'masala', 'tender', 'mutton', 'Heat', 'vegetables', 'ground', 'preparation', 'salt', 'chicken', 'ghee', 'oil', 'oilghee', 'yogurt', 'potatoes', 'powder', 'butter', 'chili', 'simmer', 'lentils', 'spices', 'beef', 'masala', 'turmeric', 'simmer', 'mutton', 'Heat', 'ground', 'lentils', 'oilghee', 'salt', 'chicken', 'oil', 'potatoes', 'preparation', 'ghee', 'yogurt', 'butter', 'powder', 'chili', 'vegetables', 'tender', 'spices', 'beef', 'turmeric', 'masala', 'simmer', 'mutton', 'lentils', 'ground', 'Heat', 'salt', 'oil', 'chicken', 'preparation', 'ghee', 'yogurt', 'oilghee', 'powder', 'potatoes', 'butter', 'chili', 'vegetables', 'tender', 'spices', 'beef', 'turmeric', 'masala', 'tender', 'Heat', 'mutton', 'ground', 'vegetables', 'salt', 'chicken', 'potatoes', 'oil', 'oilghee', 'preparation', 'ghee', 'butter', 'yogurt', 'powder', 'chili', 'simmer', 'lentils', 'spices', 'beef', 'masala', 'turmeric', 'mutton', 'simmer', 'ground', 'Heat', 'salt', 'chicken', 'oil', 'lentils', 'preparation', 'oilghee', 'ghee', 'potatoes', 'yogurt', 'powder', 'chili', 'butter', 'tender', 'vegetables', 'spices', 'beef', 'masala', 'oil', 'simmer', 'butter', 'Heat', 'ground', 'lentils', 'turmeric', 'salt', 'chicken', 'preparation', 'oilghee', 'potatoes', 'ghee', 'yogurt', 'chili', 'mutton', 'powder', 'vegetables', 'tender', 'spices', 'beef', 'masala', 'oil', 'mutton', 'simmer', 'Heat', 'ground', 'salt', 'chicken', 'turmeric', 'lentils', 'oilghee', 'potatoes', 'preparation', 'ghee', 'yogurt', 'butter', 'chili', 'powder', 'vegetables', 'tender', 'spices', 'beef', 'masala', 'oil', 'simmer', 'mutton', 'Heat', 'ground', 'lentils', 'turmeric', 'salt', 'chicken', 'oilghee', 'potatoes', 'preparation', 'ghee', 'yogurt', 'butter', 'chili', 'powder', 'vegetables', 'tender', 'spices', 'beef', 'oil', 'masala', 'simmer', 'Heat', 'potatoes', 'lentils', 'oilghee', 'ground', 'salt', 'preparation', 'mutton', 'chicken', 'butter', 'ghee', 'yogurt', 'chili', 'turmeric', 'powder', 'vegetables', 'tender', 'spices', 'beef', 'masala', 'turmeric', 'mutton', 'simmer', 'oil', 'Heat', 'ground', 'lentils', 'salt', 'chicken', 'chili', 'oilghee', 'preparation', 'potatoes', 'ghee', 'yogurt', 'powder', 'butter', 'vegetables', 'tender', 'spices', 'beef', 'turmeric', 'masala', 'simmer', 'lentils', 'ground', 'preparation', 'ghee', 'salt', 'yogurt', 'powder', 'chicken', 'Heat', 'mutton', 'potatoes', 'oil', 'oilghee', 'butter', 'vegetables', 'chili', 'tender', 'spices', 'beef', 'masala', 'oil', 'simmer', 'butter', 'Heat', 'ground', 'lentils', 'salt', 'chicken', 'turmeric', 'preparation', 'oilghee', 'potatoes', 'ghee', 'yogurt', 'chili', 'mutton', 'powder', 'vegetables', 'tender', 'spices', 'beef', 'masala', 'oil', 'simmer', 'mutton', 'Heat', 'ground', 'lentils', 'turmeric', 'salt', 'chicken', 'oilghee', 'preparation', 'potatoes', 'ghee', 'yogurt', 'chili', 'powder', 'butter', 'vegetables', 'tender', 'spices', 'beef', 'masala', 'oil', 'mutton', 'simmer', 'Heat', 'ground', 'turmeric', 'lentils', 'salt', 'chicken', 'oilghee', 'preparation', 'potatoes', 'ghee', 'yogurt', 'chili', 'butter', 'powder', 'vegetables', 'tender', 'spices', 'beef', 'turmeric', 'masala', 'oil', 'tender', 'Heat', 'potatoes', 'butter', 'oilghee', 'vegetables', 'ground', 'preparation', 'ghee', 'yogurt', 'powder', 'salt', 'chicken', 'mutton', 'simmer', 'chili', 'lentils', 'spices', 'beef', 'turmeric', 'masala', 'simmer', 'lentils', 'ground', 'preparation', 'ghee', 'salt', 'yogurt', 'powder', 'Heat', 'chicken', 'potatoes', 'mutton', 'oilghee', 'oil', 'butter', 'vegetables', 'chili', 'tender', 'spices', 'beef', 'masala', 'oil', 'simmer', 'mutton', 'Heat', 'ground', 'lentils', 'turmeric', 'salt', 'chicken', 'preparation', 'oilghee', 'potatoes', 'ghee', 'yogurt', 'chili', 'butter', 'powder', 'vegetables', 'tender', 'spices', 'beef', 'oil', 'masala', 'Heat', 'simmer', 'oilghee', 'potatoes', 'ground', 'butter', 'lentils', 'chicken', 'salt', 'preparation', 'mutton', 'ghee', 'yogurt', 'chili', 'turmeric', 'powder', 'vegetables', 'tender', 'spices', 'beef', 'oil', 'masala', 'Heat', 'oilghee', 'potatoes', 'simmer', 'mutton', 'ground', 'lentils', 'butter', 'chicken', 'salt', 'preparation', 'ghee', 'yogurt', 'chili', 'turmeric', 'powder', 'vegetables', 'tender', 'spices', 'beef', 'oil', 'Heat', 'masala', 'oilghee', 'potatoes', 'simmer', 'mutton', 'lentils', 'preparation', 'ground', 'ghee', 'chicken', 'salt', 'yogurt', 'chili', 'butter', 'tender', 'vegetables', 'turmeric', 'powder', 'spices', 'beef', 'oil', 'masala', 'Heat', 'oilghee', 'potatoes', 'simmer', 'mutton', 'lentils', 'butter', 'ground', 'preparation', 'salt', 'chicken', 'ghee', 'yogurt', 'chili', 'turmeric', 'powder', 'vegetables', 'tender', 'spices', 'beef', 'oil', 'masala', 'Heat', 'oilghee', 'potatoes', 'simmer', 'butter', 'lentils', 'mutton', 'ground', 'chicken', 'salt', 'preparation', 'ghee', 'yogurt', 'chili', 'turmeric', 'powder', 'vegetables', 'tender', 'spices', 'beef', 'yogurt', 'turmeric', 'simmer', 'mutton', 'ground', 'lentils', 'salt', 'potatoes', 'chicken', 'Heat', 'preparation', 'ghee', 'oilghee', 'masala', 'chili', 'butter', 'powder', 'vegetables', 'tender', 'spices', 'oil', 'beef', 'oil', 'masala', 'Heat', 'oilghee', 'potatoes', 'simmer', 'butter', 'lentils', 'ground', 'preparation', 'salt', 'chicken', 'mutton', 'ghee', 'yogurt', 'chili', 'turmeric', 'powder', 'vegetables', 'tender', 'spices', 'beef', 'turmeric', 'masala', 'tender', 'Heat', 'potatoes', 'oilghee', 'mutton', 'vegetables', 'ground', 'preparation', 'salt', 'butter', 'ghee', 'chicken', 'yogurt', 'powder', 'oil', 'chili', 'simmer', 'lentils', 'spices', 'beef', 'oil', 'masala', 'Heat', 'oilghee', 'potatoes', 'simmer', 'butter', 'lentils', 'mutton', 'ground', 'preparation', 'salt', 'chicken', 'ghee', 'yogurt', 'chili', 'turmeric', 'powder', 'vegetables', 'tender', 'spices', 'beef', 'masala', 'oil', 'simmer', 'Heat', 'butter', 'ground', 'oilghee', 'lentils', 'potatoes', 'salt', 'chicken', 'turmeric', 'preparation', 'ghee', 'mutton', 'yogurt', 'chili', 'powder', 'vegetables', 'tender', 'spices', 'beef', 'turmeric', 'masala', 'simmer', 'oil', 'lentils', 'ground', 'preparation', 'ghee', 'yogurt', 'tender', 'salt', 'powder', 'chicken', 'vegetables', 'spices', 'Heat', 'mutton', 'potatoes', 'oilghee', 'butter', 'chili', 'beef', 'oil', 'Heat', 'oilghee', 'potatoes', 'simmer', 'mutton', 'masala', 'ground', 'preparation', 'chicken', 'lentils', 'salt', 'ghee', 'tender', 'yogurt', 'chili', 'vegetables', 'spices', 'turmeric', 'butter', 'powder', 'beef', 'oil', 'masala', 'simmer', 'Heat', 'oilghee', 'potatoes', 'lentils', 'ground', 'preparation', 'mutton', 'ghee', 'salt', 'chicken', 'yogurt', 'chili', 'butter', 'turmeric', 'vegetables', 'powder', 'tender', 'spices', 'beef', 'masala', 'oil', 'simmer', 'butter', 'ground', 'lentils', 'turmeric', 'salt', 'Heat', 'chicken', 'preparation', 'ghee', 'yogurt', 'oilghee', 'chili', 'potatoes', 'powder', 'mutton', 'vegetables', 'tender', 'spices', 'beef', 'masala', 'turmeric', 'butter', 'oil', 'simmer', 'chicken', 'lentils', 'chili', 'salt', 'ground', 'Heat', 'preparation', 'ghee', 'tender', 'yogurt', 'powder', 'oilghee', 'potatoes', 'mutton', 'vegetables', 'spices', 'beef', 'turmeric', 'masala', 'simmer', 'mutton', 'lentils', 'oil', 'ground', 'preparation', 'salt', 'chicken', 'ghee', 'yogurt', 'powder', 'Heat', 'chili', 'oilghee', 'potatoes', 'vegetables', 'butter', 'tender', 'spices', 'beef', 'masala', 'turmeric', 'mutton', 'oil', 'simmer', 'lentils', 'ground', 'salt', 'chicken', 'chili', 'preparation', 'ghee', 'yogurt', 'tender', 'powder', 'vegetables', 'Heat', 'spices', 'oilghee', 'potatoes', 'butter', 'beef', 'masala', 'turmeric', 'mutton', 'Heat', 'oil', 'oilghee', 'potatoes', 'simmer', 'butter', 'chili', 'lentils', 'ground', 'salt', 'chicken', 'preparation', 'ghee', 'yogurt', 'powder', 'vegetables', 'tender', 'spices', 'beef', 'masala', 'turmeric', 'simmer', 'mutton', 'ground', 'lentils', 'Heat', 'chicken', 'salt', 'preparation', 'ghee', 'yogurt', 'oilghee', 'oil', 'powder', 'tender', 'potatoes', 'butter', 'chili', 'vegetables', 'spices', 'beef', 'masala', 'turmeric', 'mutton', 'oil', 'simmer', 'lentils', 'chicken', 'ground', 'salt', 'chili', 'preparation', 'ghee', 'tender', 'yogurt', 'powder', 'Heat', 'oilghee', 'potatoes', 'vegetables', 'butter', 'spices', 'beef', 'oil', 'Heat', 'masala', 'potatoes', 'oilghee', 'simmer', 'mutton', 'ground', 'lentils', 'preparation', 'salt', 'chicken', 'ghee', 'yogurt', 'chili', 'butter', 'turmeric', 'vegetables', 'powder', 'tender', 'spices', 'beef', 'turmeric', 'masala', 'simmer', 'Heat', 'lentils', 'butter', 'ground', 'oilghee', 'potatoes', 'preparation', 'salt', 'oil', 'ghee', 'chicken', 'yogurt', 'powder', 'mutton', 'chili', 'vegetables', 'tender', 'spices', 'beef', 'oil', 'masala', 'simmer', 'lentils', 'ground', 'preparation', 'Heat', 'salt', 'ghee', 'chicken', 'yogurt', 'butter', 'chili', 'oilghee', 'potatoes', 'turmeric', 'mutton', 'vegetables', 'tender', 'powder', 'spices', 'beef', 'ground', 'yogurt', 'beef', 'simmer', 'turmeric', 'oilghee', 'mutton', 'lentils', 'preparation', 'ghee', 'potatoes', 'powder', 'masala', 'oil', 'salt', 'spices', 'chicken', 'vegetables', 'butter', 'tender', 'chili', 'Heat'] \n",
            "\n",
            "Ingredients:\n",
            " onion, tomato, green chili, garlic, ginger, cumin, coriander, chicken, beef, mutton, lentils, spinach, potatoes, oil, butter, ghee, cream, lemon, mint, cilantro \n",
            "\n",
            "Instructions:\n",
            " chicken preparation: prepare ingredients and chop vegetables. heat oil/ghee and add whole spices. add main ingredients and cook until tender. add ground spices and simmer until well mixed. garnish and serve hot. \n",
            "\n"
          ]
        }
      ]
    },
    {
      "cell_type": "markdown",
      "source": [
        "-- Conclusions and Model Outlook --\n"
      ],
      "metadata": {
        "id": "H-CjcqgUgi6D"
      }
    },
    {
      "cell_type": "code",
      "source": [
        "# Test\n",
        "query = ['Butter','Chicken']\n",
        "Search_Recipes(query, query_ranked=False, recipe_range=(0,3))"
      ],
      "metadata": {
        "colab": {
          "base_uri": "https://localhost:8080/"
        },
        "id": "1FpDKQ7AgDID",
        "outputId": "b3b9e584-c1bc-459c-a997-e7282ded77d8"
      },
      "execution_count": 270,
      "outputs": [
        {
          "output_type": "stream",
          "name": "stdout",
          "text": [
            "Search Query: ['Butter', 'Chicken'] \n",
            "\n",
            "Recipe Rank: 1 \t ['tandoori chicken potatoes ground oil yogurt tender mutton vegetables salt chili masala ghee powder preparation spices chicken simmer turmeric butter beef oilghee lentils heat ground yogurt beef simmer turmeric oilghee mutton lentils preparation ghee potatoes powder masala oil salt spices chicken vegetables butter tender chili heat oil heat oilghee potatoes simmer mutton masala preparation chicken ground lentils salt ghee tender yogurt chili vegetables spices turmeric butter powder beef masala oil heat simmer butter oilghee potatoes lentils ground salt chicken mutton turmeric preparation ghee yogurt chili powder vegetables tender spices beef masala oil simmer mutton heat ground lentils turmeric salt chicken preparation oilghee ghee potatoes yogurt chili powder butter vegetables tender spices beef masala oil heat simmer mutton oilghee ground lentils potatoes turmeric salt chicken preparation butter ghee yogurt chili powder vegetables tender spices beef masala oil simmer butter heat ground lentils turmeric oilghee salt chicken potatoes preparation ghee mutton yogurt chili powder vegetables tender spices beef masala oil simmer butter heat ground lentils turmeric salt chicken preparation oilghee potatoes ghee yogurt chili mutton powder vegetables tender spices beef masala oil simmer butter heat ground lentils salt chicken turmeric oilghee preparation potatoes ghee yogurt chili mutton powder vegetables tender spices beef masala turmeric simmer heat mutton lentils ground oilghee salt chicken preparation potatoes ghee oil yogurt powder butter chili vegetables tender spices beef turmeric masala tender mutton heat vegetables ground preparation salt chicken ghee oil oilghee yogurt potatoes powder butter chili simmer lentils spices beef masala turmeric simmer mutton heat ground lentils oilghee salt chicken oil potatoes preparation ghee yogurt butter powder chili vegetables tender spices beef turmeric masala simmer mutton lentils ground heat salt oil chicken preparation ghee yogurt oilghee powder potatoes butter chili vegetables tender spices beef turmeric masala tender heat mutton ground vegetables salt chicken potatoes oil oilghee preparation ghee butter yogurt powder chili simmer lentils spices beef masala turmeric mutton simmer ground heat salt chicken oil lentils preparation oilghee ghee potatoes yogurt powder chili butter tender vegetables spices beef masala oil simmer butter heat ground lentils turmeric salt chicken preparation oilghee potatoes ghee yogurt chili mutton powder vegetables tender spices beef masala oil mutton simmer heat ground salt chicken turmeric lentils oilghee potatoes preparation ghee yogurt butter chili powder vegetables tender spices beef masala oil simmer mutton heat ground lentils turmeric salt chicken oilghee potatoes preparation ghee yogurt butter chili powder vegetables tender spices beef oil masala simmer heat potatoes lentils oilghee ground salt preparation mutton chicken butter ghee yogurt chili turmeric powder vegetables tender spices beef masala turmeric mutton simmer oil heat ground lentils salt chicken chili oilghee preparation potatoes ghee yogurt powder butter vegetables tender spices beef turmeric masala simmer lentils ground preparation ghee salt yogurt powder chicken heat mutton potatoes oil oilghee butter vegetables chili tender spices beef masala oil simmer butter heat ground lentils salt chicken turmeric preparation oilghee potatoes ghee yogurt chili mutton powder vegetables tender spices beef masala oil simmer mutton heat ground lentils turmeric salt chicken oilghee preparation potatoes ghee yogurt chili powder butter vegetables tender spices beef masala oil mutton simmer heat ground turmeric lentils salt chicken oilghee preparation potatoes ghee yogurt chili butter powder vegetables tender spices beef turmeric masala oil tender heat potatoes butter oilghee vegetables ground preparation ghee yogurt powder salt chicken mutton simmer chili lentils spices beef turmeric masala simmer lentils ground preparation ghee salt yogurt powder heat chicken potatoes mutton oilghee oil butter vegetables chili tender spices beef masala oil simmer mutton heat ground lentils turmeric salt chicken preparation oilghee potatoes ghee yogurt chili butter powder vegetables tender spices beef oil masala heat simmer oilghee potatoes ground butter lentils chicken salt preparation mutton ghee yogurt chili turmeric powder vegetables tender spices beef oil masala heat oilghee potatoes simmer mutton ground lentils butter chicken salt preparation ghee yogurt chili turmeric powder vegetables tender spices beef oil heat masala oilghee potatoes simmer mutton lentils preparation ground ghee chicken salt yogurt chili butter tender vegetables turmeric powder spices beef oil masala heat oilghee potatoes simmer mutton lentils butter ground preparation salt chicken ghee yogurt chili turmeric powder vegetables tender spices beef oil masala heat oilghee potatoes simmer butter lentils mutton ground chicken salt preparation ghee yogurt chili turmeric powder vegetables tender spices beef yogurt turmeric simmer mutton ground lentils salt potatoes chicken heat preparation ghee oilghee masala chili butter powder vegetables tender spices oil beef oil masala heat oilghee potatoes simmer butter lentils ground preparation salt chicken mutton ghee yogurt chili turmeric powder vegetables tender spices beef turmeric masala tender heat potatoes oilghee mutton vegetables ground preparation salt butter ghee chicken yogurt powder oil chili simmer lentils spices beef oil masala heat oilghee potatoes simmer butter lentils mutton ground preparation salt chicken ghee yogurt chili turmeric powder vegetables tender spices beef masala oil simmer heat butter ground oilghee lentils potatoes salt chicken turmeric preparation ghee mutton yogurt chili powder vegetables tender spices beef turmeric masala simmer oil lentils ground preparation ghee yogurt tender salt powder chicken vegetables spices heat mutton potatoes oilghee butter chili beef oil heat oilghee potatoes simmer mutton masala ground preparation chicken lentils salt ghee tender yogurt chili vegetables spices turmeric butter powder beef oil masala simmer heat oilghee potatoes lentils ground preparation mutton ghee salt chicken yogurt chili butter turmeric vegetables powder tender spices beef masala oil simmer butter ground lentils turmeric salt heat chicken preparation ghee yogurt oilghee chili potatoes powder mutton vegetables tender spices beef masala turmeric butter oil simmer chicken lentils chili salt ground heat preparation ghee tender yogurt powder oilghee potatoes mutton vegetables spices beef turmeric masala simmer mutton lentils oil ground preparation salt chicken ghee yogurt powder heat chili oilghee potatoes vegetables butter tender spices beef masala turmeric mutton oil simmer lentils ground salt chicken chili preparation ghee yogurt tender powder vegetables heat spices oilghee potatoes butter beef masala turmeric mutton heat oil oilghee potatoes simmer butter chili lentils ground salt chicken preparation ghee yogurt powder vegetables tender spices beef masala turmeric simmer mutton ground lentils heat chicken salt preparation ghee yogurt oilghee oil powder tender potatoes butter chili vegetables spices beef masala turmeric mutton oil simmer lentils chicken ground salt chili preparation ghee tender yogurt powder heat oilghee potatoes vegetables butter spices beef oil heat masala potatoes oilghee simmer mutton ground lentils preparation salt chicken ghee yogurt chili butter turmeric vegetables powder tender spices beef turmeric masala simmer heat lentils butter ground oilghee potatoes preparation salt oil ghee chicken yogurt powder mutton chili vegetables tender spices beef oil masala simmer lentils ground preparation heat salt ghee chicken yogurt butter chili oilghee potatoes turmeric mutton vegetables tender powder spices beef ground yogurt beef simmer turmeric oilghee mutton lentils preparation ghee potatoes powder masala oil salt spices chicken vegetables butter tender chili heat', 'potatoes', 'ground', 'oil', 'yogurt', 'tender', 'mutton', 'vegetables', 'salt', 'chili', 'masala', 'ghee', 'powder', 'preparation', 'spices', 'chicken', 'simmer', 'turmeric', 'butter', 'beef', 'oilghee', 'lentils', 'Heat', 'ground', 'yogurt', 'beef', 'simmer', 'turmeric', 'oilghee', 'mutton', 'lentils', 'preparation', 'ghee', 'potatoes', 'powder', 'masala', 'oil', 'salt', 'spices', 'chicken', 'vegetables', 'butter', 'tender', 'chili', 'Heat', 'oil', 'Heat', 'oilghee', 'potatoes', 'simmer', 'mutton', 'masala', 'preparation', 'chicken', 'ground', 'lentils', 'salt', 'ghee', 'tender', 'yogurt', 'chili', 'vegetables', 'spices', 'turmeric', 'butter', 'powder', 'beef', 'masala', 'oil', 'Heat', 'simmer', 'butter', 'oilghee', 'potatoes', 'lentils', 'ground', 'salt', 'chicken', 'mutton', 'turmeric', 'preparation', 'ghee', 'yogurt', 'chili', 'powder', 'vegetables', 'tender', 'spices', 'beef', 'masala', 'oil', 'simmer', 'mutton', 'Heat', 'ground', 'lentils', 'turmeric', 'salt', 'chicken', 'preparation', 'oilghee', 'ghee', 'potatoes', 'yogurt', 'chili', 'powder', 'butter', 'vegetables', 'tender', 'spices', 'beef', 'masala', 'oil', 'Heat', 'simmer', 'mutton', 'oilghee', 'ground', 'lentils', 'potatoes', 'turmeric', 'salt', 'chicken', 'preparation', 'butter', 'ghee', 'yogurt', 'chili', 'powder', 'vegetables', 'tender', 'spices', 'beef', 'masala', 'oil', 'simmer', 'butter', 'Heat', 'ground', 'lentils', 'turmeric', 'oilghee', 'salt', 'chicken', 'potatoes', 'preparation', 'ghee', 'mutton', 'yogurt', 'chili', 'powder', 'vegetables', 'tender', 'spices', 'beef', 'masala', 'oil', 'simmer', 'butter', 'Heat', 'ground', 'lentils', 'turmeric', 'salt', 'chicken', 'preparation', 'oilghee', 'potatoes', 'ghee', 'yogurt', 'chili', 'mutton', 'powder', 'vegetables', 'tender', 'spices', 'beef', 'masala', 'oil', 'simmer', 'butter', 'Heat', 'ground', 'lentils', 'salt', 'chicken', 'turmeric', 'oilghee', 'preparation', 'potatoes', 'ghee', 'yogurt', 'chili', 'mutton', 'powder', 'vegetables', 'tender', 'spices', 'beef', 'masala', 'turmeric', 'simmer', 'Heat', 'mutton', 'lentils', 'ground', 'oilghee', 'salt', 'chicken', 'preparation', 'potatoes', 'ghee', 'oil', 'yogurt', 'powder', 'butter', 'chili', 'vegetables', 'tender', 'spices', 'beef', 'turmeric', 'masala', 'tender', 'mutton', 'Heat', 'vegetables', 'ground', 'preparation', 'salt', 'chicken', 'ghee', 'oil', 'oilghee', 'yogurt', 'potatoes', 'powder', 'butter', 'chili', 'simmer', 'lentils', 'spices', 'beef', 'masala', 'turmeric', 'simmer', 'mutton', 'Heat', 'ground', 'lentils', 'oilghee', 'salt', 'chicken', 'oil', 'potatoes', 'preparation', 'ghee', 'yogurt', 'butter', 'powder', 'chili', 'vegetables', 'tender', 'spices', 'beef', 'turmeric', 'masala', 'simmer', 'mutton', 'lentils', 'ground', 'Heat', 'salt', 'oil', 'chicken', 'preparation', 'ghee', 'yogurt', 'oilghee', 'powder', 'potatoes', 'butter', 'chili', 'vegetables', 'tender', 'spices', 'beef', 'turmeric', 'masala', 'tender', 'Heat', 'mutton', 'ground', 'vegetables', 'salt', 'chicken', 'potatoes', 'oil', 'oilghee', 'preparation', 'ghee', 'butter', 'yogurt', 'powder', 'chili', 'simmer', 'lentils', 'spices', 'beef', 'masala', 'turmeric', 'mutton', 'simmer', 'ground', 'Heat', 'salt', 'chicken', 'oil', 'lentils', 'preparation', 'oilghee', 'ghee', 'potatoes', 'yogurt', 'powder', 'chili', 'butter', 'tender', 'vegetables', 'spices', 'beef', 'masala', 'oil', 'simmer', 'butter', 'Heat', 'ground', 'lentils', 'turmeric', 'salt', 'chicken', 'preparation', 'oilghee', 'potatoes', 'ghee', 'yogurt', 'chili', 'mutton', 'powder', 'vegetables', 'tender', 'spices', 'beef', 'masala', 'oil', 'mutton', 'simmer', 'Heat', 'ground', 'salt', 'chicken', 'turmeric', 'lentils', 'oilghee', 'potatoes', 'preparation', 'ghee', 'yogurt', 'butter', 'chili', 'powder', 'vegetables', 'tender', 'spices', 'beef', 'masala', 'oil', 'simmer', 'mutton', 'Heat', 'ground', 'lentils', 'turmeric', 'salt', 'chicken', 'oilghee', 'potatoes', 'preparation', 'ghee', 'yogurt', 'butter', 'chili', 'powder', 'vegetables', 'tender', 'spices', 'beef', 'oil', 'masala', 'simmer', 'Heat', 'potatoes', 'lentils', 'oilghee', 'ground', 'salt', 'preparation', 'mutton', 'chicken', 'butter', 'ghee', 'yogurt', 'chili', 'turmeric', 'powder', 'vegetables', 'tender', 'spices', 'beef', 'masala', 'turmeric', 'mutton', 'simmer', 'oil', 'Heat', 'ground', 'lentils', 'salt', 'chicken', 'chili', 'oilghee', 'preparation', 'potatoes', 'ghee', 'yogurt', 'powder', 'butter', 'vegetables', 'tender', 'spices', 'beef', 'turmeric', 'masala', 'simmer', 'lentils', 'ground', 'preparation', 'ghee', 'salt', 'yogurt', 'powder', 'chicken', 'Heat', 'mutton', 'potatoes', 'oil', 'oilghee', 'butter', 'vegetables', 'chili', 'tender', 'spices', 'beef', 'masala', 'oil', 'simmer', 'butter', 'Heat', 'ground', 'lentils', 'salt', 'chicken', 'turmeric', 'preparation', 'oilghee', 'potatoes', 'ghee', 'yogurt', 'chili', 'mutton', 'powder', 'vegetables', 'tender', 'spices', 'beef', 'masala', 'oil', 'simmer', 'mutton', 'Heat', 'ground', 'lentils', 'turmeric', 'salt', 'chicken', 'oilghee', 'preparation', 'potatoes', 'ghee', 'yogurt', 'chili', 'powder', 'butter', 'vegetables', 'tender', 'spices', 'beef', 'masala', 'oil', 'mutton', 'simmer', 'Heat', 'ground', 'turmeric', 'lentils', 'salt', 'chicken', 'oilghee', 'preparation', 'potatoes', 'ghee', 'yogurt', 'chili', 'butter', 'powder', 'vegetables', 'tender', 'spices', 'beef', 'turmeric', 'masala', 'oil', 'tender', 'Heat', 'potatoes', 'butter', 'oilghee', 'vegetables', 'ground', 'preparation', 'ghee', 'yogurt', 'powder', 'salt', 'chicken', 'mutton', 'simmer', 'chili', 'lentils', 'spices', 'beef', 'turmeric', 'masala', 'simmer', 'lentils', 'ground', 'preparation', 'ghee', 'salt', 'yogurt', 'powder', 'Heat', 'chicken', 'potatoes', 'mutton', 'oilghee', 'oil', 'butter', 'vegetables', 'chili', 'tender', 'spices', 'beef', 'masala', 'oil', 'simmer', 'mutton', 'Heat', 'ground', 'lentils', 'turmeric', 'salt', 'chicken', 'preparation', 'oilghee', 'potatoes', 'ghee', 'yogurt', 'chili', 'butter', 'powder', 'vegetables', 'tender', 'spices', 'beef', 'oil', 'masala', 'Heat', 'simmer', 'oilghee', 'potatoes', 'ground', 'butter', 'lentils', 'chicken', 'salt', 'preparation', 'mutton', 'ghee', 'yogurt', 'chili', 'turmeric', 'powder', 'vegetables', 'tender', 'spices', 'beef', 'oil', 'masala', 'Heat', 'oilghee', 'potatoes', 'simmer', 'mutton', 'ground', 'lentils', 'butter', 'chicken', 'salt', 'preparation', 'ghee', 'yogurt', 'chili', 'turmeric', 'powder', 'vegetables', 'tender', 'spices', 'beef', 'oil', 'Heat', 'masala', 'oilghee', 'potatoes', 'simmer', 'mutton', 'lentils', 'preparation', 'ground', 'ghee', 'chicken', 'salt', 'yogurt', 'chili', 'butter', 'tender', 'vegetables', 'turmeric', 'powder', 'spices', 'beef', 'oil', 'masala', 'Heat', 'oilghee', 'potatoes', 'simmer', 'mutton', 'lentils', 'butter', 'ground', 'preparation', 'salt', 'chicken', 'ghee', 'yogurt', 'chili', 'turmeric', 'powder', 'vegetables', 'tender', 'spices', 'beef', 'oil', 'masala', 'Heat', 'oilghee', 'potatoes', 'simmer', 'butter', 'lentils', 'mutton', 'ground', 'chicken', 'salt', 'preparation', 'ghee', 'yogurt', 'chili', 'turmeric', 'powder', 'vegetables', 'tender', 'spices', 'beef', 'yogurt', 'turmeric', 'simmer', 'mutton', 'ground', 'lentils', 'salt', 'potatoes', 'chicken', 'Heat', 'preparation', 'ghee', 'oilghee', 'masala', 'chili', 'butter', 'powder', 'vegetables', 'tender', 'spices', 'oil', 'beef', 'oil', 'masala', 'Heat', 'oilghee', 'potatoes', 'simmer', 'butter', 'lentils', 'ground', 'preparation', 'salt', 'chicken', 'mutton', 'ghee', 'yogurt', 'chili', 'turmeric', 'powder', 'vegetables', 'tender', 'spices', 'beef', 'turmeric', 'masala', 'tender', 'Heat', 'potatoes', 'oilghee', 'mutton', 'vegetables', 'ground', 'preparation', 'salt', 'butter', 'ghee', 'chicken', 'yogurt', 'powder', 'oil', 'chili', 'simmer', 'lentils', 'spices', 'beef', 'oil', 'masala', 'Heat', 'oilghee', 'potatoes', 'simmer', 'butter', 'lentils', 'mutton', 'ground', 'preparation', 'salt', 'chicken', 'ghee', 'yogurt', 'chili', 'turmeric', 'powder', 'vegetables', 'tender', 'spices', 'beef', 'masala', 'oil', 'simmer', 'Heat', 'butter', 'ground', 'oilghee', 'lentils', 'potatoes', 'salt', 'chicken', 'turmeric', 'preparation', 'ghee', 'mutton', 'yogurt', 'chili', 'powder', 'vegetables', 'tender', 'spices', 'beef', 'turmeric', 'masala', 'simmer', 'oil', 'lentils', 'ground', 'preparation', 'ghee', 'yogurt', 'tender', 'salt', 'powder', 'chicken', 'vegetables', 'spices', 'Heat', 'mutton', 'potatoes', 'oilghee', 'butter', 'chili', 'beef', 'oil', 'Heat', 'oilghee', 'potatoes', 'simmer', 'mutton', 'masala', 'ground', 'preparation', 'chicken', 'lentils', 'salt', 'ghee', 'tender', 'yogurt', 'chili', 'vegetables', 'spices', 'turmeric', 'butter', 'powder', 'beef', 'oil', 'masala', 'simmer', 'Heat', 'oilghee', 'potatoes', 'lentils', 'ground', 'preparation', 'mutton', 'ghee', 'salt', 'chicken', 'yogurt', 'chili', 'butter', 'turmeric', 'vegetables', 'powder', 'tender', 'spices', 'beef', 'masala', 'oil', 'simmer', 'butter', 'ground', 'lentils', 'turmeric', 'salt', 'Heat', 'chicken', 'preparation', 'ghee', 'yogurt', 'oilghee', 'chili', 'potatoes', 'powder', 'mutton', 'vegetables', 'tender', 'spices', 'beef', 'masala', 'turmeric', 'butter', 'oil', 'simmer', 'chicken', 'lentils', 'chili', 'salt', 'ground', 'Heat', 'preparation', 'ghee', 'tender', 'yogurt', 'powder', 'oilghee', 'potatoes', 'mutton', 'vegetables', 'spices', 'beef', 'turmeric', 'masala', 'simmer', 'mutton', 'lentils', 'oil', 'ground', 'preparation', 'salt', 'chicken', 'ghee', 'yogurt', 'powder', 'Heat', 'chili', 'oilghee', 'potatoes', 'vegetables', 'butter', 'tender', 'spices', 'beef', 'masala', 'turmeric', 'mutton', 'oil', 'simmer', 'lentils', 'ground', 'salt', 'chicken', 'chili', 'preparation', 'ghee', 'yogurt', 'tender', 'powder', 'vegetables', 'Heat', 'spices', 'oilghee', 'potatoes', 'butter', 'beef', 'masala', 'turmeric', 'mutton', 'Heat', 'oil', 'oilghee', 'potatoes', 'simmer', 'butter', 'chili', 'lentils', 'ground', 'salt', 'chicken', 'preparation', 'ghee', 'yogurt', 'powder', 'vegetables', 'tender', 'spices', 'beef', 'masala', 'turmeric', 'simmer', 'mutton', 'ground', 'lentils', 'Heat', 'chicken', 'salt', 'preparation', 'ghee', 'yogurt', 'oilghee', 'oil', 'powder', 'tender', 'potatoes', 'butter', 'chili', 'vegetables', 'spices', 'beef', 'masala', 'turmeric', 'mutton', 'oil', 'simmer', 'lentils', 'chicken', 'ground', 'salt', 'chili', 'preparation', 'ghee', 'tender', 'yogurt', 'powder', 'Heat', 'oilghee', 'potatoes', 'vegetables', 'butter', 'spices', 'beef', 'oil', 'Heat', 'masala', 'potatoes', 'oilghee', 'simmer', 'mutton', 'ground', 'lentils', 'preparation', 'salt', 'chicken', 'ghee', 'yogurt', 'chili', 'butter', 'turmeric', 'vegetables', 'powder', 'tender', 'spices', 'beef', 'turmeric', 'masala', 'simmer', 'Heat', 'lentils', 'butter', 'ground', 'oilghee', 'potatoes', 'preparation', 'salt', 'oil', 'ghee', 'chicken', 'yogurt', 'powder', 'mutton', 'chili', 'vegetables', 'tender', 'spices', 'beef', 'oil', 'masala', 'simmer', 'lentils', 'ground', 'preparation', 'Heat', 'salt', 'ghee', 'chicken', 'yogurt', 'butter', 'chili', 'oilghee', 'potatoes', 'turmeric', 'mutton', 'vegetables', 'tender', 'powder', 'spices', 'beef', 'ground', 'yogurt', 'beef', 'simmer', 'turmeric', 'oilghee', 'mutton', 'lentils', 'preparation', 'ghee', 'potatoes', 'powder', 'masala', 'oil', 'salt', 'spices', 'chicken', 'vegetables', 'butter', 'tender', 'chili', 'Heat'] \n",
            "\n",
            "Ingredients:\n",
            " onion, tomato, green chili, garlic, ginger, cumin, coriander, oil, butter, ghee, cream, lemon, mint, cilantro, chicken, beef, mutton, lentils, spinach, potatoes \n",
            "\n",
            "Instructions:\n",
            " tandoori preparation: prepare ingredients and chop vegetables. heat oil/ghee and add whole spices. add main ingredients and cook until tender. add ground spices and simmer until well mixed. garnish and serve hot. \n",
            "\n",
            "Recipe Rank: 2 \t ['chicken handi potatoes ground oil yogurt tender mutton vegetables salt chili masala ghee powder preparation spices chicken simmer turmeric butter beef oilghee lentils heat ground yogurt beef simmer turmeric oilghee mutton lentils preparation ghee potatoes powder masala oil salt spices chicken vegetables butter tender chili heat oil heat oilghee potatoes simmer mutton masala preparation chicken ground lentils salt ghee tender yogurt chili vegetables spices turmeric butter powder beef masala oil heat simmer butter oilghee potatoes lentils ground salt chicken mutton turmeric preparation ghee yogurt chili powder vegetables tender spices beef masala oil simmer mutton heat ground lentils turmeric salt chicken preparation oilghee ghee potatoes yogurt chili powder butter vegetables tender spices beef masala oil heat simmer mutton oilghee ground lentils potatoes turmeric salt chicken preparation butter ghee yogurt chili powder vegetables tender spices beef masala oil simmer butter heat ground lentils turmeric oilghee salt chicken potatoes preparation ghee mutton yogurt chili powder vegetables tender spices beef masala oil simmer butter heat ground lentils turmeric salt chicken preparation oilghee potatoes ghee yogurt chili mutton powder vegetables tender spices beef masala oil simmer butter heat ground lentils salt chicken turmeric oilghee preparation potatoes ghee yogurt chili mutton powder vegetables tender spices beef masala turmeric simmer heat mutton lentils ground oilghee salt chicken preparation potatoes ghee oil yogurt powder butter chili vegetables tender spices beef turmeric masala tender mutton heat vegetables ground preparation salt chicken ghee oil oilghee yogurt potatoes powder butter chili simmer lentils spices beef masala turmeric simmer mutton heat ground lentils oilghee salt chicken oil potatoes preparation ghee yogurt butter powder chili vegetables tender spices beef turmeric masala simmer mutton lentils ground heat salt oil chicken preparation ghee yogurt oilghee powder potatoes butter chili vegetables tender spices beef turmeric masala tender heat mutton ground vegetables salt chicken potatoes oil oilghee preparation ghee butter yogurt powder chili simmer lentils spices beef masala turmeric mutton simmer ground heat salt chicken oil lentils preparation oilghee ghee potatoes yogurt powder chili butter tender vegetables spices beef masala oil simmer butter heat ground lentils turmeric salt chicken preparation oilghee potatoes ghee yogurt chili mutton powder vegetables tender spices beef masala oil mutton simmer heat ground salt chicken turmeric lentils oilghee potatoes preparation ghee yogurt butter chili powder vegetables tender spices beef masala oil simmer mutton heat ground lentils turmeric salt chicken oilghee potatoes preparation ghee yogurt butter chili powder vegetables tender spices beef oil masala simmer heat potatoes lentils oilghee ground salt preparation mutton chicken butter ghee yogurt chili turmeric powder vegetables tender spices beef masala turmeric mutton simmer oil heat ground lentils salt chicken chili oilghee preparation potatoes ghee yogurt powder butter vegetables tender spices beef turmeric masala simmer lentils ground preparation ghee salt yogurt powder chicken heat mutton potatoes oil oilghee butter vegetables chili tender spices beef masala oil simmer butter heat ground lentils salt chicken turmeric preparation oilghee potatoes ghee yogurt chili mutton powder vegetables tender spices beef masala oil simmer mutton heat ground lentils turmeric salt chicken oilghee preparation potatoes ghee yogurt chili powder butter vegetables tender spices beef masala oil mutton simmer heat ground turmeric lentils salt chicken oilghee preparation potatoes ghee yogurt chili butter powder vegetables tender spices beef turmeric masala oil tender heat potatoes butter oilghee vegetables ground preparation ghee yogurt powder salt chicken mutton simmer chili lentils spices beef turmeric masala simmer lentils ground preparation ghee salt yogurt powder heat chicken potatoes mutton oilghee oil butter vegetables chili tender spices beef masala oil simmer mutton heat ground lentils turmeric salt chicken preparation oilghee potatoes ghee yogurt chili butter powder vegetables tender spices beef oil masala heat simmer oilghee potatoes ground butter lentils chicken salt preparation mutton ghee yogurt chili turmeric powder vegetables tender spices beef oil masala heat oilghee potatoes simmer mutton ground lentils butter chicken salt preparation ghee yogurt chili turmeric powder vegetables tender spices beef oil heat masala oilghee potatoes simmer mutton lentils preparation ground ghee chicken salt yogurt chili butter tender vegetables turmeric powder spices beef oil masala heat oilghee potatoes simmer mutton lentils butter ground preparation salt chicken ghee yogurt chili turmeric powder vegetables tender spices beef oil masala heat oilghee potatoes simmer butter lentils mutton ground chicken salt preparation ghee yogurt chili turmeric powder vegetables tender spices beef yogurt turmeric simmer mutton ground lentils salt potatoes chicken heat preparation ghee oilghee masala chili butter powder vegetables tender spices oil beef oil masala heat oilghee potatoes simmer butter lentils ground preparation salt chicken mutton ghee yogurt chili turmeric powder vegetables tender spices beef turmeric masala tender heat potatoes oilghee mutton vegetables ground preparation salt butter ghee chicken yogurt powder oil chili simmer lentils spices beef oil masala heat oilghee potatoes simmer butter lentils mutton ground preparation salt chicken ghee yogurt chili turmeric powder vegetables tender spices beef masala oil simmer heat butter ground oilghee lentils potatoes salt chicken turmeric preparation ghee mutton yogurt chili powder vegetables tender spices beef turmeric masala simmer oil lentils ground preparation ghee yogurt tender salt powder chicken vegetables spices heat mutton potatoes oilghee butter chili beef oil heat oilghee potatoes simmer mutton masala ground preparation chicken lentils salt ghee tender yogurt chili vegetables spices turmeric butter powder beef oil masala simmer heat oilghee potatoes lentils ground preparation mutton ghee salt chicken yogurt chili butter turmeric vegetables powder tender spices beef masala oil simmer butter ground lentils turmeric salt heat chicken preparation ghee yogurt oilghee chili potatoes powder mutton vegetables tender spices beef masala turmeric butter oil simmer chicken lentils chili salt ground heat preparation ghee tender yogurt powder oilghee potatoes mutton vegetables spices beef turmeric masala simmer mutton lentils oil ground preparation salt chicken ghee yogurt powder heat chili oilghee potatoes vegetables butter tender spices beef masala turmeric mutton oil simmer lentils ground salt chicken chili preparation ghee yogurt tender powder vegetables heat spices oilghee potatoes butter beef masala turmeric mutton heat oil oilghee potatoes simmer butter chili lentils ground salt chicken preparation ghee yogurt powder vegetables tender spices beef masala turmeric simmer mutton ground lentils heat chicken salt preparation ghee yogurt oilghee oil powder tender potatoes butter chili vegetables spices beef masala turmeric mutton oil simmer lentils chicken ground salt chili preparation ghee tender yogurt powder heat oilghee potatoes vegetables butter spices beef oil heat masala potatoes oilghee simmer mutton ground lentils preparation salt chicken ghee yogurt chili butter turmeric vegetables powder tender spices beef turmeric masala simmer heat lentils butter ground oilghee potatoes preparation salt oil ghee chicken yogurt powder mutton chili vegetables tender spices beef oil masala simmer lentils ground preparation heat salt ghee chicken yogurt butter chili oilghee potatoes turmeric mutton vegetables tender powder spices beef ground yogurt beef simmer turmeric oilghee mutton lentils preparation ghee potatoes powder masala oil salt spices chicken vegetables butter tender chili heat', 'potatoes', 'ground', 'oil', 'yogurt', 'tender', 'mutton', 'vegetables', 'salt', 'chili', 'masala', 'ghee', 'powder', 'preparation', 'spices', 'chicken', 'simmer', 'turmeric', 'butter', 'beef', 'oilghee', 'lentils', 'Heat', 'ground', 'yogurt', 'beef', 'simmer', 'turmeric', 'oilghee', 'mutton', 'lentils', 'preparation', 'ghee', 'potatoes', 'powder', 'masala', 'oil', 'salt', 'spices', 'chicken', 'vegetables', 'butter', 'tender', 'chili', 'Heat', 'oil', 'Heat', 'oilghee', 'potatoes', 'simmer', 'mutton', 'masala', 'preparation', 'chicken', 'ground', 'lentils', 'salt', 'ghee', 'tender', 'yogurt', 'chili', 'vegetables', 'spices', 'turmeric', 'butter', 'powder', 'beef', 'masala', 'oil', 'Heat', 'simmer', 'butter', 'oilghee', 'potatoes', 'lentils', 'ground', 'salt', 'chicken', 'mutton', 'turmeric', 'preparation', 'ghee', 'yogurt', 'chili', 'powder', 'vegetables', 'tender', 'spices', 'beef', 'masala', 'oil', 'simmer', 'mutton', 'Heat', 'ground', 'lentils', 'turmeric', 'salt', 'chicken', 'preparation', 'oilghee', 'ghee', 'potatoes', 'yogurt', 'chili', 'powder', 'butter', 'vegetables', 'tender', 'spices', 'beef', 'masala', 'oil', 'Heat', 'simmer', 'mutton', 'oilghee', 'ground', 'lentils', 'potatoes', 'turmeric', 'salt', 'chicken', 'preparation', 'butter', 'ghee', 'yogurt', 'chili', 'powder', 'vegetables', 'tender', 'spices', 'beef', 'masala', 'oil', 'simmer', 'butter', 'Heat', 'ground', 'lentils', 'turmeric', 'oilghee', 'salt', 'chicken', 'potatoes', 'preparation', 'ghee', 'mutton', 'yogurt', 'chili', 'powder', 'vegetables', 'tender', 'spices', 'beef', 'masala', 'oil', 'simmer', 'butter', 'Heat', 'ground', 'lentils', 'turmeric', 'salt', 'chicken', 'preparation', 'oilghee', 'potatoes', 'ghee', 'yogurt', 'chili', 'mutton', 'powder', 'vegetables', 'tender', 'spices', 'beef', 'masala', 'oil', 'simmer', 'butter', 'Heat', 'ground', 'lentils', 'salt', 'chicken', 'turmeric', 'oilghee', 'preparation', 'potatoes', 'ghee', 'yogurt', 'chili', 'mutton', 'powder', 'vegetables', 'tender', 'spices', 'beef', 'masala', 'turmeric', 'simmer', 'Heat', 'mutton', 'lentils', 'ground', 'oilghee', 'salt', 'chicken', 'preparation', 'potatoes', 'ghee', 'oil', 'yogurt', 'powder', 'butter', 'chili', 'vegetables', 'tender', 'spices', 'beef', 'turmeric', 'masala', 'tender', 'mutton', 'Heat', 'vegetables', 'ground', 'preparation', 'salt', 'chicken', 'ghee', 'oil', 'oilghee', 'yogurt', 'potatoes', 'powder', 'butter', 'chili', 'simmer', 'lentils', 'spices', 'beef', 'masala', 'turmeric', 'simmer', 'mutton', 'Heat', 'ground', 'lentils', 'oilghee', 'salt', 'chicken', 'oil', 'potatoes', 'preparation', 'ghee', 'yogurt', 'butter', 'powder', 'chili', 'vegetables', 'tender', 'spices', 'beef', 'turmeric', 'masala', 'simmer', 'mutton', 'lentils', 'ground', 'Heat', 'salt', 'oil', 'chicken', 'preparation', 'ghee', 'yogurt', 'oilghee', 'powder', 'potatoes', 'butter', 'chili', 'vegetables', 'tender', 'spices', 'beef', 'turmeric', 'masala', 'tender', 'Heat', 'mutton', 'ground', 'vegetables', 'salt', 'chicken', 'potatoes', 'oil', 'oilghee', 'preparation', 'ghee', 'butter', 'yogurt', 'powder', 'chili', 'simmer', 'lentils', 'spices', 'beef', 'masala', 'turmeric', 'mutton', 'simmer', 'ground', 'Heat', 'salt', 'chicken', 'oil', 'lentils', 'preparation', 'oilghee', 'ghee', 'potatoes', 'yogurt', 'powder', 'chili', 'butter', 'tender', 'vegetables', 'spices', 'beef', 'masala', 'oil', 'simmer', 'butter', 'Heat', 'ground', 'lentils', 'turmeric', 'salt', 'chicken', 'preparation', 'oilghee', 'potatoes', 'ghee', 'yogurt', 'chili', 'mutton', 'powder', 'vegetables', 'tender', 'spices', 'beef', 'masala', 'oil', 'mutton', 'simmer', 'Heat', 'ground', 'salt', 'chicken', 'turmeric', 'lentils', 'oilghee', 'potatoes', 'preparation', 'ghee', 'yogurt', 'butter', 'chili', 'powder', 'vegetables', 'tender', 'spices', 'beef', 'masala', 'oil', 'simmer', 'mutton', 'Heat', 'ground', 'lentils', 'turmeric', 'salt', 'chicken', 'oilghee', 'potatoes', 'preparation', 'ghee', 'yogurt', 'butter', 'chili', 'powder', 'vegetables', 'tender', 'spices', 'beef', 'oil', 'masala', 'simmer', 'Heat', 'potatoes', 'lentils', 'oilghee', 'ground', 'salt', 'preparation', 'mutton', 'chicken', 'butter', 'ghee', 'yogurt', 'chili', 'turmeric', 'powder', 'vegetables', 'tender', 'spices', 'beef', 'masala', 'turmeric', 'mutton', 'simmer', 'oil', 'Heat', 'ground', 'lentils', 'salt', 'chicken', 'chili', 'oilghee', 'preparation', 'potatoes', 'ghee', 'yogurt', 'powder', 'butter', 'vegetables', 'tender', 'spices', 'beef', 'turmeric', 'masala', 'simmer', 'lentils', 'ground', 'preparation', 'ghee', 'salt', 'yogurt', 'powder', 'chicken', 'Heat', 'mutton', 'potatoes', 'oil', 'oilghee', 'butter', 'vegetables', 'chili', 'tender', 'spices', 'beef', 'masala', 'oil', 'simmer', 'butter', 'Heat', 'ground', 'lentils', 'salt', 'chicken', 'turmeric', 'preparation', 'oilghee', 'potatoes', 'ghee', 'yogurt', 'chili', 'mutton', 'powder', 'vegetables', 'tender', 'spices', 'beef', 'masala', 'oil', 'simmer', 'mutton', 'Heat', 'ground', 'lentils', 'turmeric', 'salt', 'chicken', 'oilghee', 'preparation', 'potatoes', 'ghee', 'yogurt', 'chili', 'powder', 'butter', 'vegetables', 'tender', 'spices', 'beef', 'masala', 'oil', 'mutton', 'simmer', 'Heat', 'ground', 'turmeric', 'lentils', 'salt', 'chicken', 'oilghee', 'preparation', 'potatoes', 'ghee', 'yogurt', 'chili', 'butter', 'powder', 'vegetables', 'tender', 'spices', 'beef', 'turmeric', 'masala', 'oil', 'tender', 'Heat', 'potatoes', 'butter', 'oilghee', 'vegetables', 'ground', 'preparation', 'ghee', 'yogurt', 'powder', 'salt', 'chicken', 'mutton', 'simmer', 'chili', 'lentils', 'spices', 'beef', 'turmeric', 'masala', 'simmer', 'lentils', 'ground', 'preparation', 'ghee', 'salt', 'yogurt', 'powder', 'Heat', 'chicken', 'potatoes', 'mutton', 'oilghee', 'oil', 'butter', 'vegetables', 'chili', 'tender', 'spices', 'beef', 'masala', 'oil', 'simmer', 'mutton', 'Heat', 'ground', 'lentils', 'turmeric', 'salt', 'chicken', 'preparation', 'oilghee', 'potatoes', 'ghee', 'yogurt', 'chili', 'butter', 'powder', 'vegetables', 'tender', 'spices', 'beef', 'oil', 'masala', 'Heat', 'simmer', 'oilghee', 'potatoes', 'ground', 'butter', 'lentils', 'chicken', 'salt', 'preparation', 'mutton', 'ghee', 'yogurt', 'chili', 'turmeric', 'powder', 'vegetables', 'tender', 'spices', 'beef', 'oil', 'masala', 'Heat', 'oilghee', 'potatoes', 'simmer', 'mutton', 'ground', 'lentils', 'butter', 'chicken', 'salt', 'preparation', 'ghee', 'yogurt', 'chili', 'turmeric', 'powder', 'vegetables', 'tender', 'spices', 'beef', 'oil', 'Heat', 'masala', 'oilghee', 'potatoes', 'simmer', 'mutton', 'lentils', 'preparation', 'ground', 'ghee', 'chicken', 'salt', 'yogurt', 'chili', 'butter', 'tender', 'vegetables', 'turmeric', 'powder', 'spices', 'beef', 'oil', 'masala', 'Heat', 'oilghee', 'potatoes', 'simmer', 'mutton', 'lentils', 'butter', 'ground', 'preparation', 'salt', 'chicken', 'ghee', 'yogurt', 'chili', 'turmeric', 'powder', 'vegetables', 'tender', 'spices', 'beef', 'oil', 'masala', 'Heat', 'oilghee', 'potatoes', 'simmer', 'butter', 'lentils', 'mutton', 'ground', 'chicken', 'salt', 'preparation', 'ghee', 'yogurt', 'chili', 'turmeric', 'powder', 'vegetables', 'tender', 'spices', 'beef', 'yogurt', 'turmeric', 'simmer', 'mutton', 'ground', 'lentils', 'salt', 'potatoes', 'chicken', 'Heat', 'preparation', 'ghee', 'oilghee', 'masala', 'chili', 'butter', 'powder', 'vegetables', 'tender', 'spices', 'oil', 'beef', 'oil', 'masala', 'Heat', 'oilghee', 'potatoes', 'simmer', 'butter', 'lentils', 'ground', 'preparation', 'salt', 'chicken', 'mutton', 'ghee', 'yogurt', 'chili', 'turmeric', 'powder', 'vegetables', 'tender', 'spices', 'beef', 'turmeric', 'masala', 'tender', 'Heat', 'potatoes', 'oilghee', 'mutton', 'vegetables', 'ground', 'preparation', 'salt', 'butter', 'ghee', 'chicken', 'yogurt', 'powder', 'oil', 'chili', 'simmer', 'lentils', 'spices', 'beef', 'oil', 'masala', 'Heat', 'oilghee', 'potatoes', 'simmer', 'butter', 'lentils', 'mutton', 'ground', 'preparation', 'salt', 'chicken', 'ghee', 'yogurt', 'chili', 'turmeric', 'powder', 'vegetables', 'tender', 'spices', 'beef', 'masala', 'oil', 'simmer', 'Heat', 'butter', 'ground', 'oilghee', 'lentils', 'potatoes', 'salt', 'chicken', 'turmeric', 'preparation', 'ghee', 'mutton', 'yogurt', 'chili', 'powder', 'vegetables', 'tender', 'spices', 'beef', 'turmeric', 'masala', 'simmer', 'oil', 'lentils', 'ground', 'preparation', 'ghee', 'yogurt', 'tender', 'salt', 'powder', 'chicken', 'vegetables', 'spices', 'Heat', 'mutton', 'potatoes', 'oilghee', 'butter', 'chili', 'beef', 'oil', 'Heat', 'oilghee', 'potatoes', 'simmer', 'mutton', 'masala', 'ground', 'preparation', 'chicken', 'lentils', 'salt', 'ghee', 'tender', 'yogurt', 'chili', 'vegetables', 'spices', 'turmeric', 'butter', 'powder', 'beef', 'oil', 'masala', 'simmer', 'Heat', 'oilghee', 'potatoes', 'lentils', 'ground', 'preparation', 'mutton', 'ghee', 'salt', 'chicken', 'yogurt', 'chili', 'butter', 'turmeric', 'vegetables', 'powder', 'tender', 'spices', 'beef', 'masala', 'oil', 'simmer', 'butter', 'ground', 'lentils', 'turmeric', 'salt', 'Heat', 'chicken', 'preparation', 'ghee', 'yogurt', 'oilghee', 'chili', 'potatoes', 'powder', 'mutton', 'vegetables', 'tender', 'spices', 'beef', 'masala', 'turmeric', 'butter', 'oil', 'simmer', 'chicken', 'lentils', 'chili', 'salt', 'ground', 'Heat', 'preparation', 'ghee', 'tender', 'yogurt', 'powder', 'oilghee', 'potatoes', 'mutton', 'vegetables', 'spices', 'beef', 'turmeric', 'masala', 'simmer', 'mutton', 'lentils', 'oil', 'ground', 'preparation', 'salt', 'chicken', 'ghee', 'yogurt', 'powder', 'Heat', 'chili', 'oilghee', 'potatoes', 'vegetables', 'butter', 'tender', 'spices', 'beef', 'masala', 'turmeric', 'mutton', 'oil', 'simmer', 'lentils', 'ground', 'salt', 'chicken', 'chili', 'preparation', 'ghee', 'yogurt', 'tender', 'powder', 'vegetables', 'Heat', 'spices', 'oilghee', 'potatoes', 'butter', 'beef', 'masala', 'turmeric', 'mutton', 'Heat', 'oil', 'oilghee', 'potatoes', 'simmer', 'butter', 'chili', 'lentils', 'ground', 'salt', 'chicken', 'preparation', 'ghee', 'yogurt', 'powder', 'vegetables', 'tender', 'spices', 'beef', 'masala', 'turmeric', 'simmer', 'mutton', 'ground', 'lentils', 'Heat', 'chicken', 'salt', 'preparation', 'ghee', 'yogurt', 'oilghee', 'oil', 'powder', 'tender', 'potatoes', 'butter', 'chili', 'vegetables', 'spices', 'beef', 'masala', 'turmeric', 'mutton', 'oil', 'simmer', 'lentils', 'chicken', 'ground', 'salt', 'chili', 'preparation', 'ghee', 'tender', 'yogurt', 'powder', 'Heat', 'oilghee', 'potatoes', 'vegetables', 'butter', 'spices', 'beef', 'oil', 'Heat', 'masala', 'potatoes', 'oilghee', 'simmer', 'mutton', 'ground', 'lentils', 'preparation', 'salt', 'chicken', 'ghee', 'yogurt', 'chili', 'butter', 'turmeric', 'vegetables', 'powder', 'tender', 'spices', 'beef', 'turmeric', 'masala', 'simmer', 'Heat', 'lentils', 'butter', 'ground', 'oilghee', 'potatoes', 'preparation', 'salt', 'oil', 'ghee', 'chicken', 'yogurt', 'powder', 'mutton', 'chili', 'vegetables', 'tender', 'spices', 'beef', 'oil', 'masala', 'simmer', 'lentils', 'ground', 'preparation', 'Heat', 'salt', 'ghee', 'chicken', 'yogurt', 'butter', 'chili', 'oilghee', 'potatoes', 'turmeric', 'mutton', 'vegetables', 'tender', 'powder', 'spices', 'beef', 'ground', 'yogurt', 'beef', 'simmer', 'turmeric', 'oilghee', 'mutton', 'lentils', 'preparation', 'ghee', 'potatoes', 'powder', 'masala', 'oil', 'salt', 'spices', 'chicken', 'vegetables', 'butter', 'tender', 'chili', 'Heat'] \n",
            "\n",
            "Ingredients:\n",
            " onion, tomato, green chili, garlic, ginger, cumin, coriander, oil, butter, ghee, cream, lemon, mint, cilantro, chicken, beef, mutton, lentils, spinach, potatoes \n",
            "\n",
            "Instructions:\n",
            " chicken preparation: prepare ingredients and chop vegetables. heat oil/ghee and add whole spices. add main ingredients and cook until tender. add ground spices and simmer until well mixed. garnish and serve hot. \n",
            "\n",
            "Recipe Rank: 3 \t ['chicken karahi potatoes ground oil yogurt tender mutton vegetables salt chili masala ghee powder preparation spices chicken simmer turmeric butter beef oilghee lentils heat ground yogurt beef simmer turmeric oilghee mutton lentils preparation ghee potatoes powder masala oil salt spices chicken vegetables butter tender chili heat oil heat oilghee potatoes simmer mutton masala preparation chicken ground lentils salt ghee tender yogurt chili vegetables spices turmeric butter powder beef masala oil heat simmer butter oilghee potatoes lentils ground salt chicken mutton turmeric preparation ghee yogurt chili powder vegetables tender spices beef masala oil simmer mutton heat ground lentils turmeric salt chicken preparation oilghee ghee potatoes yogurt chili powder butter vegetables tender spices beef masala oil heat simmer mutton oilghee ground lentils potatoes turmeric salt chicken preparation butter ghee yogurt chili powder vegetables tender spices beef masala oil simmer butter heat ground lentils turmeric oilghee salt chicken potatoes preparation ghee mutton yogurt chili powder vegetables tender spices beef masala oil simmer butter heat ground lentils turmeric salt chicken preparation oilghee potatoes ghee yogurt chili mutton powder vegetables tender spices beef masala oil simmer butter heat ground lentils salt chicken turmeric oilghee preparation potatoes ghee yogurt chili mutton powder vegetables tender spices beef masala turmeric simmer heat mutton lentils ground oilghee salt chicken preparation potatoes ghee oil yogurt powder butter chili vegetables tender spices beef turmeric masala tender mutton heat vegetables ground preparation salt chicken ghee oil oilghee yogurt potatoes powder butter chili simmer lentils spices beef masala turmeric simmer mutton heat ground lentils oilghee salt chicken oil potatoes preparation ghee yogurt butter powder chili vegetables tender spices beef turmeric masala simmer mutton lentils ground heat salt oil chicken preparation ghee yogurt oilghee powder potatoes butter chili vegetables tender spices beef turmeric masala tender heat mutton ground vegetables salt chicken potatoes oil oilghee preparation ghee butter yogurt powder chili simmer lentils spices beef masala turmeric mutton simmer ground heat salt chicken oil lentils preparation oilghee ghee potatoes yogurt powder chili butter tender vegetables spices beef masala oil simmer butter heat ground lentils turmeric salt chicken preparation oilghee potatoes ghee yogurt chili mutton powder vegetables tender spices beef masala oil mutton simmer heat ground salt chicken turmeric lentils oilghee potatoes preparation ghee yogurt butter chili powder vegetables tender spices beef masala oil simmer mutton heat ground lentils turmeric salt chicken oilghee potatoes preparation ghee yogurt butter chili powder vegetables tender spices beef oil masala simmer heat potatoes lentils oilghee ground salt preparation mutton chicken butter ghee yogurt chili turmeric powder vegetables tender spices beef masala turmeric mutton simmer oil heat ground lentils salt chicken chili oilghee preparation potatoes ghee yogurt powder butter vegetables tender spices beef turmeric masala simmer lentils ground preparation ghee salt yogurt powder chicken heat mutton potatoes oil oilghee butter vegetables chili tender spices beef masala oil simmer butter heat ground lentils salt chicken turmeric preparation oilghee potatoes ghee yogurt chili mutton powder vegetables tender spices beef masala oil simmer mutton heat ground lentils turmeric salt chicken oilghee preparation potatoes ghee yogurt chili powder butter vegetables tender spices beef masala oil mutton simmer heat ground turmeric lentils salt chicken oilghee preparation potatoes ghee yogurt chili butter powder vegetables tender spices beef turmeric masala oil tender heat potatoes butter oilghee vegetables ground preparation ghee yogurt powder salt chicken mutton simmer chili lentils spices beef turmeric masala simmer lentils ground preparation ghee salt yogurt powder heat chicken potatoes mutton oilghee oil butter vegetables chili tender spices beef masala oil simmer mutton heat ground lentils turmeric salt chicken preparation oilghee potatoes ghee yogurt chili butter powder vegetables tender spices beef oil masala heat simmer oilghee potatoes ground butter lentils chicken salt preparation mutton ghee yogurt chili turmeric powder vegetables tender spices beef oil masala heat oilghee potatoes simmer mutton ground lentils butter chicken salt preparation ghee yogurt chili turmeric powder vegetables tender spices beef oil heat masala oilghee potatoes simmer mutton lentils preparation ground ghee chicken salt yogurt chili butter tender vegetables turmeric powder spices beef oil masala heat oilghee potatoes simmer mutton lentils butter ground preparation salt chicken ghee yogurt chili turmeric powder vegetables tender spices beef oil masala heat oilghee potatoes simmer butter lentils mutton ground chicken salt preparation ghee yogurt chili turmeric powder vegetables tender spices beef yogurt turmeric simmer mutton ground lentils salt potatoes chicken heat preparation ghee oilghee masala chili butter powder vegetables tender spices oil beef oil masala heat oilghee potatoes simmer butter lentils ground preparation salt chicken mutton ghee yogurt chili turmeric powder vegetables tender spices beef turmeric masala tender heat potatoes oilghee mutton vegetables ground preparation salt butter ghee chicken yogurt powder oil chili simmer lentils spices beef oil masala heat oilghee potatoes simmer butter lentils mutton ground preparation salt chicken ghee yogurt chili turmeric powder vegetables tender spices beef masala oil simmer heat butter ground oilghee lentils potatoes salt chicken turmeric preparation ghee mutton yogurt chili powder vegetables tender spices beef turmeric masala simmer oil lentils ground preparation ghee yogurt tender salt powder chicken vegetables spices heat mutton potatoes oilghee butter chili beef oil heat oilghee potatoes simmer mutton masala ground preparation chicken lentils salt ghee tender yogurt chili vegetables spices turmeric butter powder beef oil masala simmer heat oilghee potatoes lentils ground preparation mutton ghee salt chicken yogurt chili butter turmeric vegetables powder tender spices beef masala oil simmer butter ground lentils turmeric salt heat chicken preparation ghee yogurt oilghee chili potatoes powder mutton vegetables tender spices beef masala turmeric butter oil simmer chicken lentils chili salt ground heat preparation ghee tender yogurt powder oilghee potatoes mutton vegetables spices beef turmeric masala simmer mutton lentils oil ground preparation salt chicken ghee yogurt powder heat chili oilghee potatoes vegetables butter tender spices beef masala turmeric mutton oil simmer lentils ground salt chicken chili preparation ghee yogurt tender powder vegetables heat spices oilghee potatoes butter beef masala turmeric mutton heat oil oilghee potatoes simmer butter chili lentils ground salt chicken preparation ghee yogurt powder vegetables tender spices beef masala turmeric simmer mutton ground lentils heat chicken salt preparation ghee yogurt oilghee oil powder tender potatoes butter chili vegetables spices beef masala turmeric mutton oil simmer lentils chicken ground salt chili preparation ghee tender yogurt powder heat oilghee potatoes vegetables butter spices beef oil heat masala potatoes oilghee simmer mutton ground lentils preparation salt chicken ghee yogurt chili butter turmeric vegetables powder tender spices beef turmeric masala simmer heat lentils butter ground oilghee potatoes preparation salt oil ghee chicken yogurt powder mutton chili vegetables tender spices beef oil masala simmer lentils ground preparation heat salt ghee chicken yogurt butter chili oilghee potatoes turmeric mutton vegetables tender powder spices beef ground yogurt beef simmer turmeric oilghee mutton lentils preparation ghee potatoes powder masala oil salt spices chicken vegetables butter tender chili heat', 'potatoes', 'ground', 'oil', 'yogurt', 'tender', 'mutton', 'vegetables', 'salt', 'chili', 'masala', 'ghee', 'powder', 'preparation', 'spices', 'chicken', 'simmer', 'turmeric', 'butter', 'beef', 'oilghee', 'lentils', 'Heat', 'ground', 'yogurt', 'beef', 'simmer', 'turmeric', 'oilghee', 'mutton', 'lentils', 'preparation', 'ghee', 'potatoes', 'powder', 'masala', 'oil', 'salt', 'spices', 'chicken', 'vegetables', 'butter', 'tender', 'chili', 'Heat', 'oil', 'Heat', 'oilghee', 'potatoes', 'simmer', 'mutton', 'masala', 'preparation', 'chicken', 'ground', 'lentils', 'salt', 'ghee', 'tender', 'yogurt', 'chili', 'vegetables', 'spices', 'turmeric', 'butter', 'powder', 'beef', 'masala', 'oil', 'Heat', 'simmer', 'butter', 'oilghee', 'potatoes', 'lentils', 'ground', 'salt', 'chicken', 'mutton', 'turmeric', 'preparation', 'ghee', 'yogurt', 'chili', 'powder', 'vegetables', 'tender', 'spices', 'beef', 'masala', 'oil', 'simmer', 'mutton', 'Heat', 'ground', 'lentils', 'turmeric', 'salt', 'chicken', 'preparation', 'oilghee', 'ghee', 'potatoes', 'yogurt', 'chili', 'powder', 'butter', 'vegetables', 'tender', 'spices', 'beef', 'masala', 'oil', 'Heat', 'simmer', 'mutton', 'oilghee', 'ground', 'lentils', 'potatoes', 'turmeric', 'salt', 'chicken', 'preparation', 'butter', 'ghee', 'yogurt', 'chili', 'powder', 'vegetables', 'tender', 'spices', 'beef', 'masala', 'oil', 'simmer', 'butter', 'Heat', 'ground', 'lentils', 'turmeric', 'oilghee', 'salt', 'chicken', 'potatoes', 'preparation', 'ghee', 'mutton', 'yogurt', 'chili', 'powder', 'vegetables', 'tender', 'spices', 'beef', 'masala', 'oil', 'simmer', 'butter', 'Heat', 'ground', 'lentils', 'turmeric', 'salt', 'chicken', 'preparation', 'oilghee', 'potatoes', 'ghee', 'yogurt', 'chili', 'mutton', 'powder', 'vegetables', 'tender', 'spices', 'beef', 'masala', 'oil', 'simmer', 'butter', 'Heat', 'ground', 'lentils', 'salt', 'chicken', 'turmeric', 'oilghee', 'preparation', 'potatoes', 'ghee', 'yogurt', 'chili', 'mutton', 'powder', 'vegetables', 'tender', 'spices', 'beef', 'masala', 'turmeric', 'simmer', 'Heat', 'mutton', 'lentils', 'ground', 'oilghee', 'salt', 'chicken', 'preparation', 'potatoes', 'ghee', 'oil', 'yogurt', 'powder', 'butter', 'chili', 'vegetables', 'tender', 'spices', 'beef', 'turmeric', 'masala', 'tender', 'mutton', 'Heat', 'vegetables', 'ground', 'preparation', 'salt', 'chicken', 'ghee', 'oil', 'oilghee', 'yogurt', 'potatoes', 'powder', 'butter', 'chili', 'simmer', 'lentils', 'spices', 'beef', 'masala', 'turmeric', 'simmer', 'mutton', 'Heat', 'ground', 'lentils', 'oilghee', 'salt', 'chicken', 'oil', 'potatoes', 'preparation', 'ghee', 'yogurt', 'butter', 'powder', 'chili', 'vegetables', 'tender', 'spices', 'beef', 'turmeric', 'masala', 'simmer', 'mutton', 'lentils', 'ground', 'Heat', 'salt', 'oil', 'chicken', 'preparation', 'ghee', 'yogurt', 'oilghee', 'powder', 'potatoes', 'butter', 'chili', 'vegetables', 'tender', 'spices', 'beef', 'turmeric', 'masala', 'tender', 'Heat', 'mutton', 'ground', 'vegetables', 'salt', 'chicken', 'potatoes', 'oil', 'oilghee', 'preparation', 'ghee', 'butter', 'yogurt', 'powder', 'chili', 'simmer', 'lentils', 'spices', 'beef', 'masala', 'turmeric', 'mutton', 'simmer', 'ground', 'Heat', 'salt', 'chicken', 'oil', 'lentils', 'preparation', 'oilghee', 'ghee', 'potatoes', 'yogurt', 'powder', 'chili', 'butter', 'tender', 'vegetables', 'spices', 'beef', 'masala', 'oil', 'simmer', 'butter', 'Heat', 'ground', 'lentils', 'turmeric', 'salt', 'chicken', 'preparation', 'oilghee', 'potatoes', 'ghee', 'yogurt', 'chili', 'mutton', 'powder', 'vegetables', 'tender', 'spices', 'beef', 'masala', 'oil', 'mutton', 'simmer', 'Heat', 'ground', 'salt', 'chicken', 'turmeric', 'lentils', 'oilghee', 'potatoes', 'preparation', 'ghee', 'yogurt', 'butter', 'chili', 'powder', 'vegetables', 'tender', 'spices', 'beef', 'masala', 'oil', 'simmer', 'mutton', 'Heat', 'ground', 'lentils', 'turmeric', 'salt', 'chicken', 'oilghee', 'potatoes', 'preparation', 'ghee', 'yogurt', 'butter', 'chili', 'powder', 'vegetables', 'tender', 'spices', 'beef', 'oil', 'masala', 'simmer', 'Heat', 'potatoes', 'lentils', 'oilghee', 'ground', 'salt', 'preparation', 'mutton', 'chicken', 'butter', 'ghee', 'yogurt', 'chili', 'turmeric', 'powder', 'vegetables', 'tender', 'spices', 'beef', 'masala', 'turmeric', 'mutton', 'simmer', 'oil', 'Heat', 'ground', 'lentils', 'salt', 'chicken', 'chili', 'oilghee', 'preparation', 'potatoes', 'ghee', 'yogurt', 'powder', 'butter', 'vegetables', 'tender', 'spices', 'beef', 'turmeric', 'masala', 'simmer', 'lentils', 'ground', 'preparation', 'ghee', 'salt', 'yogurt', 'powder', 'chicken', 'Heat', 'mutton', 'potatoes', 'oil', 'oilghee', 'butter', 'vegetables', 'chili', 'tender', 'spices', 'beef', 'masala', 'oil', 'simmer', 'butter', 'Heat', 'ground', 'lentils', 'salt', 'chicken', 'turmeric', 'preparation', 'oilghee', 'potatoes', 'ghee', 'yogurt', 'chili', 'mutton', 'powder', 'vegetables', 'tender', 'spices', 'beef', 'masala', 'oil', 'simmer', 'mutton', 'Heat', 'ground', 'lentils', 'turmeric', 'salt', 'chicken', 'oilghee', 'preparation', 'potatoes', 'ghee', 'yogurt', 'chili', 'powder', 'butter', 'vegetables', 'tender', 'spices', 'beef', 'masala', 'oil', 'mutton', 'simmer', 'Heat', 'ground', 'turmeric', 'lentils', 'salt', 'chicken', 'oilghee', 'preparation', 'potatoes', 'ghee', 'yogurt', 'chili', 'butter', 'powder', 'vegetables', 'tender', 'spices', 'beef', 'turmeric', 'masala', 'oil', 'tender', 'Heat', 'potatoes', 'butter', 'oilghee', 'vegetables', 'ground', 'preparation', 'ghee', 'yogurt', 'powder', 'salt', 'chicken', 'mutton', 'simmer', 'chili', 'lentils', 'spices', 'beef', 'turmeric', 'masala', 'simmer', 'lentils', 'ground', 'preparation', 'ghee', 'salt', 'yogurt', 'powder', 'Heat', 'chicken', 'potatoes', 'mutton', 'oilghee', 'oil', 'butter', 'vegetables', 'chili', 'tender', 'spices', 'beef', 'masala', 'oil', 'simmer', 'mutton', 'Heat', 'ground', 'lentils', 'turmeric', 'salt', 'chicken', 'preparation', 'oilghee', 'potatoes', 'ghee', 'yogurt', 'chili', 'butter', 'powder', 'vegetables', 'tender', 'spices', 'beef', 'oil', 'masala', 'Heat', 'simmer', 'oilghee', 'potatoes', 'ground', 'butter', 'lentils', 'chicken', 'salt', 'preparation', 'mutton', 'ghee', 'yogurt', 'chili', 'turmeric', 'powder', 'vegetables', 'tender', 'spices', 'beef', 'oil', 'masala', 'Heat', 'oilghee', 'potatoes', 'simmer', 'mutton', 'ground', 'lentils', 'butter', 'chicken', 'salt', 'preparation', 'ghee', 'yogurt', 'chili', 'turmeric', 'powder', 'vegetables', 'tender', 'spices', 'beef', 'oil', 'Heat', 'masala', 'oilghee', 'potatoes', 'simmer', 'mutton', 'lentils', 'preparation', 'ground', 'ghee', 'chicken', 'salt', 'yogurt', 'chili', 'butter', 'tender', 'vegetables', 'turmeric', 'powder', 'spices', 'beef', 'oil', 'masala', 'Heat', 'oilghee', 'potatoes', 'simmer', 'mutton', 'lentils', 'butter', 'ground', 'preparation', 'salt', 'chicken', 'ghee', 'yogurt', 'chili', 'turmeric', 'powder', 'vegetables', 'tender', 'spices', 'beef', 'oil', 'masala', 'Heat', 'oilghee', 'potatoes', 'simmer', 'butter', 'lentils', 'mutton', 'ground', 'chicken', 'salt', 'preparation', 'ghee', 'yogurt', 'chili', 'turmeric', 'powder', 'vegetables', 'tender', 'spices', 'beef', 'yogurt', 'turmeric', 'simmer', 'mutton', 'ground', 'lentils', 'salt', 'potatoes', 'chicken', 'Heat', 'preparation', 'ghee', 'oilghee', 'masala', 'chili', 'butter', 'powder', 'vegetables', 'tender', 'spices', 'oil', 'beef', 'oil', 'masala', 'Heat', 'oilghee', 'potatoes', 'simmer', 'butter', 'lentils', 'ground', 'preparation', 'salt', 'chicken', 'mutton', 'ghee', 'yogurt', 'chili', 'turmeric', 'powder', 'vegetables', 'tender', 'spices', 'beef', 'turmeric', 'masala', 'tender', 'Heat', 'potatoes', 'oilghee', 'mutton', 'vegetables', 'ground', 'preparation', 'salt', 'butter', 'ghee', 'chicken', 'yogurt', 'powder', 'oil', 'chili', 'simmer', 'lentils', 'spices', 'beef', 'oil', 'masala', 'Heat', 'oilghee', 'potatoes', 'simmer', 'butter', 'lentils', 'mutton', 'ground', 'preparation', 'salt', 'chicken', 'ghee', 'yogurt', 'chili', 'turmeric', 'powder', 'vegetables', 'tender', 'spices', 'beef', 'masala', 'oil', 'simmer', 'Heat', 'butter', 'ground', 'oilghee', 'lentils', 'potatoes', 'salt', 'chicken', 'turmeric', 'preparation', 'ghee', 'mutton', 'yogurt', 'chili', 'powder', 'vegetables', 'tender', 'spices', 'beef', 'turmeric', 'masala', 'simmer', 'oil', 'lentils', 'ground', 'preparation', 'ghee', 'yogurt', 'tender', 'salt', 'powder', 'chicken', 'vegetables', 'spices', 'Heat', 'mutton', 'potatoes', 'oilghee', 'butter', 'chili', 'beef', 'oil', 'Heat', 'oilghee', 'potatoes', 'simmer', 'mutton', 'masala', 'ground', 'preparation', 'chicken', 'lentils', 'salt', 'ghee', 'tender', 'yogurt', 'chili', 'vegetables', 'spices', 'turmeric', 'butter', 'powder', 'beef', 'oil', 'masala', 'simmer', 'Heat', 'oilghee', 'potatoes', 'lentils', 'ground', 'preparation', 'mutton', 'ghee', 'salt', 'chicken', 'yogurt', 'chili', 'butter', 'turmeric', 'vegetables', 'powder', 'tender', 'spices', 'beef', 'masala', 'oil', 'simmer', 'butter', 'ground', 'lentils', 'turmeric', 'salt', 'Heat', 'chicken', 'preparation', 'ghee', 'yogurt', 'oilghee', 'chili', 'potatoes', 'powder', 'mutton', 'vegetables', 'tender', 'spices', 'beef', 'masala', 'turmeric', 'butter', 'oil', 'simmer', 'chicken', 'lentils', 'chili', 'salt', 'ground', 'Heat', 'preparation', 'ghee', 'tender', 'yogurt', 'powder', 'oilghee', 'potatoes', 'mutton', 'vegetables', 'spices', 'beef', 'turmeric', 'masala', 'simmer', 'mutton', 'lentils', 'oil', 'ground', 'preparation', 'salt', 'chicken', 'ghee', 'yogurt', 'powder', 'Heat', 'chili', 'oilghee', 'potatoes', 'vegetables', 'butter', 'tender', 'spices', 'beef', 'masala', 'turmeric', 'mutton', 'oil', 'simmer', 'lentils', 'ground', 'salt', 'chicken', 'chili', 'preparation', 'ghee', 'yogurt', 'tender', 'powder', 'vegetables', 'Heat', 'spices', 'oilghee', 'potatoes', 'butter', 'beef', 'masala', 'turmeric', 'mutton', 'Heat', 'oil', 'oilghee', 'potatoes', 'simmer', 'butter', 'chili', 'lentils', 'ground', 'salt', 'chicken', 'preparation', 'ghee', 'yogurt', 'powder', 'vegetables', 'tender', 'spices', 'beef', 'masala', 'turmeric', 'simmer', 'mutton', 'ground', 'lentils', 'Heat', 'chicken', 'salt', 'preparation', 'ghee', 'yogurt', 'oilghee', 'oil', 'powder', 'tender', 'potatoes', 'butter', 'chili', 'vegetables', 'spices', 'beef', 'masala', 'turmeric', 'mutton', 'oil', 'simmer', 'lentils', 'chicken', 'ground', 'salt', 'chili', 'preparation', 'ghee', 'tender', 'yogurt', 'powder', 'Heat', 'oilghee', 'potatoes', 'vegetables', 'butter', 'spices', 'beef', 'oil', 'Heat', 'masala', 'potatoes', 'oilghee', 'simmer', 'mutton', 'ground', 'lentils', 'preparation', 'salt', 'chicken', 'ghee', 'yogurt', 'chili', 'butter', 'turmeric', 'vegetables', 'powder', 'tender', 'spices', 'beef', 'turmeric', 'masala', 'simmer', 'Heat', 'lentils', 'butter', 'ground', 'oilghee', 'potatoes', 'preparation', 'salt', 'oil', 'ghee', 'chicken', 'yogurt', 'powder', 'mutton', 'chili', 'vegetables', 'tender', 'spices', 'beef', 'oil', 'masala', 'simmer', 'lentils', 'ground', 'preparation', 'Heat', 'salt', 'ghee', 'chicken', 'yogurt', 'butter', 'chili', 'oilghee', 'potatoes', 'turmeric', 'mutton', 'vegetables', 'tender', 'powder', 'spices', 'beef', 'ground', 'yogurt', 'beef', 'simmer', 'turmeric', 'oilghee', 'mutton', 'lentils', 'preparation', 'ghee', 'potatoes', 'powder', 'masala', 'oil', 'salt', 'spices', 'chicken', 'vegetables', 'butter', 'tender', 'chili', 'Heat'] \n",
            "\n",
            "Ingredients:\n",
            " onion, tomato, green chili, garlic, ginger, cumin, coriander, chicken, beef, mutton, lentils, spinach, potatoes, oil, butter, ghee, cream, lemon, mint, cilantro \n",
            "\n",
            "Instructions:\n",
            " chicken preparation: prepare ingredients and chop vegetables. heat oil/ghee and add whole spices. add main ingredients and cook until tender. add ground spices and simmer until well mixed. garnish and serve hot. \n",
            "\n"
          ]
        }
      ]
    },
    {
      "cell_type": "code",
      "source": [
        "\n",
        "query = ['yogurt','vegetables','potatoes']\n",
        "Search_Recipes(query, query_ranked=False, recipe_range=(0,3))"
      ],
      "metadata": {
        "colab": {
          "base_uri": "https://localhost:8080/"
        },
        "id": "NhnPSchkgrQT",
        "outputId": "ba551d9c-8b9a-4bf1-817f-b9e199123d57"
      },
      "execution_count": 271,
      "outputs": [
        {
          "output_type": "stream",
          "name": "stdout",
          "text": [
            "Search Query: ['yogurt', 'vegetables', 'potatoes'] \n",
            "\n",
            "Recipe Rank: 1 \t ['anda paratha potatoes ground oil yogurt tender mutton vegetables salt chili masala ghee powder preparation spices chicken simmer turmeric butter beef oilghee lentils heat ground yogurt beef simmer turmeric oilghee mutton lentils preparation ghee potatoes powder masala oil salt spices chicken vegetables butter tender chili heat oil heat oilghee potatoes simmer mutton masala preparation chicken ground lentils salt ghee tender yogurt chili vegetables spices turmeric butter powder beef masala oil heat simmer butter oilghee potatoes lentils ground salt chicken mutton turmeric preparation ghee yogurt chili powder vegetables tender spices beef masala oil simmer mutton heat ground lentils turmeric salt chicken preparation oilghee ghee potatoes yogurt chili powder butter vegetables tender spices beef masala oil heat simmer mutton oilghee ground lentils potatoes turmeric salt chicken preparation butter ghee yogurt chili powder vegetables tender spices beef masala oil simmer butter heat ground lentils turmeric oilghee salt chicken potatoes preparation ghee mutton yogurt chili powder vegetables tender spices beef masala oil simmer butter heat ground lentils turmeric salt chicken preparation oilghee potatoes ghee yogurt chili mutton powder vegetables tender spices beef masala oil simmer butter heat ground lentils salt chicken turmeric oilghee preparation potatoes ghee yogurt chili mutton powder vegetables tender spices beef masala turmeric simmer heat mutton lentils ground oilghee salt chicken preparation potatoes ghee oil yogurt powder butter chili vegetables tender spices beef turmeric masala tender mutton heat vegetables ground preparation salt chicken ghee oil oilghee yogurt potatoes powder butter chili simmer lentils spices beef masala turmeric simmer mutton heat ground lentils oilghee salt chicken oil potatoes preparation ghee yogurt butter powder chili vegetables tender spices beef turmeric masala simmer mutton lentils ground heat salt oil chicken preparation ghee yogurt oilghee powder potatoes butter chili vegetables tender spices beef turmeric masala tender heat mutton ground vegetables salt chicken potatoes oil oilghee preparation ghee butter yogurt powder chili simmer lentils spices beef masala turmeric mutton simmer ground heat salt chicken oil lentils preparation oilghee ghee potatoes yogurt powder chili butter tender vegetables spices beef masala oil simmer butter heat ground lentils turmeric salt chicken preparation oilghee potatoes ghee yogurt chili mutton powder vegetables tender spices beef masala oil mutton simmer heat ground salt chicken turmeric lentils oilghee potatoes preparation ghee yogurt butter chili powder vegetables tender spices beef masala oil simmer mutton heat ground lentils turmeric salt chicken oilghee potatoes preparation ghee yogurt butter chili powder vegetables tender spices beef oil masala simmer heat potatoes lentils oilghee ground salt preparation mutton chicken butter ghee yogurt chili turmeric powder vegetables tender spices beef masala turmeric mutton simmer oil heat ground lentils salt chicken chili oilghee preparation potatoes ghee yogurt powder butter vegetables tender spices beef turmeric masala simmer lentils ground preparation ghee salt yogurt powder chicken heat mutton potatoes oil oilghee butter vegetables chili tender spices beef masala oil simmer butter heat ground lentils salt chicken turmeric preparation oilghee potatoes ghee yogurt chili mutton powder vegetables tender spices beef masala oil simmer mutton heat ground lentils turmeric salt chicken oilghee preparation potatoes ghee yogurt chili powder butter vegetables tender spices beef masala oil mutton simmer heat ground turmeric lentils salt chicken oilghee preparation potatoes ghee yogurt chili butter powder vegetables tender spices beef turmeric masala oil tender heat potatoes butter oilghee vegetables ground preparation ghee yogurt powder salt chicken mutton simmer chili lentils spices beef turmeric masala simmer lentils ground preparation ghee salt yogurt powder heat chicken potatoes mutton oilghee oil butter vegetables chili tender spices beef masala oil simmer mutton heat ground lentils turmeric salt chicken preparation oilghee potatoes ghee yogurt chili butter powder vegetables tender spices beef oil masala heat simmer oilghee potatoes ground butter lentils chicken salt preparation mutton ghee yogurt chili turmeric powder vegetables tender spices beef oil masala heat oilghee potatoes simmer mutton ground lentils butter chicken salt preparation ghee yogurt chili turmeric powder vegetables tender spices beef oil heat masala oilghee potatoes simmer mutton lentils preparation ground ghee chicken salt yogurt chili butter tender vegetables turmeric powder spices beef oil masala heat oilghee potatoes simmer mutton lentils butter ground preparation salt chicken ghee yogurt chili turmeric powder vegetables tender spices beef oil masala heat oilghee potatoes simmer butter lentils mutton ground chicken salt preparation ghee yogurt chili turmeric powder vegetables tender spices beef yogurt turmeric simmer mutton ground lentils salt potatoes chicken heat preparation ghee oilghee masala chili butter powder vegetables tender spices oil beef oil masala heat oilghee potatoes simmer butter lentils ground preparation salt chicken mutton ghee yogurt chili turmeric powder vegetables tender spices beef turmeric masala tender heat potatoes oilghee mutton vegetables ground preparation salt butter ghee chicken yogurt powder oil chili simmer lentils spices beef oil masala heat oilghee potatoes simmer butter lentils mutton ground preparation salt chicken ghee yogurt chili turmeric powder vegetables tender spices beef masala oil simmer heat butter ground oilghee lentils potatoes salt chicken turmeric preparation ghee mutton yogurt chili powder vegetables tender spices beef turmeric masala simmer oil lentils ground preparation ghee yogurt tender salt powder chicken vegetables spices heat mutton potatoes oilghee butter chili beef oil heat oilghee potatoes simmer mutton masala ground preparation chicken lentils salt ghee tender yogurt chili vegetables spices turmeric butter powder beef oil masala simmer heat oilghee potatoes lentils ground preparation mutton ghee salt chicken yogurt chili butter turmeric vegetables powder tender spices beef masala oil simmer butter ground lentils turmeric salt heat chicken preparation ghee yogurt oilghee chili potatoes powder mutton vegetables tender spices beef masala turmeric butter oil simmer chicken lentils chili salt ground heat preparation ghee tender yogurt powder oilghee potatoes mutton vegetables spices beef turmeric masala simmer mutton lentils oil ground preparation salt chicken ghee yogurt powder heat chili oilghee potatoes vegetables butter tender spices beef masala turmeric mutton oil simmer lentils ground salt chicken chili preparation ghee yogurt tender powder vegetables heat spices oilghee potatoes butter beef masala turmeric mutton heat oil oilghee potatoes simmer butter chili lentils ground salt chicken preparation ghee yogurt powder vegetables tender spices beef masala turmeric simmer mutton ground lentils heat chicken salt preparation ghee yogurt oilghee oil powder tender potatoes butter chili vegetables spices beef masala turmeric mutton oil simmer lentils chicken ground salt chili preparation ghee tender yogurt powder heat oilghee potatoes vegetables butter spices beef oil heat masala potatoes oilghee simmer mutton ground lentils preparation salt chicken ghee yogurt chili butter turmeric vegetables powder tender spices beef turmeric masala simmer heat lentils butter ground oilghee potatoes preparation salt oil ghee chicken yogurt powder mutton chili vegetables tender spices beef oil masala simmer lentils ground preparation heat salt ghee chicken yogurt butter chili oilghee potatoes turmeric mutton vegetables tender powder spices beef ground yogurt beef simmer turmeric oilghee mutton lentils preparation ghee potatoes powder masala oil salt spices chicken vegetables butter tender chili heat', 'potatoes', 'ground', 'oil', 'yogurt', 'tender', 'mutton', 'vegetables', 'salt', 'chili', 'masala', 'ghee', 'powder', 'preparation', 'spices', 'chicken', 'simmer', 'turmeric', 'butter', 'beef', 'oilghee', 'lentils', 'Heat', 'ground', 'yogurt', 'beef', 'simmer', 'turmeric', 'oilghee', 'mutton', 'lentils', 'preparation', 'ghee', 'potatoes', 'powder', 'masala', 'oil', 'salt', 'spices', 'chicken', 'vegetables', 'butter', 'tender', 'chili', 'Heat', 'oil', 'Heat', 'oilghee', 'potatoes', 'simmer', 'mutton', 'masala', 'preparation', 'chicken', 'ground', 'lentils', 'salt', 'ghee', 'tender', 'yogurt', 'chili', 'vegetables', 'spices', 'turmeric', 'butter', 'powder', 'beef', 'masala', 'oil', 'Heat', 'simmer', 'butter', 'oilghee', 'potatoes', 'lentils', 'ground', 'salt', 'chicken', 'mutton', 'turmeric', 'preparation', 'ghee', 'yogurt', 'chili', 'powder', 'vegetables', 'tender', 'spices', 'beef', 'masala', 'oil', 'simmer', 'mutton', 'Heat', 'ground', 'lentils', 'turmeric', 'salt', 'chicken', 'preparation', 'oilghee', 'ghee', 'potatoes', 'yogurt', 'chili', 'powder', 'butter', 'vegetables', 'tender', 'spices', 'beef', 'masala', 'oil', 'Heat', 'simmer', 'mutton', 'oilghee', 'ground', 'lentils', 'potatoes', 'turmeric', 'salt', 'chicken', 'preparation', 'butter', 'ghee', 'yogurt', 'chili', 'powder', 'vegetables', 'tender', 'spices', 'beef', 'masala', 'oil', 'simmer', 'butter', 'Heat', 'ground', 'lentils', 'turmeric', 'oilghee', 'salt', 'chicken', 'potatoes', 'preparation', 'ghee', 'mutton', 'yogurt', 'chili', 'powder', 'vegetables', 'tender', 'spices', 'beef', 'masala', 'oil', 'simmer', 'butter', 'Heat', 'ground', 'lentils', 'turmeric', 'salt', 'chicken', 'preparation', 'oilghee', 'potatoes', 'ghee', 'yogurt', 'chili', 'mutton', 'powder', 'vegetables', 'tender', 'spices', 'beef', 'masala', 'oil', 'simmer', 'butter', 'Heat', 'ground', 'lentils', 'salt', 'chicken', 'turmeric', 'oilghee', 'preparation', 'potatoes', 'ghee', 'yogurt', 'chili', 'mutton', 'powder', 'vegetables', 'tender', 'spices', 'beef', 'masala', 'turmeric', 'simmer', 'Heat', 'mutton', 'lentils', 'ground', 'oilghee', 'salt', 'chicken', 'preparation', 'potatoes', 'ghee', 'oil', 'yogurt', 'powder', 'butter', 'chili', 'vegetables', 'tender', 'spices', 'beef', 'turmeric', 'masala', 'tender', 'mutton', 'Heat', 'vegetables', 'ground', 'preparation', 'salt', 'chicken', 'ghee', 'oil', 'oilghee', 'yogurt', 'potatoes', 'powder', 'butter', 'chili', 'simmer', 'lentils', 'spices', 'beef', 'masala', 'turmeric', 'simmer', 'mutton', 'Heat', 'ground', 'lentils', 'oilghee', 'salt', 'chicken', 'oil', 'potatoes', 'preparation', 'ghee', 'yogurt', 'butter', 'powder', 'chili', 'vegetables', 'tender', 'spices', 'beef', 'turmeric', 'masala', 'simmer', 'mutton', 'lentils', 'ground', 'Heat', 'salt', 'oil', 'chicken', 'preparation', 'ghee', 'yogurt', 'oilghee', 'powder', 'potatoes', 'butter', 'chili', 'vegetables', 'tender', 'spices', 'beef', 'turmeric', 'masala', 'tender', 'Heat', 'mutton', 'ground', 'vegetables', 'salt', 'chicken', 'potatoes', 'oil', 'oilghee', 'preparation', 'ghee', 'butter', 'yogurt', 'powder', 'chili', 'simmer', 'lentils', 'spices', 'beef', 'masala', 'turmeric', 'mutton', 'simmer', 'ground', 'Heat', 'salt', 'chicken', 'oil', 'lentils', 'preparation', 'oilghee', 'ghee', 'potatoes', 'yogurt', 'powder', 'chili', 'butter', 'tender', 'vegetables', 'spices', 'beef', 'masala', 'oil', 'simmer', 'butter', 'Heat', 'ground', 'lentils', 'turmeric', 'salt', 'chicken', 'preparation', 'oilghee', 'potatoes', 'ghee', 'yogurt', 'chili', 'mutton', 'powder', 'vegetables', 'tender', 'spices', 'beef', 'masala', 'oil', 'mutton', 'simmer', 'Heat', 'ground', 'salt', 'chicken', 'turmeric', 'lentils', 'oilghee', 'potatoes', 'preparation', 'ghee', 'yogurt', 'butter', 'chili', 'powder', 'vegetables', 'tender', 'spices', 'beef', 'masala', 'oil', 'simmer', 'mutton', 'Heat', 'ground', 'lentils', 'turmeric', 'salt', 'chicken', 'oilghee', 'potatoes', 'preparation', 'ghee', 'yogurt', 'butter', 'chili', 'powder', 'vegetables', 'tender', 'spices', 'beef', 'oil', 'masala', 'simmer', 'Heat', 'potatoes', 'lentils', 'oilghee', 'ground', 'salt', 'preparation', 'mutton', 'chicken', 'butter', 'ghee', 'yogurt', 'chili', 'turmeric', 'powder', 'vegetables', 'tender', 'spices', 'beef', 'masala', 'turmeric', 'mutton', 'simmer', 'oil', 'Heat', 'ground', 'lentils', 'salt', 'chicken', 'chili', 'oilghee', 'preparation', 'potatoes', 'ghee', 'yogurt', 'powder', 'butter', 'vegetables', 'tender', 'spices', 'beef', 'turmeric', 'masala', 'simmer', 'lentils', 'ground', 'preparation', 'ghee', 'salt', 'yogurt', 'powder', 'chicken', 'Heat', 'mutton', 'potatoes', 'oil', 'oilghee', 'butter', 'vegetables', 'chili', 'tender', 'spices', 'beef', 'masala', 'oil', 'simmer', 'butter', 'Heat', 'ground', 'lentils', 'salt', 'chicken', 'turmeric', 'preparation', 'oilghee', 'potatoes', 'ghee', 'yogurt', 'chili', 'mutton', 'powder', 'vegetables', 'tender', 'spices', 'beef', 'masala', 'oil', 'simmer', 'mutton', 'Heat', 'ground', 'lentils', 'turmeric', 'salt', 'chicken', 'oilghee', 'preparation', 'potatoes', 'ghee', 'yogurt', 'chili', 'powder', 'butter', 'vegetables', 'tender', 'spices', 'beef', 'masala', 'oil', 'mutton', 'simmer', 'Heat', 'ground', 'turmeric', 'lentils', 'salt', 'chicken', 'oilghee', 'preparation', 'potatoes', 'ghee', 'yogurt', 'chili', 'butter', 'powder', 'vegetables', 'tender', 'spices', 'beef', 'turmeric', 'masala', 'oil', 'tender', 'Heat', 'potatoes', 'butter', 'oilghee', 'vegetables', 'ground', 'preparation', 'ghee', 'yogurt', 'powder', 'salt', 'chicken', 'mutton', 'simmer', 'chili', 'lentils', 'spices', 'beef', 'turmeric', 'masala', 'simmer', 'lentils', 'ground', 'preparation', 'ghee', 'salt', 'yogurt', 'powder', 'Heat', 'chicken', 'potatoes', 'mutton', 'oilghee', 'oil', 'butter', 'vegetables', 'chili', 'tender', 'spices', 'beef', 'masala', 'oil', 'simmer', 'mutton', 'Heat', 'ground', 'lentils', 'turmeric', 'salt', 'chicken', 'preparation', 'oilghee', 'potatoes', 'ghee', 'yogurt', 'chili', 'butter', 'powder', 'vegetables', 'tender', 'spices', 'beef', 'oil', 'masala', 'Heat', 'simmer', 'oilghee', 'potatoes', 'ground', 'butter', 'lentils', 'chicken', 'salt', 'preparation', 'mutton', 'ghee', 'yogurt', 'chili', 'turmeric', 'powder', 'vegetables', 'tender', 'spices', 'beef', 'oil', 'masala', 'Heat', 'oilghee', 'potatoes', 'simmer', 'mutton', 'ground', 'lentils', 'butter', 'chicken', 'salt', 'preparation', 'ghee', 'yogurt', 'chili', 'turmeric', 'powder', 'vegetables', 'tender', 'spices', 'beef', 'oil', 'Heat', 'masala', 'oilghee', 'potatoes', 'simmer', 'mutton', 'lentils', 'preparation', 'ground', 'ghee', 'chicken', 'salt', 'yogurt', 'chili', 'butter', 'tender', 'vegetables', 'turmeric', 'powder', 'spices', 'beef', 'oil', 'masala', 'Heat', 'oilghee', 'potatoes', 'simmer', 'mutton', 'lentils', 'butter', 'ground', 'preparation', 'salt', 'chicken', 'ghee', 'yogurt', 'chili', 'turmeric', 'powder', 'vegetables', 'tender', 'spices', 'beef', 'oil', 'masala', 'Heat', 'oilghee', 'potatoes', 'simmer', 'butter', 'lentils', 'mutton', 'ground', 'chicken', 'salt', 'preparation', 'ghee', 'yogurt', 'chili', 'turmeric', 'powder', 'vegetables', 'tender', 'spices', 'beef', 'yogurt', 'turmeric', 'simmer', 'mutton', 'ground', 'lentils', 'salt', 'potatoes', 'chicken', 'Heat', 'preparation', 'ghee', 'oilghee', 'masala', 'chili', 'butter', 'powder', 'vegetables', 'tender', 'spices', 'oil', 'beef', 'oil', 'masala', 'Heat', 'oilghee', 'potatoes', 'simmer', 'butter', 'lentils', 'ground', 'preparation', 'salt', 'chicken', 'mutton', 'ghee', 'yogurt', 'chili', 'turmeric', 'powder', 'vegetables', 'tender', 'spices', 'beef', 'turmeric', 'masala', 'tender', 'Heat', 'potatoes', 'oilghee', 'mutton', 'vegetables', 'ground', 'preparation', 'salt', 'butter', 'ghee', 'chicken', 'yogurt', 'powder', 'oil', 'chili', 'simmer', 'lentils', 'spices', 'beef', 'oil', 'masala', 'Heat', 'oilghee', 'potatoes', 'simmer', 'butter', 'lentils', 'mutton', 'ground', 'preparation', 'salt', 'chicken', 'ghee', 'yogurt', 'chili', 'turmeric', 'powder', 'vegetables', 'tender', 'spices', 'beef', 'masala', 'oil', 'simmer', 'Heat', 'butter', 'ground', 'oilghee', 'lentils', 'potatoes', 'salt', 'chicken', 'turmeric', 'preparation', 'ghee', 'mutton', 'yogurt', 'chili', 'powder', 'vegetables', 'tender', 'spices', 'beef', 'turmeric', 'masala', 'simmer', 'oil', 'lentils', 'ground', 'preparation', 'ghee', 'yogurt', 'tender', 'salt', 'powder', 'chicken', 'vegetables', 'spices', 'Heat', 'mutton', 'potatoes', 'oilghee', 'butter', 'chili', 'beef', 'oil', 'Heat', 'oilghee', 'potatoes', 'simmer', 'mutton', 'masala', 'ground', 'preparation', 'chicken', 'lentils', 'salt', 'ghee', 'tender', 'yogurt', 'chili', 'vegetables', 'spices', 'turmeric', 'butter', 'powder', 'beef', 'oil', 'masala', 'simmer', 'Heat', 'oilghee', 'potatoes', 'lentils', 'ground', 'preparation', 'mutton', 'ghee', 'salt', 'chicken', 'yogurt', 'chili', 'butter', 'turmeric', 'vegetables', 'powder', 'tender', 'spices', 'beef', 'masala', 'oil', 'simmer', 'butter', 'ground', 'lentils', 'turmeric', 'salt', 'Heat', 'chicken', 'preparation', 'ghee', 'yogurt', 'oilghee', 'chili', 'potatoes', 'powder', 'mutton', 'vegetables', 'tender', 'spices', 'beef', 'masala', 'turmeric', 'butter', 'oil', 'simmer', 'chicken', 'lentils', 'chili', 'salt', 'ground', 'Heat', 'preparation', 'ghee', 'tender', 'yogurt', 'powder', 'oilghee', 'potatoes', 'mutton', 'vegetables', 'spices', 'beef', 'turmeric', 'masala', 'simmer', 'mutton', 'lentils', 'oil', 'ground', 'preparation', 'salt', 'chicken', 'ghee', 'yogurt', 'powder', 'Heat', 'chili', 'oilghee', 'potatoes', 'vegetables', 'butter', 'tender', 'spices', 'beef', 'masala', 'turmeric', 'mutton', 'oil', 'simmer', 'lentils', 'ground', 'salt', 'chicken', 'chili', 'preparation', 'ghee', 'yogurt', 'tender', 'powder', 'vegetables', 'Heat', 'spices', 'oilghee', 'potatoes', 'butter', 'beef', 'masala', 'turmeric', 'mutton', 'Heat', 'oil', 'oilghee', 'potatoes', 'simmer', 'butter', 'chili', 'lentils', 'ground', 'salt', 'chicken', 'preparation', 'ghee', 'yogurt', 'powder', 'vegetables', 'tender', 'spices', 'beef', 'masala', 'turmeric', 'simmer', 'mutton', 'ground', 'lentils', 'Heat', 'chicken', 'salt', 'preparation', 'ghee', 'yogurt', 'oilghee', 'oil', 'powder', 'tender', 'potatoes', 'butter', 'chili', 'vegetables', 'spices', 'beef', 'masala', 'turmeric', 'mutton', 'oil', 'simmer', 'lentils', 'chicken', 'ground', 'salt', 'chili', 'preparation', 'ghee', 'tender', 'yogurt', 'powder', 'Heat', 'oilghee', 'potatoes', 'vegetables', 'butter', 'spices', 'beef', 'oil', 'Heat', 'masala', 'potatoes', 'oilghee', 'simmer', 'mutton', 'ground', 'lentils', 'preparation', 'salt', 'chicken', 'ghee', 'yogurt', 'chili', 'butter', 'turmeric', 'vegetables', 'powder', 'tender', 'spices', 'beef', 'turmeric', 'masala', 'simmer', 'Heat', 'lentils', 'butter', 'ground', 'oilghee', 'potatoes', 'preparation', 'salt', 'oil', 'ghee', 'chicken', 'yogurt', 'powder', 'mutton', 'chili', 'vegetables', 'tender', 'spices', 'beef', 'oil', 'masala', 'simmer', 'lentils', 'ground', 'preparation', 'Heat', 'salt', 'ghee', 'chicken', 'yogurt', 'butter', 'chili', 'oilghee', 'potatoes', 'turmeric', 'mutton', 'vegetables', 'tender', 'powder', 'spices', 'beef', 'ground', 'yogurt', 'beef', 'simmer', 'turmeric', 'oilghee', 'mutton', 'lentils', 'preparation', 'ghee', 'potatoes', 'powder', 'masala', 'oil', 'salt', 'spices', 'chicken', 'vegetables', 'butter', 'tender', 'chili', 'Heat'] \n",
            "\n",
            "Ingredients:\n",
            " oil, butter, ghee, cream, lemon, mint, cilantro, yogurt, garam masala, red chili powder, turmeric, salt, chicken, beef, mutton, lentils, spinach, potatoes \n",
            "\n",
            "Instructions:\n",
            " anda preparation: prepare ingredients and chop vegetables. heat oil/ghee and add whole spices. add main ingredients and cook until tender. add ground spices and simmer until well mixed. garnish and serve hot. \n",
            "\n",
            "Recipe Rank: 2 \t ['aloo gosht potatoes ground oil yogurt tender mutton vegetables salt chili masala ghee powder preparation spices chicken simmer turmeric butter beef oilghee lentils heat ground yogurt beef simmer turmeric oilghee mutton lentils preparation ghee potatoes powder masala oil salt spices chicken vegetables butter tender chili heat oil heat oilghee potatoes simmer mutton masala preparation chicken ground lentils salt ghee tender yogurt chili vegetables spices turmeric butter powder beef masala oil heat simmer butter oilghee potatoes lentils ground salt chicken mutton turmeric preparation ghee yogurt chili powder vegetables tender spices beef masala oil simmer mutton heat ground lentils turmeric salt chicken preparation oilghee ghee potatoes yogurt chili powder butter vegetables tender spices beef masala oil heat simmer mutton oilghee ground lentils potatoes turmeric salt chicken preparation butter ghee yogurt chili powder vegetables tender spices beef masala oil simmer butter heat ground lentils turmeric oilghee salt chicken potatoes preparation ghee mutton yogurt chili powder vegetables tender spices beef masala oil simmer butter heat ground lentils turmeric salt chicken preparation oilghee potatoes ghee yogurt chili mutton powder vegetables tender spices beef masala oil simmer butter heat ground lentils salt chicken turmeric oilghee preparation potatoes ghee yogurt chili mutton powder vegetables tender spices beef masala turmeric simmer heat mutton lentils ground oilghee salt chicken preparation potatoes ghee oil yogurt powder butter chili vegetables tender spices beef turmeric masala tender mutton heat vegetables ground preparation salt chicken ghee oil oilghee yogurt potatoes powder butter chili simmer lentils spices beef masala turmeric simmer mutton heat ground lentils oilghee salt chicken oil potatoes preparation ghee yogurt butter powder chili vegetables tender spices beef turmeric masala simmer mutton lentils ground heat salt oil chicken preparation ghee yogurt oilghee powder potatoes butter chili vegetables tender spices beef turmeric masala tender heat mutton ground vegetables salt chicken potatoes oil oilghee preparation ghee butter yogurt powder chili simmer lentils spices beef masala turmeric mutton simmer ground heat salt chicken oil lentils preparation oilghee ghee potatoes yogurt powder chili butter tender vegetables spices beef masala oil simmer butter heat ground lentils turmeric salt chicken preparation oilghee potatoes ghee yogurt chili mutton powder vegetables tender spices beef masala oil mutton simmer heat ground salt chicken turmeric lentils oilghee potatoes preparation ghee yogurt butter chili powder vegetables tender spices beef masala oil simmer mutton heat ground lentils turmeric salt chicken oilghee potatoes preparation ghee yogurt butter chili powder vegetables tender spices beef oil masala simmer heat potatoes lentils oilghee ground salt preparation mutton chicken butter ghee yogurt chili turmeric powder vegetables tender spices beef masala turmeric mutton simmer oil heat ground lentils salt chicken chili oilghee preparation potatoes ghee yogurt powder butter vegetables tender spices beef turmeric masala simmer lentils ground preparation ghee salt yogurt powder chicken heat mutton potatoes oil oilghee butter vegetables chili tender spices beef masala oil simmer butter heat ground lentils salt chicken turmeric preparation oilghee potatoes ghee yogurt chili mutton powder vegetables tender spices beef masala oil simmer mutton heat ground lentils turmeric salt chicken oilghee preparation potatoes ghee yogurt chili powder butter vegetables tender spices beef masala oil mutton simmer heat ground turmeric lentils salt chicken oilghee preparation potatoes ghee yogurt chili butter powder vegetables tender spices beef turmeric masala oil tender heat potatoes butter oilghee vegetables ground preparation ghee yogurt powder salt chicken mutton simmer chili lentils spices beef turmeric masala simmer lentils ground preparation ghee salt yogurt powder heat chicken potatoes mutton oilghee oil butter vegetables chili tender spices beef masala oil simmer mutton heat ground lentils turmeric salt chicken preparation oilghee potatoes ghee yogurt chili butter powder vegetables tender spices beef oil masala heat simmer oilghee potatoes ground butter lentils chicken salt preparation mutton ghee yogurt chili turmeric powder vegetables tender spices beef oil masala heat oilghee potatoes simmer mutton ground lentils butter chicken salt preparation ghee yogurt chili turmeric powder vegetables tender spices beef oil heat masala oilghee potatoes simmer mutton lentils preparation ground ghee chicken salt yogurt chili butter tender vegetables turmeric powder spices beef oil masala heat oilghee potatoes simmer mutton lentils butter ground preparation salt chicken ghee yogurt chili turmeric powder vegetables tender spices beef oil masala heat oilghee potatoes simmer butter lentils mutton ground chicken salt preparation ghee yogurt chili turmeric powder vegetables tender spices beef yogurt turmeric simmer mutton ground lentils salt potatoes chicken heat preparation ghee oilghee masala chili butter powder vegetables tender spices oil beef oil masala heat oilghee potatoes simmer butter lentils ground preparation salt chicken mutton ghee yogurt chili turmeric powder vegetables tender spices beef turmeric masala tender heat potatoes oilghee mutton vegetables ground preparation salt butter ghee chicken yogurt powder oil chili simmer lentils spices beef oil masala heat oilghee potatoes simmer butter lentils mutton ground preparation salt chicken ghee yogurt chili turmeric powder vegetables tender spices beef masala oil simmer heat butter ground oilghee lentils potatoes salt chicken turmeric preparation ghee mutton yogurt chili powder vegetables tender spices beef turmeric masala simmer oil lentils ground preparation ghee yogurt tender salt powder chicken vegetables spices heat mutton potatoes oilghee butter chili beef oil heat oilghee potatoes simmer mutton masala ground preparation chicken lentils salt ghee tender yogurt chili vegetables spices turmeric butter powder beef oil masala simmer heat oilghee potatoes lentils ground preparation mutton ghee salt chicken yogurt chili butter turmeric vegetables powder tender spices beef masala oil simmer butter ground lentils turmeric salt heat chicken preparation ghee yogurt oilghee chili potatoes powder mutton vegetables tender spices beef masala turmeric butter oil simmer chicken lentils chili salt ground heat preparation ghee tender yogurt powder oilghee potatoes mutton vegetables spices beef turmeric masala simmer mutton lentils oil ground preparation salt chicken ghee yogurt powder heat chili oilghee potatoes vegetables butter tender spices beef masala turmeric mutton oil simmer lentils ground salt chicken chili preparation ghee yogurt tender powder vegetables heat spices oilghee potatoes butter beef masala turmeric mutton heat oil oilghee potatoes simmer butter chili lentils ground salt chicken preparation ghee yogurt powder vegetables tender spices beef masala turmeric simmer mutton ground lentils heat chicken salt preparation ghee yogurt oilghee oil powder tender potatoes butter chili vegetables spices beef masala turmeric mutton oil simmer lentils chicken ground salt chili preparation ghee tender yogurt powder heat oilghee potatoes vegetables butter spices beef oil heat masala potatoes oilghee simmer mutton ground lentils preparation salt chicken ghee yogurt chili butter turmeric vegetables powder tender spices beef turmeric masala simmer heat lentils butter ground oilghee potatoes preparation salt oil ghee chicken yogurt powder mutton chili vegetables tender spices beef oil masala simmer lentils ground preparation heat salt ghee chicken yogurt butter chili oilghee potatoes turmeric mutton vegetables tender powder spices beef ground yogurt beef simmer turmeric oilghee mutton lentils preparation ghee potatoes powder masala oil salt spices chicken vegetables butter tender chili heat', 'potatoes', 'ground', 'oil', 'yogurt', 'tender', 'mutton', 'vegetables', 'salt', 'chili', 'masala', 'ghee', 'powder', 'preparation', 'spices', 'chicken', 'simmer', 'turmeric', 'butter', 'beef', 'oilghee', 'lentils', 'Heat', 'ground', 'yogurt', 'beef', 'simmer', 'turmeric', 'oilghee', 'mutton', 'lentils', 'preparation', 'ghee', 'potatoes', 'powder', 'masala', 'oil', 'salt', 'spices', 'chicken', 'vegetables', 'butter', 'tender', 'chili', 'Heat', 'oil', 'Heat', 'oilghee', 'potatoes', 'simmer', 'mutton', 'masala', 'preparation', 'chicken', 'ground', 'lentils', 'salt', 'ghee', 'tender', 'yogurt', 'chili', 'vegetables', 'spices', 'turmeric', 'butter', 'powder', 'beef', 'masala', 'oil', 'Heat', 'simmer', 'butter', 'oilghee', 'potatoes', 'lentils', 'ground', 'salt', 'chicken', 'mutton', 'turmeric', 'preparation', 'ghee', 'yogurt', 'chili', 'powder', 'vegetables', 'tender', 'spices', 'beef', 'masala', 'oil', 'simmer', 'mutton', 'Heat', 'ground', 'lentils', 'turmeric', 'salt', 'chicken', 'preparation', 'oilghee', 'ghee', 'potatoes', 'yogurt', 'chili', 'powder', 'butter', 'vegetables', 'tender', 'spices', 'beef', 'masala', 'oil', 'Heat', 'simmer', 'mutton', 'oilghee', 'ground', 'lentils', 'potatoes', 'turmeric', 'salt', 'chicken', 'preparation', 'butter', 'ghee', 'yogurt', 'chili', 'powder', 'vegetables', 'tender', 'spices', 'beef', 'masala', 'oil', 'simmer', 'butter', 'Heat', 'ground', 'lentils', 'turmeric', 'oilghee', 'salt', 'chicken', 'potatoes', 'preparation', 'ghee', 'mutton', 'yogurt', 'chili', 'powder', 'vegetables', 'tender', 'spices', 'beef', 'masala', 'oil', 'simmer', 'butter', 'Heat', 'ground', 'lentils', 'turmeric', 'salt', 'chicken', 'preparation', 'oilghee', 'potatoes', 'ghee', 'yogurt', 'chili', 'mutton', 'powder', 'vegetables', 'tender', 'spices', 'beef', 'masala', 'oil', 'simmer', 'butter', 'Heat', 'ground', 'lentils', 'salt', 'chicken', 'turmeric', 'oilghee', 'preparation', 'potatoes', 'ghee', 'yogurt', 'chili', 'mutton', 'powder', 'vegetables', 'tender', 'spices', 'beef', 'masala', 'turmeric', 'simmer', 'Heat', 'mutton', 'lentils', 'ground', 'oilghee', 'salt', 'chicken', 'preparation', 'potatoes', 'ghee', 'oil', 'yogurt', 'powder', 'butter', 'chili', 'vegetables', 'tender', 'spices', 'beef', 'turmeric', 'masala', 'tender', 'mutton', 'Heat', 'vegetables', 'ground', 'preparation', 'salt', 'chicken', 'ghee', 'oil', 'oilghee', 'yogurt', 'potatoes', 'powder', 'butter', 'chili', 'simmer', 'lentils', 'spices', 'beef', 'masala', 'turmeric', 'simmer', 'mutton', 'Heat', 'ground', 'lentils', 'oilghee', 'salt', 'chicken', 'oil', 'potatoes', 'preparation', 'ghee', 'yogurt', 'butter', 'powder', 'chili', 'vegetables', 'tender', 'spices', 'beef', 'turmeric', 'masala', 'simmer', 'mutton', 'lentils', 'ground', 'Heat', 'salt', 'oil', 'chicken', 'preparation', 'ghee', 'yogurt', 'oilghee', 'powder', 'potatoes', 'butter', 'chili', 'vegetables', 'tender', 'spices', 'beef', 'turmeric', 'masala', 'tender', 'Heat', 'mutton', 'ground', 'vegetables', 'salt', 'chicken', 'potatoes', 'oil', 'oilghee', 'preparation', 'ghee', 'butter', 'yogurt', 'powder', 'chili', 'simmer', 'lentils', 'spices', 'beef', 'masala', 'turmeric', 'mutton', 'simmer', 'ground', 'Heat', 'salt', 'chicken', 'oil', 'lentils', 'preparation', 'oilghee', 'ghee', 'potatoes', 'yogurt', 'powder', 'chili', 'butter', 'tender', 'vegetables', 'spices', 'beef', 'masala', 'oil', 'simmer', 'butter', 'Heat', 'ground', 'lentils', 'turmeric', 'salt', 'chicken', 'preparation', 'oilghee', 'potatoes', 'ghee', 'yogurt', 'chili', 'mutton', 'powder', 'vegetables', 'tender', 'spices', 'beef', 'masala', 'oil', 'mutton', 'simmer', 'Heat', 'ground', 'salt', 'chicken', 'turmeric', 'lentils', 'oilghee', 'potatoes', 'preparation', 'ghee', 'yogurt', 'butter', 'chili', 'powder', 'vegetables', 'tender', 'spices', 'beef', 'masala', 'oil', 'simmer', 'mutton', 'Heat', 'ground', 'lentils', 'turmeric', 'salt', 'chicken', 'oilghee', 'potatoes', 'preparation', 'ghee', 'yogurt', 'butter', 'chili', 'powder', 'vegetables', 'tender', 'spices', 'beef', 'oil', 'masala', 'simmer', 'Heat', 'potatoes', 'lentils', 'oilghee', 'ground', 'salt', 'preparation', 'mutton', 'chicken', 'butter', 'ghee', 'yogurt', 'chili', 'turmeric', 'powder', 'vegetables', 'tender', 'spices', 'beef', 'masala', 'turmeric', 'mutton', 'simmer', 'oil', 'Heat', 'ground', 'lentils', 'salt', 'chicken', 'chili', 'oilghee', 'preparation', 'potatoes', 'ghee', 'yogurt', 'powder', 'butter', 'vegetables', 'tender', 'spices', 'beef', 'turmeric', 'masala', 'simmer', 'lentils', 'ground', 'preparation', 'ghee', 'salt', 'yogurt', 'powder', 'chicken', 'Heat', 'mutton', 'potatoes', 'oil', 'oilghee', 'butter', 'vegetables', 'chili', 'tender', 'spices', 'beef', 'masala', 'oil', 'simmer', 'butter', 'Heat', 'ground', 'lentils', 'salt', 'chicken', 'turmeric', 'preparation', 'oilghee', 'potatoes', 'ghee', 'yogurt', 'chili', 'mutton', 'powder', 'vegetables', 'tender', 'spices', 'beef', 'masala', 'oil', 'simmer', 'mutton', 'Heat', 'ground', 'lentils', 'turmeric', 'salt', 'chicken', 'oilghee', 'preparation', 'potatoes', 'ghee', 'yogurt', 'chili', 'powder', 'butter', 'vegetables', 'tender', 'spices', 'beef', 'masala', 'oil', 'mutton', 'simmer', 'Heat', 'ground', 'turmeric', 'lentils', 'salt', 'chicken', 'oilghee', 'preparation', 'potatoes', 'ghee', 'yogurt', 'chili', 'butter', 'powder', 'vegetables', 'tender', 'spices', 'beef', 'turmeric', 'masala', 'oil', 'tender', 'Heat', 'potatoes', 'butter', 'oilghee', 'vegetables', 'ground', 'preparation', 'ghee', 'yogurt', 'powder', 'salt', 'chicken', 'mutton', 'simmer', 'chili', 'lentils', 'spices', 'beef', 'turmeric', 'masala', 'simmer', 'lentils', 'ground', 'preparation', 'ghee', 'salt', 'yogurt', 'powder', 'Heat', 'chicken', 'potatoes', 'mutton', 'oilghee', 'oil', 'butter', 'vegetables', 'chili', 'tender', 'spices', 'beef', 'masala', 'oil', 'simmer', 'mutton', 'Heat', 'ground', 'lentils', 'turmeric', 'salt', 'chicken', 'preparation', 'oilghee', 'potatoes', 'ghee', 'yogurt', 'chili', 'butter', 'powder', 'vegetables', 'tender', 'spices', 'beef', 'oil', 'masala', 'Heat', 'simmer', 'oilghee', 'potatoes', 'ground', 'butter', 'lentils', 'chicken', 'salt', 'preparation', 'mutton', 'ghee', 'yogurt', 'chili', 'turmeric', 'powder', 'vegetables', 'tender', 'spices', 'beef', 'oil', 'masala', 'Heat', 'oilghee', 'potatoes', 'simmer', 'mutton', 'ground', 'lentils', 'butter', 'chicken', 'salt', 'preparation', 'ghee', 'yogurt', 'chili', 'turmeric', 'powder', 'vegetables', 'tender', 'spices', 'beef', 'oil', 'Heat', 'masala', 'oilghee', 'potatoes', 'simmer', 'mutton', 'lentils', 'preparation', 'ground', 'ghee', 'chicken', 'salt', 'yogurt', 'chili', 'butter', 'tender', 'vegetables', 'turmeric', 'powder', 'spices', 'beef', 'oil', 'masala', 'Heat', 'oilghee', 'potatoes', 'simmer', 'mutton', 'lentils', 'butter', 'ground', 'preparation', 'salt', 'chicken', 'ghee', 'yogurt', 'chili', 'turmeric', 'powder', 'vegetables', 'tender', 'spices', 'beef', 'oil', 'masala', 'Heat', 'oilghee', 'potatoes', 'simmer', 'butter', 'lentils', 'mutton', 'ground', 'chicken', 'salt', 'preparation', 'ghee', 'yogurt', 'chili', 'turmeric', 'powder', 'vegetables', 'tender', 'spices', 'beef', 'yogurt', 'turmeric', 'simmer', 'mutton', 'ground', 'lentils', 'salt', 'potatoes', 'chicken', 'Heat', 'preparation', 'ghee', 'oilghee', 'masala', 'chili', 'butter', 'powder', 'vegetables', 'tender', 'spices', 'oil', 'beef', 'oil', 'masala', 'Heat', 'oilghee', 'potatoes', 'simmer', 'butter', 'lentils', 'ground', 'preparation', 'salt', 'chicken', 'mutton', 'ghee', 'yogurt', 'chili', 'turmeric', 'powder', 'vegetables', 'tender', 'spices', 'beef', 'turmeric', 'masala', 'tender', 'Heat', 'potatoes', 'oilghee', 'mutton', 'vegetables', 'ground', 'preparation', 'salt', 'butter', 'ghee', 'chicken', 'yogurt', 'powder', 'oil', 'chili', 'simmer', 'lentils', 'spices', 'beef', 'oil', 'masala', 'Heat', 'oilghee', 'potatoes', 'simmer', 'butter', 'lentils', 'mutton', 'ground', 'preparation', 'salt', 'chicken', 'ghee', 'yogurt', 'chili', 'turmeric', 'powder', 'vegetables', 'tender', 'spices', 'beef', 'masala', 'oil', 'simmer', 'Heat', 'butter', 'ground', 'oilghee', 'lentils', 'potatoes', 'salt', 'chicken', 'turmeric', 'preparation', 'ghee', 'mutton', 'yogurt', 'chili', 'powder', 'vegetables', 'tender', 'spices', 'beef', 'turmeric', 'masala', 'simmer', 'oil', 'lentils', 'ground', 'preparation', 'ghee', 'yogurt', 'tender', 'salt', 'powder', 'chicken', 'vegetables', 'spices', 'Heat', 'mutton', 'potatoes', 'oilghee', 'butter', 'chili', 'beef', 'oil', 'Heat', 'oilghee', 'potatoes', 'simmer', 'mutton', 'masala', 'ground', 'preparation', 'chicken', 'lentils', 'salt', 'ghee', 'tender', 'yogurt', 'chili', 'vegetables', 'spices', 'turmeric', 'butter', 'powder', 'beef', 'oil', 'masala', 'simmer', 'Heat', 'oilghee', 'potatoes', 'lentils', 'ground', 'preparation', 'mutton', 'ghee', 'salt', 'chicken', 'yogurt', 'chili', 'butter', 'turmeric', 'vegetables', 'powder', 'tender', 'spices', 'beef', 'masala', 'oil', 'simmer', 'butter', 'ground', 'lentils', 'turmeric', 'salt', 'Heat', 'chicken', 'preparation', 'ghee', 'yogurt', 'oilghee', 'chili', 'potatoes', 'powder', 'mutton', 'vegetables', 'tender', 'spices', 'beef', 'masala', 'turmeric', 'butter', 'oil', 'simmer', 'chicken', 'lentils', 'chili', 'salt', 'ground', 'Heat', 'preparation', 'ghee', 'tender', 'yogurt', 'powder', 'oilghee', 'potatoes', 'mutton', 'vegetables', 'spices', 'beef', 'turmeric', 'masala', 'simmer', 'mutton', 'lentils', 'oil', 'ground', 'preparation', 'salt', 'chicken', 'ghee', 'yogurt', 'powder', 'Heat', 'chili', 'oilghee', 'potatoes', 'vegetables', 'butter', 'tender', 'spices', 'beef', 'masala', 'turmeric', 'mutton', 'oil', 'simmer', 'lentils', 'ground', 'salt', 'chicken', 'chili', 'preparation', 'ghee', 'yogurt', 'tender', 'powder', 'vegetables', 'Heat', 'spices', 'oilghee', 'potatoes', 'butter', 'beef', 'masala', 'turmeric', 'mutton', 'Heat', 'oil', 'oilghee', 'potatoes', 'simmer', 'butter', 'chili', 'lentils', 'ground', 'salt', 'chicken', 'preparation', 'ghee', 'yogurt', 'powder', 'vegetables', 'tender', 'spices', 'beef', 'masala', 'turmeric', 'simmer', 'mutton', 'ground', 'lentils', 'Heat', 'chicken', 'salt', 'preparation', 'ghee', 'yogurt', 'oilghee', 'oil', 'powder', 'tender', 'potatoes', 'butter', 'chili', 'vegetables', 'spices', 'beef', 'masala', 'turmeric', 'mutton', 'oil', 'simmer', 'lentils', 'chicken', 'ground', 'salt', 'chili', 'preparation', 'ghee', 'tender', 'yogurt', 'powder', 'Heat', 'oilghee', 'potatoes', 'vegetables', 'butter', 'spices', 'beef', 'oil', 'Heat', 'masala', 'potatoes', 'oilghee', 'simmer', 'mutton', 'ground', 'lentils', 'preparation', 'salt', 'chicken', 'ghee', 'yogurt', 'chili', 'butter', 'turmeric', 'vegetables', 'powder', 'tender', 'spices', 'beef', 'turmeric', 'masala', 'simmer', 'Heat', 'lentils', 'butter', 'ground', 'oilghee', 'potatoes', 'preparation', 'salt', 'oil', 'ghee', 'chicken', 'yogurt', 'powder', 'mutton', 'chili', 'vegetables', 'tender', 'spices', 'beef', 'oil', 'masala', 'simmer', 'lentils', 'ground', 'preparation', 'Heat', 'salt', 'ghee', 'chicken', 'yogurt', 'butter', 'chili', 'oilghee', 'potatoes', 'turmeric', 'mutton', 'vegetables', 'tender', 'powder', 'spices', 'beef', 'ground', 'yogurt', 'beef', 'simmer', 'turmeric', 'oilghee', 'mutton', 'lentils', 'preparation', 'ghee', 'potatoes', 'powder', 'masala', 'oil', 'salt', 'spices', 'chicken', 'vegetables', 'butter', 'tender', 'chili', 'Heat'] \n",
            "\n",
            "Ingredients:\n",
            " yogurt, garam masala, red chili powder, turmeric, salt, chicken, beef, mutton, lentils, spinach, potatoes, oil, butter, ghee, cream, lemon, mint, cilantro \n",
            "\n",
            "Instructions:\n",
            " aloo preparation: prepare ingredients and chop vegetables. heat oil/ghee and add whole spices. add main ingredients and cook until tender. add ground spices and simmer until well mixed. garnish and serve hot. \n",
            "\n",
            "Recipe Rank: 3 \t ['biryani potatoes ground oil yogurt tender mutton vegetables salt chili masala ghee powder preparation spices chicken simmer turmeric butter beef oilghee lentils heat ground yogurt beef simmer turmeric oilghee mutton lentils preparation ghee potatoes powder masala oil salt spices chicken vegetables butter tender chili heat oil heat oilghee potatoes simmer mutton masala preparation chicken ground lentils salt ghee tender yogurt chili vegetables spices turmeric butter powder beef masala oil heat simmer butter oilghee potatoes lentils ground salt chicken mutton turmeric preparation ghee yogurt chili powder vegetables tender spices beef masala oil simmer mutton heat ground lentils turmeric salt chicken preparation oilghee ghee potatoes yogurt chili powder butter vegetables tender spices beef masala oil heat simmer mutton oilghee ground lentils potatoes turmeric salt chicken preparation butter ghee yogurt chili powder vegetables tender spices beef masala oil simmer butter heat ground lentils turmeric oilghee salt chicken potatoes preparation ghee mutton yogurt chili powder vegetables tender spices beef masala oil simmer butter heat ground lentils turmeric salt chicken preparation oilghee potatoes ghee yogurt chili mutton powder vegetables tender spices beef masala oil simmer butter heat ground lentils salt chicken turmeric oilghee preparation potatoes ghee yogurt chili mutton powder vegetables tender spices beef masala turmeric simmer heat mutton lentils ground oilghee salt chicken preparation potatoes ghee oil yogurt powder butter chili vegetables tender spices beef turmeric masala tender mutton heat vegetables ground preparation salt chicken ghee oil oilghee yogurt potatoes powder butter chili simmer lentils spices beef masala turmeric simmer mutton heat ground lentils oilghee salt chicken oil potatoes preparation ghee yogurt butter powder chili vegetables tender spices beef turmeric masala simmer mutton lentils ground heat salt oil chicken preparation ghee yogurt oilghee powder potatoes butter chili vegetables tender spices beef turmeric masala tender heat mutton ground vegetables salt chicken potatoes oil oilghee preparation ghee butter yogurt powder chili simmer lentils spices beef masala turmeric mutton simmer ground heat salt chicken oil lentils preparation oilghee ghee potatoes yogurt powder chili butter tender vegetables spices beef masala oil simmer butter heat ground lentils turmeric salt chicken preparation oilghee potatoes ghee yogurt chili mutton powder vegetables tender spices beef masala oil mutton simmer heat ground salt chicken turmeric lentils oilghee potatoes preparation ghee yogurt butter chili powder vegetables tender spices beef masala oil simmer mutton heat ground lentils turmeric salt chicken oilghee potatoes preparation ghee yogurt butter chili powder vegetables tender spices beef oil masala simmer heat potatoes lentils oilghee ground salt preparation mutton chicken butter ghee yogurt chili turmeric powder vegetables tender spices beef masala turmeric mutton simmer oil heat ground lentils salt chicken chili oilghee preparation potatoes ghee yogurt powder butter vegetables tender spices beef turmeric masala simmer lentils ground preparation ghee salt yogurt powder chicken heat mutton potatoes oil oilghee butter vegetables chili tender spices beef masala oil simmer butter heat ground lentils salt chicken turmeric preparation oilghee potatoes ghee yogurt chili mutton powder vegetables tender spices beef masala oil simmer mutton heat ground lentils turmeric salt chicken oilghee preparation potatoes ghee yogurt chili powder butter vegetables tender spices beef masala oil mutton simmer heat ground turmeric lentils salt chicken oilghee preparation potatoes ghee yogurt chili butter powder vegetables tender spices beef turmeric masala oil tender heat potatoes butter oilghee vegetables ground preparation ghee yogurt powder salt chicken mutton simmer chili lentils spices beef turmeric masala simmer lentils ground preparation ghee salt yogurt powder heat chicken potatoes mutton oilghee oil butter vegetables chili tender spices beef masala oil simmer mutton heat ground lentils turmeric salt chicken preparation oilghee potatoes ghee yogurt chili butter powder vegetables tender spices beef oil masala heat simmer oilghee potatoes ground butter lentils chicken salt preparation mutton ghee yogurt chili turmeric powder vegetables tender spices beef oil masala heat oilghee potatoes simmer mutton ground lentils butter chicken salt preparation ghee yogurt chili turmeric powder vegetables tender spices beef oil heat masala oilghee potatoes simmer mutton lentils preparation ground ghee chicken salt yogurt chili butter tender vegetables turmeric powder spices beef oil masala heat oilghee potatoes simmer mutton lentils butter ground preparation salt chicken ghee yogurt chili turmeric powder vegetables tender spices beef oil masala heat oilghee potatoes simmer butter lentils mutton ground chicken salt preparation ghee yogurt chili turmeric powder vegetables tender spices beef yogurt turmeric simmer mutton ground lentils salt potatoes chicken heat preparation ghee oilghee masala chili butter powder vegetables tender spices oil beef oil masala heat oilghee potatoes simmer butter lentils ground preparation salt chicken mutton ghee yogurt chili turmeric powder vegetables tender spices beef turmeric masala tender heat potatoes oilghee mutton vegetables ground preparation salt butter ghee chicken yogurt powder oil chili simmer lentils spices beef oil masala heat oilghee potatoes simmer butter lentils mutton ground preparation salt chicken ghee yogurt chili turmeric powder vegetables tender spices beef masala oil simmer heat butter ground oilghee lentils potatoes salt chicken turmeric preparation ghee mutton yogurt chili powder vegetables tender spices beef turmeric masala simmer oil lentils ground preparation ghee yogurt tender salt powder chicken vegetables spices heat mutton potatoes oilghee butter chili beef oil heat oilghee potatoes simmer mutton masala ground preparation chicken lentils salt ghee tender yogurt chili vegetables spices turmeric butter powder beef oil masala simmer heat oilghee potatoes lentils ground preparation mutton ghee salt chicken yogurt chili butter turmeric vegetables powder tender spices beef masala oil simmer butter ground lentils turmeric salt heat chicken preparation ghee yogurt oilghee chili potatoes powder mutton vegetables tender spices beef masala turmeric butter oil simmer chicken lentils chili salt ground heat preparation ghee tender yogurt powder oilghee potatoes mutton vegetables spices beef turmeric masala simmer mutton lentils oil ground preparation salt chicken ghee yogurt powder heat chili oilghee potatoes vegetables butter tender spices beef masala turmeric mutton oil simmer lentils ground salt chicken chili preparation ghee yogurt tender powder vegetables heat spices oilghee potatoes butter beef masala turmeric mutton heat oil oilghee potatoes simmer butter chili lentils ground salt chicken preparation ghee yogurt powder vegetables tender spices beef masala turmeric simmer mutton ground lentils heat chicken salt preparation ghee yogurt oilghee oil powder tender potatoes butter chili vegetables spices beef masala turmeric mutton oil simmer lentils chicken ground salt chili preparation ghee tender yogurt powder heat oilghee potatoes vegetables butter spices beef oil heat masala potatoes oilghee simmer mutton ground lentils preparation salt chicken ghee yogurt chili butter turmeric vegetables powder tender spices beef turmeric masala simmer heat lentils butter ground oilghee potatoes preparation salt oil ghee chicken yogurt powder mutton chili vegetables tender spices beef oil masala simmer lentils ground preparation heat salt ghee chicken yogurt butter chili oilghee potatoes turmeric mutton vegetables tender powder spices beef ground yogurt beef simmer turmeric oilghee mutton lentils preparation ghee potatoes powder masala oil salt spices chicken vegetables butter tender chili heat', 'potatoes', 'ground', 'oil', 'yogurt', 'tender', 'mutton', 'vegetables', 'salt', 'chili', 'masala', 'ghee', 'powder', 'preparation', 'spices', 'chicken', 'simmer', 'turmeric', 'butter', 'beef', 'oilghee', 'lentils', 'Heat', 'ground', 'yogurt', 'beef', 'simmer', 'turmeric', 'oilghee', 'mutton', 'lentils', 'preparation', 'ghee', 'potatoes', 'powder', 'masala', 'oil', 'salt', 'spices', 'chicken', 'vegetables', 'butter', 'tender', 'chili', 'Heat', 'oil', 'Heat', 'oilghee', 'potatoes', 'simmer', 'mutton', 'masala', 'preparation', 'chicken', 'ground', 'lentils', 'salt', 'ghee', 'tender', 'yogurt', 'chili', 'vegetables', 'spices', 'turmeric', 'butter', 'powder', 'beef', 'masala', 'oil', 'Heat', 'simmer', 'butter', 'oilghee', 'potatoes', 'lentils', 'ground', 'salt', 'chicken', 'mutton', 'turmeric', 'preparation', 'ghee', 'yogurt', 'chili', 'powder', 'vegetables', 'tender', 'spices', 'beef', 'masala', 'oil', 'simmer', 'mutton', 'Heat', 'ground', 'lentils', 'turmeric', 'salt', 'chicken', 'preparation', 'oilghee', 'ghee', 'potatoes', 'yogurt', 'chili', 'powder', 'butter', 'vegetables', 'tender', 'spices', 'beef', 'masala', 'oil', 'Heat', 'simmer', 'mutton', 'oilghee', 'ground', 'lentils', 'potatoes', 'turmeric', 'salt', 'chicken', 'preparation', 'butter', 'ghee', 'yogurt', 'chili', 'powder', 'vegetables', 'tender', 'spices', 'beef', 'masala', 'oil', 'simmer', 'butter', 'Heat', 'ground', 'lentils', 'turmeric', 'oilghee', 'salt', 'chicken', 'potatoes', 'preparation', 'ghee', 'mutton', 'yogurt', 'chili', 'powder', 'vegetables', 'tender', 'spices', 'beef', 'masala', 'oil', 'simmer', 'butter', 'Heat', 'ground', 'lentils', 'turmeric', 'salt', 'chicken', 'preparation', 'oilghee', 'potatoes', 'ghee', 'yogurt', 'chili', 'mutton', 'powder', 'vegetables', 'tender', 'spices', 'beef', 'masala', 'oil', 'simmer', 'butter', 'Heat', 'ground', 'lentils', 'salt', 'chicken', 'turmeric', 'oilghee', 'preparation', 'potatoes', 'ghee', 'yogurt', 'chili', 'mutton', 'powder', 'vegetables', 'tender', 'spices', 'beef', 'masala', 'turmeric', 'simmer', 'Heat', 'mutton', 'lentils', 'ground', 'oilghee', 'salt', 'chicken', 'preparation', 'potatoes', 'ghee', 'oil', 'yogurt', 'powder', 'butter', 'chili', 'vegetables', 'tender', 'spices', 'beef', 'turmeric', 'masala', 'tender', 'mutton', 'Heat', 'vegetables', 'ground', 'preparation', 'salt', 'chicken', 'ghee', 'oil', 'oilghee', 'yogurt', 'potatoes', 'powder', 'butter', 'chili', 'simmer', 'lentils', 'spices', 'beef', 'masala', 'turmeric', 'simmer', 'mutton', 'Heat', 'ground', 'lentils', 'oilghee', 'salt', 'chicken', 'oil', 'potatoes', 'preparation', 'ghee', 'yogurt', 'butter', 'powder', 'chili', 'vegetables', 'tender', 'spices', 'beef', 'turmeric', 'masala', 'simmer', 'mutton', 'lentils', 'ground', 'Heat', 'salt', 'oil', 'chicken', 'preparation', 'ghee', 'yogurt', 'oilghee', 'powder', 'potatoes', 'butter', 'chili', 'vegetables', 'tender', 'spices', 'beef', 'turmeric', 'masala', 'tender', 'Heat', 'mutton', 'ground', 'vegetables', 'salt', 'chicken', 'potatoes', 'oil', 'oilghee', 'preparation', 'ghee', 'butter', 'yogurt', 'powder', 'chili', 'simmer', 'lentils', 'spices', 'beef', 'masala', 'turmeric', 'mutton', 'simmer', 'ground', 'Heat', 'salt', 'chicken', 'oil', 'lentils', 'preparation', 'oilghee', 'ghee', 'potatoes', 'yogurt', 'powder', 'chili', 'butter', 'tender', 'vegetables', 'spices', 'beef', 'masala', 'oil', 'simmer', 'butter', 'Heat', 'ground', 'lentils', 'turmeric', 'salt', 'chicken', 'preparation', 'oilghee', 'potatoes', 'ghee', 'yogurt', 'chili', 'mutton', 'powder', 'vegetables', 'tender', 'spices', 'beef', 'masala', 'oil', 'mutton', 'simmer', 'Heat', 'ground', 'salt', 'chicken', 'turmeric', 'lentils', 'oilghee', 'potatoes', 'preparation', 'ghee', 'yogurt', 'butter', 'chili', 'powder', 'vegetables', 'tender', 'spices', 'beef', 'masala', 'oil', 'simmer', 'mutton', 'Heat', 'ground', 'lentils', 'turmeric', 'salt', 'chicken', 'oilghee', 'potatoes', 'preparation', 'ghee', 'yogurt', 'butter', 'chili', 'powder', 'vegetables', 'tender', 'spices', 'beef', 'oil', 'masala', 'simmer', 'Heat', 'potatoes', 'lentils', 'oilghee', 'ground', 'salt', 'preparation', 'mutton', 'chicken', 'butter', 'ghee', 'yogurt', 'chili', 'turmeric', 'powder', 'vegetables', 'tender', 'spices', 'beef', 'masala', 'turmeric', 'mutton', 'simmer', 'oil', 'Heat', 'ground', 'lentils', 'salt', 'chicken', 'chili', 'oilghee', 'preparation', 'potatoes', 'ghee', 'yogurt', 'powder', 'butter', 'vegetables', 'tender', 'spices', 'beef', 'turmeric', 'masala', 'simmer', 'lentils', 'ground', 'preparation', 'ghee', 'salt', 'yogurt', 'powder', 'chicken', 'Heat', 'mutton', 'potatoes', 'oil', 'oilghee', 'butter', 'vegetables', 'chili', 'tender', 'spices', 'beef', 'masala', 'oil', 'simmer', 'butter', 'Heat', 'ground', 'lentils', 'salt', 'chicken', 'turmeric', 'preparation', 'oilghee', 'potatoes', 'ghee', 'yogurt', 'chili', 'mutton', 'powder', 'vegetables', 'tender', 'spices', 'beef', 'masala', 'oil', 'simmer', 'mutton', 'Heat', 'ground', 'lentils', 'turmeric', 'salt', 'chicken', 'oilghee', 'preparation', 'potatoes', 'ghee', 'yogurt', 'chili', 'powder', 'butter', 'vegetables', 'tender', 'spices', 'beef', 'masala', 'oil', 'mutton', 'simmer', 'Heat', 'ground', 'turmeric', 'lentils', 'salt', 'chicken', 'oilghee', 'preparation', 'potatoes', 'ghee', 'yogurt', 'chili', 'butter', 'powder', 'vegetables', 'tender', 'spices', 'beef', 'turmeric', 'masala', 'oil', 'tender', 'Heat', 'potatoes', 'butter', 'oilghee', 'vegetables', 'ground', 'preparation', 'ghee', 'yogurt', 'powder', 'salt', 'chicken', 'mutton', 'simmer', 'chili', 'lentils', 'spices', 'beef', 'turmeric', 'masala', 'simmer', 'lentils', 'ground', 'preparation', 'ghee', 'salt', 'yogurt', 'powder', 'Heat', 'chicken', 'potatoes', 'mutton', 'oilghee', 'oil', 'butter', 'vegetables', 'chili', 'tender', 'spices', 'beef', 'masala', 'oil', 'simmer', 'mutton', 'Heat', 'ground', 'lentils', 'turmeric', 'salt', 'chicken', 'preparation', 'oilghee', 'potatoes', 'ghee', 'yogurt', 'chili', 'butter', 'powder', 'vegetables', 'tender', 'spices', 'beef', 'oil', 'masala', 'Heat', 'simmer', 'oilghee', 'potatoes', 'ground', 'butter', 'lentils', 'chicken', 'salt', 'preparation', 'mutton', 'ghee', 'yogurt', 'chili', 'turmeric', 'powder', 'vegetables', 'tender', 'spices', 'beef', 'oil', 'masala', 'Heat', 'oilghee', 'potatoes', 'simmer', 'mutton', 'ground', 'lentils', 'butter', 'chicken', 'salt', 'preparation', 'ghee', 'yogurt', 'chili', 'turmeric', 'powder', 'vegetables', 'tender', 'spices', 'beef', 'oil', 'Heat', 'masala', 'oilghee', 'potatoes', 'simmer', 'mutton', 'lentils', 'preparation', 'ground', 'ghee', 'chicken', 'salt', 'yogurt', 'chili', 'butter', 'tender', 'vegetables', 'turmeric', 'powder', 'spices', 'beef', 'oil', 'masala', 'Heat', 'oilghee', 'potatoes', 'simmer', 'mutton', 'lentils', 'butter', 'ground', 'preparation', 'salt', 'chicken', 'ghee', 'yogurt', 'chili', 'turmeric', 'powder', 'vegetables', 'tender', 'spices', 'beef', 'oil', 'masala', 'Heat', 'oilghee', 'potatoes', 'simmer', 'butter', 'lentils', 'mutton', 'ground', 'chicken', 'salt', 'preparation', 'ghee', 'yogurt', 'chili', 'turmeric', 'powder', 'vegetables', 'tender', 'spices', 'beef', 'yogurt', 'turmeric', 'simmer', 'mutton', 'ground', 'lentils', 'salt', 'potatoes', 'chicken', 'Heat', 'preparation', 'ghee', 'oilghee', 'masala', 'chili', 'butter', 'powder', 'vegetables', 'tender', 'spices', 'oil', 'beef', 'oil', 'masala', 'Heat', 'oilghee', 'potatoes', 'simmer', 'butter', 'lentils', 'ground', 'preparation', 'salt', 'chicken', 'mutton', 'ghee', 'yogurt', 'chili', 'turmeric', 'powder', 'vegetables', 'tender', 'spices', 'beef', 'turmeric', 'masala', 'tender', 'Heat', 'potatoes', 'oilghee', 'mutton', 'vegetables', 'ground', 'preparation', 'salt', 'butter', 'ghee', 'chicken', 'yogurt', 'powder', 'oil', 'chili', 'simmer', 'lentils', 'spices', 'beef', 'oil', 'masala', 'Heat', 'oilghee', 'potatoes', 'simmer', 'butter', 'lentils', 'mutton', 'ground', 'preparation', 'salt', 'chicken', 'ghee', 'yogurt', 'chili', 'turmeric', 'powder', 'vegetables', 'tender', 'spices', 'beef', 'masala', 'oil', 'simmer', 'Heat', 'butter', 'ground', 'oilghee', 'lentils', 'potatoes', 'salt', 'chicken', 'turmeric', 'preparation', 'ghee', 'mutton', 'yogurt', 'chili', 'powder', 'vegetables', 'tender', 'spices', 'beef', 'turmeric', 'masala', 'simmer', 'oil', 'lentils', 'ground', 'preparation', 'ghee', 'yogurt', 'tender', 'salt', 'powder', 'chicken', 'vegetables', 'spices', 'Heat', 'mutton', 'potatoes', 'oilghee', 'butter', 'chili', 'beef', 'oil', 'Heat', 'oilghee', 'potatoes', 'simmer', 'mutton', 'masala', 'ground', 'preparation', 'chicken', 'lentils', 'salt', 'ghee', 'tender', 'yogurt', 'chili', 'vegetables', 'spices', 'turmeric', 'butter', 'powder', 'beef', 'oil', 'masala', 'simmer', 'Heat', 'oilghee', 'potatoes', 'lentils', 'ground', 'preparation', 'mutton', 'ghee', 'salt', 'chicken', 'yogurt', 'chili', 'butter', 'turmeric', 'vegetables', 'powder', 'tender', 'spices', 'beef', 'masala', 'oil', 'simmer', 'butter', 'ground', 'lentils', 'turmeric', 'salt', 'Heat', 'chicken', 'preparation', 'ghee', 'yogurt', 'oilghee', 'chili', 'potatoes', 'powder', 'mutton', 'vegetables', 'tender', 'spices', 'beef', 'masala', 'turmeric', 'butter', 'oil', 'simmer', 'chicken', 'lentils', 'chili', 'salt', 'ground', 'Heat', 'preparation', 'ghee', 'tender', 'yogurt', 'powder', 'oilghee', 'potatoes', 'mutton', 'vegetables', 'spices', 'beef', 'turmeric', 'masala', 'simmer', 'mutton', 'lentils', 'oil', 'ground', 'preparation', 'salt', 'chicken', 'ghee', 'yogurt', 'powder', 'Heat', 'chili', 'oilghee', 'potatoes', 'vegetables', 'butter', 'tender', 'spices', 'beef', 'masala', 'turmeric', 'mutton', 'oil', 'simmer', 'lentils', 'ground', 'salt', 'chicken', 'chili', 'preparation', 'ghee', 'yogurt', 'tender', 'powder', 'vegetables', 'Heat', 'spices', 'oilghee', 'potatoes', 'butter', 'beef', 'masala', 'turmeric', 'mutton', 'Heat', 'oil', 'oilghee', 'potatoes', 'simmer', 'butter', 'chili', 'lentils', 'ground', 'salt', 'chicken', 'preparation', 'ghee', 'yogurt', 'powder', 'vegetables', 'tender', 'spices', 'beef', 'masala', 'turmeric', 'simmer', 'mutton', 'ground', 'lentils', 'Heat', 'chicken', 'salt', 'preparation', 'ghee', 'yogurt', 'oilghee', 'oil', 'powder', 'tender', 'potatoes', 'butter', 'chili', 'vegetables', 'spices', 'beef', 'masala', 'turmeric', 'mutton', 'oil', 'simmer', 'lentils', 'chicken', 'ground', 'salt', 'chili', 'preparation', 'ghee', 'tender', 'yogurt', 'powder', 'Heat', 'oilghee', 'potatoes', 'vegetables', 'butter', 'spices', 'beef', 'oil', 'Heat', 'masala', 'potatoes', 'oilghee', 'simmer', 'mutton', 'ground', 'lentils', 'preparation', 'salt', 'chicken', 'ghee', 'yogurt', 'chili', 'butter', 'turmeric', 'vegetables', 'powder', 'tender', 'spices', 'beef', 'turmeric', 'masala', 'simmer', 'Heat', 'lentils', 'butter', 'ground', 'oilghee', 'potatoes', 'preparation', 'salt', 'oil', 'ghee', 'chicken', 'yogurt', 'powder', 'mutton', 'chili', 'vegetables', 'tender', 'spices', 'beef', 'oil', 'masala', 'simmer', 'lentils', 'ground', 'preparation', 'Heat', 'salt', 'ghee', 'chicken', 'yogurt', 'butter', 'chili', 'oilghee', 'potatoes', 'turmeric', 'mutton', 'vegetables', 'tender', 'powder', 'spices', 'beef', 'ground', 'yogurt', 'beef', 'simmer', 'turmeric', 'oilghee', 'mutton', 'lentils', 'preparation', 'ghee', 'potatoes', 'powder', 'masala', 'oil', 'salt', 'spices', 'chicken', 'vegetables', 'butter', 'tender', 'chili', 'Heat'] \n",
            "\n",
            "Ingredients:\n",
            " oil, butter, ghee, cream, lemon, mint, cilantro, chicken, beef, mutton, lentils, spinach, potatoes, yogurt, garam masala, red chili powder, turmeric, salt \n",
            "\n",
            "Instructions:\n",
            " biryani preparation: prepare ingredients and chop vegetables. heat oil/ghee and add whole spices. add main ingredients and cook until tender. add ground spices and simmer until well mixed. garnish and serve hot. \n",
            "\n"
          ]
        }
      ]
    },
    {
      "cell_type": "code",
      "source": [
        "recipes['tags'][450]"
      ],
      "metadata": {
        "colab": {
          "base_uri": "https://localhost:8080/",
          "height": 227
        },
        "id": "SEdNgumCg-sF",
        "outputId": "d3098cde-7e66-4562-f4cb-a5e6bdce8ba5"
      },
      "execution_count": 273,
      "outputs": [
        {
          "output_type": "execute_result",
          "data": {
            "text/plain": [
              "'tandoori chicken potatoes ground oil yogurt tender mutton vegetables salt chili masala ghee powder preparation spices chicken simmer turmeric butter beef oilghee lentils heat ground yogurt beef simmer turmeric oilghee mutton lentils preparation ghee potatoes powder masala oil salt spices chicken vegetables butter tender chili heat oil heat oilghee potatoes simmer mutton masala preparation chicken ground lentils salt ghee tender yogurt chili vegetables spices turmeric butter powder beef masala oil heat simmer butter oilghee potatoes lentils ground salt chicken mutton turmeric preparation ghee yogurt chili powder vegetables tender spices beef masala oil simmer mutton heat ground lentils turmeric salt chicken preparation oilghee ghee potatoes yogurt chili powder butter vegetables tender spices beef masala oil heat simmer mutton oilghee ground lentils potatoes turmeric salt chicken preparation butter ghee yogurt chili powder vegetables tender spices beef masala oil simmer butter heat ground lentils turmeric oilghee salt chicken potatoes preparation ghee mutton yogurt chili powder vegetables tender spices beef masala oil simmer butter heat ground lentils turmeric salt chicken preparation oilghee potatoes ghee yogurt chili mutton powder vegetables tender spices beef masala oil simmer butter heat ground lentils salt chicken turmeric oilghee preparation potatoes ghee yogurt chili mutton powder vegetables tender spices beef masala turmeric simmer heat mutton lentils ground oilghee salt chicken preparation potatoes ghee oil yogurt powder butter chili vegetables tender spices beef turmeric masala tender mutton heat vegetables ground preparation salt chicken ghee oil oilghee yogurt potatoes powder butter chili simmer lentils spices beef masala turmeric simmer mutton heat ground lentils oilghee salt chicken oil potatoes preparation ghee yogurt butter powder chili vegetables tender spices beef turmeric masala simmer mutton lentils ground heat salt oil chicken preparation ghee yogurt oilghee powder potatoes butter chili vegetables tender spices beef turmeric masala tender heat mutton ground vegetables salt chicken potatoes oil oilghee preparation ghee butter yogurt powder chili simmer lentils spices beef masala turmeric mutton simmer ground heat salt chicken oil lentils preparation oilghee ghee potatoes yogurt powder chili butter tender vegetables spices beef masala oil simmer butter heat ground lentils turmeric salt chicken preparation oilghee potatoes ghee yogurt chili mutton powder vegetables tender spices beef masala oil mutton simmer heat ground salt chicken turmeric lentils oilghee potatoes preparation ghee yogurt butter chili powder vegetables tender spices beef masala oil simmer mutton heat ground lentils turmeric salt chicken oilghee potatoes preparation ghee yogurt butter chili powder vegetables tender spices beef oil masala simmer heat potatoes lentils oilghee ground salt preparation mutton chicken butter ghee yogurt chili turmeric powder vegetables tender spices beef masala turmeric mutton simmer oil heat ground lentils salt chicken chili oilghee preparation potatoes ghee yogurt powder butter vegetables tender spices beef turmeric masala simmer lentils ground preparation ghee salt yogurt powder chicken heat mutton potatoes oil oilghee butter vegetables chili tender spices beef masala oil simmer butter heat ground lentils salt chicken turmeric preparation oilghee potatoes ghee yogurt chili mutton powder vegetables tender spices beef masala oil simmer mutton heat ground lentils turmeric salt chicken oilghee preparation potatoes ghee yogurt chili powder butter vegetables tender spices beef masala oil mutton simmer heat ground turmeric lentils salt chicken oilghee preparation potatoes ghee yogurt chili butter powder vegetables tender spices beef turmeric masala oil tender heat potatoes butter oilghee vegetables ground preparation ghee yogurt powder salt chicken mutton simmer chili lentils spices beef turmeric masala simmer lentils ground preparation ghee salt yogurt powder heat chicken potatoes mutton oilghee oil butter vegetables chili tender spices beef masala oil simmer mutton heat ground lentils turmeric salt chicken preparation oilghee potatoes ghee yogurt chili butter powder vegetables tender spices beef oil masala heat simmer oilghee potatoes ground butter lentils chicken salt preparation mutton ghee yogurt chili turmeric powder vegetables tender spices beef oil masala heat oilghee potatoes simmer mutton ground lentils butter chicken salt preparation ghee yogurt chili turmeric powder vegetables tender spices beef oil heat masala oilghee potatoes simmer mutton lentils preparation ground ghee chicken salt yogurt chili butter tender vegetables turmeric powder spices beef oil masala heat oilghee potatoes simmer mutton lentils butter ground preparation salt chicken ghee yogurt chili turmeric powder vegetables tender spices beef oil masala heat oilghee potatoes simmer butter lentils mutton ground chicken salt preparation ghee yogurt chili turmeric powder vegetables tender spices beef yogurt turmeric simmer mutton ground lentils salt potatoes chicken heat preparation ghee oilghee masala chili butter powder vegetables tender spices oil beef oil masala heat oilghee potatoes simmer butter lentils ground preparation salt chicken mutton ghee yogurt chili turmeric powder vegetables tender spices beef turmeric masala tender heat potatoes oilghee mutton vegetables ground preparation salt butter ghee chicken yogurt powder oil chili simmer lentils spices beef oil masala heat oilghee potatoes simmer butter lentils mutton ground preparation salt chicken ghee yogurt chili turmeric powder vegetables tender spices beef masala oil simmer heat butter ground oilghee lentils potatoes salt chicken turmeric preparation ghee mutton yogurt chili powder vegetables tender spices beef turmeric masala simmer oil lentils ground preparation ghee yogurt tender salt powder chicken vegetables spices heat mutton potatoes oilghee butter chili beef oil heat oilghee potatoes simmer mutton masala ground preparation chicken lentils salt ghee tender yogurt chili vegetables spices turmeric butter powder beef oil masala simmer heat oilghee potatoes lentils ground preparation mutton ghee salt chicken yogurt chili butter turmeric vegetables powder tender spices beef masala oil simmer butter ground lentils turmeric salt heat chicken preparation ghee yogurt oilghee chili potatoes powder mutton vegetables tender spices beef masala turmeric butter oil simmer chicken lentils chili salt ground heat preparation ghee tender yogurt powder oilghee potatoes mutton vegetables spices beef turmeric masala simmer mutton lentils oil ground preparation salt chicken ghee yogurt powder heat chili oilghee potatoes vegetables butter tender spices beef masala turmeric mutton oil simmer lentils ground salt chicken chili preparation ghee yogurt tender powder vegetables heat spices oilghee potatoes butter beef masala turmeric mutton heat oil oilghee potatoes simmer butter chili lentils ground salt chicken preparation ghee yogurt powder vegetables tender spices beef masala turmeric simmer mutton ground lentils heat chicken salt preparation ghee yogurt oilghee oil powder tender potatoes butter chili vegetables spices beef masala turmeric mutton oil simmer lentils chicken ground salt chili preparation ghee tender yogurt powder heat oilghee potatoes vegetables butter spices beef oil heat masala potatoes oilghee simmer mutton ground lentils preparation salt chicken ghee yogurt chili butter turmeric vegetables powder tender spices beef turmeric masala simmer heat lentils butter ground oilghee potatoes preparation salt oil ghee chicken yogurt powder mutton chili vegetables tender spices beef oil masala simmer lentils ground preparation heat salt ghee chicken yogurt butter chili oilghee potatoes turmeric mutton vegetables tender powder spices beef ground yogurt beef simmer turmeric oilghee mutton lentils preparation ghee potatoes powder masala oil salt spices chicken vegetables butter tender chili heat potatoes ground oil yogurt tender mutton vegetables salt chili masala ghee powder preparation spices chicken simmer turmeric butter beef oilghee lentils Heat ground yogurt beef simmer turmeric oilghee mutton lentils preparation ghee potatoes powder masala oil salt spices chicken vegetables butter tender chili Heat oil Heat oilghee potatoes simmer mutton masala preparation chicken ground lentils salt ghee tender yogurt chili vegetables spices turmeric butter powder beef masala oil Heat simmer butter oilghee potatoes lentils ground salt chicken mutton turmeric preparation ghee yogurt chili powder vegetables tender spices beef masala oil simmer mutton Heat ground lentils turmeric salt chicken preparation oilghee ghee potatoes yogurt chili powder butter vegetables tender spices beef masala oil Heat simmer mutton oilghee ground lentils potatoes turmeric salt chicken preparation butter ghee yogurt chili powder vegetables tender spices beef masala oil simmer butter Heat ground lentils turmeric oilghee salt chicken potatoes preparation ghee mutton yogurt chili powder vegetables tender spices beef masala oil simmer butter Heat ground lentils turmeric salt chicken preparation oilghee potatoes ghee yogurt chili mutton powder vegetables tender spices beef masala oil simmer butter Heat ground lentils salt chicken turmeric oilghee preparation potatoes ghee yogurt chili mutton powder vegetables tender spices beef masala turmeric simmer Heat mutton lentils ground oilghee salt chicken preparation potatoes ghee oil yogurt powder butter chili vegetables tender spices beef turmeric masala tender mutton Heat vegetables ground preparation salt chicken ghee oil oilghee yogurt potatoes powder butter chili simmer lentils spices beef masala turmeric simmer mutton Heat ground lentils oilghee salt chicken oil potatoes preparation ghee yogurt butter powder chili vegetables tender spices beef turmeric masala simmer mutton lentils ground Heat salt oil chicken preparation ghee yogurt oilghee powder potatoes butter chili vegetables tender spices beef turmeric masala tender Heat mutton ground vegetables salt chicken potatoes oil oilghee preparation ghee butter yogurt powder chili simmer lentils spices beef masala turmeric mutton simmer ground Heat salt chicken oil lentils preparation oilghee ghee potatoes yogurt powder chili butter tender vegetables spices beef masala oil simmer butter Heat ground lentils turmeric salt chicken preparation oilghee potatoes ghee yogurt chili mutton powder vegetables tender spices beef masala oil mutton simmer Heat ground salt chicken turmeric lentils oilghee potatoes preparation ghee yogurt butter chili powder vegetables tender spices beef masala oil simmer mutton Heat ground lentils turmeric salt chicken oilghee potatoes preparation ghee yogurt butter chili powder vegetables tender spices beef oil masala simmer Heat potatoes lentils oilghee ground salt preparation mutton chicken butter ghee yogurt chili turmeric powder vegetables tender spices beef masala turmeric mutton simmer oil Heat ground lentils salt chicken chili oilghee preparation potatoes ghee yogurt powder butter vegetables tender spices beef turmeric masala simmer lentils ground preparation ghee salt yogurt powder chicken Heat mutton potatoes oil oilghee butter vegetables chili tender spices beef masala oil simmer butter Heat ground lentils salt chicken turmeric preparation oilghee potatoes ghee yogurt chili mutton powder vegetables tender spices beef masala oil simmer mutton Heat ground lentils turmeric salt chicken oilghee preparation potatoes ghee yogurt chili powder butter vegetables tender spices beef masala oil mutton simmer Heat ground turmeric lentils salt chicken oilghee preparation potatoes ghee yogurt chili butter powder vegetables tender spices beef turmeric masala oil tender Heat potatoes butter oilghee vegetables ground preparation ghee yogurt powder salt chicken mutton simmer chili lentils spices beef turmeric masala simmer lentils ground preparation ghee salt yogurt powder Heat chicken potatoes mutton oilghee oil butter vegetables chili tender spices beef masala oil simmer mutton Heat ground lentils turmeric salt chicken preparation oilghee potatoes ghee yogurt chili butter powder vegetables tender spices beef oil masala Heat simmer oilghee potatoes ground butter lentils chicken salt preparation mutton ghee yogurt chili turmeric powder vegetables tender spices beef oil masala Heat oilghee potatoes simmer mutton ground lentils butter chicken salt preparation ghee yogurt chili turmeric powder vegetables tender spices beef oil Heat masala oilghee potatoes simmer mutton lentils preparation ground ghee chicken salt yogurt chili butter tender vegetables turmeric powder spices beef oil masala Heat oilghee potatoes simmer mutton lentils butter ground preparation salt chicken ghee yogurt chili turmeric powder vegetables tender spices beef oil masala Heat oilghee potatoes simmer butter lentils mutton ground chicken salt preparation ghee yogurt chili turmeric powder vegetables tender spices beef yogurt turmeric simmer mutton ground lentils salt potatoes chicken Heat preparation ghee oilghee masala chili butter powder vegetables tender spices oil beef oil masala Heat oilghee potatoes simmer butter lentils ground preparation salt chicken mutton ghee yogurt chili turmeric powder vegetables tender spices beef turmeric masala tender Heat potatoes oilghee mutton vegetables ground preparation salt butter ghee chicken yogurt powder oil chili simmer lentils spices beef oil masala Heat oilghee potatoes simmer butter lentils mutton ground preparation salt chicken ghee yogurt chili turmeric powder vegetables tender spices beef masala oil simmer Heat butter ground oilghee lentils potatoes salt chicken turmeric preparation ghee mutton yogurt chili powder vegetables tender spices beef turmeric masala simmer oil lentils ground preparation ghee yogurt tender salt powder chicken vegetables spices Heat mutton potatoes oilghee butter chili beef oil Heat oilghee potatoes simmer mutton masala ground preparation chicken lentils salt ghee tender yogurt chili vegetables spices turmeric butter powder beef oil masala simmer Heat oilghee potatoes lentils ground preparation mutton ghee salt chicken yogurt chili butter turmeric vegetables powder tender spices beef masala oil simmer butter ground lentils turmeric salt Heat chicken preparation ghee yogurt oilghee chili potatoes powder mutton vegetables tender spices beef masala turmeric butter oil simmer chicken lentils chili salt ground Heat preparation ghee tender yogurt powder oilghee potatoes mutton vegetables spices beef turmeric masala simmer mutton lentils oil ground preparation salt chicken ghee yogurt powder Heat chili oilghee potatoes vegetables butter tender spices beef masala turmeric mutton oil simmer lentils ground salt chicken chili preparation ghee yogurt tender powder vegetables Heat spices oilghee potatoes butter beef masala turmeric mutton Heat oil oilghee potatoes simmer butter chili lentils ground salt chicken preparation ghee yogurt powder vegetables tender spices beef masala turmeric simmer mutton ground lentils Heat chicken salt preparation ghee yogurt oilghee oil powder tender potatoes butter chili vegetables spices beef masala turmeric mutton oil simmer lentils chicken ground salt chili preparation ghee tender yogurt powder Heat oilghee potatoes vegetables butter spices beef oil Heat masala potatoes oilghee simmer mutton ground lentils preparation salt chicken ghee yogurt chili butter turmeric vegetables powder tender spices beef turmeric masala simmer Heat lentils butter ground oilghee potatoes preparation salt oil ghee chicken yogurt powder mutton chili vegetables tender spices beef oil masala simmer lentils ground preparation Heat salt ghee chicken yogurt butter chili oilghee potatoes turmeric mutton vegetables tender powder spices beef ground yogurt beef simmer turmeric oilghee mutton lentils preparation ghee potatoes powder masala oil salt spices chicken vegetables butter tender chili Heat'"
            ],
            "application/vnd.google.colaboratory.intrinsic+json": {
              "type": "string"
            }
          },
          "metadata": {},
          "execution_count": 273
        }
      ]
    },
    {
      "cell_type": "code",
      "source": [
        "### No Category Weight\n",
        "query = ['yogurt','vegetables','potatoes']\n",
        "Search_Recipes(query, query_ranked=False, recipe_range=(0,3))"
      ],
      "metadata": {
        "colab": {
          "base_uri": "https://localhost:8080/"
        },
        "id": "PQx3eP-VhGYp",
        "outputId": "9c343837-edfc-4514-d96c-b1e63177e56c"
      },
      "execution_count": 274,
      "outputs": [
        {
          "output_type": "stream",
          "name": "stdout",
          "text": [
            "Search Query: ['yogurt', 'vegetables', 'potatoes'] \n",
            "\n",
            "Recipe Rank: 1 \t ['anda paratha potatoes ground oil yogurt tender mutton vegetables salt chili masala ghee powder preparation spices chicken simmer turmeric butter beef oilghee lentils heat ground yogurt beef simmer turmeric oilghee mutton lentils preparation ghee potatoes powder masala oil salt spices chicken vegetables butter tender chili heat oil heat oilghee potatoes simmer mutton masala preparation chicken ground lentils salt ghee tender yogurt chili vegetables spices turmeric butter powder beef masala oil heat simmer butter oilghee potatoes lentils ground salt chicken mutton turmeric preparation ghee yogurt chili powder vegetables tender spices beef masala oil simmer mutton heat ground lentils turmeric salt chicken preparation oilghee ghee potatoes yogurt chili powder butter vegetables tender spices beef masala oil heat simmer mutton oilghee ground lentils potatoes turmeric salt chicken preparation butter ghee yogurt chili powder vegetables tender spices beef masala oil simmer butter heat ground lentils turmeric oilghee salt chicken potatoes preparation ghee mutton yogurt chili powder vegetables tender spices beef masala oil simmer butter heat ground lentils turmeric salt chicken preparation oilghee potatoes ghee yogurt chili mutton powder vegetables tender spices beef masala oil simmer butter heat ground lentils salt chicken turmeric oilghee preparation potatoes ghee yogurt chili mutton powder vegetables tender spices beef masala turmeric simmer heat mutton lentils ground oilghee salt chicken preparation potatoes ghee oil yogurt powder butter chili vegetables tender spices beef turmeric masala tender mutton heat vegetables ground preparation salt chicken ghee oil oilghee yogurt potatoes powder butter chili simmer lentils spices beef masala turmeric simmer mutton heat ground lentils oilghee salt chicken oil potatoes preparation ghee yogurt butter powder chili vegetables tender spices beef turmeric masala simmer mutton lentils ground heat salt oil chicken preparation ghee yogurt oilghee powder potatoes butter chili vegetables tender spices beef turmeric masala tender heat mutton ground vegetables salt chicken potatoes oil oilghee preparation ghee butter yogurt powder chili simmer lentils spices beef masala turmeric mutton simmer ground heat salt chicken oil lentils preparation oilghee ghee potatoes yogurt powder chili butter tender vegetables spices beef masala oil simmer butter heat ground lentils turmeric salt chicken preparation oilghee potatoes ghee yogurt chili mutton powder vegetables tender spices beef masala oil mutton simmer heat ground salt chicken turmeric lentils oilghee potatoes preparation ghee yogurt butter chili powder vegetables tender spices beef masala oil simmer mutton heat ground lentils turmeric salt chicken oilghee potatoes preparation ghee yogurt butter chili powder vegetables tender spices beef oil masala simmer heat potatoes lentils oilghee ground salt preparation mutton chicken butter ghee yogurt chili turmeric powder vegetables tender spices beef masala turmeric mutton simmer oil heat ground lentils salt chicken chili oilghee preparation potatoes ghee yogurt powder butter vegetables tender spices beef turmeric masala simmer lentils ground preparation ghee salt yogurt powder chicken heat mutton potatoes oil oilghee butter vegetables chili tender spices beef masala oil simmer butter heat ground lentils salt chicken turmeric preparation oilghee potatoes ghee yogurt chili mutton powder vegetables tender spices beef masala oil simmer mutton heat ground lentils turmeric salt chicken oilghee preparation potatoes ghee yogurt chili powder butter vegetables tender spices beef masala oil mutton simmer heat ground turmeric lentils salt chicken oilghee preparation potatoes ghee yogurt chili butter powder vegetables tender spices beef turmeric masala oil tender heat potatoes butter oilghee vegetables ground preparation ghee yogurt powder salt chicken mutton simmer chili lentils spices beef turmeric masala simmer lentils ground preparation ghee salt yogurt powder heat chicken potatoes mutton oilghee oil butter vegetables chili tender spices beef masala oil simmer mutton heat ground lentils turmeric salt chicken preparation oilghee potatoes ghee yogurt chili butter powder vegetables tender spices beef oil masala heat simmer oilghee potatoes ground butter lentils chicken salt preparation mutton ghee yogurt chili turmeric powder vegetables tender spices beef oil masala heat oilghee potatoes simmer mutton ground lentils butter chicken salt preparation ghee yogurt chili turmeric powder vegetables tender spices beef oil heat masala oilghee potatoes simmer mutton lentils preparation ground ghee chicken salt yogurt chili butter tender vegetables turmeric powder spices beef oil masala heat oilghee potatoes simmer mutton lentils butter ground preparation salt chicken ghee yogurt chili turmeric powder vegetables tender spices beef oil masala heat oilghee potatoes simmer butter lentils mutton ground chicken salt preparation ghee yogurt chili turmeric powder vegetables tender spices beef yogurt turmeric simmer mutton ground lentils salt potatoes chicken heat preparation ghee oilghee masala chili butter powder vegetables tender spices oil beef oil masala heat oilghee potatoes simmer butter lentils ground preparation salt chicken mutton ghee yogurt chili turmeric powder vegetables tender spices beef turmeric masala tender heat potatoes oilghee mutton vegetables ground preparation salt butter ghee chicken yogurt powder oil chili simmer lentils spices beef oil masala heat oilghee potatoes simmer butter lentils mutton ground preparation salt chicken ghee yogurt chili turmeric powder vegetables tender spices beef masala oil simmer heat butter ground oilghee lentils potatoes salt chicken turmeric preparation ghee mutton yogurt chili powder vegetables tender spices beef turmeric masala simmer oil lentils ground preparation ghee yogurt tender salt powder chicken vegetables spices heat mutton potatoes oilghee butter chili beef oil heat oilghee potatoes simmer mutton masala ground preparation chicken lentils salt ghee tender yogurt chili vegetables spices turmeric butter powder beef oil masala simmer heat oilghee potatoes lentils ground preparation mutton ghee salt chicken yogurt chili butter turmeric vegetables powder tender spices beef masala oil simmer butter ground lentils turmeric salt heat chicken preparation ghee yogurt oilghee chili potatoes powder mutton vegetables tender spices beef masala turmeric butter oil simmer chicken lentils chili salt ground heat preparation ghee tender yogurt powder oilghee potatoes mutton vegetables spices beef turmeric masala simmer mutton lentils oil ground preparation salt chicken ghee yogurt powder heat chili oilghee potatoes vegetables butter tender spices beef masala turmeric mutton oil simmer lentils ground salt chicken chili preparation ghee yogurt tender powder vegetables heat spices oilghee potatoes butter beef masala turmeric mutton heat oil oilghee potatoes simmer butter chili lentils ground salt chicken preparation ghee yogurt powder vegetables tender spices beef masala turmeric simmer mutton ground lentils heat chicken salt preparation ghee yogurt oilghee oil powder tender potatoes butter chili vegetables spices beef masala turmeric mutton oil simmer lentils chicken ground salt chili preparation ghee tender yogurt powder heat oilghee potatoes vegetables butter spices beef oil heat masala potatoes oilghee simmer mutton ground lentils preparation salt chicken ghee yogurt chili butter turmeric vegetables powder tender spices beef turmeric masala simmer heat lentils butter ground oilghee potatoes preparation salt oil ghee chicken yogurt powder mutton chili vegetables tender spices beef oil masala simmer lentils ground preparation heat salt ghee chicken yogurt butter chili oilghee potatoes turmeric mutton vegetables tender powder spices beef ground yogurt beef simmer turmeric oilghee mutton lentils preparation ghee potatoes powder masala oil salt spices chicken vegetables butter tender chili heat', 'potatoes', 'ground', 'oil', 'yogurt', 'tender', 'mutton', 'vegetables', 'salt', 'chili', 'masala', 'ghee', 'powder', 'preparation', 'spices', 'chicken', 'simmer', 'turmeric', 'butter', 'beef', 'oilghee', 'lentils', 'Heat', 'ground', 'yogurt', 'beef', 'simmer', 'turmeric', 'oilghee', 'mutton', 'lentils', 'preparation', 'ghee', 'potatoes', 'powder', 'masala', 'oil', 'salt', 'spices', 'chicken', 'vegetables', 'butter', 'tender', 'chili', 'Heat', 'oil', 'Heat', 'oilghee', 'potatoes', 'simmer', 'mutton', 'masala', 'preparation', 'chicken', 'ground', 'lentils', 'salt', 'ghee', 'tender', 'yogurt', 'chili', 'vegetables', 'spices', 'turmeric', 'butter', 'powder', 'beef', 'masala', 'oil', 'Heat', 'simmer', 'butter', 'oilghee', 'potatoes', 'lentils', 'ground', 'salt', 'chicken', 'mutton', 'turmeric', 'preparation', 'ghee', 'yogurt', 'chili', 'powder', 'vegetables', 'tender', 'spices', 'beef', 'masala', 'oil', 'simmer', 'mutton', 'Heat', 'ground', 'lentils', 'turmeric', 'salt', 'chicken', 'preparation', 'oilghee', 'ghee', 'potatoes', 'yogurt', 'chili', 'powder', 'butter', 'vegetables', 'tender', 'spices', 'beef', 'masala', 'oil', 'Heat', 'simmer', 'mutton', 'oilghee', 'ground', 'lentils', 'potatoes', 'turmeric', 'salt', 'chicken', 'preparation', 'butter', 'ghee', 'yogurt', 'chili', 'powder', 'vegetables', 'tender', 'spices', 'beef', 'masala', 'oil', 'simmer', 'butter', 'Heat', 'ground', 'lentils', 'turmeric', 'oilghee', 'salt', 'chicken', 'potatoes', 'preparation', 'ghee', 'mutton', 'yogurt', 'chili', 'powder', 'vegetables', 'tender', 'spices', 'beef', 'masala', 'oil', 'simmer', 'butter', 'Heat', 'ground', 'lentils', 'turmeric', 'salt', 'chicken', 'preparation', 'oilghee', 'potatoes', 'ghee', 'yogurt', 'chili', 'mutton', 'powder', 'vegetables', 'tender', 'spices', 'beef', 'masala', 'oil', 'simmer', 'butter', 'Heat', 'ground', 'lentils', 'salt', 'chicken', 'turmeric', 'oilghee', 'preparation', 'potatoes', 'ghee', 'yogurt', 'chili', 'mutton', 'powder', 'vegetables', 'tender', 'spices', 'beef', 'masala', 'turmeric', 'simmer', 'Heat', 'mutton', 'lentils', 'ground', 'oilghee', 'salt', 'chicken', 'preparation', 'potatoes', 'ghee', 'oil', 'yogurt', 'powder', 'butter', 'chili', 'vegetables', 'tender', 'spices', 'beef', 'turmeric', 'masala', 'tender', 'mutton', 'Heat', 'vegetables', 'ground', 'preparation', 'salt', 'chicken', 'ghee', 'oil', 'oilghee', 'yogurt', 'potatoes', 'powder', 'butter', 'chili', 'simmer', 'lentils', 'spices', 'beef', 'masala', 'turmeric', 'simmer', 'mutton', 'Heat', 'ground', 'lentils', 'oilghee', 'salt', 'chicken', 'oil', 'potatoes', 'preparation', 'ghee', 'yogurt', 'butter', 'powder', 'chili', 'vegetables', 'tender', 'spices', 'beef', 'turmeric', 'masala', 'simmer', 'mutton', 'lentils', 'ground', 'Heat', 'salt', 'oil', 'chicken', 'preparation', 'ghee', 'yogurt', 'oilghee', 'powder', 'potatoes', 'butter', 'chili', 'vegetables', 'tender', 'spices', 'beef', 'turmeric', 'masala', 'tender', 'Heat', 'mutton', 'ground', 'vegetables', 'salt', 'chicken', 'potatoes', 'oil', 'oilghee', 'preparation', 'ghee', 'butter', 'yogurt', 'powder', 'chili', 'simmer', 'lentils', 'spices', 'beef', 'masala', 'turmeric', 'mutton', 'simmer', 'ground', 'Heat', 'salt', 'chicken', 'oil', 'lentils', 'preparation', 'oilghee', 'ghee', 'potatoes', 'yogurt', 'powder', 'chili', 'butter', 'tender', 'vegetables', 'spices', 'beef', 'masala', 'oil', 'simmer', 'butter', 'Heat', 'ground', 'lentils', 'turmeric', 'salt', 'chicken', 'preparation', 'oilghee', 'potatoes', 'ghee', 'yogurt', 'chili', 'mutton', 'powder', 'vegetables', 'tender', 'spices', 'beef', 'masala', 'oil', 'mutton', 'simmer', 'Heat', 'ground', 'salt', 'chicken', 'turmeric', 'lentils', 'oilghee', 'potatoes', 'preparation', 'ghee', 'yogurt', 'butter', 'chili', 'powder', 'vegetables', 'tender', 'spices', 'beef', 'masala', 'oil', 'simmer', 'mutton', 'Heat', 'ground', 'lentils', 'turmeric', 'salt', 'chicken', 'oilghee', 'potatoes', 'preparation', 'ghee', 'yogurt', 'butter', 'chili', 'powder', 'vegetables', 'tender', 'spices', 'beef', 'oil', 'masala', 'simmer', 'Heat', 'potatoes', 'lentils', 'oilghee', 'ground', 'salt', 'preparation', 'mutton', 'chicken', 'butter', 'ghee', 'yogurt', 'chili', 'turmeric', 'powder', 'vegetables', 'tender', 'spices', 'beef', 'masala', 'turmeric', 'mutton', 'simmer', 'oil', 'Heat', 'ground', 'lentils', 'salt', 'chicken', 'chili', 'oilghee', 'preparation', 'potatoes', 'ghee', 'yogurt', 'powder', 'butter', 'vegetables', 'tender', 'spices', 'beef', 'turmeric', 'masala', 'simmer', 'lentils', 'ground', 'preparation', 'ghee', 'salt', 'yogurt', 'powder', 'chicken', 'Heat', 'mutton', 'potatoes', 'oil', 'oilghee', 'butter', 'vegetables', 'chili', 'tender', 'spices', 'beef', 'masala', 'oil', 'simmer', 'butter', 'Heat', 'ground', 'lentils', 'salt', 'chicken', 'turmeric', 'preparation', 'oilghee', 'potatoes', 'ghee', 'yogurt', 'chili', 'mutton', 'powder', 'vegetables', 'tender', 'spices', 'beef', 'masala', 'oil', 'simmer', 'mutton', 'Heat', 'ground', 'lentils', 'turmeric', 'salt', 'chicken', 'oilghee', 'preparation', 'potatoes', 'ghee', 'yogurt', 'chili', 'powder', 'butter', 'vegetables', 'tender', 'spices', 'beef', 'masala', 'oil', 'mutton', 'simmer', 'Heat', 'ground', 'turmeric', 'lentils', 'salt', 'chicken', 'oilghee', 'preparation', 'potatoes', 'ghee', 'yogurt', 'chili', 'butter', 'powder', 'vegetables', 'tender', 'spices', 'beef', 'turmeric', 'masala', 'oil', 'tender', 'Heat', 'potatoes', 'butter', 'oilghee', 'vegetables', 'ground', 'preparation', 'ghee', 'yogurt', 'powder', 'salt', 'chicken', 'mutton', 'simmer', 'chili', 'lentils', 'spices', 'beef', 'turmeric', 'masala', 'simmer', 'lentils', 'ground', 'preparation', 'ghee', 'salt', 'yogurt', 'powder', 'Heat', 'chicken', 'potatoes', 'mutton', 'oilghee', 'oil', 'butter', 'vegetables', 'chili', 'tender', 'spices', 'beef', 'masala', 'oil', 'simmer', 'mutton', 'Heat', 'ground', 'lentils', 'turmeric', 'salt', 'chicken', 'preparation', 'oilghee', 'potatoes', 'ghee', 'yogurt', 'chili', 'butter', 'powder', 'vegetables', 'tender', 'spices', 'beef', 'oil', 'masala', 'Heat', 'simmer', 'oilghee', 'potatoes', 'ground', 'butter', 'lentils', 'chicken', 'salt', 'preparation', 'mutton', 'ghee', 'yogurt', 'chili', 'turmeric', 'powder', 'vegetables', 'tender', 'spices', 'beef', 'oil', 'masala', 'Heat', 'oilghee', 'potatoes', 'simmer', 'mutton', 'ground', 'lentils', 'butter', 'chicken', 'salt', 'preparation', 'ghee', 'yogurt', 'chili', 'turmeric', 'powder', 'vegetables', 'tender', 'spices', 'beef', 'oil', 'Heat', 'masala', 'oilghee', 'potatoes', 'simmer', 'mutton', 'lentils', 'preparation', 'ground', 'ghee', 'chicken', 'salt', 'yogurt', 'chili', 'butter', 'tender', 'vegetables', 'turmeric', 'powder', 'spices', 'beef', 'oil', 'masala', 'Heat', 'oilghee', 'potatoes', 'simmer', 'mutton', 'lentils', 'butter', 'ground', 'preparation', 'salt', 'chicken', 'ghee', 'yogurt', 'chili', 'turmeric', 'powder', 'vegetables', 'tender', 'spices', 'beef', 'oil', 'masala', 'Heat', 'oilghee', 'potatoes', 'simmer', 'butter', 'lentils', 'mutton', 'ground', 'chicken', 'salt', 'preparation', 'ghee', 'yogurt', 'chili', 'turmeric', 'powder', 'vegetables', 'tender', 'spices', 'beef', 'yogurt', 'turmeric', 'simmer', 'mutton', 'ground', 'lentils', 'salt', 'potatoes', 'chicken', 'Heat', 'preparation', 'ghee', 'oilghee', 'masala', 'chili', 'butter', 'powder', 'vegetables', 'tender', 'spices', 'oil', 'beef', 'oil', 'masala', 'Heat', 'oilghee', 'potatoes', 'simmer', 'butter', 'lentils', 'ground', 'preparation', 'salt', 'chicken', 'mutton', 'ghee', 'yogurt', 'chili', 'turmeric', 'powder', 'vegetables', 'tender', 'spices', 'beef', 'turmeric', 'masala', 'tender', 'Heat', 'potatoes', 'oilghee', 'mutton', 'vegetables', 'ground', 'preparation', 'salt', 'butter', 'ghee', 'chicken', 'yogurt', 'powder', 'oil', 'chili', 'simmer', 'lentils', 'spices', 'beef', 'oil', 'masala', 'Heat', 'oilghee', 'potatoes', 'simmer', 'butter', 'lentils', 'mutton', 'ground', 'preparation', 'salt', 'chicken', 'ghee', 'yogurt', 'chili', 'turmeric', 'powder', 'vegetables', 'tender', 'spices', 'beef', 'masala', 'oil', 'simmer', 'Heat', 'butter', 'ground', 'oilghee', 'lentils', 'potatoes', 'salt', 'chicken', 'turmeric', 'preparation', 'ghee', 'mutton', 'yogurt', 'chili', 'powder', 'vegetables', 'tender', 'spices', 'beef', 'turmeric', 'masala', 'simmer', 'oil', 'lentils', 'ground', 'preparation', 'ghee', 'yogurt', 'tender', 'salt', 'powder', 'chicken', 'vegetables', 'spices', 'Heat', 'mutton', 'potatoes', 'oilghee', 'butter', 'chili', 'beef', 'oil', 'Heat', 'oilghee', 'potatoes', 'simmer', 'mutton', 'masala', 'ground', 'preparation', 'chicken', 'lentils', 'salt', 'ghee', 'tender', 'yogurt', 'chili', 'vegetables', 'spices', 'turmeric', 'butter', 'powder', 'beef', 'oil', 'masala', 'simmer', 'Heat', 'oilghee', 'potatoes', 'lentils', 'ground', 'preparation', 'mutton', 'ghee', 'salt', 'chicken', 'yogurt', 'chili', 'butter', 'turmeric', 'vegetables', 'powder', 'tender', 'spices', 'beef', 'masala', 'oil', 'simmer', 'butter', 'ground', 'lentils', 'turmeric', 'salt', 'Heat', 'chicken', 'preparation', 'ghee', 'yogurt', 'oilghee', 'chili', 'potatoes', 'powder', 'mutton', 'vegetables', 'tender', 'spices', 'beef', 'masala', 'turmeric', 'butter', 'oil', 'simmer', 'chicken', 'lentils', 'chili', 'salt', 'ground', 'Heat', 'preparation', 'ghee', 'tender', 'yogurt', 'powder', 'oilghee', 'potatoes', 'mutton', 'vegetables', 'spices', 'beef', 'turmeric', 'masala', 'simmer', 'mutton', 'lentils', 'oil', 'ground', 'preparation', 'salt', 'chicken', 'ghee', 'yogurt', 'powder', 'Heat', 'chili', 'oilghee', 'potatoes', 'vegetables', 'butter', 'tender', 'spices', 'beef', 'masala', 'turmeric', 'mutton', 'oil', 'simmer', 'lentils', 'ground', 'salt', 'chicken', 'chili', 'preparation', 'ghee', 'yogurt', 'tender', 'powder', 'vegetables', 'Heat', 'spices', 'oilghee', 'potatoes', 'butter', 'beef', 'masala', 'turmeric', 'mutton', 'Heat', 'oil', 'oilghee', 'potatoes', 'simmer', 'butter', 'chili', 'lentils', 'ground', 'salt', 'chicken', 'preparation', 'ghee', 'yogurt', 'powder', 'vegetables', 'tender', 'spices', 'beef', 'masala', 'turmeric', 'simmer', 'mutton', 'ground', 'lentils', 'Heat', 'chicken', 'salt', 'preparation', 'ghee', 'yogurt', 'oilghee', 'oil', 'powder', 'tender', 'potatoes', 'butter', 'chili', 'vegetables', 'spices', 'beef', 'masala', 'turmeric', 'mutton', 'oil', 'simmer', 'lentils', 'chicken', 'ground', 'salt', 'chili', 'preparation', 'ghee', 'tender', 'yogurt', 'powder', 'Heat', 'oilghee', 'potatoes', 'vegetables', 'butter', 'spices', 'beef', 'oil', 'Heat', 'masala', 'potatoes', 'oilghee', 'simmer', 'mutton', 'ground', 'lentils', 'preparation', 'salt', 'chicken', 'ghee', 'yogurt', 'chili', 'butter', 'turmeric', 'vegetables', 'powder', 'tender', 'spices', 'beef', 'turmeric', 'masala', 'simmer', 'Heat', 'lentils', 'butter', 'ground', 'oilghee', 'potatoes', 'preparation', 'salt', 'oil', 'ghee', 'chicken', 'yogurt', 'powder', 'mutton', 'chili', 'vegetables', 'tender', 'spices', 'beef', 'oil', 'masala', 'simmer', 'lentils', 'ground', 'preparation', 'Heat', 'salt', 'ghee', 'chicken', 'yogurt', 'butter', 'chili', 'oilghee', 'potatoes', 'turmeric', 'mutton', 'vegetables', 'tender', 'powder', 'spices', 'beef', 'ground', 'yogurt', 'beef', 'simmer', 'turmeric', 'oilghee', 'mutton', 'lentils', 'preparation', 'ghee', 'potatoes', 'powder', 'masala', 'oil', 'salt', 'spices', 'chicken', 'vegetables', 'butter', 'tender', 'chili', 'Heat'] \n",
            "\n",
            "Ingredients:\n",
            " oil, butter, ghee, cream, lemon, mint, cilantro, yogurt, garam masala, red chili powder, turmeric, salt, chicken, beef, mutton, lentils, spinach, potatoes \n",
            "\n",
            "Instructions:\n",
            " anda preparation: prepare ingredients and chop vegetables. heat oil/ghee and add whole spices. add main ingredients and cook until tender. add ground spices and simmer until well mixed. garnish and serve hot. \n",
            "\n",
            "Recipe Rank: 2 \t ['aloo gosht potatoes ground oil yogurt tender mutton vegetables salt chili masala ghee powder preparation spices chicken simmer turmeric butter beef oilghee lentils heat ground yogurt beef simmer turmeric oilghee mutton lentils preparation ghee potatoes powder masala oil salt spices chicken vegetables butter tender chili heat oil heat oilghee potatoes simmer mutton masala preparation chicken ground lentils salt ghee tender yogurt chili vegetables spices turmeric butter powder beef masala oil heat simmer butter oilghee potatoes lentils ground salt chicken mutton turmeric preparation ghee yogurt chili powder vegetables tender spices beef masala oil simmer mutton heat ground lentils turmeric salt chicken preparation oilghee ghee potatoes yogurt chili powder butter vegetables tender spices beef masala oil heat simmer mutton oilghee ground lentils potatoes turmeric salt chicken preparation butter ghee yogurt chili powder vegetables tender spices beef masala oil simmer butter heat ground lentils turmeric oilghee salt chicken potatoes preparation ghee mutton yogurt chili powder vegetables tender spices beef masala oil simmer butter heat ground lentils turmeric salt chicken preparation oilghee potatoes ghee yogurt chili mutton powder vegetables tender spices beef masala oil simmer butter heat ground lentils salt chicken turmeric oilghee preparation potatoes ghee yogurt chili mutton powder vegetables tender spices beef masala turmeric simmer heat mutton lentils ground oilghee salt chicken preparation potatoes ghee oil yogurt powder butter chili vegetables tender spices beef turmeric masala tender mutton heat vegetables ground preparation salt chicken ghee oil oilghee yogurt potatoes powder butter chili simmer lentils spices beef masala turmeric simmer mutton heat ground lentils oilghee salt chicken oil potatoes preparation ghee yogurt butter powder chili vegetables tender spices beef turmeric masala simmer mutton lentils ground heat salt oil chicken preparation ghee yogurt oilghee powder potatoes butter chili vegetables tender spices beef turmeric masala tender heat mutton ground vegetables salt chicken potatoes oil oilghee preparation ghee butter yogurt powder chili simmer lentils spices beef masala turmeric mutton simmer ground heat salt chicken oil lentils preparation oilghee ghee potatoes yogurt powder chili butter tender vegetables spices beef masala oil simmer butter heat ground lentils turmeric salt chicken preparation oilghee potatoes ghee yogurt chili mutton powder vegetables tender spices beef masala oil mutton simmer heat ground salt chicken turmeric lentils oilghee potatoes preparation ghee yogurt butter chili powder vegetables tender spices beef masala oil simmer mutton heat ground lentils turmeric salt chicken oilghee potatoes preparation ghee yogurt butter chili powder vegetables tender spices beef oil masala simmer heat potatoes lentils oilghee ground salt preparation mutton chicken butter ghee yogurt chili turmeric powder vegetables tender spices beef masala turmeric mutton simmer oil heat ground lentils salt chicken chili oilghee preparation potatoes ghee yogurt powder butter vegetables tender spices beef turmeric masala simmer lentils ground preparation ghee salt yogurt powder chicken heat mutton potatoes oil oilghee butter vegetables chili tender spices beef masala oil simmer butter heat ground lentils salt chicken turmeric preparation oilghee potatoes ghee yogurt chili mutton powder vegetables tender spices beef masala oil simmer mutton heat ground lentils turmeric salt chicken oilghee preparation potatoes ghee yogurt chili powder butter vegetables tender spices beef masala oil mutton simmer heat ground turmeric lentils salt chicken oilghee preparation potatoes ghee yogurt chili butter powder vegetables tender spices beef turmeric masala oil tender heat potatoes butter oilghee vegetables ground preparation ghee yogurt powder salt chicken mutton simmer chili lentils spices beef turmeric masala simmer lentils ground preparation ghee salt yogurt powder heat chicken potatoes mutton oilghee oil butter vegetables chili tender spices beef masala oil simmer mutton heat ground lentils turmeric salt chicken preparation oilghee potatoes ghee yogurt chili butter powder vegetables tender spices beef oil masala heat simmer oilghee potatoes ground butter lentils chicken salt preparation mutton ghee yogurt chili turmeric powder vegetables tender spices beef oil masala heat oilghee potatoes simmer mutton ground lentils butter chicken salt preparation ghee yogurt chili turmeric powder vegetables tender spices beef oil heat masala oilghee potatoes simmer mutton lentils preparation ground ghee chicken salt yogurt chili butter tender vegetables turmeric powder spices beef oil masala heat oilghee potatoes simmer mutton lentils butter ground preparation salt chicken ghee yogurt chili turmeric powder vegetables tender spices beef oil masala heat oilghee potatoes simmer butter lentils mutton ground chicken salt preparation ghee yogurt chili turmeric powder vegetables tender spices beef yogurt turmeric simmer mutton ground lentils salt potatoes chicken heat preparation ghee oilghee masala chili butter powder vegetables tender spices oil beef oil masala heat oilghee potatoes simmer butter lentils ground preparation salt chicken mutton ghee yogurt chili turmeric powder vegetables tender spices beef turmeric masala tender heat potatoes oilghee mutton vegetables ground preparation salt butter ghee chicken yogurt powder oil chili simmer lentils spices beef oil masala heat oilghee potatoes simmer butter lentils mutton ground preparation salt chicken ghee yogurt chili turmeric powder vegetables tender spices beef masala oil simmer heat butter ground oilghee lentils potatoes salt chicken turmeric preparation ghee mutton yogurt chili powder vegetables tender spices beef turmeric masala simmer oil lentils ground preparation ghee yogurt tender salt powder chicken vegetables spices heat mutton potatoes oilghee butter chili beef oil heat oilghee potatoes simmer mutton masala ground preparation chicken lentils salt ghee tender yogurt chili vegetables spices turmeric butter powder beef oil masala simmer heat oilghee potatoes lentils ground preparation mutton ghee salt chicken yogurt chili butter turmeric vegetables powder tender spices beef masala oil simmer butter ground lentils turmeric salt heat chicken preparation ghee yogurt oilghee chili potatoes powder mutton vegetables tender spices beef masala turmeric butter oil simmer chicken lentils chili salt ground heat preparation ghee tender yogurt powder oilghee potatoes mutton vegetables spices beef turmeric masala simmer mutton lentils oil ground preparation salt chicken ghee yogurt powder heat chili oilghee potatoes vegetables butter tender spices beef masala turmeric mutton oil simmer lentils ground salt chicken chili preparation ghee yogurt tender powder vegetables heat spices oilghee potatoes butter beef masala turmeric mutton heat oil oilghee potatoes simmer butter chili lentils ground salt chicken preparation ghee yogurt powder vegetables tender spices beef masala turmeric simmer mutton ground lentils heat chicken salt preparation ghee yogurt oilghee oil powder tender potatoes butter chili vegetables spices beef masala turmeric mutton oil simmer lentils chicken ground salt chili preparation ghee tender yogurt powder heat oilghee potatoes vegetables butter spices beef oil heat masala potatoes oilghee simmer mutton ground lentils preparation salt chicken ghee yogurt chili butter turmeric vegetables powder tender spices beef turmeric masala simmer heat lentils butter ground oilghee potatoes preparation salt oil ghee chicken yogurt powder mutton chili vegetables tender spices beef oil masala simmer lentils ground preparation heat salt ghee chicken yogurt butter chili oilghee potatoes turmeric mutton vegetables tender powder spices beef ground yogurt beef simmer turmeric oilghee mutton lentils preparation ghee potatoes powder masala oil salt spices chicken vegetables butter tender chili heat', 'potatoes', 'ground', 'oil', 'yogurt', 'tender', 'mutton', 'vegetables', 'salt', 'chili', 'masala', 'ghee', 'powder', 'preparation', 'spices', 'chicken', 'simmer', 'turmeric', 'butter', 'beef', 'oilghee', 'lentils', 'Heat', 'ground', 'yogurt', 'beef', 'simmer', 'turmeric', 'oilghee', 'mutton', 'lentils', 'preparation', 'ghee', 'potatoes', 'powder', 'masala', 'oil', 'salt', 'spices', 'chicken', 'vegetables', 'butter', 'tender', 'chili', 'Heat', 'oil', 'Heat', 'oilghee', 'potatoes', 'simmer', 'mutton', 'masala', 'preparation', 'chicken', 'ground', 'lentils', 'salt', 'ghee', 'tender', 'yogurt', 'chili', 'vegetables', 'spices', 'turmeric', 'butter', 'powder', 'beef', 'masala', 'oil', 'Heat', 'simmer', 'butter', 'oilghee', 'potatoes', 'lentils', 'ground', 'salt', 'chicken', 'mutton', 'turmeric', 'preparation', 'ghee', 'yogurt', 'chili', 'powder', 'vegetables', 'tender', 'spices', 'beef', 'masala', 'oil', 'simmer', 'mutton', 'Heat', 'ground', 'lentils', 'turmeric', 'salt', 'chicken', 'preparation', 'oilghee', 'ghee', 'potatoes', 'yogurt', 'chili', 'powder', 'butter', 'vegetables', 'tender', 'spices', 'beef', 'masala', 'oil', 'Heat', 'simmer', 'mutton', 'oilghee', 'ground', 'lentils', 'potatoes', 'turmeric', 'salt', 'chicken', 'preparation', 'butter', 'ghee', 'yogurt', 'chili', 'powder', 'vegetables', 'tender', 'spices', 'beef', 'masala', 'oil', 'simmer', 'butter', 'Heat', 'ground', 'lentils', 'turmeric', 'oilghee', 'salt', 'chicken', 'potatoes', 'preparation', 'ghee', 'mutton', 'yogurt', 'chili', 'powder', 'vegetables', 'tender', 'spices', 'beef', 'masala', 'oil', 'simmer', 'butter', 'Heat', 'ground', 'lentils', 'turmeric', 'salt', 'chicken', 'preparation', 'oilghee', 'potatoes', 'ghee', 'yogurt', 'chili', 'mutton', 'powder', 'vegetables', 'tender', 'spices', 'beef', 'masala', 'oil', 'simmer', 'butter', 'Heat', 'ground', 'lentils', 'salt', 'chicken', 'turmeric', 'oilghee', 'preparation', 'potatoes', 'ghee', 'yogurt', 'chili', 'mutton', 'powder', 'vegetables', 'tender', 'spices', 'beef', 'masala', 'turmeric', 'simmer', 'Heat', 'mutton', 'lentils', 'ground', 'oilghee', 'salt', 'chicken', 'preparation', 'potatoes', 'ghee', 'oil', 'yogurt', 'powder', 'butter', 'chili', 'vegetables', 'tender', 'spices', 'beef', 'turmeric', 'masala', 'tender', 'mutton', 'Heat', 'vegetables', 'ground', 'preparation', 'salt', 'chicken', 'ghee', 'oil', 'oilghee', 'yogurt', 'potatoes', 'powder', 'butter', 'chili', 'simmer', 'lentils', 'spices', 'beef', 'masala', 'turmeric', 'simmer', 'mutton', 'Heat', 'ground', 'lentils', 'oilghee', 'salt', 'chicken', 'oil', 'potatoes', 'preparation', 'ghee', 'yogurt', 'butter', 'powder', 'chili', 'vegetables', 'tender', 'spices', 'beef', 'turmeric', 'masala', 'simmer', 'mutton', 'lentils', 'ground', 'Heat', 'salt', 'oil', 'chicken', 'preparation', 'ghee', 'yogurt', 'oilghee', 'powder', 'potatoes', 'butter', 'chili', 'vegetables', 'tender', 'spices', 'beef', 'turmeric', 'masala', 'tender', 'Heat', 'mutton', 'ground', 'vegetables', 'salt', 'chicken', 'potatoes', 'oil', 'oilghee', 'preparation', 'ghee', 'butter', 'yogurt', 'powder', 'chili', 'simmer', 'lentils', 'spices', 'beef', 'masala', 'turmeric', 'mutton', 'simmer', 'ground', 'Heat', 'salt', 'chicken', 'oil', 'lentils', 'preparation', 'oilghee', 'ghee', 'potatoes', 'yogurt', 'powder', 'chili', 'butter', 'tender', 'vegetables', 'spices', 'beef', 'masala', 'oil', 'simmer', 'butter', 'Heat', 'ground', 'lentils', 'turmeric', 'salt', 'chicken', 'preparation', 'oilghee', 'potatoes', 'ghee', 'yogurt', 'chili', 'mutton', 'powder', 'vegetables', 'tender', 'spices', 'beef', 'masala', 'oil', 'mutton', 'simmer', 'Heat', 'ground', 'salt', 'chicken', 'turmeric', 'lentils', 'oilghee', 'potatoes', 'preparation', 'ghee', 'yogurt', 'butter', 'chili', 'powder', 'vegetables', 'tender', 'spices', 'beef', 'masala', 'oil', 'simmer', 'mutton', 'Heat', 'ground', 'lentils', 'turmeric', 'salt', 'chicken', 'oilghee', 'potatoes', 'preparation', 'ghee', 'yogurt', 'butter', 'chili', 'powder', 'vegetables', 'tender', 'spices', 'beef', 'oil', 'masala', 'simmer', 'Heat', 'potatoes', 'lentils', 'oilghee', 'ground', 'salt', 'preparation', 'mutton', 'chicken', 'butter', 'ghee', 'yogurt', 'chili', 'turmeric', 'powder', 'vegetables', 'tender', 'spices', 'beef', 'masala', 'turmeric', 'mutton', 'simmer', 'oil', 'Heat', 'ground', 'lentils', 'salt', 'chicken', 'chili', 'oilghee', 'preparation', 'potatoes', 'ghee', 'yogurt', 'powder', 'butter', 'vegetables', 'tender', 'spices', 'beef', 'turmeric', 'masala', 'simmer', 'lentils', 'ground', 'preparation', 'ghee', 'salt', 'yogurt', 'powder', 'chicken', 'Heat', 'mutton', 'potatoes', 'oil', 'oilghee', 'butter', 'vegetables', 'chili', 'tender', 'spices', 'beef', 'masala', 'oil', 'simmer', 'butter', 'Heat', 'ground', 'lentils', 'salt', 'chicken', 'turmeric', 'preparation', 'oilghee', 'potatoes', 'ghee', 'yogurt', 'chili', 'mutton', 'powder', 'vegetables', 'tender', 'spices', 'beef', 'masala', 'oil', 'simmer', 'mutton', 'Heat', 'ground', 'lentils', 'turmeric', 'salt', 'chicken', 'oilghee', 'preparation', 'potatoes', 'ghee', 'yogurt', 'chili', 'powder', 'butter', 'vegetables', 'tender', 'spices', 'beef', 'masala', 'oil', 'mutton', 'simmer', 'Heat', 'ground', 'turmeric', 'lentils', 'salt', 'chicken', 'oilghee', 'preparation', 'potatoes', 'ghee', 'yogurt', 'chili', 'butter', 'powder', 'vegetables', 'tender', 'spices', 'beef', 'turmeric', 'masala', 'oil', 'tender', 'Heat', 'potatoes', 'butter', 'oilghee', 'vegetables', 'ground', 'preparation', 'ghee', 'yogurt', 'powder', 'salt', 'chicken', 'mutton', 'simmer', 'chili', 'lentils', 'spices', 'beef', 'turmeric', 'masala', 'simmer', 'lentils', 'ground', 'preparation', 'ghee', 'salt', 'yogurt', 'powder', 'Heat', 'chicken', 'potatoes', 'mutton', 'oilghee', 'oil', 'butter', 'vegetables', 'chili', 'tender', 'spices', 'beef', 'masala', 'oil', 'simmer', 'mutton', 'Heat', 'ground', 'lentils', 'turmeric', 'salt', 'chicken', 'preparation', 'oilghee', 'potatoes', 'ghee', 'yogurt', 'chili', 'butter', 'powder', 'vegetables', 'tender', 'spices', 'beef', 'oil', 'masala', 'Heat', 'simmer', 'oilghee', 'potatoes', 'ground', 'butter', 'lentils', 'chicken', 'salt', 'preparation', 'mutton', 'ghee', 'yogurt', 'chili', 'turmeric', 'powder', 'vegetables', 'tender', 'spices', 'beef', 'oil', 'masala', 'Heat', 'oilghee', 'potatoes', 'simmer', 'mutton', 'ground', 'lentils', 'butter', 'chicken', 'salt', 'preparation', 'ghee', 'yogurt', 'chili', 'turmeric', 'powder', 'vegetables', 'tender', 'spices', 'beef', 'oil', 'Heat', 'masala', 'oilghee', 'potatoes', 'simmer', 'mutton', 'lentils', 'preparation', 'ground', 'ghee', 'chicken', 'salt', 'yogurt', 'chili', 'butter', 'tender', 'vegetables', 'turmeric', 'powder', 'spices', 'beef', 'oil', 'masala', 'Heat', 'oilghee', 'potatoes', 'simmer', 'mutton', 'lentils', 'butter', 'ground', 'preparation', 'salt', 'chicken', 'ghee', 'yogurt', 'chili', 'turmeric', 'powder', 'vegetables', 'tender', 'spices', 'beef', 'oil', 'masala', 'Heat', 'oilghee', 'potatoes', 'simmer', 'butter', 'lentils', 'mutton', 'ground', 'chicken', 'salt', 'preparation', 'ghee', 'yogurt', 'chili', 'turmeric', 'powder', 'vegetables', 'tender', 'spices', 'beef', 'yogurt', 'turmeric', 'simmer', 'mutton', 'ground', 'lentils', 'salt', 'potatoes', 'chicken', 'Heat', 'preparation', 'ghee', 'oilghee', 'masala', 'chili', 'butter', 'powder', 'vegetables', 'tender', 'spices', 'oil', 'beef', 'oil', 'masala', 'Heat', 'oilghee', 'potatoes', 'simmer', 'butter', 'lentils', 'ground', 'preparation', 'salt', 'chicken', 'mutton', 'ghee', 'yogurt', 'chili', 'turmeric', 'powder', 'vegetables', 'tender', 'spices', 'beef', 'turmeric', 'masala', 'tender', 'Heat', 'potatoes', 'oilghee', 'mutton', 'vegetables', 'ground', 'preparation', 'salt', 'butter', 'ghee', 'chicken', 'yogurt', 'powder', 'oil', 'chili', 'simmer', 'lentils', 'spices', 'beef', 'oil', 'masala', 'Heat', 'oilghee', 'potatoes', 'simmer', 'butter', 'lentils', 'mutton', 'ground', 'preparation', 'salt', 'chicken', 'ghee', 'yogurt', 'chili', 'turmeric', 'powder', 'vegetables', 'tender', 'spices', 'beef', 'masala', 'oil', 'simmer', 'Heat', 'butter', 'ground', 'oilghee', 'lentils', 'potatoes', 'salt', 'chicken', 'turmeric', 'preparation', 'ghee', 'mutton', 'yogurt', 'chili', 'powder', 'vegetables', 'tender', 'spices', 'beef', 'turmeric', 'masala', 'simmer', 'oil', 'lentils', 'ground', 'preparation', 'ghee', 'yogurt', 'tender', 'salt', 'powder', 'chicken', 'vegetables', 'spices', 'Heat', 'mutton', 'potatoes', 'oilghee', 'butter', 'chili', 'beef', 'oil', 'Heat', 'oilghee', 'potatoes', 'simmer', 'mutton', 'masala', 'ground', 'preparation', 'chicken', 'lentils', 'salt', 'ghee', 'tender', 'yogurt', 'chili', 'vegetables', 'spices', 'turmeric', 'butter', 'powder', 'beef', 'oil', 'masala', 'simmer', 'Heat', 'oilghee', 'potatoes', 'lentils', 'ground', 'preparation', 'mutton', 'ghee', 'salt', 'chicken', 'yogurt', 'chili', 'butter', 'turmeric', 'vegetables', 'powder', 'tender', 'spices', 'beef', 'masala', 'oil', 'simmer', 'butter', 'ground', 'lentils', 'turmeric', 'salt', 'Heat', 'chicken', 'preparation', 'ghee', 'yogurt', 'oilghee', 'chili', 'potatoes', 'powder', 'mutton', 'vegetables', 'tender', 'spices', 'beef', 'masala', 'turmeric', 'butter', 'oil', 'simmer', 'chicken', 'lentils', 'chili', 'salt', 'ground', 'Heat', 'preparation', 'ghee', 'tender', 'yogurt', 'powder', 'oilghee', 'potatoes', 'mutton', 'vegetables', 'spices', 'beef', 'turmeric', 'masala', 'simmer', 'mutton', 'lentils', 'oil', 'ground', 'preparation', 'salt', 'chicken', 'ghee', 'yogurt', 'powder', 'Heat', 'chili', 'oilghee', 'potatoes', 'vegetables', 'butter', 'tender', 'spices', 'beef', 'masala', 'turmeric', 'mutton', 'oil', 'simmer', 'lentils', 'ground', 'salt', 'chicken', 'chili', 'preparation', 'ghee', 'yogurt', 'tender', 'powder', 'vegetables', 'Heat', 'spices', 'oilghee', 'potatoes', 'butter', 'beef', 'masala', 'turmeric', 'mutton', 'Heat', 'oil', 'oilghee', 'potatoes', 'simmer', 'butter', 'chili', 'lentils', 'ground', 'salt', 'chicken', 'preparation', 'ghee', 'yogurt', 'powder', 'vegetables', 'tender', 'spices', 'beef', 'masala', 'turmeric', 'simmer', 'mutton', 'ground', 'lentils', 'Heat', 'chicken', 'salt', 'preparation', 'ghee', 'yogurt', 'oilghee', 'oil', 'powder', 'tender', 'potatoes', 'butter', 'chili', 'vegetables', 'spices', 'beef', 'masala', 'turmeric', 'mutton', 'oil', 'simmer', 'lentils', 'chicken', 'ground', 'salt', 'chili', 'preparation', 'ghee', 'tender', 'yogurt', 'powder', 'Heat', 'oilghee', 'potatoes', 'vegetables', 'butter', 'spices', 'beef', 'oil', 'Heat', 'masala', 'potatoes', 'oilghee', 'simmer', 'mutton', 'ground', 'lentils', 'preparation', 'salt', 'chicken', 'ghee', 'yogurt', 'chili', 'butter', 'turmeric', 'vegetables', 'powder', 'tender', 'spices', 'beef', 'turmeric', 'masala', 'simmer', 'Heat', 'lentils', 'butter', 'ground', 'oilghee', 'potatoes', 'preparation', 'salt', 'oil', 'ghee', 'chicken', 'yogurt', 'powder', 'mutton', 'chili', 'vegetables', 'tender', 'spices', 'beef', 'oil', 'masala', 'simmer', 'lentils', 'ground', 'preparation', 'Heat', 'salt', 'ghee', 'chicken', 'yogurt', 'butter', 'chili', 'oilghee', 'potatoes', 'turmeric', 'mutton', 'vegetables', 'tender', 'powder', 'spices', 'beef', 'ground', 'yogurt', 'beef', 'simmer', 'turmeric', 'oilghee', 'mutton', 'lentils', 'preparation', 'ghee', 'potatoes', 'powder', 'masala', 'oil', 'salt', 'spices', 'chicken', 'vegetables', 'butter', 'tender', 'chili', 'Heat'] \n",
            "\n",
            "Ingredients:\n",
            " yogurt, garam masala, red chili powder, turmeric, salt, chicken, beef, mutton, lentils, spinach, potatoes, oil, butter, ghee, cream, lemon, mint, cilantro \n",
            "\n",
            "Instructions:\n",
            " aloo preparation: prepare ingredients and chop vegetables. heat oil/ghee and add whole spices. add main ingredients and cook until tender. add ground spices and simmer until well mixed. garnish and serve hot. \n",
            "\n",
            "Recipe Rank: 3 \t ['biryani potatoes ground oil yogurt tender mutton vegetables salt chili masala ghee powder preparation spices chicken simmer turmeric butter beef oilghee lentils heat ground yogurt beef simmer turmeric oilghee mutton lentils preparation ghee potatoes powder masala oil salt spices chicken vegetables butter tender chili heat oil heat oilghee potatoes simmer mutton masala preparation chicken ground lentils salt ghee tender yogurt chili vegetables spices turmeric butter powder beef masala oil heat simmer butter oilghee potatoes lentils ground salt chicken mutton turmeric preparation ghee yogurt chili powder vegetables tender spices beef masala oil simmer mutton heat ground lentils turmeric salt chicken preparation oilghee ghee potatoes yogurt chili powder butter vegetables tender spices beef masala oil heat simmer mutton oilghee ground lentils potatoes turmeric salt chicken preparation butter ghee yogurt chili powder vegetables tender spices beef masala oil simmer butter heat ground lentils turmeric oilghee salt chicken potatoes preparation ghee mutton yogurt chili powder vegetables tender spices beef masala oil simmer butter heat ground lentils turmeric salt chicken preparation oilghee potatoes ghee yogurt chili mutton powder vegetables tender spices beef masala oil simmer butter heat ground lentils salt chicken turmeric oilghee preparation potatoes ghee yogurt chili mutton powder vegetables tender spices beef masala turmeric simmer heat mutton lentils ground oilghee salt chicken preparation potatoes ghee oil yogurt powder butter chili vegetables tender spices beef turmeric masala tender mutton heat vegetables ground preparation salt chicken ghee oil oilghee yogurt potatoes powder butter chili simmer lentils spices beef masala turmeric simmer mutton heat ground lentils oilghee salt chicken oil potatoes preparation ghee yogurt butter powder chili vegetables tender spices beef turmeric masala simmer mutton lentils ground heat salt oil chicken preparation ghee yogurt oilghee powder potatoes butter chili vegetables tender spices beef turmeric masala tender heat mutton ground vegetables salt chicken potatoes oil oilghee preparation ghee butter yogurt powder chili simmer lentils spices beef masala turmeric mutton simmer ground heat salt chicken oil lentils preparation oilghee ghee potatoes yogurt powder chili butter tender vegetables spices beef masala oil simmer butter heat ground lentils turmeric salt chicken preparation oilghee potatoes ghee yogurt chili mutton powder vegetables tender spices beef masala oil mutton simmer heat ground salt chicken turmeric lentils oilghee potatoes preparation ghee yogurt butter chili powder vegetables tender spices beef masala oil simmer mutton heat ground lentils turmeric salt chicken oilghee potatoes preparation ghee yogurt butter chili powder vegetables tender spices beef oil masala simmer heat potatoes lentils oilghee ground salt preparation mutton chicken butter ghee yogurt chili turmeric powder vegetables tender spices beef masala turmeric mutton simmer oil heat ground lentils salt chicken chili oilghee preparation potatoes ghee yogurt powder butter vegetables tender spices beef turmeric masala simmer lentils ground preparation ghee salt yogurt powder chicken heat mutton potatoes oil oilghee butter vegetables chili tender spices beef masala oil simmer butter heat ground lentils salt chicken turmeric preparation oilghee potatoes ghee yogurt chili mutton powder vegetables tender spices beef masala oil simmer mutton heat ground lentils turmeric salt chicken oilghee preparation potatoes ghee yogurt chili powder butter vegetables tender spices beef masala oil mutton simmer heat ground turmeric lentils salt chicken oilghee preparation potatoes ghee yogurt chili butter powder vegetables tender spices beef turmeric masala oil tender heat potatoes butter oilghee vegetables ground preparation ghee yogurt powder salt chicken mutton simmer chili lentils spices beef turmeric masala simmer lentils ground preparation ghee salt yogurt powder heat chicken potatoes mutton oilghee oil butter vegetables chili tender spices beef masala oil simmer mutton heat ground lentils turmeric salt chicken preparation oilghee potatoes ghee yogurt chili butter powder vegetables tender spices beef oil masala heat simmer oilghee potatoes ground butter lentils chicken salt preparation mutton ghee yogurt chili turmeric powder vegetables tender spices beef oil masala heat oilghee potatoes simmer mutton ground lentils butter chicken salt preparation ghee yogurt chili turmeric powder vegetables tender spices beef oil heat masala oilghee potatoes simmer mutton lentils preparation ground ghee chicken salt yogurt chili butter tender vegetables turmeric powder spices beef oil masala heat oilghee potatoes simmer mutton lentils butter ground preparation salt chicken ghee yogurt chili turmeric powder vegetables tender spices beef oil masala heat oilghee potatoes simmer butter lentils mutton ground chicken salt preparation ghee yogurt chili turmeric powder vegetables tender spices beef yogurt turmeric simmer mutton ground lentils salt potatoes chicken heat preparation ghee oilghee masala chili butter powder vegetables tender spices oil beef oil masala heat oilghee potatoes simmer butter lentils ground preparation salt chicken mutton ghee yogurt chili turmeric powder vegetables tender spices beef turmeric masala tender heat potatoes oilghee mutton vegetables ground preparation salt butter ghee chicken yogurt powder oil chili simmer lentils spices beef oil masala heat oilghee potatoes simmer butter lentils mutton ground preparation salt chicken ghee yogurt chili turmeric powder vegetables tender spices beef masala oil simmer heat butter ground oilghee lentils potatoes salt chicken turmeric preparation ghee mutton yogurt chili powder vegetables tender spices beef turmeric masala simmer oil lentils ground preparation ghee yogurt tender salt powder chicken vegetables spices heat mutton potatoes oilghee butter chili beef oil heat oilghee potatoes simmer mutton masala ground preparation chicken lentils salt ghee tender yogurt chili vegetables spices turmeric butter powder beef oil masala simmer heat oilghee potatoes lentils ground preparation mutton ghee salt chicken yogurt chili butter turmeric vegetables powder tender spices beef masala oil simmer butter ground lentils turmeric salt heat chicken preparation ghee yogurt oilghee chili potatoes powder mutton vegetables tender spices beef masala turmeric butter oil simmer chicken lentils chili salt ground heat preparation ghee tender yogurt powder oilghee potatoes mutton vegetables spices beef turmeric masala simmer mutton lentils oil ground preparation salt chicken ghee yogurt powder heat chili oilghee potatoes vegetables butter tender spices beef masala turmeric mutton oil simmer lentils ground salt chicken chili preparation ghee yogurt tender powder vegetables heat spices oilghee potatoes butter beef masala turmeric mutton heat oil oilghee potatoes simmer butter chili lentils ground salt chicken preparation ghee yogurt powder vegetables tender spices beef masala turmeric simmer mutton ground lentils heat chicken salt preparation ghee yogurt oilghee oil powder tender potatoes butter chili vegetables spices beef masala turmeric mutton oil simmer lentils chicken ground salt chili preparation ghee tender yogurt powder heat oilghee potatoes vegetables butter spices beef oil heat masala potatoes oilghee simmer mutton ground lentils preparation salt chicken ghee yogurt chili butter turmeric vegetables powder tender spices beef turmeric masala simmer heat lentils butter ground oilghee potatoes preparation salt oil ghee chicken yogurt powder mutton chili vegetables tender spices beef oil masala simmer lentils ground preparation heat salt ghee chicken yogurt butter chili oilghee potatoes turmeric mutton vegetables tender powder spices beef ground yogurt beef simmer turmeric oilghee mutton lentils preparation ghee potatoes powder masala oil salt spices chicken vegetables butter tender chili heat', 'potatoes', 'ground', 'oil', 'yogurt', 'tender', 'mutton', 'vegetables', 'salt', 'chili', 'masala', 'ghee', 'powder', 'preparation', 'spices', 'chicken', 'simmer', 'turmeric', 'butter', 'beef', 'oilghee', 'lentils', 'Heat', 'ground', 'yogurt', 'beef', 'simmer', 'turmeric', 'oilghee', 'mutton', 'lentils', 'preparation', 'ghee', 'potatoes', 'powder', 'masala', 'oil', 'salt', 'spices', 'chicken', 'vegetables', 'butter', 'tender', 'chili', 'Heat', 'oil', 'Heat', 'oilghee', 'potatoes', 'simmer', 'mutton', 'masala', 'preparation', 'chicken', 'ground', 'lentils', 'salt', 'ghee', 'tender', 'yogurt', 'chili', 'vegetables', 'spices', 'turmeric', 'butter', 'powder', 'beef', 'masala', 'oil', 'Heat', 'simmer', 'butter', 'oilghee', 'potatoes', 'lentils', 'ground', 'salt', 'chicken', 'mutton', 'turmeric', 'preparation', 'ghee', 'yogurt', 'chili', 'powder', 'vegetables', 'tender', 'spices', 'beef', 'masala', 'oil', 'simmer', 'mutton', 'Heat', 'ground', 'lentils', 'turmeric', 'salt', 'chicken', 'preparation', 'oilghee', 'ghee', 'potatoes', 'yogurt', 'chili', 'powder', 'butter', 'vegetables', 'tender', 'spices', 'beef', 'masala', 'oil', 'Heat', 'simmer', 'mutton', 'oilghee', 'ground', 'lentils', 'potatoes', 'turmeric', 'salt', 'chicken', 'preparation', 'butter', 'ghee', 'yogurt', 'chili', 'powder', 'vegetables', 'tender', 'spices', 'beef', 'masala', 'oil', 'simmer', 'butter', 'Heat', 'ground', 'lentils', 'turmeric', 'oilghee', 'salt', 'chicken', 'potatoes', 'preparation', 'ghee', 'mutton', 'yogurt', 'chili', 'powder', 'vegetables', 'tender', 'spices', 'beef', 'masala', 'oil', 'simmer', 'butter', 'Heat', 'ground', 'lentils', 'turmeric', 'salt', 'chicken', 'preparation', 'oilghee', 'potatoes', 'ghee', 'yogurt', 'chili', 'mutton', 'powder', 'vegetables', 'tender', 'spices', 'beef', 'masala', 'oil', 'simmer', 'butter', 'Heat', 'ground', 'lentils', 'salt', 'chicken', 'turmeric', 'oilghee', 'preparation', 'potatoes', 'ghee', 'yogurt', 'chili', 'mutton', 'powder', 'vegetables', 'tender', 'spices', 'beef', 'masala', 'turmeric', 'simmer', 'Heat', 'mutton', 'lentils', 'ground', 'oilghee', 'salt', 'chicken', 'preparation', 'potatoes', 'ghee', 'oil', 'yogurt', 'powder', 'butter', 'chili', 'vegetables', 'tender', 'spices', 'beef', 'turmeric', 'masala', 'tender', 'mutton', 'Heat', 'vegetables', 'ground', 'preparation', 'salt', 'chicken', 'ghee', 'oil', 'oilghee', 'yogurt', 'potatoes', 'powder', 'butter', 'chili', 'simmer', 'lentils', 'spices', 'beef', 'masala', 'turmeric', 'simmer', 'mutton', 'Heat', 'ground', 'lentils', 'oilghee', 'salt', 'chicken', 'oil', 'potatoes', 'preparation', 'ghee', 'yogurt', 'butter', 'powder', 'chili', 'vegetables', 'tender', 'spices', 'beef', 'turmeric', 'masala', 'simmer', 'mutton', 'lentils', 'ground', 'Heat', 'salt', 'oil', 'chicken', 'preparation', 'ghee', 'yogurt', 'oilghee', 'powder', 'potatoes', 'butter', 'chili', 'vegetables', 'tender', 'spices', 'beef', 'turmeric', 'masala', 'tender', 'Heat', 'mutton', 'ground', 'vegetables', 'salt', 'chicken', 'potatoes', 'oil', 'oilghee', 'preparation', 'ghee', 'butter', 'yogurt', 'powder', 'chili', 'simmer', 'lentils', 'spices', 'beef', 'masala', 'turmeric', 'mutton', 'simmer', 'ground', 'Heat', 'salt', 'chicken', 'oil', 'lentils', 'preparation', 'oilghee', 'ghee', 'potatoes', 'yogurt', 'powder', 'chili', 'butter', 'tender', 'vegetables', 'spices', 'beef', 'masala', 'oil', 'simmer', 'butter', 'Heat', 'ground', 'lentils', 'turmeric', 'salt', 'chicken', 'preparation', 'oilghee', 'potatoes', 'ghee', 'yogurt', 'chili', 'mutton', 'powder', 'vegetables', 'tender', 'spices', 'beef', 'masala', 'oil', 'mutton', 'simmer', 'Heat', 'ground', 'salt', 'chicken', 'turmeric', 'lentils', 'oilghee', 'potatoes', 'preparation', 'ghee', 'yogurt', 'butter', 'chili', 'powder', 'vegetables', 'tender', 'spices', 'beef', 'masala', 'oil', 'simmer', 'mutton', 'Heat', 'ground', 'lentils', 'turmeric', 'salt', 'chicken', 'oilghee', 'potatoes', 'preparation', 'ghee', 'yogurt', 'butter', 'chili', 'powder', 'vegetables', 'tender', 'spices', 'beef', 'oil', 'masala', 'simmer', 'Heat', 'potatoes', 'lentils', 'oilghee', 'ground', 'salt', 'preparation', 'mutton', 'chicken', 'butter', 'ghee', 'yogurt', 'chili', 'turmeric', 'powder', 'vegetables', 'tender', 'spices', 'beef', 'masala', 'turmeric', 'mutton', 'simmer', 'oil', 'Heat', 'ground', 'lentils', 'salt', 'chicken', 'chili', 'oilghee', 'preparation', 'potatoes', 'ghee', 'yogurt', 'powder', 'butter', 'vegetables', 'tender', 'spices', 'beef', 'turmeric', 'masala', 'simmer', 'lentils', 'ground', 'preparation', 'ghee', 'salt', 'yogurt', 'powder', 'chicken', 'Heat', 'mutton', 'potatoes', 'oil', 'oilghee', 'butter', 'vegetables', 'chili', 'tender', 'spices', 'beef', 'masala', 'oil', 'simmer', 'butter', 'Heat', 'ground', 'lentils', 'salt', 'chicken', 'turmeric', 'preparation', 'oilghee', 'potatoes', 'ghee', 'yogurt', 'chili', 'mutton', 'powder', 'vegetables', 'tender', 'spices', 'beef', 'masala', 'oil', 'simmer', 'mutton', 'Heat', 'ground', 'lentils', 'turmeric', 'salt', 'chicken', 'oilghee', 'preparation', 'potatoes', 'ghee', 'yogurt', 'chili', 'powder', 'butter', 'vegetables', 'tender', 'spices', 'beef', 'masala', 'oil', 'mutton', 'simmer', 'Heat', 'ground', 'turmeric', 'lentils', 'salt', 'chicken', 'oilghee', 'preparation', 'potatoes', 'ghee', 'yogurt', 'chili', 'butter', 'powder', 'vegetables', 'tender', 'spices', 'beef', 'turmeric', 'masala', 'oil', 'tender', 'Heat', 'potatoes', 'butter', 'oilghee', 'vegetables', 'ground', 'preparation', 'ghee', 'yogurt', 'powder', 'salt', 'chicken', 'mutton', 'simmer', 'chili', 'lentils', 'spices', 'beef', 'turmeric', 'masala', 'simmer', 'lentils', 'ground', 'preparation', 'ghee', 'salt', 'yogurt', 'powder', 'Heat', 'chicken', 'potatoes', 'mutton', 'oilghee', 'oil', 'butter', 'vegetables', 'chili', 'tender', 'spices', 'beef', 'masala', 'oil', 'simmer', 'mutton', 'Heat', 'ground', 'lentils', 'turmeric', 'salt', 'chicken', 'preparation', 'oilghee', 'potatoes', 'ghee', 'yogurt', 'chili', 'butter', 'powder', 'vegetables', 'tender', 'spices', 'beef', 'oil', 'masala', 'Heat', 'simmer', 'oilghee', 'potatoes', 'ground', 'butter', 'lentils', 'chicken', 'salt', 'preparation', 'mutton', 'ghee', 'yogurt', 'chili', 'turmeric', 'powder', 'vegetables', 'tender', 'spices', 'beef', 'oil', 'masala', 'Heat', 'oilghee', 'potatoes', 'simmer', 'mutton', 'ground', 'lentils', 'butter', 'chicken', 'salt', 'preparation', 'ghee', 'yogurt', 'chili', 'turmeric', 'powder', 'vegetables', 'tender', 'spices', 'beef', 'oil', 'Heat', 'masala', 'oilghee', 'potatoes', 'simmer', 'mutton', 'lentils', 'preparation', 'ground', 'ghee', 'chicken', 'salt', 'yogurt', 'chili', 'butter', 'tender', 'vegetables', 'turmeric', 'powder', 'spices', 'beef', 'oil', 'masala', 'Heat', 'oilghee', 'potatoes', 'simmer', 'mutton', 'lentils', 'butter', 'ground', 'preparation', 'salt', 'chicken', 'ghee', 'yogurt', 'chili', 'turmeric', 'powder', 'vegetables', 'tender', 'spices', 'beef', 'oil', 'masala', 'Heat', 'oilghee', 'potatoes', 'simmer', 'butter', 'lentils', 'mutton', 'ground', 'chicken', 'salt', 'preparation', 'ghee', 'yogurt', 'chili', 'turmeric', 'powder', 'vegetables', 'tender', 'spices', 'beef', 'yogurt', 'turmeric', 'simmer', 'mutton', 'ground', 'lentils', 'salt', 'potatoes', 'chicken', 'Heat', 'preparation', 'ghee', 'oilghee', 'masala', 'chili', 'butter', 'powder', 'vegetables', 'tender', 'spices', 'oil', 'beef', 'oil', 'masala', 'Heat', 'oilghee', 'potatoes', 'simmer', 'butter', 'lentils', 'ground', 'preparation', 'salt', 'chicken', 'mutton', 'ghee', 'yogurt', 'chili', 'turmeric', 'powder', 'vegetables', 'tender', 'spices', 'beef', 'turmeric', 'masala', 'tender', 'Heat', 'potatoes', 'oilghee', 'mutton', 'vegetables', 'ground', 'preparation', 'salt', 'butter', 'ghee', 'chicken', 'yogurt', 'powder', 'oil', 'chili', 'simmer', 'lentils', 'spices', 'beef', 'oil', 'masala', 'Heat', 'oilghee', 'potatoes', 'simmer', 'butter', 'lentils', 'mutton', 'ground', 'preparation', 'salt', 'chicken', 'ghee', 'yogurt', 'chili', 'turmeric', 'powder', 'vegetables', 'tender', 'spices', 'beef', 'masala', 'oil', 'simmer', 'Heat', 'butter', 'ground', 'oilghee', 'lentils', 'potatoes', 'salt', 'chicken', 'turmeric', 'preparation', 'ghee', 'mutton', 'yogurt', 'chili', 'powder', 'vegetables', 'tender', 'spices', 'beef', 'turmeric', 'masala', 'simmer', 'oil', 'lentils', 'ground', 'preparation', 'ghee', 'yogurt', 'tender', 'salt', 'powder', 'chicken', 'vegetables', 'spices', 'Heat', 'mutton', 'potatoes', 'oilghee', 'butter', 'chili', 'beef', 'oil', 'Heat', 'oilghee', 'potatoes', 'simmer', 'mutton', 'masala', 'ground', 'preparation', 'chicken', 'lentils', 'salt', 'ghee', 'tender', 'yogurt', 'chili', 'vegetables', 'spices', 'turmeric', 'butter', 'powder', 'beef', 'oil', 'masala', 'simmer', 'Heat', 'oilghee', 'potatoes', 'lentils', 'ground', 'preparation', 'mutton', 'ghee', 'salt', 'chicken', 'yogurt', 'chili', 'butter', 'turmeric', 'vegetables', 'powder', 'tender', 'spices', 'beef', 'masala', 'oil', 'simmer', 'butter', 'ground', 'lentils', 'turmeric', 'salt', 'Heat', 'chicken', 'preparation', 'ghee', 'yogurt', 'oilghee', 'chili', 'potatoes', 'powder', 'mutton', 'vegetables', 'tender', 'spices', 'beef', 'masala', 'turmeric', 'butter', 'oil', 'simmer', 'chicken', 'lentils', 'chili', 'salt', 'ground', 'Heat', 'preparation', 'ghee', 'tender', 'yogurt', 'powder', 'oilghee', 'potatoes', 'mutton', 'vegetables', 'spices', 'beef', 'turmeric', 'masala', 'simmer', 'mutton', 'lentils', 'oil', 'ground', 'preparation', 'salt', 'chicken', 'ghee', 'yogurt', 'powder', 'Heat', 'chili', 'oilghee', 'potatoes', 'vegetables', 'butter', 'tender', 'spices', 'beef', 'masala', 'turmeric', 'mutton', 'oil', 'simmer', 'lentils', 'ground', 'salt', 'chicken', 'chili', 'preparation', 'ghee', 'yogurt', 'tender', 'powder', 'vegetables', 'Heat', 'spices', 'oilghee', 'potatoes', 'butter', 'beef', 'masala', 'turmeric', 'mutton', 'Heat', 'oil', 'oilghee', 'potatoes', 'simmer', 'butter', 'chili', 'lentils', 'ground', 'salt', 'chicken', 'preparation', 'ghee', 'yogurt', 'powder', 'vegetables', 'tender', 'spices', 'beef', 'masala', 'turmeric', 'simmer', 'mutton', 'ground', 'lentils', 'Heat', 'chicken', 'salt', 'preparation', 'ghee', 'yogurt', 'oilghee', 'oil', 'powder', 'tender', 'potatoes', 'butter', 'chili', 'vegetables', 'spices', 'beef', 'masala', 'turmeric', 'mutton', 'oil', 'simmer', 'lentils', 'chicken', 'ground', 'salt', 'chili', 'preparation', 'ghee', 'tender', 'yogurt', 'powder', 'Heat', 'oilghee', 'potatoes', 'vegetables', 'butter', 'spices', 'beef', 'oil', 'Heat', 'masala', 'potatoes', 'oilghee', 'simmer', 'mutton', 'ground', 'lentils', 'preparation', 'salt', 'chicken', 'ghee', 'yogurt', 'chili', 'butter', 'turmeric', 'vegetables', 'powder', 'tender', 'spices', 'beef', 'turmeric', 'masala', 'simmer', 'Heat', 'lentils', 'butter', 'ground', 'oilghee', 'potatoes', 'preparation', 'salt', 'oil', 'ghee', 'chicken', 'yogurt', 'powder', 'mutton', 'chili', 'vegetables', 'tender', 'spices', 'beef', 'oil', 'masala', 'simmer', 'lentils', 'ground', 'preparation', 'Heat', 'salt', 'ghee', 'chicken', 'yogurt', 'butter', 'chili', 'oilghee', 'potatoes', 'turmeric', 'mutton', 'vegetables', 'tender', 'powder', 'spices', 'beef', 'ground', 'yogurt', 'beef', 'simmer', 'turmeric', 'oilghee', 'mutton', 'lentils', 'preparation', 'ghee', 'potatoes', 'powder', 'masala', 'oil', 'salt', 'spices', 'chicken', 'vegetables', 'butter', 'tender', 'chili', 'Heat'] \n",
            "\n",
            "Ingredients:\n",
            " oil, butter, ghee, cream, lemon, mint, cilantro, chicken, beef, mutton, lentils, spinach, potatoes, yogurt, garam masala, red chili powder, turmeric, salt \n",
            "\n",
            "Instructions:\n",
            " biryani preparation: prepare ingredients and chop vegetables. heat oil/ghee and add whole spices. add main ingredients and cook until tender. add ground spices and simmer until well mixed. garnish and serve hot. \n",
            "\n"
          ]
        }
      ]
    },
    {
      "cell_type": "code",
      "source": [
        "### Empty Query\n",
        "query = []\n",
        "Search_Recipes(query, query_ranked=False, recipe_range=(0,3))"
      ],
      "metadata": {
        "colab": {
          "base_uri": "https://localhost:8080/"
        },
        "id": "0FJOgjaShOAM",
        "outputId": "7c03e11f-9ce0-4715-fc55-9c5b6fde4020"
      },
      "execution_count": 275,
      "outputs": [
        {
          "output_type": "stream",
          "name": "stdout",
          "text": [
            "Search Query: [] \n",
            "\n",
            "Recipe Rank: 1 \t ['aloo gosht potatoes ground oil yogurt tender mutton vegetables salt chili masala ghee powder preparation spices chicken simmer turmeric butter beef oilghee lentils heat ground yogurt beef simmer turmeric oilghee mutton lentils preparation ghee potatoes powder masala oil salt spices chicken vegetables butter tender chili heat oil heat oilghee potatoes simmer mutton masala preparation chicken ground lentils salt ghee tender yogurt chili vegetables spices turmeric butter powder beef masala oil heat simmer butter oilghee potatoes lentils ground salt chicken mutton turmeric preparation ghee yogurt chili powder vegetables tender spices beef masala oil simmer mutton heat ground lentils turmeric salt chicken preparation oilghee ghee potatoes yogurt chili powder butter vegetables tender spices beef masala oil heat simmer mutton oilghee ground lentils potatoes turmeric salt chicken preparation butter ghee yogurt chili powder vegetables tender spices beef masala oil simmer butter heat ground lentils turmeric oilghee salt chicken potatoes preparation ghee mutton yogurt chili powder vegetables tender spices beef masala oil simmer butter heat ground lentils turmeric salt chicken preparation oilghee potatoes ghee yogurt chili mutton powder vegetables tender spices beef masala oil simmer butter heat ground lentils salt chicken turmeric oilghee preparation potatoes ghee yogurt chili mutton powder vegetables tender spices beef masala turmeric simmer heat mutton lentils ground oilghee salt chicken preparation potatoes ghee oil yogurt powder butter chili vegetables tender spices beef turmeric masala tender mutton heat vegetables ground preparation salt chicken ghee oil oilghee yogurt potatoes powder butter chili simmer lentils spices beef masala turmeric simmer mutton heat ground lentils oilghee salt chicken oil potatoes preparation ghee yogurt butter powder chili vegetables tender spices beef turmeric masala simmer mutton lentils ground heat salt oil chicken preparation ghee yogurt oilghee powder potatoes butter chili vegetables tender spices beef turmeric masala tender heat mutton ground vegetables salt chicken potatoes oil oilghee preparation ghee butter yogurt powder chili simmer lentils spices beef masala turmeric mutton simmer ground heat salt chicken oil lentils preparation oilghee ghee potatoes yogurt powder chili butter tender vegetables spices beef masala oil simmer butter heat ground lentils turmeric salt chicken preparation oilghee potatoes ghee yogurt chili mutton powder vegetables tender spices beef masala oil mutton simmer heat ground salt chicken turmeric lentils oilghee potatoes preparation ghee yogurt butter chili powder vegetables tender spices beef masala oil simmer mutton heat ground lentils turmeric salt chicken oilghee potatoes preparation ghee yogurt butter chili powder vegetables tender spices beef oil masala simmer heat potatoes lentils oilghee ground salt preparation mutton chicken butter ghee yogurt chili turmeric powder vegetables tender spices beef masala turmeric mutton simmer oil heat ground lentils salt chicken chili oilghee preparation potatoes ghee yogurt powder butter vegetables tender spices beef turmeric masala simmer lentils ground preparation ghee salt yogurt powder chicken heat mutton potatoes oil oilghee butter vegetables chili tender spices beef masala oil simmer butter heat ground lentils salt chicken turmeric preparation oilghee potatoes ghee yogurt chili mutton powder vegetables tender spices beef masala oil simmer mutton heat ground lentils turmeric salt chicken oilghee preparation potatoes ghee yogurt chili powder butter vegetables tender spices beef masala oil mutton simmer heat ground turmeric lentils salt chicken oilghee preparation potatoes ghee yogurt chili butter powder vegetables tender spices beef turmeric masala oil tender heat potatoes butter oilghee vegetables ground preparation ghee yogurt powder salt chicken mutton simmer chili lentils spices beef turmeric masala simmer lentils ground preparation ghee salt yogurt powder heat chicken potatoes mutton oilghee oil butter vegetables chili tender spices beef masala oil simmer mutton heat ground lentils turmeric salt chicken preparation oilghee potatoes ghee yogurt chili butter powder vegetables tender spices beef oil masala heat simmer oilghee potatoes ground butter lentils chicken salt preparation mutton ghee yogurt chili turmeric powder vegetables tender spices beef oil masala heat oilghee potatoes simmer mutton ground lentils butter chicken salt preparation ghee yogurt chili turmeric powder vegetables tender spices beef oil heat masala oilghee potatoes simmer mutton lentils preparation ground ghee chicken salt yogurt chili butter tender vegetables turmeric powder spices beef oil masala heat oilghee potatoes simmer mutton lentils butter ground preparation salt chicken ghee yogurt chili turmeric powder vegetables tender spices beef oil masala heat oilghee potatoes simmer butter lentils mutton ground chicken salt preparation ghee yogurt chili turmeric powder vegetables tender spices beef yogurt turmeric simmer mutton ground lentils salt potatoes chicken heat preparation ghee oilghee masala chili butter powder vegetables tender spices oil beef oil masala heat oilghee potatoes simmer butter lentils ground preparation salt chicken mutton ghee yogurt chili turmeric powder vegetables tender spices beef turmeric masala tender heat potatoes oilghee mutton vegetables ground preparation salt butter ghee chicken yogurt powder oil chili simmer lentils spices beef oil masala heat oilghee potatoes simmer butter lentils mutton ground preparation salt chicken ghee yogurt chili turmeric powder vegetables tender spices beef masala oil simmer heat butter ground oilghee lentils potatoes salt chicken turmeric preparation ghee mutton yogurt chili powder vegetables tender spices beef turmeric masala simmer oil lentils ground preparation ghee yogurt tender salt powder chicken vegetables spices heat mutton potatoes oilghee butter chili beef oil heat oilghee potatoes simmer mutton masala ground preparation chicken lentils salt ghee tender yogurt chili vegetables spices turmeric butter powder beef oil masala simmer heat oilghee potatoes lentils ground preparation mutton ghee salt chicken yogurt chili butter turmeric vegetables powder tender spices beef masala oil simmer butter ground lentils turmeric salt heat chicken preparation ghee yogurt oilghee chili potatoes powder mutton vegetables tender spices beef masala turmeric butter oil simmer chicken lentils chili salt ground heat preparation ghee tender yogurt powder oilghee potatoes mutton vegetables spices beef turmeric masala simmer mutton lentils oil ground preparation salt chicken ghee yogurt powder heat chili oilghee potatoes vegetables butter tender spices beef masala turmeric mutton oil simmer lentils ground salt chicken chili preparation ghee yogurt tender powder vegetables heat spices oilghee potatoes butter beef masala turmeric mutton heat oil oilghee potatoes simmer butter chili lentils ground salt chicken preparation ghee yogurt powder vegetables tender spices beef masala turmeric simmer mutton ground lentils heat chicken salt preparation ghee yogurt oilghee oil powder tender potatoes butter chili vegetables spices beef masala turmeric mutton oil simmer lentils chicken ground salt chili preparation ghee tender yogurt powder heat oilghee potatoes vegetables butter spices beef oil heat masala potatoes oilghee simmer mutton ground lentils preparation salt chicken ghee yogurt chili butter turmeric vegetables powder tender spices beef turmeric masala simmer heat lentils butter ground oilghee potatoes preparation salt oil ghee chicken yogurt powder mutton chili vegetables tender spices beef oil masala simmer lentils ground preparation heat salt ghee chicken yogurt butter chili oilghee potatoes turmeric mutton vegetables tender powder spices beef ground yogurt beef simmer turmeric oilghee mutton lentils preparation ghee potatoes powder masala oil salt spices chicken vegetables butter tender chili heat', 'potatoes', 'ground', 'oil', 'yogurt', 'tender', 'mutton', 'vegetables', 'salt', 'chili', 'masala', 'ghee', 'powder', 'preparation', 'spices', 'chicken', 'simmer', 'turmeric', 'butter', 'beef', 'oilghee', 'lentils', 'Heat', 'ground', 'yogurt', 'beef', 'simmer', 'turmeric', 'oilghee', 'mutton', 'lentils', 'preparation', 'ghee', 'potatoes', 'powder', 'masala', 'oil', 'salt', 'spices', 'chicken', 'vegetables', 'butter', 'tender', 'chili', 'Heat', 'oil', 'Heat', 'oilghee', 'potatoes', 'simmer', 'mutton', 'masala', 'preparation', 'chicken', 'ground', 'lentils', 'salt', 'ghee', 'tender', 'yogurt', 'chili', 'vegetables', 'spices', 'turmeric', 'butter', 'powder', 'beef', 'masala', 'oil', 'Heat', 'simmer', 'butter', 'oilghee', 'potatoes', 'lentils', 'ground', 'salt', 'chicken', 'mutton', 'turmeric', 'preparation', 'ghee', 'yogurt', 'chili', 'powder', 'vegetables', 'tender', 'spices', 'beef', 'masala', 'oil', 'simmer', 'mutton', 'Heat', 'ground', 'lentils', 'turmeric', 'salt', 'chicken', 'preparation', 'oilghee', 'ghee', 'potatoes', 'yogurt', 'chili', 'powder', 'butter', 'vegetables', 'tender', 'spices', 'beef', 'masala', 'oil', 'Heat', 'simmer', 'mutton', 'oilghee', 'ground', 'lentils', 'potatoes', 'turmeric', 'salt', 'chicken', 'preparation', 'butter', 'ghee', 'yogurt', 'chili', 'powder', 'vegetables', 'tender', 'spices', 'beef', 'masala', 'oil', 'simmer', 'butter', 'Heat', 'ground', 'lentils', 'turmeric', 'oilghee', 'salt', 'chicken', 'potatoes', 'preparation', 'ghee', 'mutton', 'yogurt', 'chili', 'powder', 'vegetables', 'tender', 'spices', 'beef', 'masala', 'oil', 'simmer', 'butter', 'Heat', 'ground', 'lentils', 'turmeric', 'salt', 'chicken', 'preparation', 'oilghee', 'potatoes', 'ghee', 'yogurt', 'chili', 'mutton', 'powder', 'vegetables', 'tender', 'spices', 'beef', 'masala', 'oil', 'simmer', 'butter', 'Heat', 'ground', 'lentils', 'salt', 'chicken', 'turmeric', 'oilghee', 'preparation', 'potatoes', 'ghee', 'yogurt', 'chili', 'mutton', 'powder', 'vegetables', 'tender', 'spices', 'beef', 'masala', 'turmeric', 'simmer', 'Heat', 'mutton', 'lentils', 'ground', 'oilghee', 'salt', 'chicken', 'preparation', 'potatoes', 'ghee', 'oil', 'yogurt', 'powder', 'butter', 'chili', 'vegetables', 'tender', 'spices', 'beef', 'turmeric', 'masala', 'tender', 'mutton', 'Heat', 'vegetables', 'ground', 'preparation', 'salt', 'chicken', 'ghee', 'oil', 'oilghee', 'yogurt', 'potatoes', 'powder', 'butter', 'chili', 'simmer', 'lentils', 'spices', 'beef', 'masala', 'turmeric', 'simmer', 'mutton', 'Heat', 'ground', 'lentils', 'oilghee', 'salt', 'chicken', 'oil', 'potatoes', 'preparation', 'ghee', 'yogurt', 'butter', 'powder', 'chili', 'vegetables', 'tender', 'spices', 'beef', 'turmeric', 'masala', 'simmer', 'mutton', 'lentils', 'ground', 'Heat', 'salt', 'oil', 'chicken', 'preparation', 'ghee', 'yogurt', 'oilghee', 'powder', 'potatoes', 'butter', 'chili', 'vegetables', 'tender', 'spices', 'beef', 'turmeric', 'masala', 'tender', 'Heat', 'mutton', 'ground', 'vegetables', 'salt', 'chicken', 'potatoes', 'oil', 'oilghee', 'preparation', 'ghee', 'butter', 'yogurt', 'powder', 'chili', 'simmer', 'lentils', 'spices', 'beef', 'masala', 'turmeric', 'mutton', 'simmer', 'ground', 'Heat', 'salt', 'chicken', 'oil', 'lentils', 'preparation', 'oilghee', 'ghee', 'potatoes', 'yogurt', 'powder', 'chili', 'butter', 'tender', 'vegetables', 'spices', 'beef', 'masala', 'oil', 'simmer', 'butter', 'Heat', 'ground', 'lentils', 'turmeric', 'salt', 'chicken', 'preparation', 'oilghee', 'potatoes', 'ghee', 'yogurt', 'chili', 'mutton', 'powder', 'vegetables', 'tender', 'spices', 'beef', 'masala', 'oil', 'mutton', 'simmer', 'Heat', 'ground', 'salt', 'chicken', 'turmeric', 'lentils', 'oilghee', 'potatoes', 'preparation', 'ghee', 'yogurt', 'butter', 'chili', 'powder', 'vegetables', 'tender', 'spices', 'beef', 'masala', 'oil', 'simmer', 'mutton', 'Heat', 'ground', 'lentils', 'turmeric', 'salt', 'chicken', 'oilghee', 'potatoes', 'preparation', 'ghee', 'yogurt', 'butter', 'chili', 'powder', 'vegetables', 'tender', 'spices', 'beef', 'oil', 'masala', 'simmer', 'Heat', 'potatoes', 'lentils', 'oilghee', 'ground', 'salt', 'preparation', 'mutton', 'chicken', 'butter', 'ghee', 'yogurt', 'chili', 'turmeric', 'powder', 'vegetables', 'tender', 'spices', 'beef', 'masala', 'turmeric', 'mutton', 'simmer', 'oil', 'Heat', 'ground', 'lentils', 'salt', 'chicken', 'chili', 'oilghee', 'preparation', 'potatoes', 'ghee', 'yogurt', 'powder', 'butter', 'vegetables', 'tender', 'spices', 'beef', 'turmeric', 'masala', 'simmer', 'lentils', 'ground', 'preparation', 'ghee', 'salt', 'yogurt', 'powder', 'chicken', 'Heat', 'mutton', 'potatoes', 'oil', 'oilghee', 'butter', 'vegetables', 'chili', 'tender', 'spices', 'beef', 'masala', 'oil', 'simmer', 'butter', 'Heat', 'ground', 'lentils', 'salt', 'chicken', 'turmeric', 'preparation', 'oilghee', 'potatoes', 'ghee', 'yogurt', 'chili', 'mutton', 'powder', 'vegetables', 'tender', 'spices', 'beef', 'masala', 'oil', 'simmer', 'mutton', 'Heat', 'ground', 'lentils', 'turmeric', 'salt', 'chicken', 'oilghee', 'preparation', 'potatoes', 'ghee', 'yogurt', 'chili', 'powder', 'butter', 'vegetables', 'tender', 'spices', 'beef', 'masala', 'oil', 'mutton', 'simmer', 'Heat', 'ground', 'turmeric', 'lentils', 'salt', 'chicken', 'oilghee', 'preparation', 'potatoes', 'ghee', 'yogurt', 'chili', 'butter', 'powder', 'vegetables', 'tender', 'spices', 'beef', 'turmeric', 'masala', 'oil', 'tender', 'Heat', 'potatoes', 'butter', 'oilghee', 'vegetables', 'ground', 'preparation', 'ghee', 'yogurt', 'powder', 'salt', 'chicken', 'mutton', 'simmer', 'chili', 'lentils', 'spices', 'beef', 'turmeric', 'masala', 'simmer', 'lentils', 'ground', 'preparation', 'ghee', 'salt', 'yogurt', 'powder', 'Heat', 'chicken', 'potatoes', 'mutton', 'oilghee', 'oil', 'butter', 'vegetables', 'chili', 'tender', 'spices', 'beef', 'masala', 'oil', 'simmer', 'mutton', 'Heat', 'ground', 'lentils', 'turmeric', 'salt', 'chicken', 'preparation', 'oilghee', 'potatoes', 'ghee', 'yogurt', 'chili', 'butter', 'powder', 'vegetables', 'tender', 'spices', 'beef', 'oil', 'masala', 'Heat', 'simmer', 'oilghee', 'potatoes', 'ground', 'butter', 'lentils', 'chicken', 'salt', 'preparation', 'mutton', 'ghee', 'yogurt', 'chili', 'turmeric', 'powder', 'vegetables', 'tender', 'spices', 'beef', 'oil', 'masala', 'Heat', 'oilghee', 'potatoes', 'simmer', 'mutton', 'ground', 'lentils', 'butter', 'chicken', 'salt', 'preparation', 'ghee', 'yogurt', 'chili', 'turmeric', 'powder', 'vegetables', 'tender', 'spices', 'beef', 'oil', 'Heat', 'masala', 'oilghee', 'potatoes', 'simmer', 'mutton', 'lentils', 'preparation', 'ground', 'ghee', 'chicken', 'salt', 'yogurt', 'chili', 'butter', 'tender', 'vegetables', 'turmeric', 'powder', 'spices', 'beef', 'oil', 'masala', 'Heat', 'oilghee', 'potatoes', 'simmer', 'mutton', 'lentils', 'butter', 'ground', 'preparation', 'salt', 'chicken', 'ghee', 'yogurt', 'chili', 'turmeric', 'powder', 'vegetables', 'tender', 'spices', 'beef', 'oil', 'masala', 'Heat', 'oilghee', 'potatoes', 'simmer', 'butter', 'lentils', 'mutton', 'ground', 'chicken', 'salt', 'preparation', 'ghee', 'yogurt', 'chili', 'turmeric', 'powder', 'vegetables', 'tender', 'spices', 'beef', 'yogurt', 'turmeric', 'simmer', 'mutton', 'ground', 'lentils', 'salt', 'potatoes', 'chicken', 'Heat', 'preparation', 'ghee', 'oilghee', 'masala', 'chili', 'butter', 'powder', 'vegetables', 'tender', 'spices', 'oil', 'beef', 'oil', 'masala', 'Heat', 'oilghee', 'potatoes', 'simmer', 'butter', 'lentils', 'ground', 'preparation', 'salt', 'chicken', 'mutton', 'ghee', 'yogurt', 'chili', 'turmeric', 'powder', 'vegetables', 'tender', 'spices', 'beef', 'turmeric', 'masala', 'tender', 'Heat', 'potatoes', 'oilghee', 'mutton', 'vegetables', 'ground', 'preparation', 'salt', 'butter', 'ghee', 'chicken', 'yogurt', 'powder', 'oil', 'chili', 'simmer', 'lentils', 'spices', 'beef', 'oil', 'masala', 'Heat', 'oilghee', 'potatoes', 'simmer', 'butter', 'lentils', 'mutton', 'ground', 'preparation', 'salt', 'chicken', 'ghee', 'yogurt', 'chili', 'turmeric', 'powder', 'vegetables', 'tender', 'spices', 'beef', 'masala', 'oil', 'simmer', 'Heat', 'butter', 'ground', 'oilghee', 'lentils', 'potatoes', 'salt', 'chicken', 'turmeric', 'preparation', 'ghee', 'mutton', 'yogurt', 'chili', 'powder', 'vegetables', 'tender', 'spices', 'beef', 'turmeric', 'masala', 'simmer', 'oil', 'lentils', 'ground', 'preparation', 'ghee', 'yogurt', 'tender', 'salt', 'powder', 'chicken', 'vegetables', 'spices', 'Heat', 'mutton', 'potatoes', 'oilghee', 'butter', 'chili', 'beef', 'oil', 'Heat', 'oilghee', 'potatoes', 'simmer', 'mutton', 'masala', 'ground', 'preparation', 'chicken', 'lentils', 'salt', 'ghee', 'tender', 'yogurt', 'chili', 'vegetables', 'spices', 'turmeric', 'butter', 'powder', 'beef', 'oil', 'masala', 'simmer', 'Heat', 'oilghee', 'potatoes', 'lentils', 'ground', 'preparation', 'mutton', 'ghee', 'salt', 'chicken', 'yogurt', 'chili', 'butter', 'turmeric', 'vegetables', 'powder', 'tender', 'spices', 'beef', 'masala', 'oil', 'simmer', 'butter', 'ground', 'lentils', 'turmeric', 'salt', 'Heat', 'chicken', 'preparation', 'ghee', 'yogurt', 'oilghee', 'chili', 'potatoes', 'powder', 'mutton', 'vegetables', 'tender', 'spices', 'beef', 'masala', 'turmeric', 'butter', 'oil', 'simmer', 'chicken', 'lentils', 'chili', 'salt', 'ground', 'Heat', 'preparation', 'ghee', 'tender', 'yogurt', 'powder', 'oilghee', 'potatoes', 'mutton', 'vegetables', 'spices', 'beef', 'turmeric', 'masala', 'simmer', 'mutton', 'lentils', 'oil', 'ground', 'preparation', 'salt', 'chicken', 'ghee', 'yogurt', 'powder', 'Heat', 'chili', 'oilghee', 'potatoes', 'vegetables', 'butter', 'tender', 'spices', 'beef', 'masala', 'turmeric', 'mutton', 'oil', 'simmer', 'lentils', 'ground', 'salt', 'chicken', 'chili', 'preparation', 'ghee', 'yogurt', 'tender', 'powder', 'vegetables', 'Heat', 'spices', 'oilghee', 'potatoes', 'butter', 'beef', 'masala', 'turmeric', 'mutton', 'Heat', 'oil', 'oilghee', 'potatoes', 'simmer', 'butter', 'chili', 'lentils', 'ground', 'salt', 'chicken', 'preparation', 'ghee', 'yogurt', 'powder', 'vegetables', 'tender', 'spices', 'beef', 'masala', 'turmeric', 'simmer', 'mutton', 'ground', 'lentils', 'Heat', 'chicken', 'salt', 'preparation', 'ghee', 'yogurt', 'oilghee', 'oil', 'powder', 'tender', 'potatoes', 'butter', 'chili', 'vegetables', 'spices', 'beef', 'masala', 'turmeric', 'mutton', 'oil', 'simmer', 'lentils', 'chicken', 'ground', 'salt', 'chili', 'preparation', 'ghee', 'tender', 'yogurt', 'powder', 'Heat', 'oilghee', 'potatoes', 'vegetables', 'butter', 'spices', 'beef', 'oil', 'Heat', 'masala', 'potatoes', 'oilghee', 'simmer', 'mutton', 'ground', 'lentils', 'preparation', 'salt', 'chicken', 'ghee', 'yogurt', 'chili', 'butter', 'turmeric', 'vegetables', 'powder', 'tender', 'spices', 'beef', 'turmeric', 'masala', 'simmer', 'Heat', 'lentils', 'butter', 'ground', 'oilghee', 'potatoes', 'preparation', 'salt', 'oil', 'ghee', 'chicken', 'yogurt', 'powder', 'mutton', 'chili', 'vegetables', 'tender', 'spices', 'beef', 'oil', 'masala', 'simmer', 'lentils', 'ground', 'preparation', 'Heat', 'salt', 'ghee', 'chicken', 'yogurt', 'butter', 'chili', 'oilghee', 'potatoes', 'turmeric', 'mutton', 'vegetables', 'tender', 'powder', 'spices', 'beef', 'ground', 'yogurt', 'beef', 'simmer', 'turmeric', 'oilghee', 'mutton', 'lentils', 'preparation', 'ghee', 'potatoes', 'powder', 'masala', 'oil', 'salt', 'spices', 'chicken', 'vegetables', 'butter', 'tender', 'chili', 'Heat'] \n",
            "\n",
            "Ingredients:\n",
            " onion, tomato, green chili, garlic, ginger, cumin, coriander, chicken, beef, mutton, lentils, spinach, potatoes, yogurt, garam masala, red chili powder, turmeric, salt \n",
            "\n",
            "Instructions:\n",
            " aloo preparation: prepare ingredients and chop vegetables. heat oil/ghee and add whole spices. add main ingredients and cook until tender. add ground spices and simmer until well mixed. garnish and serve hot. \n",
            "\n",
            "Recipe Rank: 2 \t ['kofta potatoes ground oil yogurt tender mutton vegetables salt chili masala ghee powder preparation spices chicken simmer turmeric butter beef oilghee lentils heat ground yogurt beef simmer turmeric oilghee mutton lentils preparation ghee potatoes powder masala oil salt spices chicken vegetables butter tender chili heat oil heat oilghee potatoes simmer mutton masala preparation chicken ground lentils salt ghee tender yogurt chili vegetables spices turmeric butter powder beef masala oil heat simmer butter oilghee potatoes lentils ground salt chicken mutton turmeric preparation ghee yogurt chili powder vegetables tender spices beef masala oil simmer mutton heat ground lentils turmeric salt chicken preparation oilghee ghee potatoes yogurt chili powder butter vegetables tender spices beef masala oil heat simmer mutton oilghee ground lentils potatoes turmeric salt chicken preparation butter ghee yogurt chili powder vegetables tender spices beef masala oil simmer butter heat ground lentils turmeric oilghee salt chicken potatoes preparation ghee mutton yogurt chili powder vegetables tender spices beef masala oil simmer butter heat ground lentils turmeric salt chicken preparation oilghee potatoes ghee yogurt chili mutton powder vegetables tender spices beef masala oil simmer butter heat ground lentils salt chicken turmeric oilghee preparation potatoes ghee yogurt chili mutton powder vegetables tender spices beef masala turmeric simmer heat mutton lentils ground oilghee salt chicken preparation potatoes ghee oil yogurt powder butter chili vegetables tender spices beef turmeric masala tender mutton heat vegetables ground preparation salt chicken ghee oil oilghee yogurt potatoes powder butter chili simmer lentils spices beef masala turmeric simmer mutton heat ground lentils oilghee salt chicken oil potatoes preparation ghee yogurt butter powder chili vegetables tender spices beef turmeric masala simmer mutton lentils ground heat salt oil chicken preparation ghee yogurt oilghee powder potatoes butter chili vegetables tender spices beef turmeric masala tender heat mutton ground vegetables salt chicken potatoes oil oilghee preparation ghee butter yogurt powder chili simmer lentils spices beef masala turmeric mutton simmer ground heat salt chicken oil lentils preparation oilghee ghee potatoes yogurt powder chili butter tender vegetables spices beef masala oil simmer butter heat ground lentils turmeric salt chicken preparation oilghee potatoes ghee yogurt chili mutton powder vegetables tender spices beef masala oil mutton simmer heat ground salt chicken turmeric lentils oilghee potatoes preparation ghee yogurt butter chili powder vegetables tender spices beef masala oil simmer mutton heat ground lentils turmeric salt chicken oilghee potatoes preparation ghee yogurt butter chili powder vegetables tender spices beef oil masala simmer heat potatoes lentils oilghee ground salt preparation mutton chicken butter ghee yogurt chili turmeric powder vegetables tender spices beef masala turmeric mutton simmer oil heat ground lentils salt chicken chili oilghee preparation potatoes ghee yogurt powder butter vegetables tender spices beef turmeric masala simmer lentils ground preparation ghee salt yogurt powder chicken heat mutton potatoes oil oilghee butter vegetables chili tender spices beef masala oil simmer butter heat ground lentils salt chicken turmeric preparation oilghee potatoes ghee yogurt chili mutton powder vegetables tender spices beef masala oil simmer mutton heat ground lentils turmeric salt chicken oilghee preparation potatoes ghee yogurt chili powder butter vegetables tender spices beef masala oil mutton simmer heat ground turmeric lentils salt chicken oilghee preparation potatoes ghee yogurt chili butter powder vegetables tender spices beef turmeric masala oil tender heat potatoes butter oilghee vegetables ground preparation ghee yogurt powder salt chicken mutton simmer chili lentils spices beef turmeric masala simmer lentils ground preparation ghee salt yogurt powder heat chicken potatoes mutton oilghee oil butter vegetables chili tender spices beef masala oil simmer mutton heat ground lentils turmeric salt chicken preparation oilghee potatoes ghee yogurt chili butter powder vegetables tender spices beef oil masala heat simmer oilghee potatoes ground butter lentils chicken salt preparation mutton ghee yogurt chili turmeric powder vegetables tender spices beef oil masala heat oilghee potatoes simmer mutton ground lentils butter chicken salt preparation ghee yogurt chili turmeric powder vegetables tender spices beef oil heat masala oilghee potatoes simmer mutton lentils preparation ground ghee chicken salt yogurt chili butter tender vegetables turmeric powder spices beef oil masala heat oilghee potatoes simmer mutton lentils butter ground preparation salt chicken ghee yogurt chili turmeric powder vegetables tender spices beef oil masala heat oilghee potatoes simmer butter lentils mutton ground chicken salt preparation ghee yogurt chili turmeric powder vegetables tender spices beef yogurt turmeric simmer mutton ground lentils salt potatoes chicken heat preparation ghee oilghee masala chili butter powder vegetables tender spices oil beef oil masala heat oilghee potatoes simmer butter lentils ground preparation salt chicken mutton ghee yogurt chili turmeric powder vegetables tender spices beef turmeric masala tender heat potatoes oilghee mutton vegetables ground preparation salt butter ghee chicken yogurt powder oil chili simmer lentils spices beef oil masala heat oilghee potatoes simmer butter lentils mutton ground preparation salt chicken ghee yogurt chili turmeric powder vegetables tender spices beef masala oil simmer heat butter ground oilghee lentils potatoes salt chicken turmeric preparation ghee mutton yogurt chili powder vegetables tender spices beef turmeric masala simmer oil lentils ground preparation ghee yogurt tender salt powder chicken vegetables spices heat mutton potatoes oilghee butter chili beef oil heat oilghee potatoes simmer mutton masala ground preparation chicken lentils salt ghee tender yogurt chili vegetables spices turmeric butter powder beef oil masala simmer heat oilghee potatoes lentils ground preparation mutton ghee salt chicken yogurt chili butter turmeric vegetables powder tender spices beef masala oil simmer butter ground lentils turmeric salt heat chicken preparation ghee yogurt oilghee chili potatoes powder mutton vegetables tender spices beef masala turmeric butter oil simmer chicken lentils chili salt ground heat preparation ghee tender yogurt powder oilghee potatoes mutton vegetables spices beef turmeric masala simmer mutton lentils oil ground preparation salt chicken ghee yogurt powder heat chili oilghee potatoes vegetables butter tender spices beef masala turmeric mutton oil simmer lentils ground salt chicken chili preparation ghee yogurt tender powder vegetables heat spices oilghee potatoes butter beef masala turmeric mutton heat oil oilghee potatoes simmer butter chili lentils ground salt chicken preparation ghee yogurt powder vegetables tender spices beef masala turmeric simmer mutton ground lentils heat chicken salt preparation ghee yogurt oilghee oil powder tender potatoes butter chili vegetables spices beef masala turmeric mutton oil simmer lentils chicken ground salt chili preparation ghee tender yogurt powder heat oilghee potatoes vegetables butter spices beef oil heat masala potatoes oilghee simmer mutton ground lentils preparation salt chicken ghee yogurt chili butter turmeric vegetables powder tender spices beef turmeric masala simmer heat lentils butter ground oilghee potatoes preparation salt oil ghee chicken yogurt powder mutton chili vegetables tender spices beef oil masala simmer lentils ground preparation heat salt ghee chicken yogurt butter chili oilghee potatoes turmeric mutton vegetables tender powder spices beef ground yogurt beef simmer turmeric oilghee mutton lentils preparation ghee potatoes powder masala oil salt spices chicken vegetables butter tender chili heat', 'potatoes', 'ground', 'oil', 'yogurt', 'tender', 'mutton', 'vegetables', 'salt', 'chili', 'masala', 'ghee', 'powder', 'preparation', 'spices', 'chicken', 'simmer', 'turmeric', 'butter', 'beef', 'oilghee', 'lentils', 'Heat', 'ground', 'yogurt', 'beef', 'simmer', 'turmeric', 'oilghee', 'mutton', 'lentils', 'preparation', 'ghee', 'potatoes', 'powder', 'masala', 'oil', 'salt', 'spices', 'chicken', 'vegetables', 'butter', 'tender', 'chili', 'Heat', 'oil', 'Heat', 'oilghee', 'potatoes', 'simmer', 'mutton', 'masala', 'preparation', 'chicken', 'ground', 'lentils', 'salt', 'ghee', 'tender', 'yogurt', 'chili', 'vegetables', 'spices', 'turmeric', 'butter', 'powder', 'beef', 'masala', 'oil', 'Heat', 'simmer', 'butter', 'oilghee', 'potatoes', 'lentils', 'ground', 'salt', 'chicken', 'mutton', 'turmeric', 'preparation', 'ghee', 'yogurt', 'chili', 'powder', 'vegetables', 'tender', 'spices', 'beef', 'masala', 'oil', 'simmer', 'mutton', 'Heat', 'ground', 'lentils', 'turmeric', 'salt', 'chicken', 'preparation', 'oilghee', 'ghee', 'potatoes', 'yogurt', 'chili', 'powder', 'butter', 'vegetables', 'tender', 'spices', 'beef', 'masala', 'oil', 'Heat', 'simmer', 'mutton', 'oilghee', 'ground', 'lentils', 'potatoes', 'turmeric', 'salt', 'chicken', 'preparation', 'butter', 'ghee', 'yogurt', 'chili', 'powder', 'vegetables', 'tender', 'spices', 'beef', 'masala', 'oil', 'simmer', 'butter', 'Heat', 'ground', 'lentils', 'turmeric', 'oilghee', 'salt', 'chicken', 'potatoes', 'preparation', 'ghee', 'mutton', 'yogurt', 'chili', 'powder', 'vegetables', 'tender', 'spices', 'beef', 'masala', 'oil', 'simmer', 'butter', 'Heat', 'ground', 'lentils', 'turmeric', 'salt', 'chicken', 'preparation', 'oilghee', 'potatoes', 'ghee', 'yogurt', 'chili', 'mutton', 'powder', 'vegetables', 'tender', 'spices', 'beef', 'masala', 'oil', 'simmer', 'butter', 'Heat', 'ground', 'lentils', 'salt', 'chicken', 'turmeric', 'oilghee', 'preparation', 'potatoes', 'ghee', 'yogurt', 'chili', 'mutton', 'powder', 'vegetables', 'tender', 'spices', 'beef', 'masala', 'turmeric', 'simmer', 'Heat', 'mutton', 'lentils', 'ground', 'oilghee', 'salt', 'chicken', 'preparation', 'potatoes', 'ghee', 'oil', 'yogurt', 'powder', 'butter', 'chili', 'vegetables', 'tender', 'spices', 'beef', 'turmeric', 'masala', 'tender', 'mutton', 'Heat', 'vegetables', 'ground', 'preparation', 'salt', 'chicken', 'ghee', 'oil', 'oilghee', 'yogurt', 'potatoes', 'powder', 'butter', 'chili', 'simmer', 'lentils', 'spices', 'beef', 'masala', 'turmeric', 'simmer', 'mutton', 'Heat', 'ground', 'lentils', 'oilghee', 'salt', 'chicken', 'oil', 'potatoes', 'preparation', 'ghee', 'yogurt', 'butter', 'powder', 'chili', 'vegetables', 'tender', 'spices', 'beef', 'turmeric', 'masala', 'simmer', 'mutton', 'lentils', 'ground', 'Heat', 'salt', 'oil', 'chicken', 'preparation', 'ghee', 'yogurt', 'oilghee', 'powder', 'potatoes', 'butter', 'chili', 'vegetables', 'tender', 'spices', 'beef', 'turmeric', 'masala', 'tender', 'Heat', 'mutton', 'ground', 'vegetables', 'salt', 'chicken', 'potatoes', 'oil', 'oilghee', 'preparation', 'ghee', 'butter', 'yogurt', 'powder', 'chili', 'simmer', 'lentils', 'spices', 'beef', 'masala', 'turmeric', 'mutton', 'simmer', 'ground', 'Heat', 'salt', 'chicken', 'oil', 'lentils', 'preparation', 'oilghee', 'ghee', 'potatoes', 'yogurt', 'powder', 'chili', 'butter', 'tender', 'vegetables', 'spices', 'beef', 'masala', 'oil', 'simmer', 'butter', 'Heat', 'ground', 'lentils', 'turmeric', 'salt', 'chicken', 'preparation', 'oilghee', 'potatoes', 'ghee', 'yogurt', 'chili', 'mutton', 'powder', 'vegetables', 'tender', 'spices', 'beef', 'masala', 'oil', 'mutton', 'simmer', 'Heat', 'ground', 'salt', 'chicken', 'turmeric', 'lentils', 'oilghee', 'potatoes', 'preparation', 'ghee', 'yogurt', 'butter', 'chili', 'powder', 'vegetables', 'tender', 'spices', 'beef', 'masala', 'oil', 'simmer', 'mutton', 'Heat', 'ground', 'lentils', 'turmeric', 'salt', 'chicken', 'oilghee', 'potatoes', 'preparation', 'ghee', 'yogurt', 'butter', 'chili', 'powder', 'vegetables', 'tender', 'spices', 'beef', 'oil', 'masala', 'simmer', 'Heat', 'potatoes', 'lentils', 'oilghee', 'ground', 'salt', 'preparation', 'mutton', 'chicken', 'butter', 'ghee', 'yogurt', 'chili', 'turmeric', 'powder', 'vegetables', 'tender', 'spices', 'beef', 'masala', 'turmeric', 'mutton', 'simmer', 'oil', 'Heat', 'ground', 'lentils', 'salt', 'chicken', 'chili', 'oilghee', 'preparation', 'potatoes', 'ghee', 'yogurt', 'powder', 'butter', 'vegetables', 'tender', 'spices', 'beef', 'turmeric', 'masala', 'simmer', 'lentils', 'ground', 'preparation', 'ghee', 'salt', 'yogurt', 'powder', 'chicken', 'Heat', 'mutton', 'potatoes', 'oil', 'oilghee', 'butter', 'vegetables', 'chili', 'tender', 'spices', 'beef', 'masala', 'oil', 'simmer', 'butter', 'Heat', 'ground', 'lentils', 'salt', 'chicken', 'turmeric', 'preparation', 'oilghee', 'potatoes', 'ghee', 'yogurt', 'chili', 'mutton', 'powder', 'vegetables', 'tender', 'spices', 'beef', 'masala', 'oil', 'simmer', 'mutton', 'Heat', 'ground', 'lentils', 'turmeric', 'salt', 'chicken', 'oilghee', 'preparation', 'potatoes', 'ghee', 'yogurt', 'chili', 'powder', 'butter', 'vegetables', 'tender', 'spices', 'beef', 'masala', 'oil', 'mutton', 'simmer', 'Heat', 'ground', 'turmeric', 'lentils', 'salt', 'chicken', 'oilghee', 'preparation', 'potatoes', 'ghee', 'yogurt', 'chili', 'butter', 'powder', 'vegetables', 'tender', 'spices', 'beef', 'turmeric', 'masala', 'oil', 'tender', 'Heat', 'potatoes', 'butter', 'oilghee', 'vegetables', 'ground', 'preparation', 'ghee', 'yogurt', 'powder', 'salt', 'chicken', 'mutton', 'simmer', 'chili', 'lentils', 'spices', 'beef', 'turmeric', 'masala', 'simmer', 'lentils', 'ground', 'preparation', 'ghee', 'salt', 'yogurt', 'powder', 'Heat', 'chicken', 'potatoes', 'mutton', 'oilghee', 'oil', 'butter', 'vegetables', 'chili', 'tender', 'spices', 'beef', 'masala', 'oil', 'simmer', 'mutton', 'Heat', 'ground', 'lentils', 'turmeric', 'salt', 'chicken', 'preparation', 'oilghee', 'potatoes', 'ghee', 'yogurt', 'chili', 'butter', 'powder', 'vegetables', 'tender', 'spices', 'beef', 'oil', 'masala', 'Heat', 'simmer', 'oilghee', 'potatoes', 'ground', 'butter', 'lentils', 'chicken', 'salt', 'preparation', 'mutton', 'ghee', 'yogurt', 'chili', 'turmeric', 'powder', 'vegetables', 'tender', 'spices', 'beef', 'oil', 'masala', 'Heat', 'oilghee', 'potatoes', 'simmer', 'mutton', 'ground', 'lentils', 'butter', 'chicken', 'salt', 'preparation', 'ghee', 'yogurt', 'chili', 'turmeric', 'powder', 'vegetables', 'tender', 'spices', 'beef', 'oil', 'Heat', 'masala', 'oilghee', 'potatoes', 'simmer', 'mutton', 'lentils', 'preparation', 'ground', 'ghee', 'chicken', 'salt', 'yogurt', 'chili', 'butter', 'tender', 'vegetables', 'turmeric', 'powder', 'spices', 'beef', 'oil', 'masala', 'Heat', 'oilghee', 'potatoes', 'simmer', 'mutton', 'lentils', 'butter', 'ground', 'preparation', 'salt', 'chicken', 'ghee', 'yogurt', 'chili', 'turmeric', 'powder', 'vegetables', 'tender', 'spices', 'beef', 'oil', 'masala', 'Heat', 'oilghee', 'potatoes', 'simmer', 'butter', 'lentils', 'mutton', 'ground', 'chicken', 'salt', 'preparation', 'ghee', 'yogurt', 'chili', 'turmeric', 'powder', 'vegetables', 'tender', 'spices', 'beef', 'yogurt', 'turmeric', 'simmer', 'mutton', 'ground', 'lentils', 'salt', 'potatoes', 'chicken', 'Heat', 'preparation', 'ghee', 'oilghee', 'masala', 'chili', 'butter', 'powder', 'vegetables', 'tender', 'spices', 'oil', 'beef', 'oil', 'masala', 'Heat', 'oilghee', 'potatoes', 'simmer', 'butter', 'lentils', 'ground', 'preparation', 'salt', 'chicken', 'mutton', 'ghee', 'yogurt', 'chili', 'turmeric', 'powder', 'vegetables', 'tender', 'spices', 'beef', 'turmeric', 'masala', 'tender', 'Heat', 'potatoes', 'oilghee', 'mutton', 'vegetables', 'ground', 'preparation', 'salt', 'butter', 'ghee', 'chicken', 'yogurt', 'powder', 'oil', 'chili', 'simmer', 'lentils', 'spices', 'beef', 'oil', 'masala', 'Heat', 'oilghee', 'potatoes', 'simmer', 'butter', 'lentils', 'mutton', 'ground', 'preparation', 'salt', 'chicken', 'ghee', 'yogurt', 'chili', 'turmeric', 'powder', 'vegetables', 'tender', 'spices', 'beef', 'masala', 'oil', 'simmer', 'Heat', 'butter', 'ground', 'oilghee', 'lentils', 'potatoes', 'salt', 'chicken', 'turmeric', 'preparation', 'ghee', 'mutton', 'yogurt', 'chili', 'powder', 'vegetables', 'tender', 'spices', 'beef', 'turmeric', 'masala', 'simmer', 'oil', 'lentils', 'ground', 'preparation', 'ghee', 'yogurt', 'tender', 'salt', 'powder', 'chicken', 'vegetables', 'spices', 'Heat', 'mutton', 'potatoes', 'oilghee', 'butter', 'chili', 'beef', 'oil', 'Heat', 'oilghee', 'potatoes', 'simmer', 'mutton', 'masala', 'ground', 'preparation', 'chicken', 'lentils', 'salt', 'ghee', 'tender', 'yogurt', 'chili', 'vegetables', 'spices', 'turmeric', 'butter', 'powder', 'beef', 'oil', 'masala', 'simmer', 'Heat', 'oilghee', 'potatoes', 'lentils', 'ground', 'preparation', 'mutton', 'ghee', 'salt', 'chicken', 'yogurt', 'chili', 'butter', 'turmeric', 'vegetables', 'powder', 'tender', 'spices', 'beef', 'masala', 'oil', 'simmer', 'butter', 'ground', 'lentils', 'turmeric', 'salt', 'Heat', 'chicken', 'preparation', 'ghee', 'yogurt', 'oilghee', 'chili', 'potatoes', 'powder', 'mutton', 'vegetables', 'tender', 'spices', 'beef', 'masala', 'turmeric', 'butter', 'oil', 'simmer', 'chicken', 'lentils', 'chili', 'salt', 'ground', 'Heat', 'preparation', 'ghee', 'tender', 'yogurt', 'powder', 'oilghee', 'potatoes', 'mutton', 'vegetables', 'spices', 'beef', 'turmeric', 'masala', 'simmer', 'mutton', 'lentils', 'oil', 'ground', 'preparation', 'salt', 'chicken', 'ghee', 'yogurt', 'powder', 'Heat', 'chili', 'oilghee', 'potatoes', 'vegetables', 'butter', 'tender', 'spices', 'beef', 'masala', 'turmeric', 'mutton', 'oil', 'simmer', 'lentils', 'ground', 'salt', 'chicken', 'chili', 'preparation', 'ghee', 'yogurt', 'tender', 'powder', 'vegetables', 'Heat', 'spices', 'oilghee', 'potatoes', 'butter', 'beef', 'masala', 'turmeric', 'mutton', 'Heat', 'oil', 'oilghee', 'potatoes', 'simmer', 'butter', 'chili', 'lentils', 'ground', 'salt', 'chicken', 'preparation', 'ghee', 'yogurt', 'powder', 'vegetables', 'tender', 'spices', 'beef', 'masala', 'turmeric', 'simmer', 'mutton', 'ground', 'lentils', 'Heat', 'chicken', 'salt', 'preparation', 'ghee', 'yogurt', 'oilghee', 'oil', 'powder', 'tender', 'potatoes', 'butter', 'chili', 'vegetables', 'spices', 'beef', 'masala', 'turmeric', 'mutton', 'oil', 'simmer', 'lentils', 'chicken', 'ground', 'salt', 'chili', 'preparation', 'ghee', 'tender', 'yogurt', 'powder', 'Heat', 'oilghee', 'potatoes', 'vegetables', 'butter', 'spices', 'beef', 'oil', 'Heat', 'masala', 'potatoes', 'oilghee', 'simmer', 'mutton', 'ground', 'lentils', 'preparation', 'salt', 'chicken', 'ghee', 'yogurt', 'chili', 'butter', 'turmeric', 'vegetables', 'powder', 'tender', 'spices', 'beef', 'turmeric', 'masala', 'simmer', 'Heat', 'lentils', 'butter', 'ground', 'oilghee', 'potatoes', 'preparation', 'salt', 'oil', 'ghee', 'chicken', 'yogurt', 'powder', 'mutton', 'chili', 'vegetables', 'tender', 'spices', 'beef', 'oil', 'masala', 'simmer', 'lentils', 'ground', 'preparation', 'Heat', 'salt', 'ghee', 'chicken', 'yogurt', 'butter', 'chili', 'oilghee', 'potatoes', 'turmeric', 'mutton', 'vegetables', 'tender', 'powder', 'spices', 'beef', 'ground', 'yogurt', 'beef', 'simmer', 'turmeric', 'oilghee', 'mutton', 'lentils', 'preparation', 'ghee', 'potatoes', 'powder', 'masala', 'oil', 'salt', 'spices', 'chicken', 'vegetables', 'butter', 'tender', 'chili', 'Heat'] \n",
            "\n",
            "Ingredients:\n",
            " oil, butter, ghee, cream, lemon, mint, cilantro, onion, tomato, green chili, garlic, ginger, cumin, coriander, chicken, beef, mutton, lentils, spinach, potatoes \n",
            "\n",
            "Instructions:\n",
            " kofta preparation: prepare ingredients and chop vegetables. heat oil/ghee and add whole spices. add main ingredients and cook until tender. add ground spices and simmer until well mixed. garnish and serve hot. \n",
            "\n",
            "Recipe Rank: 3 \t ['saag potatoes ground oil yogurt tender mutton vegetables salt chili masala ghee powder preparation spices chicken simmer turmeric butter beef oilghee lentils heat ground yogurt beef simmer turmeric oilghee mutton lentils preparation ghee potatoes powder masala oil salt spices chicken vegetables butter tender chili heat oil heat oilghee potatoes simmer mutton masala preparation chicken ground lentils salt ghee tender yogurt chili vegetables spices turmeric butter powder beef masala oil heat simmer butter oilghee potatoes lentils ground salt chicken mutton turmeric preparation ghee yogurt chili powder vegetables tender spices beef masala oil simmer mutton heat ground lentils turmeric salt chicken preparation oilghee ghee potatoes yogurt chili powder butter vegetables tender spices beef masala oil heat simmer mutton oilghee ground lentils potatoes turmeric salt chicken preparation butter ghee yogurt chili powder vegetables tender spices beef masala oil simmer butter heat ground lentils turmeric oilghee salt chicken potatoes preparation ghee mutton yogurt chili powder vegetables tender spices beef masala oil simmer butter heat ground lentils turmeric salt chicken preparation oilghee potatoes ghee yogurt chili mutton powder vegetables tender spices beef masala oil simmer butter heat ground lentils salt chicken turmeric oilghee preparation potatoes ghee yogurt chili mutton powder vegetables tender spices beef masala turmeric simmer heat mutton lentils ground oilghee salt chicken preparation potatoes ghee oil yogurt powder butter chili vegetables tender spices beef turmeric masala tender mutton heat vegetables ground preparation salt chicken ghee oil oilghee yogurt potatoes powder butter chili simmer lentils spices beef masala turmeric simmer mutton heat ground lentils oilghee salt chicken oil potatoes preparation ghee yogurt butter powder chili vegetables tender spices beef turmeric masala simmer mutton lentils ground heat salt oil chicken preparation ghee yogurt oilghee powder potatoes butter chili vegetables tender spices beef turmeric masala tender heat mutton ground vegetables salt chicken potatoes oil oilghee preparation ghee butter yogurt powder chili simmer lentils spices beef masala turmeric mutton simmer ground heat salt chicken oil lentils preparation oilghee ghee potatoes yogurt powder chili butter tender vegetables spices beef masala oil simmer butter heat ground lentils turmeric salt chicken preparation oilghee potatoes ghee yogurt chili mutton powder vegetables tender spices beef masala oil mutton simmer heat ground salt chicken turmeric lentils oilghee potatoes preparation ghee yogurt butter chili powder vegetables tender spices beef masala oil simmer mutton heat ground lentils turmeric salt chicken oilghee potatoes preparation ghee yogurt butter chili powder vegetables tender spices beef oil masala simmer heat potatoes lentils oilghee ground salt preparation mutton chicken butter ghee yogurt chili turmeric powder vegetables tender spices beef masala turmeric mutton simmer oil heat ground lentils salt chicken chili oilghee preparation potatoes ghee yogurt powder butter vegetables tender spices beef turmeric masala simmer lentils ground preparation ghee salt yogurt powder chicken heat mutton potatoes oil oilghee butter vegetables chili tender spices beef masala oil simmer butter heat ground lentils salt chicken turmeric preparation oilghee potatoes ghee yogurt chili mutton powder vegetables tender spices beef masala oil simmer mutton heat ground lentils turmeric salt chicken oilghee preparation potatoes ghee yogurt chili powder butter vegetables tender spices beef masala oil mutton simmer heat ground turmeric lentils salt chicken oilghee preparation potatoes ghee yogurt chili butter powder vegetables tender spices beef turmeric masala oil tender heat potatoes butter oilghee vegetables ground preparation ghee yogurt powder salt chicken mutton simmer chili lentils spices beef turmeric masala simmer lentils ground preparation ghee salt yogurt powder heat chicken potatoes mutton oilghee oil butter vegetables chili tender spices beef masala oil simmer mutton heat ground lentils turmeric salt chicken preparation oilghee potatoes ghee yogurt chili butter powder vegetables tender spices beef oil masala heat simmer oilghee potatoes ground butter lentils chicken salt preparation mutton ghee yogurt chili turmeric powder vegetables tender spices beef oil masala heat oilghee potatoes simmer mutton ground lentils butter chicken salt preparation ghee yogurt chili turmeric powder vegetables tender spices beef oil heat masala oilghee potatoes simmer mutton lentils preparation ground ghee chicken salt yogurt chili butter tender vegetables turmeric powder spices beef oil masala heat oilghee potatoes simmer mutton lentils butter ground preparation salt chicken ghee yogurt chili turmeric powder vegetables tender spices beef oil masala heat oilghee potatoes simmer butter lentils mutton ground chicken salt preparation ghee yogurt chili turmeric powder vegetables tender spices beef yogurt turmeric simmer mutton ground lentils salt potatoes chicken heat preparation ghee oilghee masala chili butter powder vegetables tender spices oil beef oil masala heat oilghee potatoes simmer butter lentils ground preparation salt chicken mutton ghee yogurt chili turmeric powder vegetables tender spices beef turmeric masala tender heat potatoes oilghee mutton vegetables ground preparation salt butter ghee chicken yogurt powder oil chili simmer lentils spices beef oil masala heat oilghee potatoes simmer butter lentils mutton ground preparation salt chicken ghee yogurt chili turmeric powder vegetables tender spices beef masala oil simmer heat butter ground oilghee lentils potatoes salt chicken turmeric preparation ghee mutton yogurt chili powder vegetables tender spices beef turmeric masala simmer oil lentils ground preparation ghee yogurt tender salt powder chicken vegetables spices heat mutton potatoes oilghee butter chili beef oil heat oilghee potatoes simmer mutton masala ground preparation chicken lentils salt ghee tender yogurt chili vegetables spices turmeric butter powder beef oil masala simmer heat oilghee potatoes lentils ground preparation mutton ghee salt chicken yogurt chili butter turmeric vegetables powder tender spices beef masala oil simmer butter ground lentils turmeric salt heat chicken preparation ghee yogurt oilghee chili potatoes powder mutton vegetables tender spices beef masala turmeric butter oil simmer chicken lentils chili salt ground heat preparation ghee tender yogurt powder oilghee potatoes mutton vegetables spices beef turmeric masala simmer mutton lentils oil ground preparation salt chicken ghee yogurt powder heat chili oilghee potatoes vegetables butter tender spices beef masala turmeric mutton oil simmer lentils ground salt chicken chili preparation ghee yogurt tender powder vegetables heat spices oilghee potatoes butter beef masala turmeric mutton heat oil oilghee potatoes simmer butter chili lentils ground salt chicken preparation ghee yogurt powder vegetables tender spices beef masala turmeric simmer mutton ground lentils heat chicken salt preparation ghee yogurt oilghee oil powder tender potatoes butter chili vegetables spices beef masala turmeric mutton oil simmer lentils chicken ground salt chili preparation ghee tender yogurt powder heat oilghee potatoes vegetables butter spices beef oil heat masala potatoes oilghee simmer mutton ground lentils preparation salt chicken ghee yogurt chili butter turmeric vegetables powder tender spices beef turmeric masala simmer heat lentils butter ground oilghee potatoes preparation salt oil ghee chicken yogurt powder mutton chili vegetables tender spices beef oil masala simmer lentils ground preparation heat salt ghee chicken yogurt butter chili oilghee potatoes turmeric mutton vegetables tender powder spices beef ground yogurt beef simmer turmeric oilghee mutton lentils preparation ghee potatoes powder masala oil salt spices chicken vegetables butter tender chili heat', 'potatoes', 'ground', 'oil', 'yogurt', 'tender', 'mutton', 'vegetables', 'salt', 'chili', 'masala', 'ghee', 'powder', 'preparation', 'spices', 'chicken', 'simmer', 'turmeric', 'butter', 'beef', 'oilghee', 'lentils', 'Heat', 'ground', 'yogurt', 'beef', 'simmer', 'turmeric', 'oilghee', 'mutton', 'lentils', 'preparation', 'ghee', 'potatoes', 'powder', 'masala', 'oil', 'salt', 'spices', 'chicken', 'vegetables', 'butter', 'tender', 'chili', 'Heat', 'oil', 'Heat', 'oilghee', 'potatoes', 'simmer', 'mutton', 'masala', 'preparation', 'chicken', 'ground', 'lentils', 'salt', 'ghee', 'tender', 'yogurt', 'chili', 'vegetables', 'spices', 'turmeric', 'butter', 'powder', 'beef', 'masala', 'oil', 'Heat', 'simmer', 'butter', 'oilghee', 'potatoes', 'lentils', 'ground', 'salt', 'chicken', 'mutton', 'turmeric', 'preparation', 'ghee', 'yogurt', 'chili', 'powder', 'vegetables', 'tender', 'spices', 'beef', 'masala', 'oil', 'simmer', 'mutton', 'Heat', 'ground', 'lentils', 'turmeric', 'salt', 'chicken', 'preparation', 'oilghee', 'ghee', 'potatoes', 'yogurt', 'chili', 'powder', 'butter', 'vegetables', 'tender', 'spices', 'beef', 'masala', 'oil', 'Heat', 'simmer', 'mutton', 'oilghee', 'ground', 'lentils', 'potatoes', 'turmeric', 'salt', 'chicken', 'preparation', 'butter', 'ghee', 'yogurt', 'chili', 'powder', 'vegetables', 'tender', 'spices', 'beef', 'masala', 'oil', 'simmer', 'butter', 'Heat', 'ground', 'lentils', 'turmeric', 'oilghee', 'salt', 'chicken', 'potatoes', 'preparation', 'ghee', 'mutton', 'yogurt', 'chili', 'powder', 'vegetables', 'tender', 'spices', 'beef', 'masala', 'oil', 'simmer', 'butter', 'Heat', 'ground', 'lentils', 'turmeric', 'salt', 'chicken', 'preparation', 'oilghee', 'potatoes', 'ghee', 'yogurt', 'chili', 'mutton', 'powder', 'vegetables', 'tender', 'spices', 'beef', 'masala', 'oil', 'simmer', 'butter', 'Heat', 'ground', 'lentils', 'salt', 'chicken', 'turmeric', 'oilghee', 'preparation', 'potatoes', 'ghee', 'yogurt', 'chili', 'mutton', 'powder', 'vegetables', 'tender', 'spices', 'beef', 'masala', 'turmeric', 'simmer', 'Heat', 'mutton', 'lentils', 'ground', 'oilghee', 'salt', 'chicken', 'preparation', 'potatoes', 'ghee', 'oil', 'yogurt', 'powder', 'butter', 'chili', 'vegetables', 'tender', 'spices', 'beef', 'turmeric', 'masala', 'tender', 'mutton', 'Heat', 'vegetables', 'ground', 'preparation', 'salt', 'chicken', 'ghee', 'oil', 'oilghee', 'yogurt', 'potatoes', 'powder', 'butter', 'chili', 'simmer', 'lentils', 'spices', 'beef', 'masala', 'turmeric', 'simmer', 'mutton', 'Heat', 'ground', 'lentils', 'oilghee', 'salt', 'chicken', 'oil', 'potatoes', 'preparation', 'ghee', 'yogurt', 'butter', 'powder', 'chili', 'vegetables', 'tender', 'spices', 'beef', 'turmeric', 'masala', 'simmer', 'mutton', 'lentils', 'ground', 'Heat', 'salt', 'oil', 'chicken', 'preparation', 'ghee', 'yogurt', 'oilghee', 'powder', 'potatoes', 'butter', 'chili', 'vegetables', 'tender', 'spices', 'beef', 'turmeric', 'masala', 'tender', 'Heat', 'mutton', 'ground', 'vegetables', 'salt', 'chicken', 'potatoes', 'oil', 'oilghee', 'preparation', 'ghee', 'butter', 'yogurt', 'powder', 'chili', 'simmer', 'lentils', 'spices', 'beef', 'masala', 'turmeric', 'mutton', 'simmer', 'ground', 'Heat', 'salt', 'chicken', 'oil', 'lentils', 'preparation', 'oilghee', 'ghee', 'potatoes', 'yogurt', 'powder', 'chili', 'butter', 'tender', 'vegetables', 'spices', 'beef', 'masala', 'oil', 'simmer', 'butter', 'Heat', 'ground', 'lentils', 'turmeric', 'salt', 'chicken', 'preparation', 'oilghee', 'potatoes', 'ghee', 'yogurt', 'chili', 'mutton', 'powder', 'vegetables', 'tender', 'spices', 'beef', 'masala', 'oil', 'mutton', 'simmer', 'Heat', 'ground', 'salt', 'chicken', 'turmeric', 'lentils', 'oilghee', 'potatoes', 'preparation', 'ghee', 'yogurt', 'butter', 'chili', 'powder', 'vegetables', 'tender', 'spices', 'beef', 'masala', 'oil', 'simmer', 'mutton', 'Heat', 'ground', 'lentils', 'turmeric', 'salt', 'chicken', 'oilghee', 'potatoes', 'preparation', 'ghee', 'yogurt', 'butter', 'chili', 'powder', 'vegetables', 'tender', 'spices', 'beef', 'oil', 'masala', 'simmer', 'Heat', 'potatoes', 'lentils', 'oilghee', 'ground', 'salt', 'preparation', 'mutton', 'chicken', 'butter', 'ghee', 'yogurt', 'chili', 'turmeric', 'powder', 'vegetables', 'tender', 'spices', 'beef', 'masala', 'turmeric', 'mutton', 'simmer', 'oil', 'Heat', 'ground', 'lentils', 'salt', 'chicken', 'chili', 'oilghee', 'preparation', 'potatoes', 'ghee', 'yogurt', 'powder', 'butter', 'vegetables', 'tender', 'spices', 'beef', 'turmeric', 'masala', 'simmer', 'lentils', 'ground', 'preparation', 'ghee', 'salt', 'yogurt', 'powder', 'chicken', 'Heat', 'mutton', 'potatoes', 'oil', 'oilghee', 'butter', 'vegetables', 'chili', 'tender', 'spices', 'beef', 'masala', 'oil', 'simmer', 'butter', 'Heat', 'ground', 'lentils', 'salt', 'chicken', 'turmeric', 'preparation', 'oilghee', 'potatoes', 'ghee', 'yogurt', 'chili', 'mutton', 'powder', 'vegetables', 'tender', 'spices', 'beef', 'masala', 'oil', 'simmer', 'mutton', 'Heat', 'ground', 'lentils', 'turmeric', 'salt', 'chicken', 'oilghee', 'preparation', 'potatoes', 'ghee', 'yogurt', 'chili', 'powder', 'butter', 'vegetables', 'tender', 'spices', 'beef', 'masala', 'oil', 'mutton', 'simmer', 'Heat', 'ground', 'turmeric', 'lentils', 'salt', 'chicken', 'oilghee', 'preparation', 'potatoes', 'ghee', 'yogurt', 'chili', 'butter', 'powder', 'vegetables', 'tender', 'spices', 'beef', 'turmeric', 'masala', 'oil', 'tender', 'Heat', 'potatoes', 'butter', 'oilghee', 'vegetables', 'ground', 'preparation', 'ghee', 'yogurt', 'powder', 'salt', 'chicken', 'mutton', 'simmer', 'chili', 'lentils', 'spices', 'beef', 'turmeric', 'masala', 'simmer', 'lentils', 'ground', 'preparation', 'ghee', 'salt', 'yogurt', 'powder', 'Heat', 'chicken', 'potatoes', 'mutton', 'oilghee', 'oil', 'butter', 'vegetables', 'chili', 'tender', 'spices', 'beef', 'masala', 'oil', 'simmer', 'mutton', 'Heat', 'ground', 'lentils', 'turmeric', 'salt', 'chicken', 'preparation', 'oilghee', 'potatoes', 'ghee', 'yogurt', 'chili', 'butter', 'powder', 'vegetables', 'tender', 'spices', 'beef', 'oil', 'masala', 'Heat', 'simmer', 'oilghee', 'potatoes', 'ground', 'butter', 'lentils', 'chicken', 'salt', 'preparation', 'mutton', 'ghee', 'yogurt', 'chili', 'turmeric', 'powder', 'vegetables', 'tender', 'spices', 'beef', 'oil', 'masala', 'Heat', 'oilghee', 'potatoes', 'simmer', 'mutton', 'ground', 'lentils', 'butter', 'chicken', 'salt', 'preparation', 'ghee', 'yogurt', 'chili', 'turmeric', 'powder', 'vegetables', 'tender', 'spices', 'beef', 'oil', 'Heat', 'masala', 'oilghee', 'potatoes', 'simmer', 'mutton', 'lentils', 'preparation', 'ground', 'ghee', 'chicken', 'salt', 'yogurt', 'chili', 'butter', 'tender', 'vegetables', 'turmeric', 'powder', 'spices', 'beef', 'oil', 'masala', 'Heat', 'oilghee', 'potatoes', 'simmer', 'mutton', 'lentils', 'butter', 'ground', 'preparation', 'salt', 'chicken', 'ghee', 'yogurt', 'chili', 'turmeric', 'powder', 'vegetables', 'tender', 'spices', 'beef', 'oil', 'masala', 'Heat', 'oilghee', 'potatoes', 'simmer', 'butter', 'lentils', 'mutton', 'ground', 'chicken', 'salt', 'preparation', 'ghee', 'yogurt', 'chili', 'turmeric', 'powder', 'vegetables', 'tender', 'spices', 'beef', 'yogurt', 'turmeric', 'simmer', 'mutton', 'ground', 'lentils', 'salt', 'potatoes', 'chicken', 'Heat', 'preparation', 'ghee', 'oilghee', 'masala', 'chili', 'butter', 'powder', 'vegetables', 'tender', 'spices', 'oil', 'beef', 'oil', 'masala', 'Heat', 'oilghee', 'potatoes', 'simmer', 'butter', 'lentils', 'ground', 'preparation', 'salt', 'chicken', 'mutton', 'ghee', 'yogurt', 'chili', 'turmeric', 'powder', 'vegetables', 'tender', 'spices', 'beef', 'turmeric', 'masala', 'tender', 'Heat', 'potatoes', 'oilghee', 'mutton', 'vegetables', 'ground', 'preparation', 'salt', 'butter', 'ghee', 'chicken', 'yogurt', 'powder', 'oil', 'chili', 'simmer', 'lentils', 'spices', 'beef', 'oil', 'masala', 'Heat', 'oilghee', 'potatoes', 'simmer', 'butter', 'lentils', 'mutton', 'ground', 'preparation', 'salt', 'chicken', 'ghee', 'yogurt', 'chili', 'turmeric', 'powder', 'vegetables', 'tender', 'spices', 'beef', 'masala', 'oil', 'simmer', 'Heat', 'butter', 'ground', 'oilghee', 'lentils', 'potatoes', 'salt', 'chicken', 'turmeric', 'preparation', 'ghee', 'mutton', 'yogurt', 'chili', 'powder', 'vegetables', 'tender', 'spices', 'beef', 'turmeric', 'masala', 'simmer', 'oil', 'lentils', 'ground', 'preparation', 'ghee', 'yogurt', 'tender', 'salt', 'powder', 'chicken', 'vegetables', 'spices', 'Heat', 'mutton', 'potatoes', 'oilghee', 'butter', 'chili', 'beef', 'oil', 'Heat', 'oilghee', 'potatoes', 'simmer', 'mutton', 'masala', 'ground', 'preparation', 'chicken', 'lentils', 'salt', 'ghee', 'tender', 'yogurt', 'chili', 'vegetables', 'spices', 'turmeric', 'butter', 'powder', 'beef', 'oil', 'masala', 'simmer', 'Heat', 'oilghee', 'potatoes', 'lentils', 'ground', 'preparation', 'mutton', 'ghee', 'salt', 'chicken', 'yogurt', 'chili', 'butter', 'turmeric', 'vegetables', 'powder', 'tender', 'spices', 'beef', 'masala', 'oil', 'simmer', 'butter', 'ground', 'lentils', 'turmeric', 'salt', 'Heat', 'chicken', 'preparation', 'ghee', 'yogurt', 'oilghee', 'chili', 'potatoes', 'powder', 'mutton', 'vegetables', 'tender', 'spices', 'beef', 'masala', 'turmeric', 'butter', 'oil', 'simmer', 'chicken', 'lentils', 'chili', 'salt', 'ground', 'Heat', 'preparation', 'ghee', 'tender', 'yogurt', 'powder', 'oilghee', 'potatoes', 'mutton', 'vegetables', 'spices', 'beef', 'turmeric', 'masala', 'simmer', 'mutton', 'lentils', 'oil', 'ground', 'preparation', 'salt', 'chicken', 'ghee', 'yogurt', 'powder', 'Heat', 'chili', 'oilghee', 'potatoes', 'vegetables', 'butter', 'tender', 'spices', 'beef', 'masala', 'turmeric', 'mutton', 'oil', 'simmer', 'lentils', 'ground', 'salt', 'chicken', 'chili', 'preparation', 'ghee', 'yogurt', 'tender', 'powder', 'vegetables', 'Heat', 'spices', 'oilghee', 'potatoes', 'butter', 'beef', 'masala', 'turmeric', 'mutton', 'Heat', 'oil', 'oilghee', 'potatoes', 'simmer', 'butter', 'chili', 'lentils', 'ground', 'salt', 'chicken', 'preparation', 'ghee', 'yogurt', 'powder', 'vegetables', 'tender', 'spices', 'beef', 'masala', 'turmeric', 'simmer', 'mutton', 'ground', 'lentils', 'Heat', 'chicken', 'salt', 'preparation', 'ghee', 'yogurt', 'oilghee', 'oil', 'powder', 'tender', 'potatoes', 'butter', 'chili', 'vegetables', 'spices', 'beef', 'masala', 'turmeric', 'mutton', 'oil', 'simmer', 'lentils', 'chicken', 'ground', 'salt', 'chili', 'preparation', 'ghee', 'tender', 'yogurt', 'powder', 'Heat', 'oilghee', 'potatoes', 'vegetables', 'butter', 'spices', 'beef', 'oil', 'Heat', 'masala', 'potatoes', 'oilghee', 'simmer', 'mutton', 'ground', 'lentils', 'preparation', 'salt', 'chicken', 'ghee', 'yogurt', 'chili', 'butter', 'turmeric', 'vegetables', 'powder', 'tender', 'spices', 'beef', 'turmeric', 'masala', 'simmer', 'Heat', 'lentils', 'butter', 'ground', 'oilghee', 'potatoes', 'preparation', 'salt', 'oil', 'ghee', 'chicken', 'yogurt', 'powder', 'mutton', 'chili', 'vegetables', 'tender', 'spices', 'beef', 'oil', 'masala', 'simmer', 'lentils', 'ground', 'preparation', 'Heat', 'salt', 'ghee', 'chicken', 'yogurt', 'butter', 'chili', 'oilghee', 'potatoes', 'turmeric', 'mutton', 'vegetables', 'tender', 'powder', 'spices', 'beef', 'ground', 'yogurt', 'beef', 'simmer', 'turmeric', 'oilghee', 'mutton', 'lentils', 'preparation', 'ghee', 'potatoes', 'powder', 'masala', 'oil', 'salt', 'spices', 'chicken', 'vegetables', 'butter', 'tender', 'chili', 'Heat'] \n",
            "\n",
            "Ingredients:\n",
            " chicken, beef, mutton, lentils, spinach, potatoes, onion, tomato, green chili, garlic, ginger, cumin, coriander, oil, butter, ghee, cream, lemon, mint, cilantro \n",
            "\n",
            "Instructions:\n",
            " saag preparation: prepare ingredients and chop vegetables. heat oil/ghee and add whole spices. add main ingredients and cook until tender. add ground spices and simmer until well mixed. garnish and serve hot. \n",
            "\n"
          ]
        }
      ]
    },
    {
      "cell_type": "code",
      "source": [
        "### Only Category Weight\n",
        "query = ['chicken']\n",
        "Search_Recipes(query, query_ranked=False, recipe_range=(0,3))"
      ],
      "metadata": {
        "colab": {
          "base_uri": "https://localhost:8080/"
        },
        "id": "UVTT_36QhR_t",
        "outputId": "3dbe51ef-4193-4b71-b193-2b0b9929235c"
      },
      "execution_count": 279,
      "outputs": [
        {
          "output_type": "stream",
          "name": "stdout",
          "text": [
            "Search Query: ['chicken'] \n",
            "\n",
            "Recipe Rank: 1 \t ['tandoori chicken potatoes ground oil yogurt tender mutton vegetables salt chili masala ghee powder preparation spices chicken simmer turmeric butter beef oilghee lentils heat ground yogurt beef simmer turmeric oilghee mutton lentils preparation ghee potatoes powder masala oil salt spices chicken vegetables butter tender chili heat oil heat oilghee potatoes simmer mutton masala preparation chicken ground lentils salt ghee tender yogurt chili vegetables spices turmeric butter powder beef masala oil heat simmer butter oilghee potatoes lentils ground salt chicken mutton turmeric preparation ghee yogurt chili powder vegetables tender spices beef masala oil simmer mutton heat ground lentils turmeric salt chicken preparation oilghee ghee potatoes yogurt chili powder butter vegetables tender spices beef masala oil heat simmer mutton oilghee ground lentils potatoes turmeric salt chicken preparation butter ghee yogurt chili powder vegetables tender spices beef masala oil simmer butter heat ground lentils turmeric oilghee salt chicken potatoes preparation ghee mutton yogurt chili powder vegetables tender spices beef masala oil simmer butter heat ground lentils turmeric salt chicken preparation oilghee potatoes ghee yogurt chili mutton powder vegetables tender spices beef masala oil simmer butter heat ground lentils salt chicken turmeric oilghee preparation potatoes ghee yogurt chili mutton powder vegetables tender spices beef masala turmeric simmer heat mutton lentils ground oilghee salt chicken preparation potatoes ghee oil yogurt powder butter chili vegetables tender spices beef turmeric masala tender mutton heat vegetables ground preparation salt chicken ghee oil oilghee yogurt potatoes powder butter chili simmer lentils spices beef masala turmeric simmer mutton heat ground lentils oilghee salt chicken oil potatoes preparation ghee yogurt butter powder chili vegetables tender spices beef turmeric masala simmer mutton lentils ground heat salt oil chicken preparation ghee yogurt oilghee powder potatoes butter chili vegetables tender spices beef turmeric masala tender heat mutton ground vegetables salt chicken potatoes oil oilghee preparation ghee butter yogurt powder chili simmer lentils spices beef masala turmeric mutton simmer ground heat salt chicken oil lentils preparation oilghee ghee potatoes yogurt powder chili butter tender vegetables spices beef masala oil simmer butter heat ground lentils turmeric salt chicken preparation oilghee potatoes ghee yogurt chili mutton powder vegetables tender spices beef masala oil mutton simmer heat ground salt chicken turmeric lentils oilghee potatoes preparation ghee yogurt butter chili powder vegetables tender spices beef masala oil simmer mutton heat ground lentils turmeric salt chicken oilghee potatoes preparation ghee yogurt butter chili powder vegetables tender spices beef oil masala simmer heat potatoes lentils oilghee ground salt preparation mutton chicken butter ghee yogurt chili turmeric powder vegetables tender spices beef masala turmeric mutton simmer oil heat ground lentils salt chicken chili oilghee preparation potatoes ghee yogurt powder butter vegetables tender spices beef turmeric masala simmer lentils ground preparation ghee salt yogurt powder chicken heat mutton potatoes oil oilghee butter vegetables chili tender spices beef masala oil simmer butter heat ground lentils salt chicken turmeric preparation oilghee potatoes ghee yogurt chili mutton powder vegetables tender spices beef masala oil simmer mutton heat ground lentils turmeric salt chicken oilghee preparation potatoes ghee yogurt chili powder butter vegetables tender spices beef masala oil mutton simmer heat ground turmeric lentils salt chicken oilghee preparation potatoes ghee yogurt chili butter powder vegetables tender spices beef turmeric masala oil tender heat potatoes butter oilghee vegetables ground preparation ghee yogurt powder salt chicken mutton simmer chili lentils spices beef turmeric masala simmer lentils ground preparation ghee salt yogurt powder heat chicken potatoes mutton oilghee oil butter vegetables chili tender spices beef masala oil simmer mutton heat ground lentils turmeric salt chicken preparation oilghee potatoes ghee yogurt chili butter powder vegetables tender spices beef oil masala heat simmer oilghee potatoes ground butter lentils chicken salt preparation mutton ghee yogurt chili turmeric powder vegetables tender spices beef oil masala heat oilghee potatoes simmer mutton ground lentils butter chicken salt preparation ghee yogurt chili turmeric powder vegetables tender spices beef oil heat masala oilghee potatoes simmer mutton lentils preparation ground ghee chicken salt yogurt chili butter tender vegetables turmeric powder spices beef oil masala heat oilghee potatoes simmer mutton lentils butter ground preparation salt chicken ghee yogurt chili turmeric powder vegetables tender spices beef oil masala heat oilghee potatoes simmer butter lentils mutton ground chicken salt preparation ghee yogurt chili turmeric powder vegetables tender spices beef yogurt turmeric simmer mutton ground lentils salt potatoes chicken heat preparation ghee oilghee masala chili butter powder vegetables tender spices oil beef oil masala heat oilghee potatoes simmer butter lentils ground preparation salt chicken mutton ghee yogurt chili turmeric powder vegetables tender spices beef turmeric masala tender heat potatoes oilghee mutton vegetables ground preparation salt butter ghee chicken yogurt powder oil chili simmer lentils spices beef oil masala heat oilghee potatoes simmer butter lentils mutton ground preparation salt chicken ghee yogurt chili turmeric powder vegetables tender spices beef masala oil simmer heat butter ground oilghee lentils potatoes salt chicken turmeric preparation ghee mutton yogurt chili powder vegetables tender spices beef turmeric masala simmer oil lentils ground preparation ghee yogurt tender salt powder chicken vegetables spices heat mutton potatoes oilghee butter chili beef oil heat oilghee potatoes simmer mutton masala ground preparation chicken lentils salt ghee tender yogurt chili vegetables spices turmeric butter powder beef oil masala simmer heat oilghee potatoes lentils ground preparation mutton ghee salt chicken yogurt chili butter turmeric vegetables powder tender spices beef masala oil simmer butter ground lentils turmeric salt heat chicken preparation ghee yogurt oilghee chili potatoes powder mutton vegetables tender spices beef masala turmeric butter oil simmer chicken lentils chili salt ground heat preparation ghee tender yogurt powder oilghee potatoes mutton vegetables spices beef turmeric masala simmer mutton lentils oil ground preparation salt chicken ghee yogurt powder heat chili oilghee potatoes vegetables butter tender spices beef masala turmeric mutton oil simmer lentils ground salt chicken chili preparation ghee yogurt tender powder vegetables heat spices oilghee potatoes butter beef masala turmeric mutton heat oil oilghee potatoes simmer butter chili lentils ground salt chicken preparation ghee yogurt powder vegetables tender spices beef masala turmeric simmer mutton ground lentils heat chicken salt preparation ghee yogurt oilghee oil powder tender potatoes butter chili vegetables spices beef masala turmeric mutton oil simmer lentils chicken ground salt chili preparation ghee tender yogurt powder heat oilghee potatoes vegetables butter spices beef oil heat masala potatoes oilghee simmer mutton ground lentils preparation salt chicken ghee yogurt chili butter turmeric vegetables powder tender spices beef turmeric masala simmer heat lentils butter ground oilghee potatoes preparation salt oil ghee chicken yogurt powder mutton chili vegetables tender spices beef oil masala simmer lentils ground preparation heat salt ghee chicken yogurt butter chili oilghee potatoes turmeric mutton vegetables tender powder spices beef ground yogurt beef simmer turmeric oilghee mutton lentils preparation ghee potatoes powder masala oil salt spices chicken vegetables butter tender chili heat', 'potatoes', 'ground', 'oil', 'yogurt', 'tender', 'mutton', 'vegetables', 'salt', 'chili', 'masala', 'ghee', 'powder', 'preparation', 'spices', 'chicken', 'simmer', 'turmeric', 'butter', 'beef', 'oilghee', 'lentils', 'Heat', 'ground', 'yogurt', 'beef', 'simmer', 'turmeric', 'oilghee', 'mutton', 'lentils', 'preparation', 'ghee', 'potatoes', 'powder', 'masala', 'oil', 'salt', 'spices', 'chicken', 'vegetables', 'butter', 'tender', 'chili', 'Heat', 'oil', 'Heat', 'oilghee', 'potatoes', 'simmer', 'mutton', 'masala', 'preparation', 'chicken', 'ground', 'lentils', 'salt', 'ghee', 'tender', 'yogurt', 'chili', 'vegetables', 'spices', 'turmeric', 'butter', 'powder', 'beef', 'masala', 'oil', 'Heat', 'simmer', 'butter', 'oilghee', 'potatoes', 'lentils', 'ground', 'salt', 'chicken', 'mutton', 'turmeric', 'preparation', 'ghee', 'yogurt', 'chili', 'powder', 'vegetables', 'tender', 'spices', 'beef', 'masala', 'oil', 'simmer', 'mutton', 'Heat', 'ground', 'lentils', 'turmeric', 'salt', 'chicken', 'preparation', 'oilghee', 'ghee', 'potatoes', 'yogurt', 'chili', 'powder', 'butter', 'vegetables', 'tender', 'spices', 'beef', 'masala', 'oil', 'Heat', 'simmer', 'mutton', 'oilghee', 'ground', 'lentils', 'potatoes', 'turmeric', 'salt', 'chicken', 'preparation', 'butter', 'ghee', 'yogurt', 'chili', 'powder', 'vegetables', 'tender', 'spices', 'beef', 'masala', 'oil', 'simmer', 'butter', 'Heat', 'ground', 'lentils', 'turmeric', 'oilghee', 'salt', 'chicken', 'potatoes', 'preparation', 'ghee', 'mutton', 'yogurt', 'chili', 'powder', 'vegetables', 'tender', 'spices', 'beef', 'masala', 'oil', 'simmer', 'butter', 'Heat', 'ground', 'lentils', 'turmeric', 'salt', 'chicken', 'preparation', 'oilghee', 'potatoes', 'ghee', 'yogurt', 'chili', 'mutton', 'powder', 'vegetables', 'tender', 'spices', 'beef', 'masala', 'oil', 'simmer', 'butter', 'Heat', 'ground', 'lentils', 'salt', 'chicken', 'turmeric', 'oilghee', 'preparation', 'potatoes', 'ghee', 'yogurt', 'chili', 'mutton', 'powder', 'vegetables', 'tender', 'spices', 'beef', 'masala', 'turmeric', 'simmer', 'Heat', 'mutton', 'lentils', 'ground', 'oilghee', 'salt', 'chicken', 'preparation', 'potatoes', 'ghee', 'oil', 'yogurt', 'powder', 'butter', 'chili', 'vegetables', 'tender', 'spices', 'beef', 'turmeric', 'masala', 'tender', 'mutton', 'Heat', 'vegetables', 'ground', 'preparation', 'salt', 'chicken', 'ghee', 'oil', 'oilghee', 'yogurt', 'potatoes', 'powder', 'butter', 'chili', 'simmer', 'lentils', 'spices', 'beef', 'masala', 'turmeric', 'simmer', 'mutton', 'Heat', 'ground', 'lentils', 'oilghee', 'salt', 'chicken', 'oil', 'potatoes', 'preparation', 'ghee', 'yogurt', 'butter', 'powder', 'chili', 'vegetables', 'tender', 'spices', 'beef', 'turmeric', 'masala', 'simmer', 'mutton', 'lentils', 'ground', 'Heat', 'salt', 'oil', 'chicken', 'preparation', 'ghee', 'yogurt', 'oilghee', 'powder', 'potatoes', 'butter', 'chili', 'vegetables', 'tender', 'spices', 'beef', 'turmeric', 'masala', 'tender', 'Heat', 'mutton', 'ground', 'vegetables', 'salt', 'chicken', 'potatoes', 'oil', 'oilghee', 'preparation', 'ghee', 'butter', 'yogurt', 'powder', 'chili', 'simmer', 'lentils', 'spices', 'beef', 'masala', 'turmeric', 'mutton', 'simmer', 'ground', 'Heat', 'salt', 'chicken', 'oil', 'lentils', 'preparation', 'oilghee', 'ghee', 'potatoes', 'yogurt', 'powder', 'chili', 'butter', 'tender', 'vegetables', 'spices', 'beef', 'masala', 'oil', 'simmer', 'butter', 'Heat', 'ground', 'lentils', 'turmeric', 'salt', 'chicken', 'preparation', 'oilghee', 'potatoes', 'ghee', 'yogurt', 'chili', 'mutton', 'powder', 'vegetables', 'tender', 'spices', 'beef', 'masala', 'oil', 'mutton', 'simmer', 'Heat', 'ground', 'salt', 'chicken', 'turmeric', 'lentils', 'oilghee', 'potatoes', 'preparation', 'ghee', 'yogurt', 'butter', 'chili', 'powder', 'vegetables', 'tender', 'spices', 'beef', 'masala', 'oil', 'simmer', 'mutton', 'Heat', 'ground', 'lentils', 'turmeric', 'salt', 'chicken', 'oilghee', 'potatoes', 'preparation', 'ghee', 'yogurt', 'butter', 'chili', 'powder', 'vegetables', 'tender', 'spices', 'beef', 'oil', 'masala', 'simmer', 'Heat', 'potatoes', 'lentils', 'oilghee', 'ground', 'salt', 'preparation', 'mutton', 'chicken', 'butter', 'ghee', 'yogurt', 'chili', 'turmeric', 'powder', 'vegetables', 'tender', 'spices', 'beef', 'masala', 'turmeric', 'mutton', 'simmer', 'oil', 'Heat', 'ground', 'lentils', 'salt', 'chicken', 'chili', 'oilghee', 'preparation', 'potatoes', 'ghee', 'yogurt', 'powder', 'butter', 'vegetables', 'tender', 'spices', 'beef', 'turmeric', 'masala', 'simmer', 'lentils', 'ground', 'preparation', 'ghee', 'salt', 'yogurt', 'powder', 'chicken', 'Heat', 'mutton', 'potatoes', 'oil', 'oilghee', 'butter', 'vegetables', 'chili', 'tender', 'spices', 'beef', 'masala', 'oil', 'simmer', 'butter', 'Heat', 'ground', 'lentils', 'salt', 'chicken', 'turmeric', 'preparation', 'oilghee', 'potatoes', 'ghee', 'yogurt', 'chili', 'mutton', 'powder', 'vegetables', 'tender', 'spices', 'beef', 'masala', 'oil', 'simmer', 'mutton', 'Heat', 'ground', 'lentils', 'turmeric', 'salt', 'chicken', 'oilghee', 'preparation', 'potatoes', 'ghee', 'yogurt', 'chili', 'powder', 'butter', 'vegetables', 'tender', 'spices', 'beef', 'masala', 'oil', 'mutton', 'simmer', 'Heat', 'ground', 'turmeric', 'lentils', 'salt', 'chicken', 'oilghee', 'preparation', 'potatoes', 'ghee', 'yogurt', 'chili', 'butter', 'powder', 'vegetables', 'tender', 'spices', 'beef', 'turmeric', 'masala', 'oil', 'tender', 'Heat', 'potatoes', 'butter', 'oilghee', 'vegetables', 'ground', 'preparation', 'ghee', 'yogurt', 'powder', 'salt', 'chicken', 'mutton', 'simmer', 'chili', 'lentils', 'spices', 'beef', 'turmeric', 'masala', 'simmer', 'lentils', 'ground', 'preparation', 'ghee', 'salt', 'yogurt', 'powder', 'Heat', 'chicken', 'potatoes', 'mutton', 'oilghee', 'oil', 'butter', 'vegetables', 'chili', 'tender', 'spices', 'beef', 'masala', 'oil', 'simmer', 'mutton', 'Heat', 'ground', 'lentils', 'turmeric', 'salt', 'chicken', 'preparation', 'oilghee', 'potatoes', 'ghee', 'yogurt', 'chili', 'butter', 'powder', 'vegetables', 'tender', 'spices', 'beef', 'oil', 'masala', 'Heat', 'simmer', 'oilghee', 'potatoes', 'ground', 'butter', 'lentils', 'chicken', 'salt', 'preparation', 'mutton', 'ghee', 'yogurt', 'chili', 'turmeric', 'powder', 'vegetables', 'tender', 'spices', 'beef', 'oil', 'masala', 'Heat', 'oilghee', 'potatoes', 'simmer', 'mutton', 'ground', 'lentils', 'butter', 'chicken', 'salt', 'preparation', 'ghee', 'yogurt', 'chili', 'turmeric', 'powder', 'vegetables', 'tender', 'spices', 'beef', 'oil', 'Heat', 'masala', 'oilghee', 'potatoes', 'simmer', 'mutton', 'lentils', 'preparation', 'ground', 'ghee', 'chicken', 'salt', 'yogurt', 'chili', 'butter', 'tender', 'vegetables', 'turmeric', 'powder', 'spices', 'beef', 'oil', 'masala', 'Heat', 'oilghee', 'potatoes', 'simmer', 'mutton', 'lentils', 'butter', 'ground', 'preparation', 'salt', 'chicken', 'ghee', 'yogurt', 'chili', 'turmeric', 'powder', 'vegetables', 'tender', 'spices', 'beef', 'oil', 'masala', 'Heat', 'oilghee', 'potatoes', 'simmer', 'butter', 'lentils', 'mutton', 'ground', 'chicken', 'salt', 'preparation', 'ghee', 'yogurt', 'chili', 'turmeric', 'powder', 'vegetables', 'tender', 'spices', 'beef', 'yogurt', 'turmeric', 'simmer', 'mutton', 'ground', 'lentils', 'salt', 'potatoes', 'chicken', 'Heat', 'preparation', 'ghee', 'oilghee', 'masala', 'chili', 'butter', 'powder', 'vegetables', 'tender', 'spices', 'oil', 'beef', 'oil', 'masala', 'Heat', 'oilghee', 'potatoes', 'simmer', 'butter', 'lentils', 'ground', 'preparation', 'salt', 'chicken', 'mutton', 'ghee', 'yogurt', 'chili', 'turmeric', 'powder', 'vegetables', 'tender', 'spices', 'beef', 'turmeric', 'masala', 'tender', 'Heat', 'potatoes', 'oilghee', 'mutton', 'vegetables', 'ground', 'preparation', 'salt', 'butter', 'ghee', 'chicken', 'yogurt', 'powder', 'oil', 'chili', 'simmer', 'lentils', 'spices', 'beef', 'oil', 'masala', 'Heat', 'oilghee', 'potatoes', 'simmer', 'butter', 'lentils', 'mutton', 'ground', 'preparation', 'salt', 'chicken', 'ghee', 'yogurt', 'chili', 'turmeric', 'powder', 'vegetables', 'tender', 'spices', 'beef', 'masala', 'oil', 'simmer', 'Heat', 'butter', 'ground', 'oilghee', 'lentils', 'potatoes', 'salt', 'chicken', 'turmeric', 'preparation', 'ghee', 'mutton', 'yogurt', 'chili', 'powder', 'vegetables', 'tender', 'spices', 'beef', 'turmeric', 'masala', 'simmer', 'oil', 'lentils', 'ground', 'preparation', 'ghee', 'yogurt', 'tender', 'salt', 'powder', 'chicken', 'vegetables', 'spices', 'Heat', 'mutton', 'potatoes', 'oilghee', 'butter', 'chili', 'beef', 'oil', 'Heat', 'oilghee', 'potatoes', 'simmer', 'mutton', 'masala', 'ground', 'preparation', 'chicken', 'lentils', 'salt', 'ghee', 'tender', 'yogurt', 'chili', 'vegetables', 'spices', 'turmeric', 'butter', 'powder', 'beef', 'oil', 'masala', 'simmer', 'Heat', 'oilghee', 'potatoes', 'lentils', 'ground', 'preparation', 'mutton', 'ghee', 'salt', 'chicken', 'yogurt', 'chili', 'butter', 'turmeric', 'vegetables', 'powder', 'tender', 'spices', 'beef', 'masala', 'oil', 'simmer', 'butter', 'ground', 'lentils', 'turmeric', 'salt', 'Heat', 'chicken', 'preparation', 'ghee', 'yogurt', 'oilghee', 'chili', 'potatoes', 'powder', 'mutton', 'vegetables', 'tender', 'spices', 'beef', 'masala', 'turmeric', 'butter', 'oil', 'simmer', 'chicken', 'lentils', 'chili', 'salt', 'ground', 'Heat', 'preparation', 'ghee', 'tender', 'yogurt', 'powder', 'oilghee', 'potatoes', 'mutton', 'vegetables', 'spices', 'beef', 'turmeric', 'masala', 'simmer', 'mutton', 'lentils', 'oil', 'ground', 'preparation', 'salt', 'chicken', 'ghee', 'yogurt', 'powder', 'Heat', 'chili', 'oilghee', 'potatoes', 'vegetables', 'butter', 'tender', 'spices', 'beef', 'masala', 'turmeric', 'mutton', 'oil', 'simmer', 'lentils', 'ground', 'salt', 'chicken', 'chili', 'preparation', 'ghee', 'yogurt', 'tender', 'powder', 'vegetables', 'Heat', 'spices', 'oilghee', 'potatoes', 'butter', 'beef', 'masala', 'turmeric', 'mutton', 'Heat', 'oil', 'oilghee', 'potatoes', 'simmer', 'butter', 'chili', 'lentils', 'ground', 'salt', 'chicken', 'preparation', 'ghee', 'yogurt', 'powder', 'vegetables', 'tender', 'spices', 'beef', 'masala', 'turmeric', 'simmer', 'mutton', 'ground', 'lentils', 'Heat', 'chicken', 'salt', 'preparation', 'ghee', 'yogurt', 'oilghee', 'oil', 'powder', 'tender', 'potatoes', 'butter', 'chili', 'vegetables', 'spices', 'beef', 'masala', 'turmeric', 'mutton', 'oil', 'simmer', 'lentils', 'chicken', 'ground', 'salt', 'chili', 'preparation', 'ghee', 'tender', 'yogurt', 'powder', 'Heat', 'oilghee', 'potatoes', 'vegetables', 'butter', 'spices', 'beef', 'oil', 'Heat', 'masala', 'potatoes', 'oilghee', 'simmer', 'mutton', 'ground', 'lentils', 'preparation', 'salt', 'chicken', 'ghee', 'yogurt', 'chili', 'butter', 'turmeric', 'vegetables', 'powder', 'tender', 'spices', 'beef', 'turmeric', 'masala', 'simmer', 'Heat', 'lentils', 'butter', 'ground', 'oilghee', 'potatoes', 'preparation', 'salt', 'oil', 'ghee', 'chicken', 'yogurt', 'powder', 'mutton', 'chili', 'vegetables', 'tender', 'spices', 'beef', 'oil', 'masala', 'simmer', 'lentils', 'ground', 'preparation', 'Heat', 'salt', 'ghee', 'chicken', 'yogurt', 'butter', 'chili', 'oilghee', 'potatoes', 'turmeric', 'mutton', 'vegetables', 'tender', 'powder', 'spices', 'beef', 'ground', 'yogurt', 'beef', 'simmer', 'turmeric', 'oilghee', 'mutton', 'lentils', 'preparation', 'ghee', 'potatoes', 'powder', 'masala', 'oil', 'salt', 'spices', 'chicken', 'vegetables', 'butter', 'tender', 'chili', 'Heat'] \n",
            "\n",
            "Ingredients:\n",
            " onion, tomato, green chili, garlic, ginger, cumin, coriander, oil, butter, ghee, cream, lemon, mint, cilantro, chicken, beef, mutton, lentils, spinach, potatoes \n",
            "\n",
            "Instructions:\n",
            " tandoori preparation: prepare ingredients and chop vegetables. heat oil/ghee and add whole spices. add main ingredients and cook until tender. add ground spices and simmer until well mixed. garnish and serve hot. \n",
            "\n",
            "Recipe Rank: 2 \t ['chicken handi potatoes ground oil yogurt tender mutton vegetables salt chili masala ghee powder preparation spices chicken simmer turmeric butter beef oilghee lentils heat ground yogurt beef simmer turmeric oilghee mutton lentils preparation ghee potatoes powder masala oil salt spices chicken vegetables butter tender chili heat oil heat oilghee potatoes simmer mutton masala preparation chicken ground lentils salt ghee tender yogurt chili vegetables spices turmeric butter powder beef masala oil heat simmer butter oilghee potatoes lentils ground salt chicken mutton turmeric preparation ghee yogurt chili powder vegetables tender spices beef masala oil simmer mutton heat ground lentils turmeric salt chicken preparation oilghee ghee potatoes yogurt chili powder butter vegetables tender spices beef masala oil heat simmer mutton oilghee ground lentils potatoes turmeric salt chicken preparation butter ghee yogurt chili powder vegetables tender spices beef masala oil simmer butter heat ground lentils turmeric oilghee salt chicken potatoes preparation ghee mutton yogurt chili powder vegetables tender spices beef masala oil simmer butter heat ground lentils turmeric salt chicken preparation oilghee potatoes ghee yogurt chili mutton powder vegetables tender spices beef masala oil simmer butter heat ground lentils salt chicken turmeric oilghee preparation potatoes ghee yogurt chili mutton powder vegetables tender spices beef masala turmeric simmer heat mutton lentils ground oilghee salt chicken preparation potatoes ghee oil yogurt powder butter chili vegetables tender spices beef turmeric masala tender mutton heat vegetables ground preparation salt chicken ghee oil oilghee yogurt potatoes powder butter chili simmer lentils spices beef masala turmeric simmer mutton heat ground lentils oilghee salt chicken oil potatoes preparation ghee yogurt butter powder chili vegetables tender spices beef turmeric masala simmer mutton lentils ground heat salt oil chicken preparation ghee yogurt oilghee powder potatoes butter chili vegetables tender spices beef turmeric masala tender heat mutton ground vegetables salt chicken potatoes oil oilghee preparation ghee butter yogurt powder chili simmer lentils spices beef masala turmeric mutton simmer ground heat salt chicken oil lentils preparation oilghee ghee potatoes yogurt powder chili butter tender vegetables spices beef masala oil simmer butter heat ground lentils turmeric salt chicken preparation oilghee potatoes ghee yogurt chili mutton powder vegetables tender spices beef masala oil mutton simmer heat ground salt chicken turmeric lentils oilghee potatoes preparation ghee yogurt butter chili powder vegetables tender spices beef masala oil simmer mutton heat ground lentils turmeric salt chicken oilghee potatoes preparation ghee yogurt butter chili powder vegetables tender spices beef oil masala simmer heat potatoes lentils oilghee ground salt preparation mutton chicken butter ghee yogurt chili turmeric powder vegetables tender spices beef masala turmeric mutton simmer oil heat ground lentils salt chicken chili oilghee preparation potatoes ghee yogurt powder butter vegetables tender spices beef turmeric masala simmer lentils ground preparation ghee salt yogurt powder chicken heat mutton potatoes oil oilghee butter vegetables chili tender spices beef masala oil simmer butter heat ground lentils salt chicken turmeric preparation oilghee potatoes ghee yogurt chili mutton powder vegetables tender spices beef masala oil simmer mutton heat ground lentils turmeric salt chicken oilghee preparation potatoes ghee yogurt chili powder butter vegetables tender spices beef masala oil mutton simmer heat ground turmeric lentils salt chicken oilghee preparation potatoes ghee yogurt chili butter powder vegetables tender spices beef turmeric masala oil tender heat potatoes butter oilghee vegetables ground preparation ghee yogurt powder salt chicken mutton simmer chili lentils spices beef turmeric masala simmer lentils ground preparation ghee salt yogurt powder heat chicken potatoes mutton oilghee oil butter vegetables chili tender spices beef masala oil simmer mutton heat ground lentils turmeric salt chicken preparation oilghee potatoes ghee yogurt chili butter powder vegetables tender spices beef oil masala heat simmer oilghee potatoes ground butter lentils chicken salt preparation mutton ghee yogurt chili turmeric powder vegetables tender spices beef oil masala heat oilghee potatoes simmer mutton ground lentils butter chicken salt preparation ghee yogurt chili turmeric powder vegetables tender spices beef oil heat masala oilghee potatoes simmer mutton lentils preparation ground ghee chicken salt yogurt chili butter tender vegetables turmeric powder spices beef oil masala heat oilghee potatoes simmer mutton lentils butter ground preparation salt chicken ghee yogurt chili turmeric powder vegetables tender spices beef oil masala heat oilghee potatoes simmer butter lentils mutton ground chicken salt preparation ghee yogurt chili turmeric powder vegetables tender spices beef yogurt turmeric simmer mutton ground lentils salt potatoes chicken heat preparation ghee oilghee masala chili butter powder vegetables tender spices oil beef oil masala heat oilghee potatoes simmer butter lentils ground preparation salt chicken mutton ghee yogurt chili turmeric powder vegetables tender spices beef turmeric masala tender heat potatoes oilghee mutton vegetables ground preparation salt butter ghee chicken yogurt powder oil chili simmer lentils spices beef oil masala heat oilghee potatoes simmer butter lentils mutton ground preparation salt chicken ghee yogurt chili turmeric powder vegetables tender spices beef masala oil simmer heat butter ground oilghee lentils potatoes salt chicken turmeric preparation ghee mutton yogurt chili powder vegetables tender spices beef turmeric masala simmer oil lentils ground preparation ghee yogurt tender salt powder chicken vegetables spices heat mutton potatoes oilghee butter chili beef oil heat oilghee potatoes simmer mutton masala ground preparation chicken lentils salt ghee tender yogurt chili vegetables spices turmeric butter powder beef oil masala simmer heat oilghee potatoes lentils ground preparation mutton ghee salt chicken yogurt chili butter turmeric vegetables powder tender spices beef masala oil simmer butter ground lentils turmeric salt heat chicken preparation ghee yogurt oilghee chili potatoes powder mutton vegetables tender spices beef masala turmeric butter oil simmer chicken lentils chili salt ground heat preparation ghee tender yogurt powder oilghee potatoes mutton vegetables spices beef turmeric masala simmer mutton lentils oil ground preparation salt chicken ghee yogurt powder heat chili oilghee potatoes vegetables butter tender spices beef masala turmeric mutton oil simmer lentils ground salt chicken chili preparation ghee yogurt tender powder vegetables heat spices oilghee potatoes butter beef masala turmeric mutton heat oil oilghee potatoes simmer butter chili lentils ground salt chicken preparation ghee yogurt powder vegetables tender spices beef masala turmeric simmer mutton ground lentils heat chicken salt preparation ghee yogurt oilghee oil powder tender potatoes butter chili vegetables spices beef masala turmeric mutton oil simmer lentils chicken ground salt chili preparation ghee tender yogurt powder heat oilghee potatoes vegetables butter spices beef oil heat masala potatoes oilghee simmer mutton ground lentils preparation salt chicken ghee yogurt chili butter turmeric vegetables powder tender spices beef turmeric masala simmer heat lentils butter ground oilghee potatoes preparation salt oil ghee chicken yogurt powder mutton chili vegetables tender spices beef oil masala simmer lentils ground preparation heat salt ghee chicken yogurt butter chili oilghee potatoes turmeric mutton vegetables tender powder spices beef ground yogurt beef simmer turmeric oilghee mutton lentils preparation ghee potatoes powder masala oil salt spices chicken vegetables butter tender chili heat', 'potatoes', 'ground', 'oil', 'yogurt', 'tender', 'mutton', 'vegetables', 'salt', 'chili', 'masala', 'ghee', 'powder', 'preparation', 'spices', 'chicken', 'simmer', 'turmeric', 'butter', 'beef', 'oilghee', 'lentils', 'Heat', 'ground', 'yogurt', 'beef', 'simmer', 'turmeric', 'oilghee', 'mutton', 'lentils', 'preparation', 'ghee', 'potatoes', 'powder', 'masala', 'oil', 'salt', 'spices', 'chicken', 'vegetables', 'butter', 'tender', 'chili', 'Heat', 'oil', 'Heat', 'oilghee', 'potatoes', 'simmer', 'mutton', 'masala', 'preparation', 'chicken', 'ground', 'lentils', 'salt', 'ghee', 'tender', 'yogurt', 'chili', 'vegetables', 'spices', 'turmeric', 'butter', 'powder', 'beef', 'masala', 'oil', 'Heat', 'simmer', 'butter', 'oilghee', 'potatoes', 'lentils', 'ground', 'salt', 'chicken', 'mutton', 'turmeric', 'preparation', 'ghee', 'yogurt', 'chili', 'powder', 'vegetables', 'tender', 'spices', 'beef', 'masala', 'oil', 'simmer', 'mutton', 'Heat', 'ground', 'lentils', 'turmeric', 'salt', 'chicken', 'preparation', 'oilghee', 'ghee', 'potatoes', 'yogurt', 'chili', 'powder', 'butter', 'vegetables', 'tender', 'spices', 'beef', 'masala', 'oil', 'Heat', 'simmer', 'mutton', 'oilghee', 'ground', 'lentils', 'potatoes', 'turmeric', 'salt', 'chicken', 'preparation', 'butter', 'ghee', 'yogurt', 'chili', 'powder', 'vegetables', 'tender', 'spices', 'beef', 'masala', 'oil', 'simmer', 'butter', 'Heat', 'ground', 'lentils', 'turmeric', 'oilghee', 'salt', 'chicken', 'potatoes', 'preparation', 'ghee', 'mutton', 'yogurt', 'chili', 'powder', 'vegetables', 'tender', 'spices', 'beef', 'masala', 'oil', 'simmer', 'butter', 'Heat', 'ground', 'lentils', 'turmeric', 'salt', 'chicken', 'preparation', 'oilghee', 'potatoes', 'ghee', 'yogurt', 'chili', 'mutton', 'powder', 'vegetables', 'tender', 'spices', 'beef', 'masala', 'oil', 'simmer', 'butter', 'Heat', 'ground', 'lentils', 'salt', 'chicken', 'turmeric', 'oilghee', 'preparation', 'potatoes', 'ghee', 'yogurt', 'chili', 'mutton', 'powder', 'vegetables', 'tender', 'spices', 'beef', 'masala', 'turmeric', 'simmer', 'Heat', 'mutton', 'lentils', 'ground', 'oilghee', 'salt', 'chicken', 'preparation', 'potatoes', 'ghee', 'oil', 'yogurt', 'powder', 'butter', 'chili', 'vegetables', 'tender', 'spices', 'beef', 'turmeric', 'masala', 'tender', 'mutton', 'Heat', 'vegetables', 'ground', 'preparation', 'salt', 'chicken', 'ghee', 'oil', 'oilghee', 'yogurt', 'potatoes', 'powder', 'butter', 'chili', 'simmer', 'lentils', 'spices', 'beef', 'masala', 'turmeric', 'simmer', 'mutton', 'Heat', 'ground', 'lentils', 'oilghee', 'salt', 'chicken', 'oil', 'potatoes', 'preparation', 'ghee', 'yogurt', 'butter', 'powder', 'chili', 'vegetables', 'tender', 'spices', 'beef', 'turmeric', 'masala', 'simmer', 'mutton', 'lentils', 'ground', 'Heat', 'salt', 'oil', 'chicken', 'preparation', 'ghee', 'yogurt', 'oilghee', 'powder', 'potatoes', 'butter', 'chili', 'vegetables', 'tender', 'spices', 'beef', 'turmeric', 'masala', 'tender', 'Heat', 'mutton', 'ground', 'vegetables', 'salt', 'chicken', 'potatoes', 'oil', 'oilghee', 'preparation', 'ghee', 'butter', 'yogurt', 'powder', 'chili', 'simmer', 'lentils', 'spices', 'beef', 'masala', 'turmeric', 'mutton', 'simmer', 'ground', 'Heat', 'salt', 'chicken', 'oil', 'lentils', 'preparation', 'oilghee', 'ghee', 'potatoes', 'yogurt', 'powder', 'chili', 'butter', 'tender', 'vegetables', 'spices', 'beef', 'masala', 'oil', 'simmer', 'butter', 'Heat', 'ground', 'lentils', 'turmeric', 'salt', 'chicken', 'preparation', 'oilghee', 'potatoes', 'ghee', 'yogurt', 'chili', 'mutton', 'powder', 'vegetables', 'tender', 'spices', 'beef', 'masala', 'oil', 'mutton', 'simmer', 'Heat', 'ground', 'salt', 'chicken', 'turmeric', 'lentils', 'oilghee', 'potatoes', 'preparation', 'ghee', 'yogurt', 'butter', 'chili', 'powder', 'vegetables', 'tender', 'spices', 'beef', 'masala', 'oil', 'simmer', 'mutton', 'Heat', 'ground', 'lentils', 'turmeric', 'salt', 'chicken', 'oilghee', 'potatoes', 'preparation', 'ghee', 'yogurt', 'butter', 'chili', 'powder', 'vegetables', 'tender', 'spices', 'beef', 'oil', 'masala', 'simmer', 'Heat', 'potatoes', 'lentils', 'oilghee', 'ground', 'salt', 'preparation', 'mutton', 'chicken', 'butter', 'ghee', 'yogurt', 'chili', 'turmeric', 'powder', 'vegetables', 'tender', 'spices', 'beef', 'masala', 'turmeric', 'mutton', 'simmer', 'oil', 'Heat', 'ground', 'lentils', 'salt', 'chicken', 'chili', 'oilghee', 'preparation', 'potatoes', 'ghee', 'yogurt', 'powder', 'butter', 'vegetables', 'tender', 'spices', 'beef', 'turmeric', 'masala', 'simmer', 'lentils', 'ground', 'preparation', 'ghee', 'salt', 'yogurt', 'powder', 'chicken', 'Heat', 'mutton', 'potatoes', 'oil', 'oilghee', 'butter', 'vegetables', 'chili', 'tender', 'spices', 'beef', 'masala', 'oil', 'simmer', 'butter', 'Heat', 'ground', 'lentils', 'salt', 'chicken', 'turmeric', 'preparation', 'oilghee', 'potatoes', 'ghee', 'yogurt', 'chili', 'mutton', 'powder', 'vegetables', 'tender', 'spices', 'beef', 'masala', 'oil', 'simmer', 'mutton', 'Heat', 'ground', 'lentils', 'turmeric', 'salt', 'chicken', 'oilghee', 'preparation', 'potatoes', 'ghee', 'yogurt', 'chili', 'powder', 'butter', 'vegetables', 'tender', 'spices', 'beef', 'masala', 'oil', 'mutton', 'simmer', 'Heat', 'ground', 'turmeric', 'lentils', 'salt', 'chicken', 'oilghee', 'preparation', 'potatoes', 'ghee', 'yogurt', 'chili', 'butter', 'powder', 'vegetables', 'tender', 'spices', 'beef', 'turmeric', 'masala', 'oil', 'tender', 'Heat', 'potatoes', 'butter', 'oilghee', 'vegetables', 'ground', 'preparation', 'ghee', 'yogurt', 'powder', 'salt', 'chicken', 'mutton', 'simmer', 'chili', 'lentils', 'spices', 'beef', 'turmeric', 'masala', 'simmer', 'lentils', 'ground', 'preparation', 'ghee', 'salt', 'yogurt', 'powder', 'Heat', 'chicken', 'potatoes', 'mutton', 'oilghee', 'oil', 'butter', 'vegetables', 'chili', 'tender', 'spices', 'beef', 'masala', 'oil', 'simmer', 'mutton', 'Heat', 'ground', 'lentils', 'turmeric', 'salt', 'chicken', 'preparation', 'oilghee', 'potatoes', 'ghee', 'yogurt', 'chili', 'butter', 'powder', 'vegetables', 'tender', 'spices', 'beef', 'oil', 'masala', 'Heat', 'simmer', 'oilghee', 'potatoes', 'ground', 'butter', 'lentils', 'chicken', 'salt', 'preparation', 'mutton', 'ghee', 'yogurt', 'chili', 'turmeric', 'powder', 'vegetables', 'tender', 'spices', 'beef', 'oil', 'masala', 'Heat', 'oilghee', 'potatoes', 'simmer', 'mutton', 'ground', 'lentils', 'butter', 'chicken', 'salt', 'preparation', 'ghee', 'yogurt', 'chili', 'turmeric', 'powder', 'vegetables', 'tender', 'spices', 'beef', 'oil', 'Heat', 'masala', 'oilghee', 'potatoes', 'simmer', 'mutton', 'lentils', 'preparation', 'ground', 'ghee', 'chicken', 'salt', 'yogurt', 'chili', 'butter', 'tender', 'vegetables', 'turmeric', 'powder', 'spices', 'beef', 'oil', 'masala', 'Heat', 'oilghee', 'potatoes', 'simmer', 'mutton', 'lentils', 'butter', 'ground', 'preparation', 'salt', 'chicken', 'ghee', 'yogurt', 'chili', 'turmeric', 'powder', 'vegetables', 'tender', 'spices', 'beef', 'oil', 'masala', 'Heat', 'oilghee', 'potatoes', 'simmer', 'butter', 'lentils', 'mutton', 'ground', 'chicken', 'salt', 'preparation', 'ghee', 'yogurt', 'chili', 'turmeric', 'powder', 'vegetables', 'tender', 'spices', 'beef', 'yogurt', 'turmeric', 'simmer', 'mutton', 'ground', 'lentils', 'salt', 'potatoes', 'chicken', 'Heat', 'preparation', 'ghee', 'oilghee', 'masala', 'chili', 'butter', 'powder', 'vegetables', 'tender', 'spices', 'oil', 'beef', 'oil', 'masala', 'Heat', 'oilghee', 'potatoes', 'simmer', 'butter', 'lentils', 'ground', 'preparation', 'salt', 'chicken', 'mutton', 'ghee', 'yogurt', 'chili', 'turmeric', 'powder', 'vegetables', 'tender', 'spices', 'beef', 'turmeric', 'masala', 'tender', 'Heat', 'potatoes', 'oilghee', 'mutton', 'vegetables', 'ground', 'preparation', 'salt', 'butter', 'ghee', 'chicken', 'yogurt', 'powder', 'oil', 'chili', 'simmer', 'lentils', 'spices', 'beef', 'oil', 'masala', 'Heat', 'oilghee', 'potatoes', 'simmer', 'butter', 'lentils', 'mutton', 'ground', 'preparation', 'salt', 'chicken', 'ghee', 'yogurt', 'chili', 'turmeric', 'powder', 'vegetables', 'tender', 'spices', 'beef', 'masala', 'oil', 'simmer', 'Heat', 'butter', 'ground', 'oilghee', 'lentils', 'potatoes', 'salt', 'chicken', 'turmeric', 'preparation', 'ghee', 'mutton', 'yogurt', 'chili', 'powder', 'vegetables', 'tender', 'spices', 'beef', 'turmeric', 'masala', 'simmer', 'oil', 'lentils', 'ground', 'preparation', 'ghee', 'yogurt', 'tender', 'salt', 'powder', 'chicken', 'vegetables', 'spices', 'Heat', 'mutton', 'potatoes', 'oilghee', 'butter', 'chili', 'beef', 'oil', 'Heat', 'oilghee', 'potatoes', 'simmer', 'mutton', 'masala', 'ground', 'preparation', 'chicken', 'lentils', 'salt', 'ghee', 'tender', 'yogurt', 'chili', 'vegetables', 'spices', 'turmeric', 'butter', 'powder', 'beef', 'oil', 'masala', 'simmer', 'Heat', 'oilghee', 'potatoes', 'lentils', 'ground', 'preparation', 'mutton', 'ghee', 'salt', 'chicken', 'yogurt', 'chili', 'butter', 'turmeric', 'vegetables', 'powder', 'tender', 'spices', 'beef', 'masala', 'oil', 'simmer', 'butter', 'ground', 'lentils', 'turmeric', 'salt', 'Heat', 'chicken', 'preparation', 'ghee', 'yogurt', 'oilghee', 'chili', 'potatoes', 'powder', 'mutton', 'vegetables', 'tender', 'spices', 'beef', 'masala', 'turmeric', 'butter', 'oil', 'simmer', 'chicken', 'lentils', 'chili', 'salt', 'ground', 'Heat', 'preparation', 'ghee', 'tender', 'yogurt', 'powder', 'oilghee', 'potatoes', 'mutton', 'vegetables', 'spices', 'beef', 'turmeric', 'masala', 'simmer', 'mutton', 'lentils', 'oil', 'ground', 'preparation', 'salt', 'chicken', 'ghee', 'yogurt', 'powder', 'Heat', 'chili', 'oilghee', 'potatoes', 'vegetables', 'butter', 'tender', 'spices', 'beef', 'masala', 'turmeric', 'mutton', 'oil', 'simmer', 'lentils', 'ground', 'salt', 'chicken', 'chili', 'preparation', 'ghee', 'yogurt', 'tender', 'powder', 'vegetables', 'Heat', 'spices', 'oilghee', 'potatoes', 'butter', 'beef', 'masala', 'turmeric', 'mutton', 'Heat', 'oil', 'oilghee', 'potatoes', 'simmer', 'butter', 'chili', 'lentils', 'ground', 'salt', 'chicken', 'preparation', 'ghee', 'yogurt', 'powder', 'vegetables', 'tender', 'spices', 'beef', 'masala', 'turmeric', 'simmer', 'mutton', 'ground', 'lentils', 'Heat', 'chicken', 'salt', 'preparation', 'ghee', 'yogurt', 'oilghee', 'oil', 'powder', 'tender', 'potatoes', 'butter', 'chili', 'vegetables', 'spices', 'beef', 'masala', 'turmeric', 'mutton', 'oil', 'simmer', 'lentils', 'chicken', 'ground', 'salt', 'chili', 'preparation', 'ghee', 'tender', 'yogurt', 'powder', 'Heat', 'oilghee', 'potatoes', 'vegetables', 'butter', 'spices', 'beef', 'oil', 'Heat', 'masala', 'potatoes', 'oilghee', 'simmer', 'mutton', 'ground', 'lentils', 'preparation', 'salt', 'chicken', 'ghee', 'yogurt', 'chili', 'butter', 'turmeric', 'vegetables', 'powder', 'tender', 'spices', 'beef', 'turmeric', 'masala', 'simmer', 'Heat', 'lentils', 'butter', 'ground', 'oilghee', 'potatoes', 'preparation', 'salt', 'oil', 'ghee', 'chicken', 'yogurt', 'powder', 'mutton', 'chili', 'vegetables', 'tender', 'spices', 'beef', 'oil', 'masala', 'simmer', 'lentils', 'ground', 'preparation', 'Heat', 'salt', 'ghee', 'chicken', 'yogurt', 'butter', 'chili', 'oilghee', 'potatoes', 'turmeric', 'mutton', 'vegetables', 'tender', 'powder', 'spices', 'beef', 'ground', 'yogurt', 'beef', 'simmer', 'turmeric', 'oilghee', 'mutton', 'lentils', 'preparation', 'ghee', 'potatoes', 'powder', 'masala', 'oil', 'salt', 'spices', 'chicken', 'vegetables', 'butter', 'tender', 'chili', 'Heat'] \n",
            "\n",
            "Ingredients:\n",
            " onion, tomato, green chili, garlic, ginger, cumin, coriander, oil, butter, ghee, cream, lemon, mint, cilantro, chicken, beef, mutton, lentils, spinach, potatoes \n",
            "\n",
            "Instructions:\n",
            " chicken preparation: prepare ingredients and chop vegetables. heat oil/ghee and add whole spices. add main ingredients and cook until tender. add ground spices and simmer until well mixed. garnish and serve hot. \n",
            "\n",
            "Recipe Rank: 3 \t ['chicken karahi potatoes ground oil yogurt tender mutton vegetables salt chili masala ghee powder preparation spices chicken simmer turmeric butter beef oilghee lentils heat ground yogurt beef simmer turmeric oilghee mutton lentils preparation ghee potatoes powder masala oil salt spices chicken vegetables butter tender chili heat oil heat oilghee potatoes simmer mutton masala preparation chicken ground lentils salt ghee tender yogurt chili vegetables spices turmeric butter powder beef masala oil heat simmer butter oilghee potatoes lentils ground salt chicken mutton turmeric preparation ghee yogurt chili powder vegetables tender spices beef masala oil simmer mutton heat ground lentils turmeric salt chicken preparation oilghee ghee potatoes yogurt chili powder butter vegetables tender spices beef masala oil heat simmer mutton oilghee ground lentils potatoes turmeric salt chicken preparation butter ghee yogurt chili powder vegetables tender spices beef masala oil simmer butter heat ground lentils turmeric oilghee salt chicken potatoes preparation ghee mutton yogurt chili powder vegetables tender spices beef masala oil simmer butter heat ground lentils turmeric salt chicken preparation oilghee potatoes ghee yogurt chili mutton powder vegetables tender spices beef masala oil simmer butter heat ground lentils salt chicken turmeric oilghee preparation potatoes ghee yogurt chili mutton powder vegetables tender spices beef masala turmeric simmer heat mutton lentils ground oilghee salt chicken preparation potatoes ghee oil yogurt powder butter chili vegetables tender spices beef turmeric masala tender mutton heat vegetables ground preparation salt chicken ghee oil oilghee yogurt potatoes powder butter chili simmer lentils spices beef masala turmeric simmer mutton heat ground lentils oilghee salt chicken oil potatoes preparation ghee yogurt butter powder chili vegetables tender spices beef turmeric masala simmer mutton lentils ground heat salt oil chicken preparation ghee yogurt oilghee powder potatoes butter chili vegetables tender spices beef turmeric masala tender heat mutton ground vegetables salt chicken potatoes oil oilghee preparation ghee butter yogurt powder chili simmer lentils spices beef masala turmeric mutton simmer ground heat salt chicken oil lentils preparation oilghee ghee potatoes yogurt powder chili butter tender vegetables spices beef masala oil simmer butter heat ground lentils turmeric salt chicken preparation oilghee potatoes ghee yogurt chili mutton powder vegetables tender spices beef masala oil mutton simmer heat ground salt chicken turmeric lentils oilghee potatoes preparation ghee yogurt butter chili powder vegetables tender spices beef masala oil simmer mutton heat ground lentils turmeric salt chicken oilghee potatoes preparation ghee yogurt butter chili powder vegetables tender spices beef oil masala simmer heat potatoes lentils oilghee ground salt preparation mutton chicken butter ghee yogurt chili turmeric powder vegetables tender spices beef masala turmeric mutton simmer oil heat ground lentils salt chicken chili oilghee preparation potatoes ghee yogurt powder butter vegetables tender spices beef turmeric masala simmer lentils ground preparation ghee salt yogurt powder chicken heat mutton potatoes oil oilghee butter vegetables chili tender spices beef masala oil simmer butter heat ground lentils salt chicken turmeric preparation oilghee potatoes ghee yogurt chili mutton powder vegetables tender spices beef masala oil simmer mutton heat ground lentils turmeric salt chicken oilghee preparation potatoes ghee yogurt chili powder butter vegetables tender spices beef masala oil mutton simmer heat ground turmeric lentils salt chicken oilghee preparation potatoes ghee yogurt chili butter powder vegetables tender spices beef turmeric masala oil tender heat potatoes butter oilghee vegetables ground preparation ghee yogurt powder salt chicken mutton simmer chili lentils spices beef turmeric masala simmer lentils ground preparation ghee salt yogurt powder heat chicken potatoes mutton oilghee oil butter vegetables chili tender spices beef masala oil simmer mutton heat ground lentils turmeric salt chicken preparation oilghee potatoes ghee yogurt chili butter powder vegetables tender spices beef oil masala heat simmer oilghee potatoes ground butter lentils chicken salt preparation mutton ghee yogurt chili turmeric powder vegetables tender spices beef oil masala heat oilghee potatoes simmer mutton ground lentils butter chicken salt preparation ghee yogurt chili turmeric powder vegetables tender spices beef oil heat masala oilghee potatoes simmer mutton lentils preparation ground ghee chicken salt yogurt chili butter tender vegetables turmeric powder spices beef oil masala heat oilghee potatoes simmer mutton lentils butter ground preparation salt chicken ghee yogurt chili turmeric powder vegetables tender spices beef oil masala heat oilghee potatoes simmer butter lentils mutton ground chicken salt preparation ghee yogurt chili turmeric powder vegetables tender spices beef yogurt turmeric simmer mutton ground lentils salt potatoes chicken heat preparation ghee oilghee masala chili butter powder vegetables tender spices oil beef oil masala heat oilghee potatoes simmer butter lentils ground preparation salt chicken mutton ghee yogurt chili turmeric powder vegetables tender spices beef turmeric masala tender heat potatoes oilghee mutton vegetables ground preparation salt butter ghee chicken yogurt powder oil chili simmer lentils spices beef oil masala heat oilghee potatoes simmer butter lentils mutton ground preparation salt chicken ghee yogurt chili turmeric powder vegetables tender spices beef masala oil simmer heat butter ground oilghee lentils potatoes salt chicken turmeric preparation ghee mutton yogurt chili powder vegetables tender spices beef turmeric masala simmer oil lentils ground preparation ghee yogurt tender salt powder chicken vegetables spices heat mutton potatoes oilghee butter chili beef oil heat oilghee potatoes simmer mutton masala ground preparation chicken lentils salt ghee tender yogurt chili vegetables spices turmeric butter powder beef oil masala simmer heat oilghee potatoes lentils ground preparation mutton ghee salt chicken yogurt chili butter turmeric vegetables powder tender spices beef masala oil simmer butter ground lentils turmeric salt heat chicken preparation ghee yogurt oilghee chili potatoes powder mutton vegetables tender spices beef masala turmeric butter oil simmer chicken lentils chili salt ground heat preparation ghee tender yogurt powder oilghee potatoes mutton vegetables spices beef turmeric masala simmer mutton lentils oil ground preparation salt chicken ghee yogurt powder heat chili oilghee potatoes vegetables butter tender spices beef masala turmeric mutton oil simmer lentils ground salt chicken chili preparation ghee yogurt tender powder vegetables heat spices oilghee potatoes butter beef masala turmeric mutton heat oil oilghee potatoes simmer butter chili lentils ground salt chicken preparation ghee yogurt powder vegetables tender spices beef masala turmeric simmer mutton ground lentils heat chicken salt preparation ghee yogurt oilghee oil powder tender potatoes butter chili vegetables spices beef masala turmeric mutton oil simmer lentils chicken ground salt chili preparation ghee tender yogurt powder heat oilghee potatoes vegetables butter spices beef oil heat masala potatoes oilghee simmer mutton ground lentils preparation salt chicken ghee yogurt chili butter turmeric vegetables powder tender spices beef turmeric masala simmer heat lentils butter ground oilghee potatoes preparation salt oil ghee chicken yogurt powder mutton chili vegetables tender spices beef oil masala simmer lentils ground preparation heat salt ghee chicken yogurt butter chili oilghee potatoes turmeric mutton vegetables tender powder spices beef ground yogurt beef simmer turmeric oilghee mutton lentils preparation ghee potatoes powder masala oil salt spices chicken vegetables butter tender chili heat', 'potatoes', 'ground', 'oil', 'yogurt', 'tender', 'mutton', 'vegetables', 'salt', 'chili', 'masala', 'ghee', 'powder', 'preparation', 'spices', 'chicken', 'simmer', 'turmeric', 'butter', 'beef', 'oilghee', 'lentils', 'Heat', 'ground', 'yogurt', 'beef', 'simmer', 'turmeric', 'oilghee', 'mutton', 'lentils', 'preparation', 'ghee', 'potatoes', 'powder', 'masala', 'oil', 'salt', 'spices', 'chicken', 'vegetables', 'butter', 'tender', 'chili', 'Heat', 'oil', 'Heat', 'oilghee', 'potatoes', 'simmer', 'mutton', 'masala', 'preparation', 'chicken', 'ground', 'lentils', 'salt', 'ghee', 'tender', 'yogurt', 'chili', 'vegetables', 'spices', 'turmeric', 'butter', 'powder', 'beef', 'masala', 'oil', 'Heat', 'simmer', 'butter', 'oilghee', 'potatoes', 'lentils', 'ground', 'salt', 'chicken', 'mutton', 'turmeric', 'preparation', 'ghee', 'yogurt', 'chili', 'powder', 'vegetables', 'tender', 'spices', 'beef', 'masala', 'oil', 'simmer', 'mutton', 'Heat', 'ground', 'lentils', 'turmeric', 'salt', 'chicken', 'preparation', 'oilghee', 'ghee', 'potatoes', 'yogurt', 'chili', 'powder', 'butter', 'vegetables', 'tender', 'spices', 'beef', 'masala', 'oil', 'Heat', 'simmer', 'mutton', 'oilghee', 'ground', 'lentils', 'potatoes', 'turmeric', 'salt', 'chicken', 'preparation', 'butter', 'ghee', 'yogurt', 'chili', 'powder', 'vegetables', 'tender', 'spices', 'beef', 'masala', 'oil', 'simmer', 'butter', 'Heat', 'ground', 'lentils', 'turmeric', 'oilghee', 'salt', 'chicken', 'potatoes', 'preparation', 'ghee', 'mutton', 'yogurt', 'chili', 'powder', 'vegetables', 'tender', 'spices', 'beef', 'masala', 'oil', 'simmer', 'butter', 'Heat', 'ground', 'lentils', 'turmeric', 'salt', 'chicken', 'preparation', 'oilghee', 'potatoes', 'ghee', 'yogurt', 'chili', 'mutton', 'powder', 'vegetables', 'tender', 'spices', 'beef', 'masala', 'oil', 'simmer', 'butter', 'Heat', 'ground', 'lentils', 'salt', 'chicken', 'turmeric', 'oilghee', 'preparation', 'potatoes', 'ghee', 'yogurt', 'chili', 'mutton', 'powder', 'vegetables', 'tender', 'spices', 'beef', 'masala', 'turmeric', 'simmer', 'Heat', 'mutton', 'lentils', 'ground', 'oilghee', 'salt', 'chicken', 'preparation', 'potatoes', 'ghee', 'oil', 'yogurt', 'powder', 'butter', 'chili', 'vegetables', 'tender', 'spices', 'beef', 'turmeric', 'masala', 'tender', 'mutton', 'Heat', 'vegetables', 'ground', 'preparation', 'salt', 'chicken', 'ghee', 'oil', 'oilghee', 'yogurt', 'potatoes', 'powder', 'butter', 'chili', 'simmer', 'lentils', 'spices', 'beef', 'masala', 'turmeric', 'simmer', 'mutton', 'Heat', 'ground', 'lentils', 'oilghee', 'salt', 'chicken', 'oil', 'potatoes', 'preparation', 'ghee', 'yogurt', 'butter', 'powder', 'chili', 'vegetables', 'tender', 'spices', 'beef', 'turmeric', 'masala', 'simmer', 'mutton', 'lentils', 'ground', 'Heat', 'salt', 'oil', 'chicken', 'preparation', 'ghee', 'yogurt', 'oilghee', 'powder', 'potatoes', 'butter', 'chili', 'vegetables', 'tender', 'spices', 'beef', 'turmeric', 'masala', 'tender', 'Heat', 'mutton', 'ground', 'vegetables', 'salt', 'chicken', 'potatoes', 'oil', 'oilghee', 'preparation', 'ghee', 'butter', 'yogurt', 'powder', 'chili', 'simmer', 'lentils', 'spices', 'beef', 'masala', 'turmeric', 'mutton', 'simmer', 'ground', 'Heat', 'salt', 'chicken', 'oil', 'lentils', 'preparation', 'oilghee', 'ghee', 'potatoes', 'yogurt', 'powder', 'chili', 'butter', 'tender', 'vegetables', 'spices', 'beef', 'masala', 'oil', 'simmer', 'butter', 'Heat', 'ground', 'lentils', 'turmeric', 'salt', 'chicken', 'preparation', 'oilghee', 'potatoes', 'ghee', 'yogurt', 'chili', 'mutton', 'powder', 'vegetables', 'tender', 'spices', 'beef', 'masala', 'oil', 'mutton', 'simmer', 'Heat', 'ground', 'salt', 'chicken', 'turmeric', 'lentils', 'oilghee', 'potatoes', 'preparation', 'ghee', 'yogurt', 'butter', 'chili', 'powder', 'vegetables', 'tender', 'spices', 'beef', 'masala', 'oil', 'simmer', 'mutton', 'Heat', 'ground', 'lentils', 'turmeric', 'salt', 'chicken', 'oilghee', 'potatoes', 'preparation', 'ghee', 'yogurt', 'butter', 'chili', 'powder', 'vegetables', 'tender', 'spices', 'beef', 'oil', 'masala', 'simmer', 'Heat', 'potatoes', 'lentils', 'oilghee', 'ground', 'salt', 'preparation', 'mutton', 'chicken', 'butter', 'ghee', 'yogurt', 'chili', 'turmeric', 'powder', 'vegetables', 'tender', 'spices', 'beef', 'masala', 'turmeric', 'mutton', 'simmer', 'oil', 'Heat', 'ground', 'lentils', 'salt', 'chicken', 'chili', 'oilghee', 'preparation', 'potatoes', 'ghee', 'yogurt', 'powder', 'butter', 'vegetables', 'tender', 'spices', 'beef', 'turmeric', 'masala', 'simmer', 'lentils', 'ground', 'preparation', 'ghee', 'salt', 'yogurt', 'powder', 'chicken', 'Heat', 'mutton', 'potatoes', 'oil', 'oilghee', 'butter', 'vegetables', 'chili', 'tender', 'spices', 'beef', 'masala', 'oil', 'simmer', 'butter', 'Heat', 'ground', 'lentils', 'salt', 'chicken', 'turmeric', 'preparation', 'oilghee', 'potatoes', 'ghee', 'yogurt', 'chili', 'mutton', 'powder', 'vegetables', 'tender', 'spices', 'beef', 'masala', 'oil', 'simmer', 'mutton', 'Heat', 'ground', 'lentils', 'turmeric', 'salt', 'chicken', 'oilghee', 'preparation', 'potatoes', 'ghee', 'yogurt', 'chili', 'powder', 'butter', 'vegetables', 'tender', 'spices', 'beef', 'masala', 'oil', 'mutton', 'simmer', 'Heat', 'ground', 'turmeric', 'lentils', 'salt', 'chicken', 'oilghee', 'preparation', 'potatoes', 'ghee', 'yogurt', 'chili', 'butter', 'powder', 'vegetables', 'tender', 'spices', 'beef', 'turmeric', 'masala', 'oil', 'tender', 'Heat', 'potatoes', 'butter', 'oilghee', 'vegetables', 'ground', 'preparation', 'ghee', 'yogurt', 'powder', 'salt', 'chicken', 'mutton', 'simmer', 'chili', 'lentils', 'spices', 'beef', 'turmeric', 'masala', 'simmer', 'lentils', 'ground', 'preparation', 'ghee', 'salt', 'yogurt', 'powder', 'Heat', 'chicken', 'potatoes', 'mutton', 'oilghee', 'oil', 'butter', 'vegetables', 'chili', 'tender', 'spices', 'beef', 'masala', 'oil', 'simmer', 'mutton', 'Heat', 'ground', 'lentils', 'turmeric', 'salt', 'chicken', 'preparation', 'oilghee', 'potatoes', 'ghee', 'yogurt', 'chili', 'butter', 'powder', 'vegetables', 'tender', 'spices', 'beef', 'oil', 'masala', 'Heat', 'simmer', 'oilghee', 'potatoes', 'ground', 'butter', 'lentils', 'chicken', 'salt', 'preparation', 'mutton', 'ghee', 'yogurt', 'chili', 'turmeric', 'powder', 'vegetables', 'tender', 'spices', 'beef', 'oil', 'masala', 'Heat', 'oilghee', 'potatoes', 'simmer', 'mutton', 'ground', 'lentils', 'butter', 'chicken', 'salt', 'preparation', 'ghee', 'yogurt', 'chili', 'turmeric', 'powder', 'vegetables', 'tender', 'spices', 'beef', 'oil', 'Heat', 'masala', 'oilghee', 'potatoes', 'simmer', 'mutton', 'lentils', 'preparation', 'ground', 'ghee', 'chicken', 'salt', 'yogurt', 'chili', 'butter', 'tender', 'vegetables', 'turmeric', 'powder', 'spices', 'beef', 'oil', 'masala', 'Heat', 'oilghee', 'potatoes', 'simmer', 'mutton', 'lentils', 'butter', 'ground', 'preparation', 'salt', 'chicken', 'ghee', 'yogurt', 'chili', 'turmeric', 'powder', 'vegetables', 'tender', 'spices', 'beef', 'oil', 'masala', 'Heat', 'oilghee', 'potatoes', 'simmer', 'butter', 'lentils', 'mutton', 'ground', 'chicken', 'salt', 'preparation', 'ghee', 'yogurt', 'chili', 'turmeric', 'powder', 'vegetables', 'tender', 'spices', 'beef', 'yogurt', 'turmeric', 'simmer', 'mutton', 'ground', 'lentils', 'salt', 'potatoes', 'chicken', 'Heat', 'preparation', 'ghee', 'oilghee', 'masala', 'chili', 'butter', 'powder', 'vegetables', 'tender', 'spices', 'oil', 'beef', 'oil', 'masala', 'Heat', 'oilghee', 'potatoes', 'simmer', 'butter', 'lentils', 'ground', 'preparation', 'salt', 'chicken', 'mutton', 'ghee', 'yogurt', 'chili', 'turmeric', 'powder', 'vegetables', 'tender', 'spices', 'beef', 'turmeric', 'masala', 'tender', 'Heat', 'potatoes', 'oilghee', 'mutton', 'vegetables', 'ground', 'preparation', 'salt', 'butter', 'ghee', 'chicken', 'yogurt', 'powder', 'oil', 'chili', 'simmer', 'lentils', 'spices', 'beef', 'oil', 'masala', 'Heat', 'oilghee', 'potatoes', 'simmer', 'butter', 'lentils', 'mutton', 'ground', 'preparation', 'salt', 'chicken', 'ghee', 'yogurt', 'chili', 'turmeric', 'powder', 'vegetables', 'tender', 'spices', 'beef', 'masala', 'oil', 'simmer', 'Heat', 'butter', 'ground', 'oilghee', 'lentils', 'potatoes', 'salt', 'chicken', 'turmeric', 'preparation', 'ghee', 'mutton', 'yogurt', 'chili', 'powder', 'vegetables', 'tender', 'spices', 'beef', 'turmeric', 'masala', 'simmer', 'oil', 'lentils', 'ground', 'preparation', 'ghee', 'yogurt', 'tender', 'salt', 'powder', 'chicken', 'vegetables', 'spices', 'Heat', 'mutton', 'potatoes', 'oilghee', 'butter', 'chili', 'beef', 'oil', 'Heat', 'oilghee', 'potatoes', 'simmer', 'mutton', 'masala', 'ground', 'preparation', 'chicken', 'lentils', 'salt', 'ghee', 'tender', 'yogurt', 'chili', 'vegetables', 'spices', 'turmeric', 'butter', 'powder', 'beef', 'oil', 'masala', 'simmer', 'Heat', 'oilghee', 'potatoes', 'lentils', 'ground', 'preparation', 'mutton', 'ghee', 'salt', 'chicken', 'yogurt', 'chili', 'butter', 'turmeric', 'vegetables', 'powder', 'tender', 'spices', 'beef', 'masala', 'oil', 'simmer', 'butter', 'ground', 'lentils', 'turmeric', 'salt', 'Heat', 'chicken', 'preparation', 'ghee', 'yogurt', 'oilghee', 'chili', 'potatoes', 'powder', 'mutton', 'vegetables', 'tender', 'spices', 'beef', 'masala', 'turmeric', 'butter', 'oil', 'simmer', 'chicken', 'lentils', 'chili', 'salt', 'ground', 'Heat', 'preparation', 'ghee', 'tender', 'yogurt', 'powder', 'oilghee', 'potatoes', 'mutton', 'vegetables', 'spices', 'beef', 'turmeric', 'masala', 'simmer', 'mutton', 'lentils', 'oil', 'ground', 'preparation', 'salt', 'chicken', 'ghee', 'yogurt', 'powder', 'Heat', 'chili', 'oilghee', 'potatoes', 'vegetables', 'butter', 'tender', 'spices', 'beef', 'masala', 'turmeric', 'mutton', 'oil', 'simmer', 'lentils', 'ground', 'salt', 'chicken', 'chili', 'preparation', 'ghee', 'yogurt', 'tender', 'powder', 'vegetables', 'Heat', 'spices', 'oilghee', 'potatoes', 'butter', 'beef', 'masala', 'turmeric', 'mutton', 'Heat', 'oil', 'oilghee', 'potatoes', 'simmer', 'butter', 'chili', 'lentils', 'ground', 'salt', 'chicken', 'preparation', 'ghee', 'yogurt', 'powder', 'vegetables', 'tender', 'spices', 'beef', 'masala', 'turmeric', 'simmer', 'mutton', 'ground', 'lentils', 'Heat', 'chicken', 'salt', 'preparation', 'ghee', 'yogurt', 'oilghee', 'oil', 'powder', 'tender', 'potatoes', 'butter', 'chili', 'vegetables', 'spices', 'beef', 'masala', 'turmeric', 'mutton', 'oil', 'simmer', 'lentils', 'chicken', 'ground', 'salt', 'chili', 'preparation', 'ghee', 'tender', 'yogurt', 'powder', 'Heat', 'oilghee', 'potatoes', 'vegetables', 'butter', 'spices', 'beef', 'oil', 'Heat', 'masala', 'potatoes', 'oilghee', 'simmer', 'mutton', 'ground', 'lentils', 'preparation', 'salt', 'chicken', 'ghee', 'yogurt', 'chili', 'butter', 'turmeric', 'vegetables', 'powder', 'tender', 'spices', 'beef', 'turmeric', 'masala', 'simmer', 'Heat', 'lentils', 'butter', 'ground', 'oilghee', 'potatoes', 'preparation', 'salt', 'oil', 'ghee', 'chicken', 'yogurt', 'powder', 'mutton', 'chili', 'vegetables', 'tender', 'spices', 'beef', 'oil', 'masala', 'simmer', 'lentils', 'ground', 'preparation', 'Heat', 'salt', 'ghee', 'chicken', 'yogurt', 'butter', 'chili', 'oilghee', 'potatoes', 'turmeric', 'mutton', 'vegetables', 'tender', 'powder', 'spices', 'beef', 'ground', 'yogurt', 'beef', 'simmer', 'turmeric', 'oilghee', 'mutton', 'lentils', 'preparation', 'ghee', 'potatoes', 'powder', 'masala', 'oil', 'salt', 'spices', 'chicken', 'vegetables', 'butter', 'tender', 'chili', 'Heat'] \n",
            "\n",
            "Ingredients:\n",
            " onion, tomato, green chili, garlic, ginger, cumin, coriander, chicken, beef, mutton, lentils, spinach, potatoes, oil, butter, ghee, cream, lemon, mint, cilantro \n",
            "\n",
            "Instructions:\n",
            " chicken preparation: prepare ingredients and chop vegetables. heat oil/ghee and add whole spices. add main ingredients and cook until tender. add ground spices and simmer until well mixed. garnish and serve hot. \n",
            "\n"
          ]
        }
      ]
    },
    {
      "cell_type": "code",
      "source": [
        "recipes.tags"
      ],
      "metadata": {
        "colab": {
          "base_uri": "https://localhost:8080/",
          "height": 458
        },
        "id": "5mFGM2Q7hbA6",
        "outputId": "9c78fca7-a01b-46b8-f459-76d8a8a53b80"
      },
      "execution_count": 280,
      "outputs": [
        {
          "output_type": "execute_result",
          "data": {
            "text/plain": [
              "0      kofta potatoes ground oil yogurt tender mutton...\n",
              "1      saag potatoes ground oil yogurt tender mutton ...\n",
              "2      khichdi potatoes ground oil yogurt tender mutt...\n",
              "3      chicken karahi potatoes ground oil yogurt tend...\n",
              "4      paya potatoes ground oil yogurt tender mutton ...\n",
              "                             ...                        \n",
              "495    nihari potatoes ground oil yogurt tender mutto...\n",
              "496    karela potatoes ground oil yogurt tender mutto...\n",
              "497    beef curry potatoes ground oil yogurt tender m...\n",
              "498    anda paratha potatoes ground oil yogurt tender...\n",
              "499    aloo gosht potatoes ground oil yogurt tender m...\n",
              "Name: tags, Length: 500, dtype: object"
            ],
            "text/html": [
              "<div>\n",
              "<style scoped>\n",
              "    .dataframe tbody tr th:only-of-type {\n",
              "        vertical-align: middle;\n",
              "    }\n",
              "\n",
              "    .dataframe tbody tr th {\n",
              "        vertical-align: top;\n",
              "    }\n",
              "\n",
              "    .dataframe thead th {\n",
              "        text-align: right;\n",
              "    }\n",
              "</style>\n",
              "<table border=\"1\" class=\"dataframe\">\n",
              "  <thead>\n",
              "    <tr style=\"text-align: right;\">\n",
              "      <th></th>\n",
              "      <th>tags</th>\n",
              "    </tr>\n",
              "  </thead>\n",
              "  <tbody>\n",
              "    <tr>\n",
              "      <th>0</th>\n",
              "      <td>kofta potatoes ground oil yogurt tender mutton...</td>\n",
              "    </tr>\n",
              "    <tr>\n",
              "      <th>1</th>\n",
              "      <td>saag potatoes ground oil yogurt tender mutton ...</td>\n",
              "    </tr>\n",
              "    <tr>\n",
              "      <th>2</th>\n",
              "      <td>khichdi potatoes ground oil yogurt tender mutt...</td>\n",
              "    </tr>\n",
              "    <tr>\n",
              "      <th>3</th>\n",
              "      <td>chicken karahi potatoes ground oil yogurt tend...</td>\n",
              "    </tr>\n",
              "    <tr>\n",
              "      <th>4</th>\n",
              "      <td>paya potatoes ground oil yogurt tender mutton ...</td>\n",
              "    </tr>\n",
              "    <tr>\n",
              "      <th>...</th>\n",
              "      <td>...</td>\n",
              "    </tr>\n",
              "    <tr>\n",
              "      <th>495</th>\n",
              "      <td>nihari potatoes ground oil yogurt tender mutto...</td>\n",
              "    </tr>\n",
              "    <tr>\n",
              "      <th>496</th>\n",
              "      <td>karela potatoes ground oil yogurt tender mutto...</td>\n",
              "    </tr>\n",
              "    <tr>\n",
              "      <th>497</th>\n",
              "      <td>beef curry potatoes ground oil yogurt tender m...</td>\n",
              "    </tr>\n",
              "    <tr>\n",
              "      <th>498</th>\n",
              "      <td>anda paratha potatoes ground oil yogurt tender...</td>\n",
              "    </tr>\n",
              "    <tr>\n",
              "      <th>499</th>\n",
              "      <td>aloo gosht potatoes ground oil yogurt tender m...</td>\n",
              "    </tr>\n",
              "  </tbody>\n",
              "</table>\n",
              "<p>500 rows × 1 columns</p>\n",
              "</div><br><label><b>dtype:</b> object</label>"
            ]
          },
          "metadata": {},
          "execution_count": 280
        }
      ]
    },
    {
      "cell_type": "code",
      "source": [
        "recipes.tags[13]"
      ],
      "metadata": {
        "colab": {
          "base_uri": "https://localhost:8080/",
          "height": 227
        },
        "id": "8uiR2gCIholX",
        "outputId": "a5b7697f-c52c-48b8-b525-dd54ffecaf2f"
      },
      "execution_count": 281,
      "outputs": [
        {
          "output_type": "execute_result",
          "data": {
            "text/plain": [
              "'pakora potatoes ground oil yogurt tender mutton vegetables salt chili masala ghee powder preparation spices chicken simmer turmeric butter beef oilghee lentils heat ground yogurt beef simmer turmeric oilghee mutton lentils preparation ghee potatoes powder masala oil salt spices chicken vegetables butter tender chili heat oil heat oilghee potatoes simmer mutton masala preparation chicken ground lentils salt ghee tender yogurt chili vegetables spices turmeric butter powder beef masala oil heat simmer butter oilghee potatoes lentils ground salt chicken mutton turmeric preparation ghee yogurt chili powder vegetables tender spices beef masala oil simmer mutton heat ground lentils turmeric salt chicken preparation oilghee ghee potatoes yogurt chili powder butter vegetables tender spices beef masala oil heat simmer mutton oilghee ground lentils potatoes turmeric salt chicken preparation butter ghee yogurt chili powder vegetables tender spices beef masala oil simmer butter heat ground lentils turmeric oilghee salt chicken potatoes preparation ghee mutton yogurt chili powder vegetables tender spices beef masala oil simmer butter heat ground lentils turmeric salt chicken preparation oilghee potatoes ghee yogurt chili mutton powder vegetables tender spices beef masala oil simmer butter heat ground lentils salt chicken turmeric oilghee preparation potatoes ghee yogurt chili mutton powder vegetables tender spices beef masala turmeric simmer heat mutton lentils ground oilghee salt chicken preparation potatoes ghee oil yogurt powder butter chili vegetables tender spices beef turmeric masala tender mutton heat vegetables ground preparation salt chicken ghee oil oilghee yogurt potatoes powder butter chili simmer lentils spices beef masala turmeric simmer mutton heat ground lentils oilghee salt chicken oil potatoes preparation ghee yogurt butter powder chili vegetables tender spices beef turmeric masala simmer mutton lentils ground heat salt oil chicken preparation ghee yogurt oilghee powder potatoes butter chili vegetables tender spices beef turmeric masala tender heat mutton ground vegetables salt chicken potatoes oil oilghee preparation ghee butter yogurt powder chili simmer lentils spices beef masala turmeric mutton simmer ground heat salt chicken oil lentils preparation oilghee ghee potatoes yogurt powder chili butter tender vegetables spices beef masala oil simmer butter heat ground lentils turmeric salt chicken preparation oilghee potatoes ghee yogurt chili mutton powder vegetables tender spices beef masala oil mutton simmer heat ground salt chicken turmeric lentils oilghee potatoes preparation ghee yogurt butter chili powder vegetables tender spices beef masala oil simmer mutton heat ground lentils turmeric salt chicken oilghee potatoes preparation ghee yogurt butter chili powder vegetables tender spices beef oil masala simmer heat potatoes lentils oilghee ground salt preparation mutton chicken butter ghee yogurt chili turmeric powder vegetables tender spices beef masala turmeric mutton simmer oil heat ground lentils salt chicken chili oilghee preparation potatoes ghee yogurt powder butter vegetables tender spices beef turmeric masala simmer lentils ground preparation ghee salt yogurt powder chicken heat mutton potatoes oil oilghee butter vegetables chili tender spices beef masala oil simmer butter heat ground lentils salt chicken turmeric preparation oilghee potatoes ghee yogurt chili mutton powder vegetables tender spices beef masala oil simmer mutton heat ground lentils turmeric salt chicken oilghee preparation potatoes ghee yogurt chili powder butter vegetables tender spices beef masala oil mutton simmer heat ground turmeric lentils salt chicken oilghee preparation potatoes ghee yogurt chili butter powder vegetables tender spices beef turmeric masala oil tender heat potatoes butter oilghee vegetables ground preparation ghee yogurt powder salt chicken mutton simmer chili lentils spices beef turmeric masala simmer lentils ground preparation ghee salt yogurt powder heat chicken potatoes mutton oilghee oil butter vegetables chili tender spices beef masala oil simmer mutton heat ground lentils turmeric salt chicken preparation oilghee potatoes ghee yogurt chili butter powder vegetables tender spices beef oil masala heat simmer oilghee potatoes ground butter lentils chicken salt preparation mutton ghee yogurt chili turmeric powder vegetables tender spices beef oil masala heat oilghee potatoes simmer mutton ground lentils butter chicken salt preparation ghee yogurt chili turmeric powder vegetables tender spices beef oil heat masala oilghee potatoes simmer mutton lentils preparation ground ghee chicken salt yogurt chili butter tender vegetables turmeric powder spices beef oil masala heat oilghee potatoes simmer mutton lentils butter ground preparation salt chicken ghee yogurt chili turmeric powder vegetables tender spices beef oil masala heat oilghee potatoes simmer butter lentils mutton ground chicken salt preparation ghee yogurt chili turmeric powder vegetables tender spices beef yogurt turmeric simmer mutton ground lentils salt potatoes chicken heat preparation ghee oilghee masala chili butter powder vegetables tender spices oil beef oil masala heat oilghee potatoes simmer butter lentils ground preparation salt chicken mutton ghee yogurt chili turmeric powder vegetables tender spices beef turmeric masala tender heat potatoes oilghee mutton vegetables ground preparation salt butter ghee chicken yogurt powder oil chili simmer lentils spices beef oil masala heat oilghee potatoes simmer butter lentils mutton ground preparation salt chicken ghee yogurt chili turmeric powder vegetables tender spices beef masala oil simmer heat butter ground oilghee lentils potatoes salt chicken turmeric preparation ghee mutton yogurt chili powder vegetables tender spices beef turmeric masala simmer oil lentils ground preparation ghee yogurt tender salt powder chicken vegetables spices heat mutton potatoes oilghee butter chili beef oil heat oilghee potatoes simmer mutton masala ground preparation chicken lentils salt ghee tender yogurt chili vegetables spices turmeric butter powder beef oil masala simmer heat oilghee potatoes lentils ground preparation mutton ghee salt chicken yogurt chili butter turmeric vegetables powder tender spices beef masala oil simmer butter ground lentils turmeric salt heat chicken preparation ghee yogurt oilghee chili potatoes powder mutton vegetables tender spices beef masala turmeric butter oil simmer chicken lentils chili salt ground heat preparation ghee tender yogurt powder oilghee potatoes mutton vegetables spices beef turmeric masala simmer mutton lentils oil ground preparation salt chicken ghee yogurt powder heat chili oilghee potatoes vegetables butter tender spices beef masala turmeric mutton oil simmer lentils ground salt chicken chili preparation ghee yogurt tender powder vegetables heat spices oilghee potatoes butter beef masala turmeric mutton heat oil oilghee potatoes simmer butter chili lentils ground salt chicken preparation ghee yogurt powder vegetables tender spices beef masala turmeric simmer mutton ground lentils heat chicken salt preparation ghee yogurt oilghee oil powder tender potatoes butter chili vegetables spices beef masala turmeric mutton oil simmer lentils chicken ground salt chili preparation ghee tender yogurt powder heat oilghee potatoes vegetables butter spices beef oil heat masala potatoes oilghee simmer mutton ground lentils preparation salt chicken ghee yogurt chili butter turmeric vegetables powder tender spices beef turmeric masala simmer heat lentils butter ground oilghee potatoes preparation salt oil ghee chicken yogurt powder mutton chili vegetables tender spices beef oil masala simmer lentils ground preparation heat salt ghee chicken yogurt butter chili oilghee potatoes turmeric mutton vegetables tender powder spices beef ground yogurt beef simmer turmeric oilghee mutton lentils preparation ghee potatoes powder masala oil salt spices chicken vegetables butter tender chili heat potatoes ground oil yogurt tender mutton vegetables salt chili masala ghee powder preparation spices chicken simmer turmeric butter beef oilghee lentils Heat ground yogurt beef simmer turmeric oilghee mutton lentils preparation ghee potatoes powder masala oil salt spices chicken vegetables butter tender chili Heat oil Heat oilghee potatoes simmer mutton masala preparation chicken ground lentils salt ghee tender yogurt chili vegetables spices turmeric butter powder beef masala oil Heat simmer butter oilghee potatoes lentils ground salt chicken mutton turmeric preparation ghee yogurt chili powder vegetables tender spices beef masala oil simmer mutton Heat ground lentils turmeric salt chicken preparation oilghee ghee potatoes yogurt chili powder butter vegetables tender spices beef masala oil Heat simmer mutton oilghee ground lentils potatoes turmeric salt chicken preparation butter ghee yogurt chili powder vegetables tender spices beef masala oil simmer butter Heat ground lentils turmeric oilghee salt chicken potatoes preparation ghee mutton yogurt chili powder vegetables tender spices beef masala oil simmer butter Heat ground lentils turmeric salt chicken preparation oilghee potatoes ghee yogurt chili mutton powder vegetables tender spices beef masala oil simmer butter Heat ground lentils salt chicken turmeric oilghee preparation potatoes ghee yogurt chili mutton powder vegetables tender spices beef masala turmeric simmer Heat mutton lentils ground oilghee salt chicken preparation potatoes ghee oil yogurt powder butter chili vegetables tender spices beef turmeric masala tender mutton Heat vegetables ground preparation salt chicken ghee oil oilghee yogurt potatoes powder butter chili simmer lentils spices beef masala turmeric simmer mutton Heat ground lentils oilghee salt chicken oil potatoes preparation ghee yogurt butter powder chili vegetables tender spices beef turmeric masala simmer mutton lentils ground Heat salt oil chicken preparation ghee yogurt oilghee powder potatoes butter chili vegetables tender spices beef turmeric masala tender Heat mutton ground vegetables salt chicken potatoes oil oilghee preparation ghee butter yogurt powder chili simmer lentils spices beef masala turmeric mutton simmer ground Heat salt chicken oil lentils preparation oilghee ghee potatoes yogurt powder chili butter tender vegetables spices beef masala oil simmer butter Heat ground lentils turmeric salt chicken preparation oilghee potatoes ghee yogurt chili mutton powder vegetables tender spices beef masala oil mutton simmer Heat ground salt chicken turmeric lentils oilghee potatoes preparation ghee yogurt butter chili powder vegetables tender spices beef masala oil simmer mutton Heat ground lentils turmeric salt chicken oilghee potatoes preparation ghee yogurt butter chili powder vegetables tender spices beef oil masala simmer Heat potatoes lentils oilghee ground salt preparation mutton chicken butter ghee yogurt chili turmeric powder vegetables tender spices beef masala turmeric mutton simmer oil Heat ground lentils salt chicken chili oilghee preparation potatoes ghee yogurt powder butter vegetables tender spices beef turmeric masala simmer lentils ground preparation ghee salt yogurt powder chicken Heat mutton potatoes oil oilghee butter vegetables chili tender spices beef masala oil simmer butter Heat ground lentils salt chicken turmeric preparation oilghee potatoes ghee yogurt chili mutton powder vegetables tender spices beef masala oil simmer mutton Heat ground lentils turmeric salt chicken oilghee preparation potatoes ghee yogurt chili powder butter vegetables tender spices beef masala oil mutton simmer Heat ground turmeric lentils salt chicken oilghee preparation potatoes ghee yogurt chili butter powder vegetables tender spices beef turmeric masala oil tender Heat potatoes butter oilghee vegetables ground preparation ghee yogurt powder salt chicken mutton simmer chili lentils spices beef turmeric masala simmer lentils ground preparation ghee salt yogurt powder Heat chicken potatoes mutton oilghee oil butter vegetables chili tender spices beef masala oil simmer mutton Heat ground lentils turmeric salt chicken preparation oilghee potatoes ghee yogurt chili butter powder vegetables tender spices beef oil masala Heat simmer oilghee potatoes ground butter lentils chicken salt preparation mutton ghee yogurt chili turmeric powder vegetables tender spices beef oil masala Heat oilghee potatoes simmer mutton ground lentils butter chicken salt preparation ghee yogurt chili turmeric powder vegetables tender spices beef oil Heat masala oilghee potatoes simmer mutton lentils preparation ground ghee chicken salt yogurt chili butter tender vegetables turmeric powder spices beef oil masala Heat oilghee potatoes simmer mutton lentils butter ground preparation salt chicken ghee yogurt chili turmeric powder vegetables tender spices beef oil masala Heat oilghee potatoes simmer butter lentils mutton ground chicken salt preparation ghee yogurt chili turmeric powder vegetables tender spices beef yogurt turmeric simmer mutton ground lentils salt potatoes chicken Heat preparation ghee oilghee masala chili butter powder vegetables tender spices oil beef oil masala Heat oilghee potatoes simmer butter lentils ground preparation salt chicken mutton ghee yogurt chili turmeric powder vegetables tender spices beef turmeric masala tender Heat potatoes oilghee mutton vegetables ground preparation salt butter ghee chicken yogurt powder oil chili simmer lentils spices beef oil masala Heat oilghee potatoes simmer butter lentils mutton ground preparation salt chicken ghee yogurt chili turmeric powder vegetables tender spices beef masala oil simmer Heat butter ground oilghee lentils potatoes salt chicken turmeric preparation ghee mutton yogurt chili powder vegetables tender spices beef turmeric masala simmer oil lentils ground preparation ghee yogurt tender salt powder chicken vegetables spices Heat mutton potatoes oilghee butter chili beef oil Heat oilghee potatoes simmer mutton masala ground preparation chicken lentils salt ghee tender yogurt chili vegetables spices turmeric butter powder beef oil masala simmer Heat oilghee potatoes lentils ground preparation mutton ghee salt chicken yogurt chili butter turmeric vegetables powder tender spices beef masala oil simmer butter ground lentils turmeric salt Heat chicken preparation ghee yogurt oilghee chili potatoes powder mutton vegetables tender spices beef masala turmeric butter oil simmer chicken lentils chili salt ground Heat preparation ghee tender yogurt powder oilghee potatoes mutton vegetables spices beef turmeric masala simmer mutton lentils oil ground preparation salt chicken ghee yogurt powder Heat chili oilghee potatoes vegetables butter tender spices beef masala turmeric mutton oil simmer lentils ground salt chicken chili preparation ghee yogurt tender powder vegetables Heat spices oilghee potatoes butter beef masala turmeric mutton Heat oil oilghee potatoes simmer butter chili lentils ground salt chicken preparation ghee yogurt powder vegetables tender spices beef masala turmeric simmer mutton ground lentils Heat chicken salt preparation ghee yogurt oilghee oil powder tender potatoes butter chili vegetables spices beef masala turmeric mutton oil simmer lentils chicken ground salt chili preparation ghee tender yogurt powder Heat oilghee potatoes vegetables butter spices beef oil Heat masala potatoes oilghee simmer mutton ground lentils preparation salt chicken ghee yogurt chili butter turmeric vegetables powder tender spices beef turmeric masala simmer Heat lentils butter ground oilghee potatoes preparation salt oil ghee chicken yogurt powder mutton chili vegetables tender spices beef oil masala simmer lentils ground preparation Heat salt ghee chicken yogurt butter chili oilghee potatoes turmeric mutton vegetables tender powder spices beef ground yogurt beef simmer turmeric oilghee mutton lentils preparation ghee potatoes powder masala oil salt spices chicken vegetables butter tender chili Heat'"
            ],
            "application/vnd.google.colaboratory.intrinsic+json": {
              "type": "string"
            }
          },
          "metadata": {},
          "execution_count": 281
        }
      ]
    },
    {
      "cell_type": "code",
      "source": [
        "recipes.tags[300]"
      ],
      "metadata": {
        "colab": {
          "base_uri": "https://localhost:8080/",
          "height": 227
        },
        "id": "Uvz5WHdThs9N",
        "outputId": "7f1a6480-a379-44db-99a4-e94806a9d419"
      },
      "execution_count": 283,
      "outputs": [
        {
          "output_type": "execute_result",
          "data": {
            "text/plain": [
              "'mutton chops potatoes ground oil yogurt tender mutton vegetables salt chili masala ghee powder preparation spices chicken simmer turmeric butter beef oilghee lentils heat ground yogurt beef simmer turmeric oilghee mutton lentils preparation ghee potatoes powder masala oil salt spices chicken vegetables butter tender chili heat oil heat oilghee potatoes simmer mutton masala preparation chicken ground lentils salt ghee tender yogurt chili vegetables spices turmeric butter powder beef masala oil heat simmer butter oilghee potatoes lentils ground salt chicken mutton turmeric preparation ghee yogurt chili powder vegetables tender spices beef masala oil simmer mutton heat ground lentils turmeric salt chicken preparation oilghee ghee potatoes yogurt chili powder butter vegetables tender spices beef masala oil heat simmer mutton oilghee ground lentils potatoes turmeric salt chicken preparation butter ghee yogurt chili powder vegetables tender spices beef masala oil simmer butter heat ground lentils turmeric oilghee salt chicken potatoes preparation ghee mutton yogurt chili powder vegetables tender spices beef masala oil simmer butter heat ground lentils turmeric salt chicken preparation oilghee potatoes ghee yogurt chili mutton powder vegetables tender spices beef masala oil simmer butter heat ground lentils salt chicken turmeric oilghee preparation potatoes ghee yogurt chili mutton powder vegetables tender spices beef masala turmeric simmer heat mutton lentils ground oilghee salt chicken preparation potatoes ghee oil yogurt powder butter chili vegetables tender spices beef turmeric masala tender mutton heat vegetables ground preparation salt chicken ghee oil oilghee yogurt potatoes powder butter chili simmer lentils spices beef masala turmeric simmer mutton heat ground lentils oilghee salt chicken oil potatoes preparation ghee yogurt butter powder chili vegetables tender spices beef turmeric masala simmer mutton lentils ground heat salt oil chicken preparation ghee yogurt oilghee powder potatoes butter chili vegetables tender spices beef turmeric masala tender heat mutton ground vegetables salt chicken potatoes oil oilghee preparation ghee butter yogurt powder chili simmer lentils spices beef masala turmeric mutton simmer ground heat salt chicken oil lentils preparation oilghee ghee potatoes yogurt powder chili butter tender vegetables spices beef masala oil simmer butter heat ground lentils turmeric salt chicken preparation oilghee potatoes ghee yogurt chili mutton powder vegetables tender spices beef masala oil mutton simmer heat ground salt chicken turmeric lentils oilghee potatoes preparation ghee yogurt butter chili powder vegetables tender spices beef masala oil simmer mutton heat ground lentils turmeric salt chicken oilghee potatoes preparation ghee yogurt butter chili powder vegetables tender spices beef oil masala simmer heat potatoes lentils oilghee ground salt preparation mutton chicken butter ghee yogurt chili turmeric powder vegetables tender spices beef masala turmeric mutton simmer oil heat ground lentils salt chicken chili oilghee preparation potatoes ghee yogurt powder butter vegetables tender spices beef turmeric masala simmer lentils ground preparation ghee salt yogurt powder chicken heat mutton potatoes oil oilghee butter vegetables chili tender spices beef masala oil simmer butter heat ground lentils salt chicken turmeric preparation oilghee potatoes ghee yogurt chili mutton powder vegetables tender spices beef masala oil simmer mutton heat ground lentils turmeric salt chicken oilghee preparation potatoes ghee yogurt chili powder butter vegetables tender spices beef masala oil mutton simmer heat ground turmeric lentils salt chicken oilghee preparation potatoes ghee yogurt chili butter powder vegetables tender spices beef turmeric masala oil tender heat potatoes butter oilghee vegetables ground preparation ghee yogurt powder salt chicken mutton simmer chili lentils spices beef turmeric masala simmer lentils ground preparation ghee salt yogurt powder heat chicken potatoes mutton oilghee oil butter vegetables chili tender spices beef masala oil simmer mutton heat ground lentils turmeric salt chicken preparation oilghee potatoes ghee yogurt chili butter powder vegetables tender spices beef oil masala heat simmer oilghee potatoes ground butter lentils chicken salt preparation mutton ghee yogurt chili turmeric powder vegetables tender spices beef oil masala heat oilghee potatoes simmer mutton ground lentils butter chicken salt preparation ghee yogurt chili turmeric powder vegetables tender spices beef oil heat masala oilghee potatoes simmer mutton lentils preparation ground ghee chicken salt yogurt chili butter tender vegetables turmeric powder spices beef oil masala heat oilghee potatoes simmer mutton lentils butter ground preparation salt chicken ghee yogurt chili turmeric powder vegetables tender spices beef oil masala heat oilghee potatoes simmer butter lentils mutton ground chicken salt preparation ghee yogurt chili turmeric powder vegetables tender spices beef yogurt turmeric simmer mutton ground lentils salt potatoes chicken heat preparation ghee oilghee masala chili butter powder vegetables tender spices oil beef oil masala heat oilghee potatoes simmer butter lentils ground preparation salt chicken mutton ghee yogurt chili turmeric powder vegetables tender spices beef turmeric masala tender heat potatoes oilghee mutton vegetables ground preparation salt butter ghee chicken yogurt powder oil chili simmer lentils spices beef oil masala heat oilghee potatoes simmer butter lentils mutton ground preparation salt chicken ghee yogurt chili turmeric powder vegetables tender spices beef masala oil simmer heat butter ground oilghee lentils potatoes salt chicken turmeric preparation ghee mutton yogurt chili powder vegetables tender spices beef turmeric masala simmer oil lentils ground preparation ghee yogurt tender salt powder chicken vegetables spices heat mutton potatoes oilghee butter chili beef oil heat oilghee potatoes simmer mutton masala ground preparation chicken lentils salt ghee tender yogurt chili vegetables spices turmeric butter powder beef oil masala simmer heat oilghee potatoes lentils ground preparation mutton ghee salt chicken yogurt chili butter turmeric vegetables powder tender spices beef masala oil simmer butter ground lentils turmeric salt heat chicken preparation ghee yogurt oilghee chili potatoes powder mutton vegetables tender spices beef masala turmeric butter oil simmer chicken lentils chili salt ground heat preparation ghee tender yogurt powder oilghee potatoes mutton vegetables spices beef turmeric masala simmer mutton lentils oil ground preparation salt chicken ghee yogurt powder heat chili oilghee potatoes vegetables butter tender spices beef masala turmeric mutton oil simmer lentils ground salt chicken chili preparation ghee yogurt tender powder vegetables heat spices oilghee potatoes butter beef masala turmeric mutton heat oil oilghee potatoes simmer butter chili lentils ground salt chicken preparation ghee yogurt powder vegetables tender spices beef masala turmeric simmer mutton ground lentils heat chicken salt preparation ghee yogurt oilghee oil powder tender potatoes butter chili vegetables spices beef masala turmeric mutton oil simmer lentils chicken ground salt chili preparation ghee tender yogurt powder heat oilghee potatoes vegetables butter spices beef oil heat masala potatoes oilghee simmer mutton ground lentils preparation salt chicken ghee yogurt chili butter turmeric vegetables powder tender spices beef turmeric masala simmer heat lentils butter ground oilghee potatoes preparation salt oil ghee chicken yogurt powder mutton chili vegetables tender spices beef oil masala simmer lentils ground preparation heat salt ghee chicken yogurt butter chili oilghee potatoes turmeric mutton vegetables tender powder spices beef ground yogurt beef simmer turmeric oilghee mutton lentils preparation ghee potatoes powder masala oil salt spices chicken vegetables butter tender chili heat potatoes ground oil yogurt tender mutton vegetables salt chili masala ghee powder preparation spices chicken simmer turmeric butter beef oilghee lentils Heat ground yogurt beef simmer turmeric oilghee mutton lentils preparation ghee potatoes powder masala oil salt spices chicken vegetables butter tender chili Heat oil Heat oilghee potatoes simmer mutton masala preparation chicken ground lentils salt ghee tender yogurt chili vegetables spices turmeric butter powder beef masala oil Heat simmer butter oilghee potatoes lentils ground salt chicken mutton turmeric preparation ghee yogurt chili powder vegetables tender spices beef masala oil simmer mutton Heat ground lentils turmeric salt chicken preparation oilghee ghee potatoes yogurt chili powder butter vegetables tender spices beef masala oil Heat simmer mutton oilghee ground lentils potatoes turmeric salt chicken preparation butter ghee yogurt chili powder vegetables tender spices beef masala oil simmer butter Heat ground lentils turmeric oilghee salt chicken potatoes preparation ghee mutton yogurt chili powder vegetables tender spices beef masala oil simmer butter Heat ground lentils turmeric salt chicken preparation oilghee potatoes ghee yogurt chili mutton powder vegetables tender spices beef masala oil simmer butter Heat ground lentils salt chicken turmeric oilghee preparation potatoes ghee yogurt chili mutton powder vegetables tender spices beef masala turmeric simmer Heat mutton lentils ground oilghee salt chicken preparation potatoes ghee oil yogurt powder butter chili vegetables tender spices beef turmeric masala tender mutton Heat vegetables ground preparation salt chicken ghee oil oilghee yogurt potatoes powder butter chili simmer lentils spices beef masala turmeric simmer mutton Heat ground lentils oilghee salt chicken oil potatoes preparation ghee yogurt butter powder chili vegetables tender spices beef turmeric masala simmer mutton lentils ground Heat salt oil chicken preparation ghee yogurt oilghee powder potatoes butter chili vegetables tender spices beef turmeric masala tender Heat mutton ground vegetables salt chicken potatoes oil oilghee preparation ghee butter yogurt powder chili simmer lentils spices beef masala turmeric mutton simmer ground Heat salt chicken oil lentils preparation oilghee ghee potatoes yogurt powder chili butter tender vegetables spices beef masala oil simmer butter Heat ground lentils turmeric salt chicken preparation oilghee potatoes ghee yogurt chili mutton powder vegetables tender spices beef masala oil mutton simmer Heat ground salt chicken turmeric lentils oilghee potatoes preparation ghee yogurt butter chili powder vegetables tender spices beef masala oil simmer mutton Heat ground lentils turmeric salt chicken oilghee potatoes preparation ghee yogurt butter chili powder vegetables tender spices beef oil masala simmer Heat potatoes lentils oilghee ground salt preparation mutton chicken butter ghee yogurt chili turmeric powder vegetables tender spices beef masala turmeric mutton simmer oil Heat ground lentils salt chicken chili oilghee preparation potatoes ghee yogurt powder butter vegetables tender spices beef turmeric masala simmer lentils ground preparation ghee salt yogurt powder chicken Heat mutton potatoes oil oilghee butter vegetables chili tender spices beef masala oil simmer butter Heat ground lentils salt chicken turmeric preparation oilghee potatoes ghee yogurt chili mutton powder vegetables tender spices beef masala oil simmer mutton Heat ground lentils turmeric salt chicken oilghee preparation potatoes ghee yogurt chili powder butter vegetables tender spices beef masala oil mutton simmer Heat ground turmeric lentils salt chicken oilghee preparation potatoes ghee yogurt chili butter powder vegetables tender spices beef turmeric masala oil tender Heat potatoes butter oilghee vegetables ground preparation ghee yogurt powder salt chicken mutton simmer chili lentils spices beef turmeric masala simmer lentils ground preparation ghee salt yogurt powder Heat chicken potatoes mutton oilghee oil butter vegetables chili tender spices beef masala oil simmer mutton Heat ground lentils turmeric salt chicken preparation oilghee potatoes ghee yogurt chili butter powder vegetables tender spices beef oil masala Heat simmer oilghee potatoes ground butter lentils chicken salt preparation mutton ghee yogurt chili turmeric powder vegetables tender spices beef oil masala Heat oilghee potatoes simmer mutton ground lentils butter chicken salt preparation ghee yogurt chili turmeric powder vegetables tender spices beef oil Heat masala oilghee potatoes simmer mutton lentils preparation ground ghee chicken salt yogurt chili butter tender vegetables turmeric powder spices beef oil masala Heat oilghee potatoes simmer mutton lentils butter ground preparation salt chicken ghee yogurt chili turmeric powder vegetables tender spices beef oil masala Heat oilghee potatoes simmer butter lentils mutton ground chicken salt preparation ghee yogurt chili turmeric powder vegetables tender spices beef yogurt turmeric simmer mutton ground lentils salt potatoes chicken Heat preparation ghee oilghee masala chili butter powder vegetables tender spices oil beef oil masala Heat oilghee potatoes simmer butter lentils ground preparation salt chicken mutton ghee yogurt chili turmeric powder vegetables tender spices beef turmeric masala tender Heat potatoes oilghee mutton vegetables ground preparation salt butter ghee chicken yogurt powder oil chili simmer lentils spices beef oil masala Heat oilghee potatoes simmer butter lentils mutton ground preparation salt chicken ghee yogurt chili turmeric powder vegetables tender spices beef masala oil simmer Heat butter ground oilghee lentils potatoes salt chicken turmeric preparation ghee mutton yogurt chili powder vegetables tender spices beef turmeric masala simmer oil lentils ground preparation ghee yogurt tender salt powder chicken vegetables spices Heat mutton potatoes oilghee butter chili beef oil Heat oilghee potatoes simmer mutton masala ground preparation chicken lentils salt ghee tender yogurt chili vegetables spices turmeric butter powder beef oil masala simmer Heat oilghee potatoes lentils ground preparation mutton ghee salt chicken yogurt chili butter turmeric vegetables powder tender spices beef masala oil simmer butter ground lentils turmeric salt Heat chicken preparation ghee yogurt oilghee chili potatoes powder mutton vegetables tender spices beef masala turmeric butter oil simmer chicken lentils chili salt ground Heat preparation ghee tender yogurt powder oilghee potatoes mutton vegetables spices beef turmeric masala simmer mutton lentils oil ground preparation salt chicken ghee yogurt powder Heat chili oilghee potatoes vegetables butter tender spices beef masala turmeric mutton oil simmer lentils ground salt chicken chili preparation ghee yogurt tender powder vegetables Heat spices oilghee potatoes butter beef masala turmeric mutton Heat oil oilghee potatoes simmer butter chili lentils ground salt chicken preparation ghee yogurt powder vegetables tender spices beef masala turmeric simmer mutton ground lentils Heat chicken salt preparation ghee yogurt oilghee oil powder tender potatoes butter chili vegetables spices beef masala turmeric mutton oil simmer lentils chicken ground salt chili preparation ghee tender yogurt powder Heat oilghee potatoes vegetables butter spices beef oil Heat masala potatoes oilghee simmer mutton ground lentils preparation salt chicken ghee yogurt chili butter turmeric vegetables powder tender spices beef turmeric masala simmer Heat lentils butter ground oilghee potatoes preparation salt oil ghee chicken yogurt powder mutton chili vegetables tender spices beef oil masala simmer lentils ground preparation Heat salt ghee chicken yogurt butter chili oilghee potatoes turmeric mutton vegetables tender powder spices beef ground yogurt beef simmer turmeric oilghee mutton lentils preparation ghee potatoes powder masala oil salt spices chicken vegetables butter tender chili Heat'"
            ],
            "application/vnd.google.colaboratory.intrinsic+json": {
              "type": "string"
            }
          },
          "metadata": {},
          "execution_count": 283
        }
      ]
    },
    {
      "cell_type": "code",
      "source": [
        "recipes.head()"
      ],
      "metadata": {
        "colab": {
          "base_uri": "https://localhost:8080/",
          "height": 798
        },
        "id": "qTMvL6sihva0",
        "outputId": "3b852758-1a02-4c89-a6e7-76d6ece6bfae"
      },
      "execution_count": 284,
      "outputs": [
        {
          "output_type": "execute_result",
          "data": {
            "text/plain": [
              "   ID                                              Title  \\\n",
              "0   1  [kofta potatoes ground oil yogurt tender mutto...   \n",
              "1   2  [saag potatoes ground oil yogurt tender mutton...   \n",
              "2   3  [khichdi potatoes ground oil yogurt tender mut...   \n",
              "3   4  [chicken karahi potatoes ground oil yogurt ten...   \n",
              "4   5  [paya potatoes ground oil yogurt tender mutton...   \n",
              "\n",
              "                                         Ingredients  \\\n",
              "0  oil, butter, ghee, cream, lemon, mint, cilantr...   \n",
              "1  chicken, beef, mutton, lentils, spinach, potat...   \n",
              "2  onion, tomato, green chili, garlic, ginger, cu...   \n",
              "3  yogurt, garam masala, red chili powder, turmer...   \n",
              "4  yogurt, garam masala, red chili powder, turmer...   \n",
              "\n",
              "                                              Spices  \\\n",
              "0      green chili, coriander, cumin, ginger, garlic   \n",
              "1      green chili, coriander, cumin, ginger, garlic   \n",
              "2  turmeric, red chili, green chili, coriander, c...   \n",
              "3  turmeric, red chili, green chili, coriander, c...   \n",
              "4  turmeric, red chili, green chili, coriander, c...   \n",
              "\n",
              "                                              Recipe Cooking Time  \\\n",
              "0  kofta preparation: prepare ingredients and cho...   82 minutes   \n",
              "1  saag preparation: prepare ingredients and chop...   47 minutes   \n",
              "2  khichdi preparation: prepare ingredients and c...  118 minutes   \n",
              "3  chicken preparation: prepare ingredients and c...   33 minutes   \n",
              "4  paya preparation: prepare ingredients and chop...   62 minutes   \n",
              "\n",
              "   Calories per 50g  Calories per 100g  \\\n",
              "0            105.05             210.10   \n",
              "1             78.73             157.46   \n",
              "2            148.54             297.08   \n",
              "3            129.67             259.34   \n",
              "4            133.57             267.14   \n",
              "\n",
              "                                  Ingredients_string  Ingredient_count  \\\n",
              "0  oil butter ghee cream lemon mint cilantro onio...                21   \n",
              "1  chicken beef mutton lentils spinach potatoes o...                21   \n",
              "2  onion tomato green chili garlic ginger cumin c...                23   \n",
              "3  yogurt garam masala red chili powder turmeric ...                23   \n",
              "4  yogurt garam masala red chili powder turmeric ...                22   \n",
              "\n",
              "   tag_list                                               tags  \n",
              "0       NaN  kofta potatoes ground oil yogurt tender mutton...  \n",
              "1       NaN  saag potatoes ground oil yogurt tender mutton ...  \n",
              "2       NaN  khichdi potatoes ground oil yogurt tender mutt...  \n",
              "3       NaN  chicken karahi potatoes ground oil yogurt tend...  \n",
              "4       NaN  paya potatoes ground oil yogurt tender mutton ...  "
            ],
            "text/html": [
              "\n",
              "  <div id=\"df-1f26e833-6287-4897-a3a0-a7fe0ef6e1d8\" class=\"colab-df-container\">\n",
              "    <div>\n",
              "<style scoped>\n",
              "    .dataframe tbody tr th:only-of-type {\n",
              "        vertical-align: middle;\n",
              "    }\n",
              "\n",
              "    .dataframe tbody tr th {\n",
              "        vertical-align: top;\n",
              "    }\n",
              "\n",
              "    .dataframe thead th {\n",
              "        text-align: right;\n",
              "    }\n",
              "</style>\n",
              "<table border=\"1\" class=\"dataframe\">\n",
              "  <thead>\n",
              "    <tr style=\"text-align: right;\">\n",
              "      <th></th>\n",
              "      <th>ID</th>\n",
              "      <th>Title</th>\n",
              "      <th>Ingredients</th>\n",
              "      <th>Spices</th>\n",
              "      <th>Recipe</th>\n",
              "      <th>Cooking Time</th>\n",
              "      <th>Calories per 50g</th>\n",
              "      <th>Calories per 100g</th>\n",
              "      <th>Ingredients_string</th>\n",
              "      <th>Ingredient_count</th>\n",
              "      <th>tag_list</th>\n",
              "      <th>tags</th>\n",
              "    </tr>\n",
              "  </thead>\n",
              "  <tbody>\n",
              "    <tr>\n",
              "      <th>0</th>\n",
              "      <td>1</td>\n",
              "      <td>[kofta potatoes ground oil yogurt tender mutto...</td>\n",
              "      <td>oil, butter, ghee, cream, lemon, mint, cilantr...</td>\n",
              "      <td>green chili, coriander, cumin, ginger, garlic</td>\n",
              "      <td>kofta preparation: prepare ingredients and cho...</td>\n",
              "      <td>82 minutes</td>\n",
              "      <td>105.05</td>\n",
              "      <td>210.10</td>\n",
              "      <td>oil butter ghee cream lemon mint cilantro onio...</td>\n",
              "      <td>21</td>\n",
              "      <td>NaN</td>\n",
              "      <td>kofta potatoes ground oil yogurt tender mutton...</td>\n",
              "    </tr>\n",
              "    <tr>\n",
              "      <th>1</th>\n",
              "      <td>2</td>\n",
              "      <td>[saag potatoes ground oil yogurt tender mutton...</td>\n",
              "      <td>chicken, beef, mutton, lentils, spinach, potat...</td>\n",
              "      <td>green chili, coriander, cumin, ginger, garlic</td>\n",
              "      <td>saag preparation: prepare ingredients and chop...</td>\n",
              "      <td>47 minutes</td>\n",
              "      <td>78.73</td>\n",
              "      <td>157.46</td>\n",
              "      <td>chicken beef mutton lentils spinach potatoes o...</td>\n",
              "      <td>21</td>\n",
              "      <td>NaN</td>\n",
              "      <td>saag potatoes ground oil yogurt tender mutton ...</td>\n",
              "    </tr>\n",
              "    <tr>\n",
              "      <th>2</th>\n",
              "      <td>3</td>\n",
              "      <td>[khichdi potatoes ground oil yogurt tender mut...</td>\n",
              "      <td>onion, tomato, green chili, garlic, ginger, cu...</td>\n",
              "      <td>turmeric, red chili, green chili, coriander, c...</td>\n",
              "      <td>khichdi preparation: prepare ingredients and c...</td>\n",
              "      <td>118 minutes</td>\n",
              "      <td>148.54</td>\n",
              "      <td>297.08</td>\n",
              "      <td>onion tomato green chili garlic ginger cumin c...</td>\n",
              "      <td>23</td>\n",
              "      <td>NaN</td>\n",
              "      <td>khichdi potatoes ground oil yogurt tender mutt...</td>\n",
              "    </tr>\n",
              "    <tr>\n",
              "      <th>3</th>\n",
              "      <td>4</td>\n",
              "      <td>[chicken karahi potatoes ground oil yogurt ten...</td>\n",
              "      <td>yogurt, garam masala, red chili powder, turmer...</td>\n",
              "      <td>turmeric, red chili, green chili, coriander, c...</td>\n",
              "      <td>chicken preparation: prepare ingredients and c...</td>\n",
              "      <td>33 minutes</td>\n",
              "      <td>129.67</td>\n",
              "      <td>259.34</td>\n",
              "      <td>yogurt garam masala red chili powder turmeric ...</td>\n",
              "      <td>23</td>\n",
              "      <td>NaN</td>\n",
              "      <td>chicken karahi potatoes ground oil yogurt tend...</td>\n",
              "    </tr>\n",
              "    <tr>\n",
              "      <th>4</th>\n",
              "      <td>5</td>\n",
              "      <td>[paya potatoes ground oil yogurt tender mutton...</td>\n",
              "      <td>yogurt, garam masala, red chili powder, turmer...</td>\n",
              "      <td>turmeric, red chili, green chili, coriander, c...</td>\n",
              "      <td>paya preparation: prepare ingredients and chop...</td>\n",
              "      <td>62 minutes</td>\n",
              "      <td>133.57</td>\n",
              "      <td>267.14</td>\n",
              "      <td>yogurt garam masala red chili powder turmeric ...</td>\n",
              "      <td>22</td>\n",
              "      <td>NaN</td>\n",
              "      <td>paya potatoes ground oil yogurt tender mutton ...</td>\n",
              "    </tr>\n",
              "  </tbody>\n",
              "</table>\n",
              "</div>\n",
              "    <div class=\"colab-df-buttons\">\n",
              "\n",
              "  <div class=\"colab-df-container\">\n",
              "    <button class=\"colab-df-convert\" onclick=\"convertToInteractive('df-1f26e833-6287-4897-a3a0-a7fe0ef6e1d8')\"\n",
              "            title=\"Convert this dataframe to an interactive table.\"\n",
              "            style=\"display:none;\">\n",
              "\n",
              "  <svg xmlns=\"http://www.w3.org/2000/svg\" height=\"24px\" viewBox=\"0 -960 960 960\">\n",
              "    <path d=\"M120-120v-720h720v720H120Zm60-500h600v-160H180v160Zm220 220h160v-160H400v160Zm0 220h160v-160H400v160ZM180-400h160v-160H180v160Zm440 0h160v-160H620v160ZM180-180h160v-160H180v160Zm440 0h160v-160H620v160Z\"/>\n",
              "  </svg>\n",
              "    </button>\n",
              "\n",
              "  <style>\n",
              "    .colab-df-container {\n",
              "      display:flex;\n",
              "      gap: 12px;\n",
              "    }\n",
              "\n",
              "    .colab-df-convert {\n",
              "      background-color: #E8F0FE;\n",
              "      border: none;\n",
              "      border-radius: 50%;\n",
              "      cursor: pointer;\n",
              "      display: none;\n",
              "      fill: #1967D2;\n",
              "      height: 32px;\n",
              "      padding: 0 0 0 0;\n",
              "      width: 32px;\n",
              "    }\n",
              "\n",
              "    .colab-df-convert:hover {\n",
              "      background-color: #E2EBFA;\n",
              "      box-shadow: 0px 1px 2px rgba(60, 64, 67, 0.3), 0px 1px 3px 1px rgba(60, 64, 67, 0.15);\n",
              "      fill: #174EA6;\n",
              "    }\n",
              "\n",
              "    .colab-df-buttons div {\n",
              "      margin-bottom: 4px;\n",
              "    }\n",
              "\n",
              "    [theme=dark] .colab-df-convert {\n",
              "      background-color: #3B4455;\n",
              "      fill: #D2E3FC;\n",
              "    }\n",
              "\n",
              "    [theme=dark] .colab-df-convert:hover {\n",
              "      background-color: #434B5C;\n",
              "      box-shadow: 0px 1px 3px 1px rgba(0, 0, 0, 0.15);\n",
              "      filter: drop-shadow(0px 1px 2px rgba(0, 0, 0, 0.3));\n",
              "      fill: #FFFFFF;\n",
              "    }\n",
              "  </style>\n",
              "\n",
              "    <script>\n",
              "      const buttonEl =\n",
              "        document.querySelector('#df-1f26e833-6287-4897-a3a0-a7fe0ef6e1d8 button.colab-df-convert');\n",
              "      buttonEl.style.display =\n",
              "        google.colab.kernel.accessAllowed ? 'block' : 'none';\n",
              "\n",
              "      async function convertToInteractive(key) {\n",
              "        const element = document.querySelector('#df-1f26e833-6287-4897-a3a0-a7fe0ef6e1d8');\n",
              "        const dataTable =\n",
              "          await google.colab.kernel.invokeFunction('convertToInteractive',\n",
              "                                                    [key], {});\n",
              "        if (!dataTable) return;\n",
              "\n",
              "        const docLinkHtml = 'Like what you see? Visit the ' +\n",
              "          '<a target=\"_blank\" href=https://colab.research.google.com/notebooks/data_table.ipynb>data table notebook</a>'\n",
              "          + ' to learn more about interactive tables.';\n",
              "        element.innerHTML = '';\n",
              "        dataTable['output_type'] = 'display_data';\n",
              "        await google.colab.output.renderOutput(dataTable, element);\n",
              "        const docLink = document.createElement('div');\n",
              "        docLink.innerHTML = docLinkHtml;\n",
              "        element.appendChild(docLink);\n",
              "      }\n",
              "    </script>\n",
              "  </div>\n",
              "\n",
              "\n",
              "<div id=\"df-cbcae5bd-d48b-4163-842e-a577642ad95b\">\n",
              "  <button class=\"colab-df-quickchart\" onclick=\"quickchart('df-cbcae5bd-d48b-4163-842e-a577642ad95b')\"\n",
              "            title=\"Suggest charts\"\n",
              "            style=\"display:none;\">\n",
              "\n",
              "<svg xmlns=\"http://www.w3.org/2000/svg\" height=\"24px\"viewBox=\"0 0 24 24\"\n",
              "     width=\"24px\">\n",
              "    <g>\n",
              "        <path d=\"M19 3H5c-1.1 0-2 .9-2 2v14c0 1.1.9 2 2 2h14c1.1 0 2-.9 2-2V5c0-1.1-.9-2-2-2zM9 17H7v-7h2v7zm4 0h-2V7h2v10zm4 0h-2v-4h2v4z\"/>\n",
              "    </g>\n",
              "</svg>\n",
              "  </button>\n",
              "\n",
              "<style>\n",
              "  .colab-df-quickchart {\n",
              "      --bg-color: #E8F0FE;\n",
              "      --fill-color: #1967D2;\n",
              "      --hover-bg-color: #E2EBFA;\n",
              "      --hover-fill-color: #174EA6;\n",
              "      --disabled-fill-color: #AAA;\n",
              "      --disabled-bg-color: #DDD;\n",
              "  }\n",
              "\n",
              "  [theme=dark] .colab-df-quickchart {\n",
              "      --bg-color: #3B4455;\n",
              "      --fill-color: #D2E3FC;\n",
              "      --hover-bg-color: #434B5C;\n",
              "      --hover-fill-color: #FFFFFF;\n",
              "      --disabled-bg-color: #3B4455;\n",
              "      --disabled-fill-color: #666;\n",
              "  }\n",
              "\n",
              "  .colab-df-quickchart {\n",
              "    background-color: var(--bg-color);\n",
              "    border: none;\n",
              "    border-radius: 50%;\n",
              "    cursor: pointer;\n",
              "    display: none;\n",
              "    fill: var(--fill-color);\n",
              "    height: 32px;\n",
              "    padding: 0;\n",
              "    width: 32px;\n",
              "  }\n",
              "\n",
              "  .colab-df-quickchart:hover {\n",
              "    background-color: var(--hover-bg-color);\n",
              "    box-shadow: 0 1px 2px rgba(60, 64, 67, 0.3), 0 1px 3px 1px rgba(60, 64, 67, 0.15);\n",
              "    fill: var(--button-hover-fill-color);\n",
              "  }\n",
              "\n",
              "  .colab-df-quickchart-complete:disabled,\n",
              "  .colab-df-quickchart-complete:disabled:hover {\n",
              "    background-color: var(--disabled-bg-color);\n",
              "    fill: var(--disabled-fill-color);\n",
              "    box-shadow: none;\n",
              "  }\n",
              "\n",
              "  .colab-df-spinner {\n",
              "    border: 2px solid var(--fill-color);\n",
              "    border-color: transparent;\n",
              "    border-bottom-color: var(--fill-color);\n",
              "    animation:\n",
              "      spin 1s steps(1) infinite;\n",
              "  }\n",
              "\n",
              "  @keyframes spin {\n",
              "    0% {\n",
              "      border-color: transparent;\n",
              "      border-bottom-color: var(--fill-color);\n",
              "      border-left-color: var(--fill-color);\n",
              "    }\n",
              "    20% {\n",
              "      border-color: transparent;\n",
              "      border-left-color: var(--fill-color);\n",
              "      border-top-color: var(--fill-color);\n",
              "    }\n",
              "    30% {\n",
              "      border-color: transparent;\n",
              "      border-left-color: var(--fill-color);\n",
              "      border-top-color: var(--fill-color);\n",
              "      border-right-color: var(--fill-color);\n",
              "    }\n",
              "    40% {\n",
              "      border-color: transparent;\n",
              "      border-right-color: var(--fill-color);\n",
              "      border-top-color: var(--fill-color);\n",
              "    }\n",
              "    60% {\n",
              "      border-color: transparent;\n",
              "      border-right-color: var(--fill-color);\n",
              "    }\n",
              "    80% {\n",
              "      border-color: transparent;\n",
              "      border-right-color: var(--fill-color);\n",
              "      border-bottom-color: var(--fill-color);\n",
              "    }\n",
              "    90% {\n",
              "      border-color: transparent;\n",
              "      border-bottom-color: var(--fill-color);\n",
              "    }\n",
              "  }\n",
              "</style>\n",
              "\n",
              "  <script>\n",
              "    async function quickchart(key) {\n",
              "      const quickchartButtonEl =\n",
              "        document.querySelector('#' + key + ' button');\n",
              "      quickchartButtonEl.disabled = true;  // To prevent multiple clicks.\n",
              "      quickchartButtonEl.classList.add('colab-df-spinner');\n",
              "      try {\n",
              "        const charts = await google.colab.kernel.invokeFunction(\n",
              "            'suggestCharts', [key], {});\n",
              "      } catch (error) {\n",
              "        console.error('Error during call to suggestCharts:', error);\n",
              "      }\n",
              "      quickchartButtonEl.classList.remove('colab-df-spinner');\n",
              "      quickchartButtonEl.classList.add('colab-df-quickchart-complete');\n",
              "    }\n",
              "    (() => {\n",
              "      let quickchartButtonEl =\n",
              "        document.querySelector('#df-cbcae5bd-d48b-4163-842e-a577642ad95b button');\n",
              "      quickchartButtonEl.style.display =\n",
              "        google.colab.kernel.accessAllowed ? 'block' : 'none';\n",
              "    })();\n",
              "  </script>\n",
              "</div>\n",
              "\n",
              "    </div>\n",
              "  </div>\n"
            ],
            "application/vnd.google.colaboratory.intrinsic+json": {
              "type": "dataframe",
              "variable_name": "recipes",
              "summary": "{\n  \"name\": \"recipes\",\n  \"rows\": 500,\n  \"fields\": [\n    {\n      \"column\": \"ID\",\n      \"properties\": {\n        \"dtype\": \"number\",\n        \"std\": 144,\n        \"min\": 1,\n        \"max\": 500,\n        \"num_unique_values\": 500,\n        \"samples\": [\n          362,\n          74,\n          375\n        ],\n        \"semantic_type\": \"\",\n        \"description\": \"\"\n      }\n    },\n    {\n      \"column\": \"Title\",\n      \"properties\": {\n        \"dtype\": \"object\",\n        \"semantic_type\": \"\",\n        \"description\": \"\"\n      }\n    },\n    {\n      \"column\": \"Ingredients\",\n      \"properties\": {\n        \"dtype\": \"category\",\n        \"num_unique_values\": 24,\n        \"samples\": [\n          \"onion, tomato, green chili, garlic, ginger, cumin, coriander, chicken, beef, mutton, lentils, spinach, potatoes, yogurt, garam masala, red chili powder, turmeric, salt\",\n          \"onion, tomato, green chili, garlic, ginger, cumin, coriander, yogurt, garam masala, red chili powder, turmeric, salt, chicken, beef, mutton, lentils, spinach, potatoes\",\n          \"oil, butter, ghee, cream, lemon, mint, cilantro, onion, tomato, green chili, garlic, ginger, cumin, coriander, chicken, beef, mutton, lentils, spinach, potatoes\"\n        ],\n        \"semantic_type\": \"\",\n        \"description\": \"\"\n      }\n    },\n    {\n      \"column\": \"Spices\",\n      \"properties\": {\n        \"dtype\": \"category\",\n        \"num_unique_values\": 3,\n        \"samples\": [\n          \"green chili, coriander, cumin, ginger, garlic\",\n          \"turmeric, red chili, green chili, coriander, cumin, garam masala, ginger, garlic\",\n          \"turmeric, red chili, garam masala\"\n        ],\n        \"semantic_type\": \"\",\n        \"description\": \"\"\n      }\n    },\n    {\n      \"column\": \"Recipe\",\n      \"properties\": {\n        \"dtype\": \"category\",\n        \"num_unique_values\": 26,\n        \"samples\": [\n          \"pakora preparation: prepare ingredients and chop vegetables. heat oil/ghee and add whole spices. add main ingredients and cook until tender. add ground spices and simmer until well mixed. garnish and serve hot.\",\n          \"mutton preparation: prepare ingredients and chop vegetables. heat oil/ghee and add whole spices. add main ingredients and cook until tender. add ground spices and simmer until well mixed. garnish and serve hot.\",\n          \"kofta preparation: prepare ingredients and chop vegetables. heat oil/ghee and add whole spices. add main ingredients and cook until tender. add ground spices and simmer until well mixed. garnish and serve hot.\"\n        ],\n        \"semantic_type\": \"\",\n        \"description\": \"\"\n      }\n    },\n    {\n      \"column\": \"Cooking Time\",\n      \"properties\": {\n        \"dtype\": \"category\",\n        \"num_unique_values\": 91,\n        \"samples\": [\n          \"108 minutes\",\n          \"84 minutes\",\n          \"99 minutes\"\n        ],\n        \"semantic_type\": \"\",\n        \"description\": \"\"\n      }\n    },\n    {\n      \"column\": \"Calories per 50g\",\n      \"properties\": {\n        \"dtype\": \"number\",\n        \"std\": 36.276395079974485,\n        \"min\": 50.16,\n        \"max\": 174.88,\n        \"num_unique_values\": 487,\n        \"samples\": [\n          173.58,\n          134.96,\n          51.14\n        ],\n        \"semantic_type\": \"\",\n        \"description\": \"\"\n      }\n    },\n    {\n      \"column\": \"Calories per 100g\",\n      \"properties\": {\n        \"dtype\": \"number\",\n        \"std\": 72.55269023201141,\n        \"min\": 100.33,\n        \"max\": 349.76,\n        \"num_unique_values\": 494,\n        \"samples\": [\n          261.69,\n          106.88,\n          305.92\n        ],\n        \"semantic_type\": \"\",\n        \"description\": \"\"\n      }\n    },\n    {\n      \"column\": \"Ingredients_string\",\n      \"properties\": {\n        \"dtype\": \"category\",\n        \"num_unique_values\": 24,\n        \"samples\": [\n          \"onion tomato green chili garlic ginger cumin coriander chicken beef mutton lentils spinach potatoes yogurt garam masala red chili powder turmeric salt\",\n          \"onion tomato green chili garlic ginger cumin coriander yogurt garam masala red chili powder turmeric salt chicken beef mutton lentils spinach potatoes\",\n          \"oil butter ghee cream lemon mint cilantro onion tomato green chili garlic ginger cumin coriander chicken beef mutton lentils spinach potatoes\"\n        ],\n        \"semantic_type\": \"\",\n        \"description\": \"\"\n      }\n    },\n    {\n      \"column\": \"Ingredient_count\",\n      \"properties\": {\n        \"dtype\": \"number\",\n        \"std\": 0,\n        \"min\": 21,\n        \"max\": 23,\n        \"num_unique_values\": 3,\n        \"samples\": [\n          21,\n          23,\n          22\n        ],\n        \"semantic_type\": \"\",\n        \"description\": \"\"\n      }\n    },\n    {\n      \"column\": \"tag_list\",\n      \"properties\": {\n        \"dtype\": \"number\",\n        \"std\": null,\n        \"min\": null,\n        \"max\": null,\n        \"num_unique_values\": 0,\n        \"samples\": [],\n        \"semantic_type\": \"\",\n        \"description\": \"\"\n      }\n    },\n    {\n      \"column\": \"tags\",\n      \"properties\": {\n        \"dtype\": \"category\",\n        \"num_unique_values\": 30,\n        \"samples\": [],\n        \"semantic_type\": \"\",\n        \"description\": \"\"\n      }\n    }\n  ]\n}"
            }
          },
          "metadata": {},
          "execution_count": 284
        }
      ]
    },
    {
      "cell_type": "code",
      "source": [],
      "metadata": {
        "id": "CUs9Ul7rh0xZ"
      },
      "execution_count": null,
      "outputs": []
    }
  ]
}
